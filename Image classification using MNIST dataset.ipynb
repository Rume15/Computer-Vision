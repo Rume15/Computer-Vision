{
  "nbformat": 4,
  "nbformat_minor": 0,
  "metadata": {
    "colab": {
      "provenance": []
    },
    "kernelspec": {
      "name": "python3",
      "display_name": "Python 3"
    },
    "language_info": {
      "name": "python"
    }
  },
  "cells": [
    {
      "cell_type": "code",
      "execution_count": null,
      "metadata": {
        "id": "Yd8br13Ki2CQ"
      },
      "outputs": [],
      "source": [
        "import tensorflow as tf\n",
        "from tensorflow import keras\n",
        "\n",
        "import numpy as np\n",
        "import matplotlib.pyplot as plt"
      ]
    },
    {
      "cell_type": "markdown",
      "source": [
        "##**Dataset**\n",
        "Use the MNIST fashion dataset consisting of 60,000 images for training and 10,000 images for validation/testing."
      ],
      "metadata": {
        "id": "hnpCS1_jjrGv"
      }
    },
    {
      "cell_type": "code",
      "source": [
        "fashion_mnist = keras.datasets.fashion_mnist #load the dataset\n",
        "(train_images,train_labels),(test_images,test_labels) = fashion_mnist.load_data()#split into testing and training"
      ],
      "metadata": {
        "id": "Tp3ypN9ijp0A"
      },
      "execution_count": null,
      "outputs": []
    },
    {
      "cell_type": "code",
      "source": [
        "train_images.shape"
      ],
      "metadata": {
        "colab": {
          "base_uri": "https://localhost:8080/"
        },
        "id": "Wqt6ZYcJkXX1",
        "outputId": "02a97d6f-6af3-489c-f34c-c0abfef66be1"
      },
      "execution_count": null,
      "outputs": [
        {
          "output_type": "execute_result",
          "data": {
            "text/plain": [
              "(60000, 28, 28)"
            ]
          },
          "metadata": {},
          "execution_count": 38
        }
      ]
    },
    {
      "cell_type": "markdown",
      "source": [
        "We have got 60,000 images that are made up of 28x28 pixels (784) in total."
      ],
      "metadata": {
        "id": "j6nIdsaxmSMt"
      }
    },
    {
      "cell_type": "code",
      "source": [
        "train_images[0,23,23]##Let's have a look at one pixel"
      ],
      "metadata": {
        "colab": {
          "base_uri": "https://localhost:8080/"
        },
        "id": "Pe8DQ9RcmiB0",
        "outputId": "564a780e-5d6e-4ef1-9236-27bc369f7e32"
      },
      "execution_count": null,
      "outputs": [
        {
          "output_type": "execute_result",
          "data": {
            "text/plain": [
              "194"
            ]
          },
          "metadata": {},
          "execution_count": 39
        }
      ]
    },
    {
      "cell_type": "code",
      "source": [
        "type(train_images)#Check the data type of images"
      ],
      "metadata": {
        "colab": {
          "base_uri": "https://localhost:8080/"
        },
        "id": "0N87CDNmm8JC",
        "outputId": "b20efe34-d178-4083-b733-30b1b52a0146"
      },
      "execution_count": null,
      "outputs": [
        {
          "output_type": "execute_result",
          "data": {
            "text/plain": [
              "numpy.ndarray"
            ]
          },
          "metadata": {},
          "execution_count": 40
        }
      ]
    },
    {
      "cell_type": "markdown",
      "source": [
        "Our pixel images are between 0 and 255, 0 being black and 255 being white, this means they are no graysclae images as ther are no color channels"
      ],
      "metadata": {
        "id": "aWLDguFLnJWa"
      }
    },
    {
      "cell_type": "code",
      "source": [
        "train_labels[:10]"
      ],
      "metadata": {
        "colab": {
          "base_uri": "https://localhost:8080/"
        },
        "id": "pk9MVV92oXe_",
        "outputId": "cbc02f70-5704-4d2a-ad25-615d237f44fb"
      },
      "execution_count": null,
      "outputs": [
        {
          "output_type": "execute_result",
          "data": {
            "text/plain": [
              "array([9, 0, 0, 3, 0, 2, 7, 2, 5, 5], dtype=uint8)"
            ]
          },
          "metadata": {},
          "execution_count": 41
        }
      ]
    },
    {
      "cell_type": "markdown",
      "source": [
        "Our labels are integers ranging from 0-9. Each integer represents a specific article of clothing. We'll create an array of label names to indicate which is which.\n",
        "\n"
      ],
      "metadata": {
        "id": "meDleki7oprL"
      }
    },
    {
      "cell_type": "code",
      "source": [
        "class_names = ['T-shirt/Top', 'Trouser', 'Pullover', 'Dress', 'Coat', 'Sandal', 'Shirt', 'Sneaker', 'Bag', 'Ankle boot']"
      ],
      "metadata": {
        "id": "HYcVTv4aqn7n"
      },
      "execution_count": null,
      "outputs": []
    },
    {
      "cell_type": "markdown",
      "source": [
        "Let's look at what some our images look like."
      ],
      "metadata": {
        "id": "i50J5AWSqq6q"
      }
    },
    {
      "cell_type": "code",
      "source": [
        "plt.figure()\n",
        "plt.imshow(train_images[522])\n",
        "plt.colorbar()\n",
        "plt.grid(False)\n",
        "plt.show()"
      ],
      "metadata": {
        "colab": {
          "base_uri": "https://localhost:8080/",
          "height": 448
        },
        "id": "rclt-f8rq-NJ",
        "outputId": "c3a18935-6aa7-473a-eaff-38fd1ad74459"
      },
      "execution_count": null,
      "outputs": [
        {
          "output_type": "execute_result",
          "data": {
            "text/plain": [
              "<matplotlib.image.AxesImage at 0x7f1fa0c9ff70>"
            ]
          },
          "metadata": {},
          "execution_count": 35
        },
        {
          "output_type": "display_data",
          "data": {
            "text/plain": [
              "<Figure size 640x480 with 1 Axes>"
            ],
            "image/png": "[encoded data removed]"
          },
          "metadata": {}
        }
      ]
    },
    {
      "cell_type": "markdown",
      "source": [
        "##**Data Preprocessing**\n",
        "The last step before creating our model is to preprocess our data. This simply means applying some prior transformations to our data befor feeding it in to the model. In this case we will simply scale all our grayscale pixel values (0-255) to between 0-1. We can do this by dividing each value by in the training and testing tests by 255. We do this because smaller values will amke it easier for the model to process our values.\n"
      ],
      "metadata": {
        "id": "m5CvrAn_tG4T"
      }
    },
    {
      "cell_type": "code",
      "source": [
        "train_images = train_images/255\n",
        "test_images = test_images/255"
      ],
      "metadata": {
        "id": "y-OqhweFr5fY"
      },
      "execution_count": null,
      "outputs": []
    },
    {
      "cell_type": "markdown",
      "source": [
        "##**Building the Model**\n",
        "We use keras sequential model with 3 different layers. This model represent a feed-forward neural network(one that passes values from left and right)"
      ],
      "metadata": {
        "id": "Htu7VeCM9TPO"
      }
    },
    {
      "cell_type": "code",
      "source": [
        "model = keras.Sequential([\n",
        "    keras.layers.Flatten(input_shape = (28,28)), # input layer(1)\n",
        "    keras.layers.Dense(128, activation = 'relu'),# hidden layer (2)\n",
        "    keras.layers.Dense(10, activation = 'softmax')# output layer (3)\n",
        "])"
      ],
      "metadata": {
        "colab": {
          "base_uri": "https://localhost:8080/"
        },
        "id": "-O5A4vEI916C",
        "outputId": "f006b0eb-5735-45d9-8f91-f15a71021d4c"
      },
      "execution_count": null,
      "outputs": [
        {
          "output_type": "stream",
          "name": "stderr",
          "text": [
            "/usr/local/lib/python3.10/dist-packages/keras/src/layers/reshaping/flatten.py:37: UserWarning: Do not pass an `input_shape`/`input_dim` argument to a layer. When using Sequential models, prefer using an `Input(shape)` object as the first layer in the model instead.\n",
            "  super().__init__(**kwargs)\n"
          ]
        }
      ]
    },
    {
      "cell_type": "markdown",
      "source": [
        "**Layer1**: This is our input layer and it will consist of 784 neurons. We use the flatten layer with an input shape of (28,28) to denote that our input should come in that shape. The flatten means that our layer will reshape the shape (28,28) array in to a vector of 784 neurons so that each pixel will be associated with one neuron.\n",
        "\n",
        "**Layer 2**: This is our first and only hidden layer. The dense denotes that this layer will be fully connected and each neuron from the previous layer connects to each neuron of this layer. It has 128 neurons and uses the rectify linear unit activation function.\n",
        "\n",
        "**Layer 3**: This is our output layer and is also a dense layer. It has 10 neurons that we will look at to determine our models output. Each neuron reperesents the probability of a given image being one of the 10 different classes. The activation function softmax is used on this layer to calculate the probability distribution for each class. This means the value of any neuron in this layer will be between 0 and 1, where 1 represent a high probabilty of teh image being that class."
      ],
      "metadata": {
        "id": "8f0cJh3QEn4S"
      }
    },
    {
      "cell_type": "markdown",
      "source": [
        "* Sequential refers to the most basic\n",
        "form of neural networks, which is information going from the left side to the right side.\n",
        "* Flatten allows us to take a shape of 28 by 28 which we have defined and flatten all the pixels in to 784 pixels, take the 28 by 28 matrix like structure and flatten it.\n",
        "* Dense means that all of the neurons in the previous layer are connected to the neurons in the current layer.\n",
        "* The output layer is a dense layer made up of 10 output neurons with the activation of softmax. We have 10 classes, hence we have 10 output neurons.\n",
        "* Softmax will ensure that all values of our neuron add up to 1 and are between 0 and 1."
      ],
      "metadata": {
        "id": "oRbJiLcp_QiY"
      }
    },
    {
      "cell_type": "markdown",
      "source": [
        "##**Compile the Model**"
      ],
      "metadata": {
        "id": "kMlQaIq8I4r1"
      }
    },
    {
      "cell_type": "markdown",
      "source": [
        "The last step in building the model is to define the loss function, optimizer and metrics we would like to track.\n",
        "\n",
        "We use the **adams optimizer**, which perfroms the gradient descent."
      ],
      "metadata": {
        "id": "MdF8NlSnI_3j"
      }
    },
    {
      "cell_type": "code",
      "source": [
        "##Conduct hyperparameter tunuing on the following parameters together with the number of neurons mentioned earlier.\n",
        "model.compile(optimizer = 'adam',\n",
        "              loss = 'sparse_categorical_crossentropy',\n",
        "              metrics = ['accuracy'])"
      ],
      "metadata": {
        "id": "0hvczhfH-_7U"
      },
      "execution_count": null,
      "outputs": []
    },
    {
      "cell_type": "markdown",
      "source": [
        "##**training the Model**"
      ],
      "metadata": {
        "id": "WFXlFLeoJuiZ"
      }
    },
    {
      "cell_type": "code",
      "source": [
        "model.fit(train_images, train_labels, epochs  =8)#Pass the data, labels and epochs"
      ],
      "metadata": {
        "colab": {
          "base_uri": "https://localhost:8080/"
        },
        "id": "OimrIL7uKXm4",
        "outputId": "9a456e66-1bd4-422c-c4ae-7cc0bd5b77e8"
      },
      "execution_count": null,
      "outputs": [
        {
          "output_type": "stream",
          "name": "stdout",
          "text": [
            "Epoch 1/8\n",
            "\u001b[1m1875/1875\u001b[0m \u001b[32m━━━━━━━━━━━━━━━━━━━━\u001b[0m\u001b[37m\u001b[0m \u001b[1m7s\u001b[0m 4ms/step - accuracy: 0.9361 - loss: 0.1705\n",
            "Epoch 2/8\n",
            "\u001b[1m1875/1875\u001b[0m \u001b[32m━━━━━━━━━━━━━━━━━━━━\u001b[0m\u001b[37m\u001b[0m \u001b[1m9s\u001b[0m 3ms/step - accuracy: 0.9386 - loss: 0.1640\n",
            "Epoch 3/8\n",
            "\u001b[1m1875/1875\u001b[0m \u001b[32m━━━━━━━━━━━━━━━━━━━━\u001b[0m\u001b[37m\u001b[0m \u001b[1m10s\u001b[0m 3ms/step - accuracy: 0.9401 - loss: 0.1606\n",
            "Epoch 4/8\n",
            "\u001b[1m1875/1875\u001b[0m \u001b[32m━━━━━━━━━━━━━━━━━━━━\u001b[0m\u001b[37m\u001b[0m \u001b[1m10s\u001b[0m 3ms/step - accuracy: 0.9388 - loss: 0.1618\n",
            "Epoch 5/8\n",
            "\u001b[1m1875/1875\u001b[0m \u001b[32m━━━━━━━━━━━━━━━━━━━━\u001b[0m\u001b[37m\u001b[0m \u001b[1m7s\u001b[0m 4ms/step - accuracy: 0.9433 - loss: 0.1521\n",
            "Epoch 6/8\n",
            "\u001b[1m1875/1875\u001b[0m \u001b[32m━━━━━━━━━━━━━━━━━━━━\u001b[0m\u001b[37m\u001b[0m \u001b[1m6s\u001b[0m 3ms/step - accuracy: 0.9424 - loss: 0.1536\n",
            "Epoch 7/8\n",
            "\u001b[1m1875/1875\u001b[0m \u001b[32m━━━━━━━━━━━━━━━━━━━━\u001b[0m\u001b[37m\u001b[0m \u001b[1m12s\u001b[0m 4ms/step - accuracy: 0.9450 - loss: 0.1451\n",
            "Epoch 8/8\n",
            "\u001b[1m1875/1875\u001b[0m \u001b[32m━━━━━━━━━━━━━━━━━━━━\u001b[0m\u001b[37m\u001b[0m \u001b[1m5s\u001b[0m 3ms/step - accuracy: 0.9470 - loss: 0.1423\n"
          ]
        },
        {
          "output_type": "execute_result",
          "data": {
            "text/plain": [
              "<keras.src.callbacks.history.History at 0x7f1f9e1f9600>"
            ]
          },
          "metadata": {},
          "execution_count": 61
        }
      ]
    },
    {
      "cell_type": "markdown",
      "source": [
        "Reducing the epoch from 10 to 8 actually makes the model much better."
      ],
      "metadata": {
        "id": "a8-PW5LPQ6Hc"
      }
    },
    {
      "cell_type": "markdown",
      "source": [
        "##**Evaluating the model**\n",
        "The verbose argument is definedfrom the keras documentation as: \"verbose 0 or 1. verbosity mode. 0 =silent, 1=progress bat\""
      ],
      "metadata": {
        "id": "zSt2fQjJLEN3"
      }
    },
    {
      "cell_type": "code",
      "source": [
        "test_loss, test_acc = model.evaluate(test_images, test_labels, verbose = 1)\n",
        "print('test accuracy:', test_acc)"
      ],
      "metadata": {
        "colab": {
          "base_uri": "https://localhost:8080/"
        },
        "id": "Cdl_TeSLMUlh",
        "outputId": "3ca0107e-65fb-471b-bc15-7d87418110f0"
      },
      "execution_count": null,
      "outputs": [
        {
          "output_type": "stream",
          "name": "stdout",
          "text": [
            "\u001b[1m313/313\u001b[0m \u001b[32m━━━━━━━━━━━━━━━━━━━━\u001b[0m\u001b[37m\u001b[0m \u001b[1m0s\u001b[0m 1ms/step - accuracy: 0.8913 - loss: 0.3970\n",
            "test accuracy: 0.8925999999046326\n"
          ]
        }
      ]
    },
    {
      "cell_type": "markdown",
      "source": [
        "##**Making Predictions**\n",
        "To make predictions, we simply need to pass an array of data in the form we've specified in the input layer to `.predict`.\n",
        "The model is good at predicting an array of images at once than just one specific item"
      ],
      "metadata": {
        "id": "trpPtQnnM_cd"
      }
    },
    {
      "cell_type": "code",
      "source": [
        "test_images.shape"
      ],
      "metadata": {
        "colab": {
          "base_uri": "https://localhost:8080/"
        },
        "id": "dn5LbvSzRWdm",
        "outputId": "46dd559e-a50d-4943-a418-95c3b30a8e8f"
      },
      "execution_count": null,
      "outputs": [
        {
          "output_type": "execute_result",
          "data": {
            "text/plain": [
              "(10000, 28, 28)"
            ]
          },
          "metadata": {},
          "execution_count": 64
        }
      ]
    },
    {
      "cell_type": "code",
      "source": [
        "#predictions1  =model.predict([test_images[0]])#predict on one image"
      ],
      "metadata": {
        "id": "4MTLNokPRYYb"
      },
      "execution_count": null,
      "outputs": []
    },
    {
      "cell_type": "code",
      "source": [
        "predictions  =model.predict(test_images)\n",
        "predictions"
      ],
      "metadata": {
        "colab": {
          "base_uri": "https://localhost:8080/"
        },
        "id": "4rfw7PkrSYS9",
        "outputId": "fbb59595-6cec-4750-c1ef-c40a9e254b98"
      },
      "execution_count": null,
      "outputs": [
        {
          "output_type": "stream",
          "name": "stdout",
          "text": [
            "\u001b[1m313/313\u001b[0m \u001b[32m━━━━━━━━━━━━━━━━━━━━\u001b[0m\u001b[37m\u001b[0m \u001b[1m1s\u001b[0m 2ms/step\n"
          ]
        },
        {
          "output_type": "execute_result",
          "data": {
            "text/plain": [
              "array([[2.5536414e-14, 8.3456992e-16, 2.8051601e-15, ..., 2.7182861e-04,\n",
              "        1.1064487e-14, 9.9971855e-01],\n",
              "       [2.9638337e-04, 1.6562435e-18, 9.9955267e-01, ..., 6.5263760e-18,\n",
              "        1.6728377e-15, 2.0171656e-15],\n",
              "       [5.2818721e-21, 9.9999994e-01, 1.5189937e-24, ..., 0.0000000e+00,\n",
              "        2.2301872e-23, 1.6677379e-35],\n",
              "       ...,\n",
              "       [6.3271312e-11, 1.1479875e-22, 1.1145995e-09, ..., 3.4370271e-13,\n",
              "        9.9999827e-01, 1.1862516e-28],\n",
              "       [4.2683062e-16, 9.9999994e-01, 8.1200458e-18, ..., 1.2317084e-27,\n",
              "        4.3300490e-17, 1.7768104e-18],\n",
              "       [1.4080186e-03, 4.6761073e-10, 2.3055898e-06, ..., 3.1622752e-04,\n",
              "        7.7071127e-06, 3.1287033e-07]], dtype=float32)"
            ]
          },
          "metadata": {},
          "execution_count": 72
        }
      ]
    },
    {
      "cell_type": "markdown",
      "source": [
        "This implies every single image has a list that represent the prediction for it"
      ],
      "metadata": {
        "id": "SITUn6GXTErQ"
      }
    },
    {
      "cell_type": "code",
      "source": [
        "##Prediction for test image zero\n",
        "predictions[0]"
      ],
      "metadata": {
        "colab": {
          "base_uri": "https://localhost:8080/"
        },
        "id": "mG26hKvISjW4",
        "outputId": "55f21e2e-86f4-4f1d-dd61-8282be563028"
      },
      "execution_count": null,
      "outputs": [
        {
          "output_type": "execute_result",
          "data": {
            "text/plain": [
              "array([2.5536414e-14, 8.3456992e-16, 2.8051601e-15, 1.5369059e-17,\n",
              "       8.2678340e-18, 9.6882122e-06, 1.1921797e-20, 2.7182861e-04,\n",
              "       1.1064487e-14, 9.9971855e-01], dtype=float32)"
            ]
          },
          "metadata": {},
          "execution_count": 71
        }
      ]
    },
    {
      "cell_type": "markdown",
      "source": [
        "* This is the probability distribution\n",
        "that was calculated on our output layer for that image.\n",
        "* To figure out what class this is predicting for, we use argmax which returns index of the maximum value in the list.\n",
        "* For this case it will return 9.997 which is the index for the highest value in the list.\n",
        "* Use class_names to print out the exact class\n"
      ],
      "metadata": {
        "id": "EYWEKmdCSzpM"
      }
    },
    {
      "cell_type": "code",
      "source": [
        "predictions  =model.predict(test_images)\n",
        "np.argmax(predictions[0])"
      ],
      "metadata": {
        "colab": {
          "base_uri": "https://localhost:8080/"
        },
        "id": "9RnSqidUU6Jm",
        "outputId": "e07f27fe-b0b4-48d6-a729-e94a5afaccfd"
      },
      "execution_count": null,
      "outputs": [
        {
          "output_type": "stream",
          "name": "stdout",
          "text": [
            "\u001b[1m313/313\u001b[0m \u001b[32m━━━━━━━━━━━━━━━━━━━━\u001b[0m\u001b[37m\u001b[0m \u001b[1m0s\u001b[0m 2ms/step\n"
          ]
        },
        {
          "output_type": "execute_result",
          "data": {
            "text/plain": [
              "9"
            ]
          },
          "metadata": {},
          "execution_count": 76
        }
      ]
    },
    {
      "cell_type": "code",
      "source": [
        "predictions  =model.predict(test_images)\n",
        "print(class_names[np.argmax(predictions[2])])\n",
        "plt.figure()\n",
        "plt.imshow(test_images[2])\n",
        "plt.colorbar()\n",
        "plt.grid(False)\n",
        "plt.show()"
      ],
      "metadata": {
        "colab": {
          "base_uri": "https://localhost:8080/",
          "height": 471
        },
        "id": "mTr0dAw-Vdmw",
        "outputId": "98f01240-a22e-4ed4-f355-c15b233ccdd8"
      },
      "execution_count": null,
      "outputs": [
        {
          "output_type": "stream",
          "name": "stdout",
          "text": [
            "\u001b[1m313/313\u001b[0m \u001b[32m━━━━━━━━━━━━━━━━━━━━\u001b[0m\u001b[37m\u001b[0m \u001b[1m0s\u001b[0m 1ms/step\n",
            "Trouser\n"
          ]
        },
        {
          "output_type": "display_data",
          "data": {
            "text/plain": [
              "<Figure size 640x480 with 2 Axes>"
            ],
            "image/png": "[encoded data removed]"
          },
          "metadata": {}
        }
      ]
    },
    {
      "cell_type": "markdown",
      "source": [
        "##**Verifying predictions**"
      ],
      "metadata": {
        "id": "1q1CEl4dXSSM"
      }
    },
    {
      "cell_type": "code",
      "source": [
        "COLOR = 'white'\n",
        "plt.rcParams['text.color']= COLOR\n",
        "plt.rcParams['axes.labelcolor'] = COLOR\n",
        "\n",
        "def predict(model, image, correct_label):\n",
        "  class_names = ['T-shirt/Top', 'Trouser', 'Pullover', 'Dress', 'Coat',\n",
        "                 'Sandal', 'Shirt', 'Sneaker', 'Bag', 'Ankle boot']\n",
        "  prediction = model.predict(np.array([image]))\n",
        "  predicted_class = class_names[np.argmax(prediction)]\n",
        "\n",
        "  show_image(image, class_names[correct_label], predicted_class)\n",
        "\n",
        "def show_image(img, label, guess):\n",
        "  plt.figure()\n",
        "  plt.imshow(img, cmap=plt.cm.binary)\n",
        "  plt.title(\"Expected:\" + label)\n",
        "  plt.xlabel(\"Guess: \"+ guess)\n",
        "  plt.colorbar()\n",
        "  plt.grid(False)\n",
        "  plt.show()\n",
        "\n",
        "def get_number():\n",
        "  while True:\n",
        "    num = input(\"Pick a number: \")\n",
        "    if num.isdigit():\n",
        "      num  = int(num)\n",
        "      if 0 <= num <= 1000:\n",
        "        return int(num)\n",
        "  else:\n",
        "    print(\"Try again...\")\n",
        "\n",
        "num = get_number()\n",
        "image = test_images[num]\n",
        "label = test_labels[num]\n",
        "predict(model, image, label)\n"
      ],
      "metadata": {
        "colab": {
          "base_uri": "https://localhost:8080/",
          "height": 508
        },
        "id": "t1n2196nVtyN",
        "outputId": "88cc698a-b642-4a0c-829a-42e4222aec4a"
      },
      "execution_count": null,
      "outputs": [
        {
          "output_type": "stream",
          "name": "stdout",
          "text": [
            "Pick a number: 60\n",
            "\u001b[1m1/1\u001b[0m \u001b[32m━━━━━━━━━━━━━━━━━━━━\u001b[0m\u001b[37m\u001b[0m \u001b[1m0s\u001b[0m 20ms/step\n"
          ]
        },
        {
          "output_type": "display_data",
          "data": {
            "text/plain": [
              "<Figure size 640x480 with 2 Axes>"
            ],
            "image/png": "[encoded data removed]"
          },
          "metadata": {}
        }
      ]
    }
  ]
}
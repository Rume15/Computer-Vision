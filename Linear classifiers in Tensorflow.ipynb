{
  "cells": [
    {
      "cell_type": "code",
      "execution_count": null,
      "metadata": {
        "colab": {
          "base_uri": "https://localhost:8080/"
        },
        "id": "bTpmvwi4M9eV",
        "outputId": "71ba21c8-d9fe-4a03-d6af-77916dc65cf6"
      },
      "outputs": [
        {
          "output_type": "stream",
          "name": "stdout",
          "text": [
            "Colab only includes TensorFlow 2.x; %tensorflow_version has no effect.\n"
          ]
        }
      ],
      "source": [
        "tensorflow_version 2.x"
      ]
    },
    {
      "cell_type": "markdown",
      "metadata": {
        "id": "3Eddf1K9hA8H"
      },
      "source": [
        "**Creating Tensors**"
      ]
    },
    {
      "cell_type": "markdown",
      "source": [
        "Each tensor has a data type and a shape. A data is the kind of information stored in the tensor i.e. float32, int32 and string.\n",
        "\n",
        "The shape is the representation of the dimension of the data."
      ],
      "metadata": {
        "id": "FCyl9SXi9JEG"
      }
    },
    {
      "cell_type": "code",
      "execution_count": null,
      "metadata": {
        "id": "4wAEix3LAgq-"
      },
      "outputs": [],
      "source": [
        "import tensorflow as tf\n",
        "string =tf.Variable(\"this is s string\", tf.string )\n",
        "number=tf.Variable(324, tf.int16)\n",
        "floating = tf.Variable(0.567, tf.float64)"
      ]
    },
    {
      "cell_type": "markdown",
      "metadata": {
        "id": "kmD6r5IdjxRY"
      },
      "source": [
        "**Rank/Degree of Tensors**\n",
        "\n",
        "Another word for rank is degree, these terms simply mean the number of dimensions involved in the tensor. What we created above is a tensor of rank 0, also known as a scalar.\n",
        "\n",
        "Now we'll some tensors of higher degrees/ranks"
      ]
    },
    {
      "cell_type": "markdown",
      "source": [
        "This is a tensor of rank 0, because it is one thing i.e. scalar and it has only one value and no dimension."
      ],
      "metadata": {
        "id": "bYwnmHY4ATXu"
      }
    },
    {
      "cell_type": "code",
      "source": [
        "number=tf.Variable(324, tf.int16)"
      ],
      "metadata": {
        "id": "wJ4LigJ9_nes"
      },
      "execution_count": null,
      "outputs": []
    },
    {
      "cell_type": "markdown",
      "source": [
        "When we have an array/list we immediately have atleast rank 1. The reason for that is because this array can store more than one value in one dimension.\n",
        "\n",
        "rank2 tensor would mean multiple lists inside a list i.e. matrices.\n",
        "**The way to determine the rank of atensor is the deepest level of nested list.**"
      ],
      "metadata": {
        "id": "pMvj_p76_qGg"
      }
    },
    {
      "cell_type": "code",
      "execution_count": null,
      "metadata": {
        "id": "H8wY6239Q2lX"
      },
      "outputs": [],
      "source": [
        "rank1_tensor = tf.Variable([\"Test\",\"Ok\",\"Tim\"],tf.string)## rank 1 tensor becauase the list is 1/1 array/1 dim/1 vector\n",
        "rank2_tensor= tf.Variable([[\"test\", \"ok\"],[\"test\",\"yes\"]],tf.string)"
      ]
    },
    {
      "cell_type": "markdown",
      "source": [],
      "metadata": {
        "id": "eQJWyAXhDeRX"
      }
    },
    {
      "cell_type": "markdown",
      "source": [
        "To detrmine the rank of a tensor we simply use:"
      ],
      "metadata": {
        "id": "vctFy1JMBpiW"
      }
    },
    {
      "cell_type": "code",
      "execution_count": null,
      "metadata": {
        "colab": {
          "base_uri": "https://localhost:8080/"
        },
        "id": "Cv4M9r4xVpNY",
        "outputId": "27db2b3a-d3d5-4a68-cd07-f595f6edeb81"
      },
      "outputs": [
        {
          "output_type": "execute_result",
          "data": {
            "text/plain": [
              "<tf.Tensor: shape=(), dtype=int32, numpy=0>"
            ]
          },
          "metadata": {},
          "execution_count": 5
        }
      ],
      "source": [
        "tf.rank(number)"
      ]
    },
    {
      "cell_type": "code",
      "execution_count": null,
      "metadata": {
        "colab": {
          "base_uri": "https://localhost:8080/"
        },
        "id": "8G_y4whxjuwe",
        "outputId": "05a53622-abed-4f87-f8fd-bcced086ecbe"
      },
      "outputs": [
        {
          "output_type": "execute_result",
          "data": {
            "text/plain": [
              "<tf.Tensor: shape=(), dtype=int32, numpy=1>"
            ]
          },
          "metadata": {},
          "execution_count": 6
        }
      ],
      "source": [
        "tf.rank(rank1_tensor)"
      ]
    },
    {
      "cell_type": "code",
      "execution_count": null,
      "metadata": {
        "colab": {
          "base_uri": "https://localhost:8080/"
        },
        "id": "IEWBY-lVjusV",
        "outputId": "db88a6e4-138c-40c4-de72-ee31574cd0e8"
      },
      "outputs": [
        {
          "output_type": "execute_result",
          "data": {
            "text/plain": [
              "<tf.Tensor: shape=(), dtype=int32, numpy=2>"
            ]
          },
          "metadata": {},
          "execution_count": 7
        }
      ],
      "source": [
        "tf.rank(rank2_tensor)"
      ]
    },
    {
      "cell_type": "markdown",
      "metadata": {
        "id": "4ZHnLKuFV3DR"
      },
      "source": [
        "**Shape of tensors**\n",
        "\n",
        "The shape of a tensor is the amount of elements that exist in each dimension.\n",
        "\n",
        "To get the shape of a tensor we use the shape attribute"
      ]
    },
    {
      "cell_type": "code",
      "execution_count": null,
      "metadata": {
        "id": "CaQotzbXPo8s"
      },
      "outputs": [],
      "source": [
        "rank1_tensor = tf.Variable([\"Test\",\"ok\",\"Tim\"],tf.string)\n",
        "rank2_tensor= tf.Variable([[\"test\", \"ok\"],[\"test\",\"yes\"]],tf.string)\n",
        "rank3_tensor= tf.Variable([[\"test\", \"ok\",\"yes\"],[\"test\",\"yes\",\"ok\"]],tf.string)\n",
        "rank4_tensor= tf.Variable([[\"test\", \"ok\",\"yes\"],[\"test\",\"yes\",\"ok\"],[\"test\",\"yes\",\"ok\"]],tf.string)"
      ]
    },
    {
      "cell_type": "code",
      "execution_count": null,
      "metadata": {
        "colab": {
          "base_uri": "https://localhost:8080/"
        },
        "id": "3lzyzJ2RQ5Lf",
        "outputId": "f73343dc-8434-4334-d26c-178ed6ef8305"
      },
      "outputs": [
        {
          "output_type": "execute_result",
          "data": {
            "text/plain": [
              "TensorShape([2, 2])"
            ]
          },
          "metadata": {},
          "execution_count": 9
        }
      ],
      "source": [
        "rank2_tensor.shape"
      ]
    },
    {
      "cell_type": "code",
      "execution_count": null,
      "metadata": {
        "colab": {
          "base_uri": "https://localhost:8080/"
        },
        "id": "I4UOX0JkQ5H0",
        "outputId": "bf72b93c-2c99-4d51-b00d-bfb4cd0c7923"
      },
      "outputs": [
        {
          "output_type": "execute_result",
          "data": {
            "text/plain": [
              "TensorShape([3])"
            ]
          },
          "metadata": {},
          "execution_count": 10
        }
      ],
      "source": [
        "rank1_tensor.shape"
      ]
    },
    {
      "cell_type": "code",
      "execution_count": null,
      "metadata": {
        "colab": {
          "base_uri": "https://localhost:8080/"
        },
        "id": "dWIUdHVsWofW",
        "outputId": "c561d87c-624f-49bb-f2a1-954b0e4393c8"
      },
      "outputs": [
        {
          "output_type": "execute_result",
          "data": {
            "text/plain": [
              "TensorShape([2, 3])"
            ]
          },
          "metadata": {},
          "execution_count": 11
        }
      ],
      "source": [
        " rank3_tensor.shape##2 lists and each of this list has three elements inside of them"
      ]
    },
    {
      "cell_type": "code",
      "execution_count": null,
      "metadata": {
        "colab": {
          "base_uri": "https://localhost:8080/"
        },
        "id": "pQ2tJnV5WobQ",
        "outputId": "fa5144f5-d8b3-4ea0-8b53-c386f34499db"
      },
      "outputs": [
        {
          "output_type": "execute_result",
          "data": {
            "text/plain": [
              "TensorShape([3, 3])"
            ]
          },
          "metadata": {},
          "execution_count": 12
        }
      ],
      "source": [
        " rank4_tensor.shape##3 lists and each of this list has 3 elements inside of them"
      ]
    },
    {
      "cell_type": "markdown",
      "metadata": {
        "id": "ZjeGxGYbYh3M"
      },
      "source": [
        "**Changing Shape**\n",
        "\n",
        "The number of elements of a tensor is the product of sizes of all its shapes. There are often many shapes that have the same number of elements"
      ]
    },
    {
      "cell_type": "code",
      "execution_count": null,
      "metadata": {
        "id": "SPbh9Vz9juo0"
      },
      "outputs": [],
      "source": [
        "tensor1=tf.ones([1,2,3])#Creates a shape [1,2,3] tensor full of ones\n",
        "tensor2=tf.reshape(tensor1, [2,3,1])#Reshape existing data to shape [2,3,1]\n",
        "tensor3=tf.reshape(tensor2,[3,-1])#-1 tells the tensor to calculate the size of the dimension in that place\n",
        "                                  #this will reshape the tensor to [3,3]\n",
        "                         #The number of elements in the reshaped tensor must match the number in the original"
      ]
    },
    {
      "cell_type": "code",
      "execution_count": null,
      "metadata": {
        "colab": {
          "base_uri": "https://localhost:8080/"
        },
        "id": "hrhVEymrjukP",
        "outputId": "6f2b7cad-aad3-4f2d-9a9c-c3cec74343ba"
      },
      "outputs": [
        {
          "output_type": "stream",
          "name": "stdout",
          "text": [
            "tf.Tensor(\n",
            "[[[1. 1. 1.]\n",
            "  [1. 1. 1.]]], shape=(1, 2, 3), dtype=float32)\n",
            "tf.Tensor(\n",
            "[[[1.]\n",
            "  [1.]\n",
            "  [1.]]\n",
            "\n",
            " [[1.]\n",
            "  [1.]\n",
            "  [1.]]], shape=(2, 3, 1), dtype=float32)\n",
            "tf.Tensor(\n",
            "[[1. 1.]\n",
            " [1. 1.]\n",
            " [1. 1.]], shape=(3, 2), dtype=float32)\n"
          ]
        }
      ],
      "source": [
        "print(tensor1)\n",
        "print(tensor2)\n",
        "print(tensor3)\n",
        "#Notice the changes in shape"
      ]
    },
    {
      "cell_type": "markdown",
      "metadata": {
        "id": "wmLncJ_jd-y8"
      },
      "source": [
        "**Types of Tensors**\n",
        "\n",
        "The most commonly used tensors are:\n",
        "\n",
        "\n",
        "1.   Variable\n",
        "2.   Constant\n",
        "3.   Placeholder\n",
        "4.   SparseTensor\n",
        "\n",
        "With the exception of `variable` all of these tensors are immutable, meaning their value may not change during execution. We use the variable tensor when we want to change the value of the tensor.\n",
        "\n"
      ]
    },
    {
      "cell_type": "markdown",
      "metadata": {
        "id": "NJ7YlpdZkVbX"
      },
      "source": [
        "**Evauating Tensors**\n",
        "\n",
        "To evaluate a tensor means to get its value. Since tensors represent a partially complete computation, we run a session to evaluate the tensor."
      ]
    },
    {
      "cell_type": "code",
      "execution_count": null,
      "metadata": {
        "id": "2ojw5sA7juWN"
      },
      "outputs": [],
      "source": [
        "##with tf.Session() as sess:  ##Create a session using the default graph\n",
        " ## tensor.eval()#tensor will be the name of your tensor."
      ]
    },
    {
      "cell_type": "markdown",
      "metadata": {
        "id": "iDnjJ1valkmJ"
      },
      "source": [
        "In the above code we evaluated the tensor variable that was stored in the default graph."
      ]
    },
    {
      "cell_type": "code",
      "execution_count": null,
      "metadata": {
        "colab": {
          "base_uri": "https://localhost:8080/"
        },
        "id": "Sub3scOvmwh8",
        "outputId": "338cdab4-3b14-40d7-e147-831fadfdb8b6"
      },
      "outputs": [
        {
          "output_type": "stream",
          "name": "stdout",
          "text": [
            "[[1 2]\n",
            " [3 4]]\n"
          ]
        }
      ],
      "source": [
        "tensor = tf.constant([[1, 2], [3, 4]])\n",
        "result=tensor.numpy()\n",
        "print(result)"
      ]
    },
    {
      "cell_type": "code",
      "execution_count": null,
      "metadata": {
        "colab": {
          "base_uri": "https://localhost:8080/"
        },
        "id": "XTsnG7pHm9vu",
        "outputId": "457a8710-96c8-403a-dd0d-f86b41196239"
      },
      "outputs": [
        {
          "output_type": "stream",
          "name": "stdout",
          "text": [
            "tf.Tensor(\n",
            "[[0. 0. 0. 0. 0.]\n",
            " [0. 0. 0. 0. 0.]\n",
            " [0. 0. 0. 0. 0.]\n",
            " [0. 0. 0. 0. 0.]\n",
            " [0. 0. 0. 0. 0.]\n",
            " [0. 0. 0. 0. 0.]\n",
            " [0. 0. 0. 0. 0.]\n",
            " [0. 0. 0. 0. 0.]\n",
            " [0. 0. 0. 0. 0.]\n",
            " [0. 0. 0. 0. 0.]\n",
            " [0. 0. 0. 0. 0.]\n",
            " [0. 0. 0. 0. 0.]\n",
            " [0. 0. 0. 0. 0.]\n",
            " [0. 0. 0. 0. 0.]\n",
            " [0. 0. 0. 0. 0.]\n",
            " [0. 0. 0. 0. 0.]\n",
            " [0. 0. 0. 0. 0.]\n",
            " [0. 0. 0. 0. 0.]\n",
            " [0. 0. 0. 0. 0.]\n",
            " [0. 0. 0. 0. 0.]\n",
            " [0. 0. 0. 0. 0.]\n",
            " [0. 0. 0. 0. 0.]\n",
            " [0. 0. 0. 0. 0.]\n",
            " [0. 0. 0. 0. 0.]\n",
            " [0. 0. 0. 0. 0.]\n",
            " [0. 0. 0. 0. 0.]\n",
            " [0. 0. 0. 0. 0.]\n",
            " [0. 0. 0. 0. 0.]\n",
            " [0. 0. 0. 0. 0.]\n",
            " [0. 0. 0. 0. 0.]\n",
            " [0. 0. 0. 0. 0.]\n",
            " [0. 0. 0. 0. 0.]\n",
            " [0. 0. 0. 0. 0.]\n",
            " [0. 0. 0. 0. 0.]\n",
            " [0. 0. 0. 0. 0.]\n",
            " [0. 0. 0. 0. 0.]\n",
            " [0. 0. 0. 0. 0.]\n",
            " [0. 0. 0. 0. 0.]\n",
            " [0. 0. 0. 0. 0.]\n",
            " [0. 0. 0. 0. 0.]\n",
            " [0. 0. 0. 0. 0.]\n",
            " [0. 0. 0. 0. 0.]\n",
            " [0. 0. 0. 0. 0.]\n",
            " [0. 0. 0. 0. 0.]\n",
            " [0. 0. 0. 0. 0.]\n",
            " [0. 0. 0. 0. 0.]\n",
            " [0. 0. 0. 0. 0.]\n",
            " [0. 0. 0. 0. 0.]\n",
            " [0. 0. 0. 0. 0.]\n",
            " [0. 0. 0. 0. 0.]\n",
            " [0. 0. 0. 0. 0.]\n",
            " [0. 0. 0. 0. 0.]\n",
            " [0. 0. 0. 0. 0.]\n",
            " [0. 0. 0. 0. 0.]\n",
            " [0. 0. 0. 0. 0.]\n",
            " [0. 0. 0. 0. 0.]\n",
            " [0. 0. 0. 0. 0.]\n",
            " [0. 0. 0. 0. 0.]\n",
            " [0. 0. 0. 0. 0.]\n",
            " [0. 0. 0. 0. 0.]\n",
            " [0. 0. 0. 0. 0.]\n",
            " [0. 0. 0. 0. 0.]\n",
            " [0. 0. 0. 0. 0.]\n",
            " [0. 0. 0. 0. 0.]\n",
            " [0. 0. 0. 0. 0.]\n",
            " [0. 0. 0. 0. 0.]\n",
            " [0. 0. 0. 0. 0.]\n",
            " [0. 0. 0. 0. 0.]\n",
            " [0. 0. 0. 0. 0.]\n",
            " [0. 0. 0. 0. 0.]\n",
            " [0. 0. 0. 0. 0.]\n",
            " [0. 0. 0. 0. 0.]\n",
            " [0. 0. 0. 0. 0.]\n",
            " [0. 0. 0. 0. 0.]\n",
            " [0. 0. 0. 0. 0.]\n",
            " [0. 0. 0. 0. 0.]\n",
            " [0. 0. 0. 0. 0.]\n",
            " [0. 0. 0. 0. 0.]\n",
            " [0. 0. 0. 0. 0.]\n",
            " [0. 0. 0. 0. 0.]\n",
            " [0. 0. 0. 0. 0.]\n",
            " [0. 0. 0. 0. 0.]\n",
            " [0. 0. 0. 0. 0.]\n",
            " [0. 0. 0. 0. 0.]\n",
            " [0. 0. 0. 0. 0.]\n",
            " [0. 0. 0. 0. 0.]\n",
            " [0. 0. 0. 0. 0.]\n",
            " [0. 0. 0. 0. 0.]\n",
            " [0. 0. 0. 0. 0.]\n",
            " [0. 0. 0. 0. 0.]\n",
            " [0. 0. 0. 0. 0.]\n",
            " [0. 0. 0. 0. 0.]\n",
            " [0. 0. 0. 0. 0.]\n",
            " [0. 0. 0. 0. 0.]\n",
            " [0. 0. 0. 0. 0.]\n",
            " [0. 0. 0. 0. 0.]\n",
            " [0. 0. 0. 0. 0.]\n",
            " [0. 0. 0. 0. 0.]\n",
            " [0. 0. 0. 0. 0.]\n",
            " [0. 0. 0. 0. 0.]\n",
            " [0. 0. 0. 0. 0.]\n",
            " [0. 0. 0. 0. 0.]\n",
            " [0. 0. 0. 0. 0.]\n",
            " [0. 0. 0. 0. 0.]\n",
            " [0. 0. 0. 0. 0.]\n",
            " [0. 0. 0. 0. 0.]\n",
            " [0. 0. 0. 0. 0.]\n",
            " [0. 0. 0. 0. 0.]\n",
            " [0. 0. 0. 0. 0.]\n",
            " [0. 0. 0. 0. 0.]\n",
            " [0. 0. 0. 0. 0.]\n",
            " [0. 0. 0. 0. 0.]\n",
            " [0. 0. 0. 0. 0.]\n",
            " [0. 0. 0. 0. 0.]\n",
            " [0. 0. 0. 0. 0.]\n",
            " [0. 0. 0. 0. 0.]\n",
            " [0. 0. 0. 0. 0.]\n",
            " [0. 0. 0. 0. 0.]\n",
            " [0. 0. 0. 0. 0.]\n",
            " [0. 0. 0. 0. 0.]\n",
            " [0. 0. 0. 0. 0.]\n",
            " [0. 0. 0. 0. 0.]\n",
            " [0. 0. 0. 0. 0.]\n",
            " [0. 0. 0. 0. 0.]\n",
            " [0. 0. 0. 0. 0.]], shape=(125, 5), dtype=float32)\n"
          ]
        }
      ],
      "source": [
        "t=tf.zeros([5,5,5,5])\n",
        "# Reshape tensor t\n",
        "t=tf.reshape(t,[625])##Massive list with 625 zeros.\n",
        "t=tf.reshape(t,[125,-1])\n",
        "print(t)\n"
      ]
    },
    {
      "cell_type": "markdown",
      "metadata": {
        "id": "wPhTCJ4Rotd4"
      },
      "source": [
        "##**TensorFlow Core Learning Algorithms text**\n",
        "\n",
        "The algorithms are:\n",
        "Linear Regression\n",
        "\n",
        "1.  Linear Regression                               \n",
        "2.   Classification\n",
        "3.   Clustering\n",
        "4.   Hidden Markov models  \n",
        "\n"
      ]
    },
    {
      "cell_type": "markdown",
      "metadata": {
        "id": "WiDlGSA_sDJT"
      },
      "source": [
        "**LInear Regression**\n",
        "\n",
        "We use a linear model to predict the survival rate of passengers from the titanic dataset."
      ]
    },
    {
      "cell_type": "markdown",
      "metadata": {
        "id": "XQXbFF3VwIU-"
      },
      "source": [
        "**Setup and imports**\n",
        "\n",
        "Install the relevant modules"
      ]
    },
    {
      "cell_type": "code",
      "execution_count": null,
      "metadata": {
        "id": "15LRDgmAsMKU"
      },
      "outputs": [],
      "source": [
        "import numpy as np\n",
        "import pandas as pd\n",
        "import matplotlib.pyplot as plt\n",
        "from IPython.display import clear_output\n",
        "from six.moves import urllib\n",
        "\n",
        "import tensorflow.compat.v2.feature_column as fc\n",
        "import tensorflow as tf\n"
      ]
    },
    {
      "cell_type": "markdown",
      "metadata": {
        "id": "9lUVPal8xEdr"
      },
      "source": [
        "**Data**\n",
        "\n",
        "The dataset has info about each passenger on ship"
      ]
    },
    {
      "cell_type": "code",
      "execution_count": null,
      "metadata": {
        "colab": {
          "base_uri": "https://localhost:8080/"
        },
        "id": "S6ueWg97xD3K",
        "outputId": "8fe71129-dc2a-4190-eaac-5349483435c5"
      },
      "outputs": [
        {
          "output_type": "stream",
          "name": "stdout",
          "text": [
            "0      0\n",
            "1      1\n",
            "2      1\n",
            "3      1\n",
            "4      0\n",
            "      ..\n",
            "622    0\n",
            "623    0\n",
            "624    1\n",
            "625    0\n",
            "626    0\n",
            "Name: survived, Length: 627, dtype: int64\n",
            "sex                          male\n",
            "age                          22.0\n",
            "n_siblings_spouses              1\n",
            "parch                           0\n",
            "fare                         7.25\n",
            "class                       Third\n",
            "deck                      unknown\n",
            "embark_town           Southampton\n",
            "alone                           n\n",
            "Name: 0, dtype: object 0\n"
          ]
        }
      ],
      "source": [
        "# Load the dataset\n",
        "\n",
        "dftrain = pd.read_csv('https://storage.googleapis.com/tf-datasets/titanic/train.csv')\n",
        "dfeval = pd.read_csv('https://storage.googleapis.com/tf-datasets/titanic/eval.csv')\n",
        "y_train=dftrain.pop('survived')#remove the column survived and puts in its own dataframe.\n",
        "y_eval=dfeval.pop('survived')\n",
        "print(y_train)\n",
        "print(dftrain.loc[0],y_train.loc[0])\n"
      ]
    },
    {
      "cell_type": "code",
      "execution_count": null,
      "metadata": {
        "id": "C5SC8KhsNXa8",
        "colab": {
          "base_uri": "https://localhost:8080/"
        },
        "outputId": "d7a7d32c-d898-4ac5-e064-c2421be0d6a5"
      },
      "outputs": [
        {
          "output_type": "stream",
          "name": "stdout",
          "text": [
            "sex                          male\n",
            "age                          22.0\n",
            "n_siblings_spouses              1\n",
            "parch                           0\n",
            "fare                         7.25\n",
            "class                       Third\n",
            "deck                      unknown\n",
            "embark_town           Southampton\n",
            "alone                           n\n",
            "Name: 0, dtype: object 0\n"
          ]
        }
      ],
      "source": [
        "#To print one specific row\n",
        "print(dftrain.loc[0],y_train.loc[0])"
      ]
    },
    {
      "cell_type": "code",
      "execution_count": null,
      "metadata": {
        "id": "k1bQp3uuMK-Y",
        "colab": {
          "base_uri": "https://localhost:8080/",
          "height": 206
        },
        "outputId": "fef335f3-95f0-4bf8-c6c5-5b9fd3d73884"
      },
      "outputs": [
        {
          "output_type": "execute_result",
          "data": {
            "text/plain": [
              "      sex   age  n_siblings_spouses  parch     fare  class     deck  \\\n",
              "0    male  22.0                   1      0   7.2500  Third  unknown   \n",
              "1  female  38.0                   1      0  71.2833  First        C   \n",
              "2  female  26.0                   0      0   7.9250  Third  unknown   \n",
              "3  female  35.0                   1      0  53.1000  First        C   \n",
              "4    male  28.0                   0      0   8.4583  Third  unknown   \n",
              "\n",
              "   embark_town alone  \n",
              "0  Southampton     n  \n",
              "1    Cherbourg     n  \n",
              "2  Southampton     y  \n",
              "3  Southampton     n  \n",
              "4   Queenstown     y  "
            ],
            "text/html": [
              "\n",
              "  <div id=\"df-d02673e0-03bb-497f-a3d3-7f6436aa342f\" class=\"colab-df-container\">\n",
              "    <div>\n",
              "<style scoped>\n",
              "    .dataframe tbody tr th:only-of-type {\n",
              "        vertical-align: middle;\n",
              "    }\n",
              "\n",
              "    .dataframe tbody tr th {\n",
              "        vertical-align: top;\n",
              "    }\n",
              "\n",
              "    .dataframe thead th {\n",
              "        text-align: right;\n",
              "    }\n",
              "</style>\n",
              "<table border=\"1\" class=\"dataframe\">\n",
              "  <thead>\n",
              "    <tr style=\"text-align: right;\">\n",
              "      <th></th>\n",
              "      <th>sex</th>\n",
              "      <th>age</th>\n",
              "      <th>n_siblings_spouses</th>\n",
              "      <th>parch</th>\n",
              "      <th>fare</th>\n",
              "      <th>class</th>\n",
              "      <th>deck</th>\n",
              "      <th>embark_town</th>\n",
              "      <th>alone</th>\n",
              "    </tr>\n",
              "  </thead>\n",
              "  <tbody>\n",
              "    <tr>\n",
              "      <th>0</th>\n",
              "      <td>male</td>\n",
              "      <td>22.0</td>\n",
              "      <td>1</td>\n",
              "      <td>0</td>\n",
              "      <td>7.2500</td>\n",
              "      <td>Third</td>\n",
              "      <td>unknown</td>\n",
              "      <td>Southampton</td>\n",
              "      <td>n</td>\n",
              "    </tr>\n",
              "    <tr>\n",
              "      <th>1</th>\n",
              "      <td>female</td>\n",
              "      <td>38.0</td>\n",
              "      <td>1</td>\n",
              "      <td>0</td>\n",
              "      <td>71.2833</td>\n",
              "      <td>First</td>\n",
              "      <td>C</td>\n",
              "      <td>Cherbourg</td>\n",
              "      <td>n</td>\n",
              "    </tr>\n",
              "    <tr>\n",
              "      <th>2</th>\n",
              "      <td>female</td>\n",
              "      <td>26.0</td>\n",
              "      <td>0</td>\n",
              "      <td>0</td>\n",
              "      <td>7.9250</td>\n",
              "      <td>Third</td>\n",
              "      <td>unknown</td>\n",
              "      <td>Southampton</td>\n",
              "      <td>y</td>\n",
              "    </tr>\n",
              "    <tr>\n",
              "      <th>3</th>\n",
              "      <td>female</td>\n",
              "      <td>35.0</td>\n",
              "      <td>1</td>\n",
              "      <td>0</td>\n",
              "      <td>53.1000</td>\n",
              "      <td>First</td>\n",
              "      <td>C</td>\n",
              "      <td>Southampton</td>\n",
              "      <td>n</td>\n",
              "    </tr>\n",
              "    <tr>\n",
              "      <th>4</th>\n",
              "      <td>male</td>\n",
              "      <td>28.0</td>\n",
              "      <td>0</td>\n",
              "      <td>0</td>\n",
              "      <td>8.4583</td>\n",
              "      <td>Third</td>\n",
              "      <td>unknown</td>\n",
              "      <td>Queenstown</td>\n",
              "      <td>y</td>\n",
              "    </tr>\n",
              "  </tbody>\n",
              "</table>\n",
              "</div>\n",
              "    <div class=\"colab-df-buttons\">\n",
              "\n",
              "  <div class=\"colab-df-container\">\n",
              "    <button class=\"colab-df-convert\" onclick=\"convertToInteractive('df-d02673e0-03bb-497f-a3d3-7f6436aa342f')\"\n",
              "            title=\"Convert this dataframe to an interactive table.\"\n",
              "            style=\"display:none;\">\n",
              "\n",
              "  <svg xmlns=\"http://www.w3.org/2000/svg\" height=\"24px\" viewBox=\"0 -960 960 960\">\n",
              "    <path d=\"M120-120v-720h720v720H120Zm60-500h600v-160H180v160Zm220 220h160v-160H400v160Zm0 220h160v-160H400v160ZM180-400h160v-160H180v160Zm440 0h160v-160H620v160ZM180-180h160v-160H180v160Zm440 0h160v-160H620v160Z\"/>\n",
              "  </svg>\n",
              "    </button>\n",
              "\n",
              "  <style>\n",
              "    .colab-df-container {\n",
              "      display:flex;\n",
              "      gap: 12px;\n",
              "    }\n",
              "\n",
              "    .colab-df-convert {\n",
              "      background-color: #E8F0FE;\n",
              "      border: none;\n",
              "      border-radius: 50%;\n",
              "      cursor: pointer;\n",
              "      display: none;\n",
              "      fill: #1967D2;\n",
              "      height: 32px;\n",
              "      padding: 0 0 0 0;\n",
              "      width: 32px;\n",
              "    }\n",
              "\n",
              "    .colab-df-convert:hover {\n",
              "      background-color: #E2EBFA;\n",
              "      box-shadow: 0px 1px 2px rgba(60, 64, 67, 0.3), 0px 1px 3px 1px rgba(60, 64, 67, 0.15);\n",
              "      fill: #174EA6;\n",
              "    }\n",
              "\n",
              "    .colab-df-buttons div {\n",
              "      margin-bottom: 4px;\n",
              "    }\n",
              "\n",
              "    [theme=dark] .colab-df-convert {\n",
              "      background-color: #3B4455;\n",
              "      fill: #D2E3FC;\n",
              "    }\n",
              "\n",
              "    [theme=dark] .colab-df-convert:hover {\n",
              "      background-color: #434B5C;\n",
              "      box-shadow: 0px 1px 3px 1px rgba(0, 0, 0, 0.15);\n",
              "      filter: drop-shadow(0px 1px 2px rgba(0, 0, 0, 0.3));\n",
              "      fill: #FFFFFF;\n",
              "    }\n",
              "  </style>\n",
              "\n",
              "    <script>\n",
              "      const buttonEl =\n",
              "        document.querySelector('#df-d02673e0-03bb-497f-a3d3-7f6436aa342f button.colab-df-convert');\n",
              "      buttonEl.style.display =\n",
              "        google.colab.kernel.accessAllowed ? 'block' : 'none';\n",
              "\n",
              "      async function convertToInteractive(key) {\n",
              "        const element = document.querySelector('#df-d02673e0-03bb-497f-a3d3-7f6436aa342f');\n",
              "        const dataTable =\n",
              "          await google.colab.kernel.invokeFunction('convertToInteractive',\n",
              "                                                    [key], {});\n",
              "        if (!dataTable) return;\n",
              "\n",
              "        const docLinkHtml = 'Like what you see? Visit the ' +\n",
              "          '<a target=\"_blank\" href=https://colab.research.google.com/notebooks/data_table.ipynb>data table notebook</a>'\n",
              "          + ' to learn more about interactive tables.';\n",
              "        element.innerHTML = '';\n",
              "        dataTable['output_type'] = 'display_data';\n",
              "        await google.colab.output.renderOutput(dataTable, element);\n",
              "        const docLink = document.createElement('div');\n",
              "        docLink.innerHTML = docLinkHtml;\n",
              "        element.appendChild(docLink);\n",
              "      }\n",
              "    </script>\n",
              "  </div>\n",
              "\n",
              "\n",
              "<div id=\"df-a8f674cb-a622-4a11-95a6-64bcea9ab0cd\">\n",
              "  <button class=\"colab-df-quickchart\" onclick=\"quickchart('df-a8f674cb-a622-4a11-95a6-64bcea9ab0cd')\"\n",
              "            title=\"Suggest charts\"\n",
              "            style=\"display:none;\">\n",
              "\n",
              "<svg xmlns=\"http://www.w3.org/2000/svg\" height=\"24px\"viewBox=\"0 0 24 24\"\n",
              "     width=\"24px\">\n",
              "    <g>\n",
              "        <path d=\"M19 3H5c-1.1 0-2 .9-2 2v14c0 1.1.9 2 2 2h14c1.1 0 2-.9 2-2V5c0-1.1-.9-2-2-2zM9 17H7v-7h2v7zm4 0h-2V7h2v10zm4 0h-2v-4h2v4z\"/>\n",
              "    </g>\n",
              "</svg>\n",
              "  </button>\n",
              "\n",
              "<style>\n",
              "  .colab-df-quickchart {\n",
              "      --bg-color: #E8F0FE;\n",
              "      --fill-color: #1967D2;\n",
              "      --hover-bg-color: #E2EBFA;\n",
              "      --hover-fill-color: #174EA6;\n",
              "      --disabled-fill-color: #AAA;\n",
              "      --disabled-bg-color: #DDD;\n",
              "  }\n",
              "\n",
              "  [theme=dark] .colab-df-quickchart {\n",
              "      --bg-color: #3B4455;\n",
              "      --fill-color: #D2E3FC;\n",
              "      --hover-bg-color: #434B5C;\n",
              "      --hover-fill-color: #FFFFFF;\n",
              "      --disabled-bg-color: #3B4455;\n",
              "      --disabled-fill-color: #666;\n",
              "  }\n",
              "\n",
              "  .colab-df-quickchart {\n",
              "    background-color: var(--bg-color);\n",
              "    border: none;\n",
              "    border-radius: 50%;\n",
              "    cursor: pointer;\n",
              "    display: none;\n",
              "    fill: var(--fill-color);\n",
              "    height: 32px;\n",
              "    padding: 0;\n",
              "    width: 32px;\n",
              "  }\n",
              "\n",
              "  .colab-df-quickchart:hover {\n",
              "    background-color: var(--hover-bg-color);\n",
              "    box-shadow: 0 1px 2px rgba(60, 64, 67, 0.3), 0 1px 3px 1px rgba(60, 64, 67, 0.15);\n",
              "    fill: var(--button-hover-fill-color);\n",
              "  }\n",
              "\n",
              "  .colab-df-quickchart-complete:disabled,\n",
              "  .colab-df-quickchart-complete:disabled:hover {\n",
              "    background-color: var(--disabled-bg-color);\n",
              "    fill: var(--disabled-fill-color);\n",
              "    box-shadow: none;\n",
              "  }\n",
              "\n",
              "  .colab-df-spinner {\n",
              "    border: 2px solid var(--fill-color);\n",
              "    border-color: transparent;\n",
              "    border-bottom-color: var(--fill-color);\n",
              "    animation:\n",
              "      spin 1s steps(1) infinite;\n",
              "  }\n",
              "\n",
              "  @keyframes spin {\n",
              "    0% {\n",
              "      border-color: transparent;\n",
              "      border-bottom-color: var(--fill-color);\n",
              "      border-left-color: var(--fill-color);\n",
              "    }\n",
              "    20% {\n",
              "      border-color: transparent;\n",
              "      border-left-color: var(--fill-color);\n",
              "      border-top-color: var(--fill-color);\n",
              "    }\n",
              "    30% {\n",
              "      border-color: transparent;\n",
              "      border-left-color: var(--fill-color);\n",
              "      border-top-color: var(--fill-color);\n",
              "      border-right-color: var(--fill-color);\n",
              "    }\n",
              "    40% {\n",
              "      border-color: transparent;\n",
              "      border-right-color: var(--fill-color);\n",
              "      border-top-color: var(--fill-color);\n",
              "    }\n",
              "    60% {\n",
              "      border-color: transparent;\n",
              "      border-right-color: var(--fill-color);\n",
              "    }\n",
              "    80% {\n",
              "      border-color: transparent;\n",
              "      border-right-color: var(--fill-color);\n",
              "      border-bottom-color: var(--fill-color);\n",
              "    }\n",
              "    90% {\n",
              "      border-color: transparent;\n",
              "      border-bottom-color: var(--fill-color);\n",
              "    }\n",
              "  }\n",
              "</style>\n",
              "\n",
              "  <script>\n",
              "    async function quickchart(key) {\n",
              "      const quickchartButtonEl =\n",
              "        document.querySelector('#' + key + ' button');\n",
              "      quickchartButtonEl.disabled = true;  // To prevent multiple clicks.\n",
              "      quickchartButtonEl.classList.add('colab-df-spinner');\n",
              "      try {\n",
              "        const charts = await google.colab.kernel.invokeFunction(\n",
              "            'suggestCharts', [key], {});\n",
              "      } catch (error) {\n",
              "        console.error('Error during call to suggestCharts:', error);\n",
              "      }\n",
              "      quickchartButtonEl.classList.remove('colab-df-spinner');\n",
              "      quickchartButtonEl.classList.add('colab-df-quickchart-complete');\n",
              "    }\n",
              "    (() => {\n",
              "      let quickchartButtonEl =\n",
              "        document.querySelector('#df-a8f674cb-a622-4a11-95a6-64bcea9ab0cd button');\n",
              "      quickchartButtonEl.style.display =\n",
              "        google.colab.kernel.accessAllowed ? 'block' : 'none';\n",
              "    })();\n",
              "  </script>\n",
              "</div>\n",
              "\n",
              "    </div>\n",
              "  </div>\n"
            ],
            "application/vnd.google.colaboratory.intrinsic+json": {
              "type": "dataframe",
              "variable_name": "dftrain",
              "summary": "{\n  \"name\": \"dftrain\",\n  \"rows\": 627,\n  \"fields\": [\n    {\n      \"column\": \"sex\",\n      \"properties\": {\n        \"dtype\": \"category\",\n        \"num_unique_values\": 2,\n        \"samples\": [\n          \"female\",\n          \"male\"\n        ],\n        \"semantic_type\": \"\",\n        \"description\": \"\"\n      }\n    },\n    {\n      \"column\": \"age\",\n      \"properties\": {\n        \"dtype\": \"number\",\n        \"std\": 12.511817629565819,\n        \"min\": 0.75,\n        \"max\": 80.0,\n        \"num_unique_values\": 76,\n        \"samples\": [\n          28.0,\n          59.0\n        ],\n        \"semantic_type\": \"\",\n        \"description\": \"\"\n      }\n    },\n    {\n      \"column\": \"n_siblings_spouses\",\n      \"properties\": {\n        \"dtype\": \"number\",\n        \"std\": 1,\n        \"min\": 0,\n        \"max\": 8,\n        \"num_unique_values\": 7,\n        \"samples\": [\n          1,\n          0\n        ],\n        \"semantic_type\": \"\",\n        \"description\": \"\"\n      }\n    },\n    {\n      \"column\": \"parch\",\n      \"properties\": {\n        \"dtype\": \"number\",\n        \"std\": 0,\n        \"min\": 0,\n        \"max\": 5,\n        \"num_unique_values\": 6,\n        \"samples\": [\n          0,\n          1\n        ],\n        \"semantic_type\": \"\",\n        \"description\": \"\"\n      }\n    },\n    {\n      \"column\": \"fare\",\n      \"properties\": {\n        \"dtype\": \"number\",\n        \"std\": 54.597730499456304,\n        \"min\": 0.0,\n        \"max\": 512.3292,\n        \"num_unique_values\": 216,\n        \"samples\": [\n          25.9292,\n          5.0\n        ],\n        \"semantic_type\": \"\",\n        \"description\": \"\"\n      }\n    },\n    {\n      \"column\": \"class\",\n      \"properties\": {\n        \"dtype\": \"category\",\n        \"num_unique_values\": 3,\n        \"samples\": [\n          \"Third\",\n          \"First\"\n        ],\n        \"semantic_type\": \"\",\n        \"description\": \"\"\n      }\n    },\n    {\n      \"column\": \"deck\",\n      \"properties\": {\n        \"dtype\": \"category\",\n        \"num_unique_values\": 8,\n        \"samples\": [\n          \"C\",\n          \"D\"\n        ],\n        \"semantic_type\": \"\",\n        \"description\": \"\"\n      }\n    },\n    {\n      \"column\": \"embark_town\",\n      \"properties\": {\n        \"dtype\": \"category\",\n        \"num_unique_values\": 4,\n        \"samples\": [\n          \"Cherbourg\",\n          \"unknown\"\n        ],\n        \"semantic_type\": \"\",\n        \"description\": \"\"\n      }\n    },\n    {\n      \"column\": \"alone\",\n      \"properties\": {\n        \"dtype\": \"category\",\n        \"num_unique_values\": 2,\n        \"samples\": [\n          \"y\",\n          \"n\"\n        ],\n        \"semantic_type\": \"\",\n        \"description\": \"\"\n      }\n    }\n  ]\n}"
            }
          },
          "metadata": {},
          "execution_count": 21
        }
      ],
      "source": [
        "#Inspect the first few columns of the dataset\n",
        "dftrain.head()"
      ]
    },
    {
      "cell_type": "code",
      "execution_count": null,
      "metadata": {
        "id": "CD6IMchPMXLv",
        "colab": {
          "base_uri": "https://localhost:8080/",
          "height": 300
        },
        "outputId": "71c7bca1-ccfc-4fdf-df69-7e26f6400903"
      },
      "outputs": [
        {
          "output_type": "execute_result",
          "data": {
            "text/plain": [
              "              age  n_siblings_spouses       parch        fare\n",
              "count  627.000000          627.000000  627.000000  627.000000\n",
              "mean    29.631308            0.545455    0.379585   34.385399\n",
              "std     12.511818            1.151090    0.792999   54.597730\n",
              "min      0.750000            0.000000    0.000000    0.000000\n",
              "25%     23.000000            0.000000    0.000000    7.895800\n",
              "50%     28.000000            0.000000    0.000000   15.045800\n",
              "75%     35.000000            1.000000    0.000000   31.387500\n",
              "max     80.000000            8.000000    5.000000  512.329200"
            ],
            "text/html": [
              "\n",
              "  <div id=\"df-ffcecd7c-3cdb-4605-b057-1b4c4ed96c62\" class=\"colab-df-container\">\n",
              "    <div>\n",
              "<style scoped>\n",
              "    .dataframe tbody tr th:only-of-type {\n",
              "        vertical-align: middle;\n",
              "    }\n",
              "\n",
              "    .dataframe tbody tr th {\n",
              "        vertical-align: top;\n",
              "    }\n",
              "\n",
              "    .dataframe thead th {\n",
              "        text-align: right;\n",
              "    }\n",
              "</style>\n",
              "<table border=\"1\" class=\"dataframe\">\n",
              "  <thead>\n",
              "    <tr style=\"text-align: right;\">\n",
              "      <th></th>\n",
              "      <th>age</th>\n",
              "      <th>n_siblings_spouses</th>\n",
              "      <th>parch</th>\n",
              "      <th>fare</th>\n",
              "    </tr>\n",
              "  </thead>\n",
              "  <tbody>\n",
              "    <tr>\n",
              "      <th>count</th>\n",
              "      <td>627.000000</td>\n",
              "      <td>627.000000</td>\n",
              "      <td>627.000000</td>\n",
              "      <td>627.000000</td>\n",
              "    </tr>\n",
              "    <tr>\n",
              "      <th>mean</th>\n",
              "      <td>29.631308</td>\n",
              "      <td>0.545455</td>\n",
              "      <td>0.379585</td>\n",
              "      <td>34.385399</td>\n",
              "    </tr>\n",
              "    <tr>\n",
              "      <th>std</th>\n",
              "      <td>12.511818</td>\n",
              "      <td>1.151090</td>\n",
              "      <td>0.792999</td>\n",
              "      <td>54.597730</td>\n",
              "    </tr>\n",
              "    <tr>\n",
              "      <th>min</th>\n",
              "      <td>0.750000</td>\n",
              "      <td>0.000000</td>\n",
              "      <td>0.000000</td>\n",
              "      <td>0.000000</td>\n",
              "    </tr>\n",
              "    <tr>\n",
              "      <th>25%</th>\n",
              "      <td>23.000000</td>\n",
              "      <td>0.000000</td>\n",
              "      <td>0.000000</td>\n",
              "      <td>7.895800</td>\n",
              "    </tr>\n",
              "    <tr>\n",
              "      <th>50%</th>\n",
              "      <td>28.000000</td>\n",
              "      <td>0.000000</td>\n",
              "      <td>0.000000</td>\n",
              "      <td>15.045800</td>\n",
              "    </tr>\n",
              "    <tr>\n",
              "      <th>75%</th>\n",
              "      <td>35.000000</td>\n",
              "      <td>1.000000</td>\n",
              "      <td>0.000000</td>\n",
              "      <td>31.387500</td>\n",
              "    </tr>\n",
              "    <tr>\n",
              "      <th>max</th>\n",
              "      <td>80.000000</td>\n",
              "      <td>8.000000</td>\n",
              "      <td>5.000000</td>\n",
              "      <td>512.329200</td>\n",
              "    </tr>\n",
              "  </tbody>\n",
              "</table>\n",
              "</div>\n",
              "    <div class=\"colab-df-buttons\">\n",
              "\n",
              "  <div class=\"colab-df-container\">\n",
              "    <button class=\"colab-df-convert\" onclick=\"convertToInteractive('df-ffcecd7c-3cdb-4605-b057-1b4c4ed96c62')\"\n",
              "            title=\"Convert this dataframe to an interactive table.\"\n",
              "            style=\"display:none;\">\n",
              "\n",
              "  <svg xmlns=\"http://www.w3.org/2000/svg\" height=\"24px\" viewBox=\"0 -960 960 960\">\n",
              "    <path d=\"M120-120v-720h720v720H120Zm60-500h600v-160H180v160Zm220 220h160v-160H400v160Zm0 220h160v-160H400v160ZM180-400h160v-160H180v160Zm440 0h160v-160H620v160ZM180-180h160v-160H180v160Zm440 0h160v-160H620v160Z\"/>\n",
              "  </svg>\n",
              "    </button>\n",
              "\n",
              "  <style>\n",
              "    .colab-df-container {\n",
              "      display:flex;\n",
              "      gap: 12px;\n",
              "    }\n",
              "\n",
              "    .colab-df-convert {\n",
              "      background-color: #E8F0FE;\n",
              "      border: none;\n",
              "      border-radius: 50%;\n",
              "      cursor: pointer;\n",
              "      display: none;\n",
              "      fill: #1967D2;\n",
              "      height: 32px;\n",
              "      padding: 0 0 0 0;\n",
              "      width: 32px;\n",
              "    }\n",
              "\n",
              "    .colab-df-convert:hover {\n",
              "      background-color: #E2EBFA;\n",
              "      box-shadow: 0px 1px 2px rgba(60, 64, 67, 0.3), 0px 1px 3px 1px rgba(60, 64, 67, 0.15);\n",
              "      fill: #174EA6;\n",
              "    }\n",
              "\n",
              "    .colab-df-buttons div {\n",
              "      margin-bottom: 4px;\n",
              "    }\n",
              "\n",
              "    [theme=dark] .colab-df-convert {\n",
              "      background-color: #3B4455;\n",
              "      fill: #D2E3FC;\n",
              "    }\n",
              "\n",
              "    [theme=dark] .colab-df-convert:hover {\n",
              "      background-color: #434B5C;\n",
              "      box-shadow: 0px 1px 3px 1px rgba(0, 0, 0, 0.15);\n",
              "      filter: drop-shadow(0px 1px 2px rgba(0, 0, 0, 0.3));\n",
              "      fill: #FFFFFF;\n",
              "    }\n",
              "  </style>\n",
              "\n",
              "    <script>\n",
              "      const buttonEl =\n",
              "        document.querySelector('#df-ffcecd7c-3cdb-4605-b057-1b4c4ed96c62 button.colab-df-convert');\n",
              "      buttonEl.style.display =\n",
              "        google.colab.kernel.accessAllowed ? 'block' : 'none';\n",
              "\n",
              "      async function convertToInteractive(key) {\n",
              "        const element = document.querySelector('#df-ffcecd7c-3cdb-4605-b057-1b4c4ed96c62');\n",
              "        const dataTable =\n",
              "          await google.colab.kernel.invokeFunction('convertToInteractive',\n",
              "                                                    [key], {});\n",
              "        if (!dataTable) return;\n",
              "\n",
              "        const docLinkHtml = 'Like what you see? Visit the ' +\n",
              "          '<a target=\"_blank\" href=https://colab.research.google.com/notebooks/data_table.ipynb>data table notebook</a>'\n",
              "          + ' to learn more about interactive tables.';\n",
              "        element.innerHTML = '';\n",
              "        dataTable['output_type'] = 'display_data';\n",
              "        await google.colab.output.renderOutput(dataTable, element);\n",
              "        const docLink = document.createElement('div');\n",
              "        docLink.innerHTML = docLinkHtml;\n",
              "        element.appendChild(docLink);\n",
              "      }\n",
              "    </script>\n",
              "  </div>\n",
              "\n",
              "\n",
              "<div id=\"df-f098f656-51d8-41f9-8eb6-faca6c344193\">\n",
              "  <button class=\"colab-df-quickchart\" onclick=\"quickchart('df-f098f656-51d8-41f9-8eb6-faca6c344193')\"\n",
              "            title=\"Suggest charts\"\n",
              "            style=\"display:none;\">\n",
              "\n",
              "<svg xmlns=\"http://www.w3.org/2000/svg\" height=\"24px\"viewBox=\"0 0 24 24\"\n",
              "     width=\"24px\">\n",
              "    <g>\n",
              "        <path d=\"M19 3H5c-1.1 0-2 .9-2 2v14c0 1.1.9 2 2 2h14c1.1 0 2-.9 2-2V5c0-1.1-.9-2-2-2zM9 17H7v-7h2v7zm4 0h-2V7h2v10zm4 0h-2v-4h2v4z\"/>\n",
              "    </g>\n",
              "</svg>\n",
              "  </button>\n",
              "\n",
              "<style>\n",
              "  .colab-df-quickchart {\n",
              "      --bg-color: #E8F0FE;\n",
              "      --fill-color: #1967D2;\n",
              "      --hover-bg-color: #E2EBFA;\n",
              "      --hover-fill-color: #174EA6;\n",
              "      --disabled-fill-color: #AAA;\n",
              "      --disabled-bg-color: #DDD;\n",
              "  }\n",
              "\n",
              "  [theme=dark] .colab-df-quickchart {\n",
              "      --bg-color: #3B4455;\n",
              "      --fill-color: #D2E3FC;\n",
              "      --hover-bg-color: #434B5C;\n",
              "      --hover-fill-color: #FFFFFF;\n",
              "      --disabled-bg-color: #3B4455;\n",
              "      --disabled-fill-color: #666;\n",
              "  }\n",
              "\n",
              "  .colab-df-quickchart {\n",
              "    background-color: var(--bg-color);\n",
              "    border: none;\n",
              "    border-radius: 50%;\n",
              "    cursor: pointer;\n",
              "    display: none;\n",
              "    fill: var(--fill-color);\n",
              "    height: 32px;\n",
              "    padding: 0;\n",
              "    width: 32px;\n",
              "  }\n",
              "\n",
              "  .colab-df-quickchart:hover {\n",
              "    background-color: var(--hover-bg-color);\n",
              "    box-shadow: 0 1px 2px rgba(60, 64, 67, 0.3), 0 1px 3px 1px rgba(60, 64, 67, 0.15);\n",
              "    fill: var(--button-hover-fill-color);\n",
              "  }\n",
              "\n",
              "  .colab-df-quickchart-complete:disabled,\n",
              "  .colab-df-quickchart-complete:disabled:hover {\n",
              "    background-color: var(--disabled-bg-color);\n",
              "    fill: var(--disabled-fill-color);\n",
              "    box-shadow: none;\n",
              "  }\n",
              "\n",
              "  .colab-df-spinner {\n",
              "    border: 2px solid var(--fill-color);\n",
              "    border-color: transparent;\n",
              "    border-bottom-color: var(--fill-color);\n",
              "    animation:\n",
              "      spin 1s steps(1) infinite;\n",
              "  }\n",
              "\n",
              "  @keyframes spin {\n",
              "    0% {\n",
              "      border-color: transparent;\n",
              "      border-bottom-color: var(--fill-color);\n",
              "      border-left-color: var(--fill-color);\n",
              "    }\n",
              "    20% {\n",
              "      border-color: transparent;\n",
              "      border-left-color: var(--fill-color);\n",
              "      border-top-color: var(--fill-color);\n",
              "    }\n",
              "    30% {\n",
              "      border-color: transparent;\n",
              "      border-left-color: var(--fill-color);\n",
              "      border-top-color: var(--fill-color);\n",
              "      border-right-color: var(--fill-color);\n",
              "    }\n",
              "    40% {\n",
              "      border-color: transparent;\n",
              "      border-right-color: var(--fill-color);\n",
              "      border-top-color: var(--fill-color);\n",
              "    }\n",
              "    60% {\n",
              "      border-color: transparent;\n",
              "      border-right-color: var(--fill-color);\n",
              "    }\n",
              "    80% {\n",
              "      border-color: transparent;\n",
              "      border-right-color: var(--fill-color);\n",
              "      border-bottom-color: var(--fill-color);\n",
              "    }\n",
              "    90% {\n",
              "      border-color: transparent;\n",
              "      border-bottom-color: var(--fill-color);\n",
              "    }\n",
              "  }\n",
              "</style>\n",
              "\n",
              "  <script>\n",
              "    async function quickchart(key) {\n",
              "      const quickchartButtonEl =\n",
              "        document.querySelector('#' + key + ' button');\n",
              "      quickchartButtonEl.disabled = true;  // To prevent multiple clicks.\n",
              "      quickchartButtonEl.classList.add('colab-df-spinner');\n",
              "      try {\n",
              "        const charts = await google.colab.kernel.invokeFunction(\n",
              "            'suggestCharts', [key], {});\n",
              "      } catch (error) {\n",
              "        console.error('Error during call to suggestCharts:', error);\n",
              "      }\n",
              "      quickchartButtonEl.classList.remove('colab-df-spinner');\n",
              "      quickchartButtonEl.classList.add('colab-df-quickchart-complete');\n",
              "    }\n",
              "    (() => {\n",
              "      let quickchartButtonEl =\n",
              "        document.querySelector('#df-f098f656-51d8-41f9-8eb6-faca6c344193 button');\n",
              "      quickchartButtonEl.style.display =\n",
              "        google.colab.kernel.accessAllowed ? 'block' : 'none';\n",
              "    })();\n",
              "  </script>\n",
              "</div>\n",
              "\n",
              "    </div>\n",
              "  </div>\n"
            ],
            "application/vnd.google.colaboratory.intrinsic+json": {
              "type": "dataframe",
              "summary": "{\n  \"name\": \"dftrain\",\n  \"rows\": 8,\n  \"fields\": [\n    {\n      \"column\": \"age\",\n      \"properties\": {\n        \"dtype\": \"number\",\n        \"std\": 212.388612096364,\n        \"min\": 0.75,\n        \"max\": 627.0,\n        \"num_unique_values\": 8,\n        \"samples\": [\n          29.631307814992027,\n          28.0,\n          627.0\n        ],\n        \"semantic_type\": \"\",\n        \"description\": \"\"\n      }\n    },\n    {\n      \"column\": \"n_siblings_spouses\",\n      \"properties\": {\n        \"dtype\": \"number\",\n        \"std\": 221.15395808171547,\n        \"min\": 0.0,\n        \"max\": 627.0,\n        \"num_unique_values\": 6,\n        \"samples\": [\n          627.0,\n          0.5454545454545454,\n          8.0\n        ],\n        \"semantic_type\": \"\",\n        \"description\": \"\"\n      }\n    },\n    {\n      \"column\": \"parch\",\n      \"properties\": {\n        \"dtype\": \"number\",\n        \"std\": 221.37277310526898,\n        \"min\": 0.0,\n        \"max\": 627.0,\n        \"num_unique_values\": 5,\n        \"samples\": [\n          0.379585326953748,\n          5.0,\n          0.7929992125432784\n        ],\n        \"semantic_type\": \"\",\n        \"description\": \"\"\n      }\n    },\n    {\n      \"column\": \"fare\",\n      \"properties\": {\n        \"dtype\": \"number\",\n        \"std\": 255.06336536251808,\n        \"min\": 0.0,\n        \"max\": 627.0,\n        \"num_unique_values\": 8,\n        \"samples\": [\n          34.38539856459331,\n          15.0458,\n          627.0\n        ],\n        \"semantic_type\": \"\",\n        \"description\": \"\"\n      }\n    }\n  ]\n}"
            }
          },
          "metadata": {},
          "execution_count": 22
        }
      ],
      "source": [
        "#Describe the dataset\n",
        "dftrain.describe()"
      ]
    },
    {
      "cell_type": "code",
      "execution_count": null,
      "metadata": {
        "id": "K6wnNyjhONBa",
        "colab": {
          "base_uri": "https://localhost:8080/"
        },
        "outputId": "7e16275b-7a03-4873-cdbc-082bf5e92e90"
      },
      "outputs": [
        {
          "output_type": "execute_result",
          "data": {
            "text/plain": [
              "(627, 9)"
            ]
          },
          "metadata": {},
          "execution_count": 23
        }
      ],
      "source": [
        "dftrain.shape"
      ]
    },
    {
      "cell_type": "markdown",
      "metadata": {
        "id": "ZsJ9QQt6O_sS"
      },
      "source": [
        "We have 627 rows and 9 attributes"
      ]
    },
    {
      "cell_type": "code",
      "execution_count": null,
      "metadata": {
        "id": "ggaeMabwPSSY",
        "colab": {
          "base_uri": "https://localhost:8080/",
          "height": 241
        },
        "outputId": "72fbb364-9a95-440f-9657-f18a19c1fe49"
      },
      "outputs": [
        {
          "output_type": "execute_result",
          "data": {
            "text/plain": [
              "0    0\n",
              "1    1\n",
              "2    1\n",
              "3    1\n",
              "4    0\n",
              "Name: survived, dtype: int64"
            ],
            "text/html": [
              "<div>\n",
              "<style scoped>\n",
              "    .dataframe tbody tr th:only-of-type {\n",
              "        vertical-align: middle;\n",
              "    }\n",
              "\n",
              "    .dataframe tbody tr th {\n",
              "        vertical-align: top;\n",
              "    }\n",
              "\n",
              "    .dataframe thead th {\n",
              "        text-align: right;\n",
              "    }\n",
              "</style>\n",
              "<table border=\"1\" class=\"dataframe\">\n",
              "  <thead>\n",
              "    <tr style=\"text-align: right;\">\n",
              "      <th></th>\n",
              "      <th>survived</th>\n",
              "    </tr>\n",
              "  </thead>\n",
              "  <tbody>\n",
              "    <tr>\n",
              "      <th>0</th>\n",
              "      <td>0</td>\n",
              "    </tr>\n",
              "    <tr>\n",
              "      <th>1</th>\n",
              "      <td>1</td>\n",
              "    </tr>\n",
              "    <tr>\n",
              "      <th>2</th>\n",
              "      <td>1</td>\n",
              "    </tr>\n",
              "    <tr>\n",
              "      <th>3</th>\n",
              "      <td>1</td>\n",
              "    </tr>\n",
              "    <tr>\n",
              "      <th>4</th>\n",
              "      <td>0</td>\n",
              "    </tr>\n",
              "  </tbody>\n",
              "</table>\n",
              "</div><br><label><b>dtype:</b> int64</label>"
            ]
          },
          "metadata": {},
          "execution_count": 24
        }
      ],
      "source": [
        "y_train.head()"
      ]
    },
    {
      "cell_type": "markdown",
      "metadata": {
        "id": "zl39_PLWPYbx"
      },
      "source": [
        "**Lets generate graphs of the data**"
      ]
    },
    {
      "cell_type": "code",
      "execution_count": null,
      "metadata": {
        "id": "PiholzlNPX9N",
        "colab": {
          "base_uri": "https://localhost:8080/",
          "height": 448
        },
        "outputId": "9edc25e6-75e1-4df9-8c40-b05554ba7460"
      },
      "outputs": [
        {
          "output_type": "execute_result",
          "data": {
            "text/plain": [
              "<Axes: >"
            ]
          },
          "metadata": {},
          "execution_count": 25
        },
        {
          "output_type": "display_data",
          "data": {
            "text/plain": [
              "<Figure size 640x480 with 1 Axes>"
            ],
            "image/png": "[encoded data removed]"
          },
          "metadata": {}
        }
      ],
      "source": [
        "dftrain.age.hist()"
      ]
    },
    {
      "cell_type": "code",
      "execution_count": null,
      "metadata": {
        "id": "YxgwAVHsQVqE",
        "colab": {
          "base_uri": "https://localhost:8080/",
          "height": 448
        },
        "outputId": "756a7b49-d4d4-4ff3-b68d-b2d791b58179"
      },
      "outputs": [
        {
          "output_type": "execute_result",
          "data": {
            "text/plain": [
              "<Axes: ylabel='sex'>"
            ]
          },
          "metadata": {},
          "execution_count": 26
        },
        {
          "output_type": "display_data",
          "data": {
            "text/plain": [
              "<Figure size 640x480 with 1 Axes>"
            ],
            "image/png": "[encoded data removed]"
          },
          "metadata": {}
        }
      ],
      "source": [
        "dftrain.sex.value_counts().plot(kind='barh')\n"
      ]
    },
    {
      "cell_type": "code",
      "execution_count": null,
      "metadata": {
        "id": "QDfq-UYUQvCI",
        "colab": {
          "base_uri": "https://localhost:8080/",
          "height": 448
        },
        "outputId": "2c9bef85-3b16-4706-fcaf-607eb63ec988"
      },
      "outputs": [
        {
          "output_type": "execute_result",
          "data": {
            "text/plain": [
              "<Axes: ylabel='class'>"
            ]
          },
          "metadata": {},
          "execution_count": 27
        },
        {
          "output_type": "display_data",
          "data": {
            "text/plain": [
              "<Figure size 640x480 with 1 Axes>"
            ],
            "image/png": "[encoded data removed]"
          },
          "metadata": {}
        }
      ],
      "source": [
        "dftrain['class'].value_counts().plot(kind='barh')"
      ]
    },
    {
      "cell_type": "code",
      "execution_count": null,
      "metadata": {
        "id": "2VyrH6NeUcNh",
        "colab": {
          "base_uri": "https://localhost:8080/",
          "height": 467
        },
        "outputId": "a0ba2c78-66e3-4fe9-e012-3711469b641f"
      },
      "outputs": [
        {
          "output_type": "execute_result",
          "data": {
            "text/plain": [
              "Text(0.5, 0, '% survive')"
            ]
          },
          "metadata": {},
          "execution_count": 28
        },
        {
          "output_type": "display_data",
          "data": {
            "text/plain": [
              "<Figure size 640x480 with 1 Axes>"
            ],
            "image/png": "[encoded data removed]"
          },
          "metadata": {}
        }
      ],
      "source": [
        "pd.concat([dftrain, y_train], axis=1).groupby('sex').survived.mean().plot(kind='barh').set_xlabel('% survive')"
      ]
    },
    {
      "cell_type": "markdown",
      "metadata": {
        "id": "VCecipiMVqlr"
      },
      "source": [
        "**After analyzing this information we notice the following:**\n",
        "\n",
        "\n",
        "*   The majority of passengers are in their 20's or 30's\n",
        "*   The majority of pasengers are male\n",
        "*   The majority of pasengers are in 'Third' class\n",
        "*   Females have much higher chances of survival\n"
      ]
    },
    {
      "cell_type": "markdown",
      "metadata": {
        "id": "uQuu_OH1WX1_"
      },
      "source": [
        "##**Training vs Testing data**\n",
        "\n",
        "*   The training data is fed is fed to the model so that it can develop and learn.\n",
        "*   The testing data is used to evaluate the model and see how well it is performing.\n",
        "\n",
        "\n",
        "\n"
      ]
    },
    {
      "cell_type": "markdown",
      "source": [
        "####**Feed Forward Networkk**"
      ],
      "metadata": {
        "id": "a_NCRuGAO44z"
      }
    },
    {
      "cell_type": "code",
      "source": [
        "from tensorflow.keras.layers import Normalization, StringLookup, CategoryEncoding\n",
        "\n",
        "def preprocess_data(data_df):\n",
        "    inputs = {}\n",
        "    for name, column in data_df.items():\n",
        "        dtype = column.dtype\n",
        "        if dtype == 'object' or dtype.name == 'category':  # Categorical data\n",
        "            inputs[name] = tf.keras.Input(shape=(1,), name=name, dtype='string')\n",
        "        else:  # Numeric data\n",
        "            inputs[name] = tf.keras.Input(shape=(1,), name=name, dtype='float32')\n",
        "\n",
        "    return inputs\n",
        "\n",
        "\n",
        "def encode_categorical(inputs, data):\n",
        "    encoded_features = []\n",
        "\n",
        "    for name, input in inputs.items():\n",
        "        if data[name].dtype == 'object' or data[name].dtype.name == 'category':\n",
        "            lookup = StringLookup(output_mode='one_hot')\n",
        "            # Adapt the StringLookup layer to the training data\n",
        "            lookup.adapt(data[name])##Adapt for categorical values\n",
        "            encoded = lookup(input)\n",
        "            encoded_features.append(encoded)\n",
        "        else:\n",
        "            normalization = Normalization()\n",
        "            ##normalization.adapt(data[name].values)##Adapt for numerical values\n",
        "            encoded = normalization(input)\n",
        "            encoded_features.append(encoded)\n",
        "\n",
        "    return encoded_features\n",
        "\n",
        "\n",
        "inputs = preprocess_data(dftrain)\n",
        "encoded_features = encode_categorical(inputs, dftrain)\n",
        "\n",
        "# Concatenate all encoded features\n",
        "concatenated_inputs = tf.keras.layers.concatenate(encoded_features)\n",
        "\n",
        "# Define the rest of the model\n",
        "x = tf.keras.layers.Dense(10, activation='relu')(concatenated_inputs)\n",
        "output = tf.keras.layers.Dense(1, activation='sigmoid')(x)\n",
        "\n",
        "model = tf.keras.Model(inputs=inputs, outputs=output)\n",
        "\n",
        "model.compile(optimizer='adam', loss='binary_crossentropy', metrics=['accuracy'])\n",
        "\n",
        "\n",
        "def df_to_dataset(data_df, label_df, shuffle=False, batch_size=32):\n",
        "    ds = tf.data.Dataset.from_tensor_slices((dict(data_df), label_df))\n",
        "    if shuffle:\n",
        "        ds = ds.shuffle(1000)\n",
        "    ds = ds.batch(batch_size)\n",
        "    return ds\n",
        "\n",
        "\n",
        "train_dataset = df_to_dataset(dftrain, y_train)\n",
        "eval_dataset = df_to_dataset(dfeval, y_eval, shuffle=False)\n",
        "\n",
        "# Train the model\n",
        "model.fit(train_dataset, epochs=10)\n",
        "\n",
        "# Evaluate the model\n",
        "result = model.evaluate(eval_dataset)\n",
        "# Print accuracy\n",
        "print(f\"Accuracy: {result[1]}\")"
      ],
      "metadata": {
        "colab": {
          "base_uri": "https://localhost:8080/"
        },
        "id": "F6RCOSWRil3e",
        "outputId": "6a03d1cb-9a79-40d2-805b-43318c19338c"
      },
      "execution_count": null,
      "outputs": [
        {
          "output_type": "stream",
          "name": "stdout",
          "text": [
            "Epoch 1/10\n",
            "\u001b[1m20/20\u001b[0m \u001b[32m━━━━━━━━━━━━━━━━━━━━\u001b[0m\u001b[37m\u001b[0m \u001b[1m8s\u001b[0m 8ms/step - accuracy: 0.6301 - loss: 2.4665\n",
            "Epoch 2/10\n",
            "\u001b[1m20/20\u001b[0m \u001b[32m━━━━━━━━━━━━━━━━━━━━\u001b[0m\u001b[37m\u001b[0m \u001b[1m0s\u001b[0m 8ms/step - accuracy: 0.6408 - loss: 1.9884\n",
            "Epoch 3/10\n",
            "\u001b[1m20/20\u001b[0m \u001b[32m━━━━━━━━━━━━━━━━━━━━\u001b[0m\u001b[37m\u001b[0m \u001b[1m0s\u001b[0m 5ms/step - accuracy: 0.6665 - loss: 1.6382\n",
            "Epoch 4/10\n",
            "\u001b[1m20/20\u001b[0m \u001b[32m━━━━━━━━━━━━━━━━━━━━\u001b[0m\u001b[37m\u001b[0m \u001b[1m0s\u001b[0m 5ms/step - accuracy: 0.6628 - loss: 1.3516\n",
            "Epoch 5/10\n",
            "\u001b[1m20/20\u001b[0m \u001b[32m━━━━━━━━━━━━━━━━━━━━\u001b[0m\u001b[37m\u001b[0m \u001b[1m0s\u001b[0m 6ms/step - accuracy: 0.6485 - loss: 1.1201\n",
            "Epoch 6/10\n",
            "\u001b[1m20/20\u001b[0m \u001b[32m━━━━━━━━━━━━━━━━━━━━\u001b[0m\u001b[37m\u001b[0m \u001b[1m0s\u001b[0m 7ms/step - accuracy: 0.6609 - loss: 0.9242\n",
            "Epoch 7/10\n",
            "\u001b[1m20/20\u001b[0m \u001b[32m━━━━━━━━━━━━━━━━━━━━\u001b[0m\u001b[37m\u001b[0m \u001b[1m0s\u001b[0m 5ms/step - accuracy: 0.6578 - loss: 0.7786\n",
            "Epoch 8/10\n",
            "\u001b[1m20/20\u001b[0m \u001b[32m━━━━━━━━━━━━━━━━━━━━\u001b[0m\u001b[37m\u001b[0m \u001b[1m0s\u001b[0m 7ms/step - accuracy: 0.6531 - loss: 0.6782\n",
            "Epoch 9/10\n",
            "\u001b[1m20/20\u001b[0m \u001b[32m━━━━━━━━━━━━━━━━━━━━\u001b[0m\u001b[37m\u001b[0m \u001b[1m0s\u001b[0m 6ms/step - accuracy: 0.6513 - loss: 0.6124\n",
            "Epoch 10/10\n",
            "\u001b[1m20/20\u001b[0m \u001b[32m━━━━━━━━━━━━━━━━━━━━\u001b[0m\u001b[37m\u001b[0m \u001b[1m0s\u001b[0m 12ms/step - accuracy: 0.6876 - loss: 0.5802\n",
            "\u001b[1m9/9\u001b[0m \u001b[32m━━━━━━━━━━━━━━━━━━━━\u001b[0m\u001b[37m\u001b[0m \u001b[1m1s\u001b[0m 10ms/step - accuracy: 0.7062 - loss: 0.5807\n",
            "Accuracy: 0.7348484992980957\n"
          ]
        }
      ]
    },
    {
      "cell_type": "markdown",
      "source": [
        "####**Feed Forward Network**"
      ],
      "metadata": {
        "id": "XAthR2WhPGlz"
      }
    },
    {
      "cell_type": "code",
      "source": [
        "import tensorflow as tf\n",
        "from tensorflow.keras import layers\n",
        "\n",
        "# Define preprocessing layers for categorical and numeric columns\n",
        "def get_preprocessing_layers(categorical_columns, numeric_columns):\n",
        "    preprocessing_layers = {}\n",
        "\n",
        "    # Add one-hot encoding for categorical columns\n",
        "    for feature_name in categorical_columns:\n",
        "        vocab = dftrain[feature_name].unique().astype(str)  # Ensure values are strings\n",
        "        cat_layer = layers.StringLookup(vocabulary=vocab, output_mode='one_hot', name=f'cat_{feature_name}')\n",
        "        preprocessing_layers[feature_name] = cat_layer\n",
        "\n",
        "    # Add normalization for numeric columns\n",
        "    for feature_name in numeric_columns:\n",
        "        num_layer = layers.Normalization(name=f'num_{feature_name}')\n",
        "        ##num_layer.adapt(dftrain[feature_name].values)  # Normalize based on the training data\n",
        "        preprocessing_layers[feature_name] = num_layer\n",
        "\n",
        "    return preprocessing_layers\n",
        "\n",
        "# Define columns\n",
        "categorical_columns = ['sex', 'n_siblings_spouses', 'parch', 'class', 'deck', 'embark_town', 'alone']\n",
        "numeric_columns = ['age', 'fare']\n",
        "# Ensure numeric columns are correctly typed and handled\n",
        "dftrain[numeric_columns] = dftrain[numeric_columns].apply(pd.to_numeric, errors='coerce')\n",
        "# Create preprocessing layers for all features\n",
        "preprocessing_layers = get_preprocessing_layers(categorical_columns, numeric_columns)\n",
        "\n",
        "# Define inputs for all features\n",
        "inputs = {\n",
        "    col: layers.Input(shape=(1,), name=col, dtype=tf.string if col in categorical_columns else tf.float32)\n",
        "    for col in categorical_columns + numeric_columns\n",
        "}\n",
        "\n",
        "# Apply preprocessing to inputs\n",
        "preprocessed_inputs = [\n",
        "    preprocessing_layers[col](inputs[col]) for col in categorical_columns + numeric_columns\n",
        "]\n",
        "\n",
        "# Concatenate preprocessed inputs\n",
        "concatenated_inputs = layers.Concatenate()(preprocessed_inputs)\n",
        "\n",
        "# Build the model using the functional API\n",
        "x = layers.Dense(10, activation='relu')(concatenated_inputs)\n",
        "output = layers.Dense(1, activation='sigmoid')(x)\n",
        "model = tf.keras.Model(inputs=inputs, outputs=output)\n",
        "\n",
        "model.compile(optimizer='adam', loss='binary_crossentropy', metrics=['accuracy'])\n",
        "\n",
        "# Convert dftrain and dfeval to tf.data.Dataset\n",
        "def df_to_dataset(data_df, label_df, shuffle=True, batch_size=32):\n",
        "    # Convert dataframe to dictionary with string values\n",
        "    data = {key: data_df[key].astype(str).values for key in categorical_columns}\n",
        "    for key in numeric_columns:\n",
        "        data[key] = data_df[key].values.astype(float)  # Ensure numeric data is float\n",
        "    ds = tf.data.Dataset.from_tensor_slices((data, label_df))\n",
        "    if shuffle:\n",
        "        ds = ds.shuffle(buffer_size=len(data_df))\n",
        "    ds = ds.batch(batch_size)\n",
        "    return ds\n",
        "\n",
        "# Create train and evaluation datasets\n",
        "train_dataset = df_to_dataset(dftrain, y_train)\n",
        "eval_dataset = df_to_dataset(dfeval, y_eval, shuffle=False)\n",
        "\n",
        "# Train the model\n",
        "model.fit(train_dataset, epochs=10)\n",
        "\n",
        "# Evaluate the model\n",
        "result = model.evaluate(eval_dataset)\n",
        "\n",
        "# Print accuracy\n",
        "print(f\"Accuracy: {result[1]}\")\n"
      ],
      "metadata": {
        "colab": {
          "base_uri": "https://localhost:8080/"
        },
        "id": "JhGGMqavzhyM",
        "outputId": "c4529708-81e3-4542-afff-4e5224f01718"
      },
      "execution_count": null,
      "outputs": [
        {
          "output_type": "stream",
          "name": "stdout",
          "text": [
            "Epoch 1/10\n",
            "\u001b[1m20/20\u001b[0m \u001b[32m━━━━━━━━━━━━━━━━━━━━\u001b[0m\u001b[37m\u001b[0m \u001b[1m6s\u001b[0m 14ms/step - accuracy: 0.6141 - loss: 8.1509\n",
            "Epoch 2/10\n",
            "\u001b[1m20/20\u001b[0m \u001b[32m━━━━━━━━━━━━━━━━━━━━\u001b[0m\u001b[37m\u001b[0m \u001b[1m1s\u001b[0m 10ms/step - accuracy: 0.6113 - loss: 5.8946\n",
            "Epoch 3/10\n",
            "\u001b[1m20/20\u001b[0m \u001b[32m━━━━━━━━━━━━━━━━━━━━\u001b[0m\u001b[37m\u001b[0m \u001b[1m0s\u001b[0m 9ms/step - accuracy: 0.6296 - loss: 4.1108\n",
            "Epoch 4/10\n",
            "\u001b[1m20/20\u001b[0m \u001b[32m━━━━━━━━━━━━━━━━━━━━\u001b[0m\u001b[37m\u001b[0m \u001b[1m0s\u001b[0m 11ms/step - accuracy: 0.6511 - loss: 2.8538\n",
            "Epoch 5/10\n",
            "\u001b[1m20/20\u001b[0m \u001b[32m━━━━━━━━━━━━━━━━━━━━\u001b[0m\u001b[37m\u001b[0m \u001b[1m0s\u001b[0m 8ms/step - accuracy: 0.5874 - loss: 1.5074 \n",
            "Epoch 6/10\n",
            "\u001b[1m20/20\u001b[0m \u001b[32m━━━━━━━━━━━━━━━━━━━━\u001b[0m\u001b[37m\u001b[0m \u001b[1m0s\u001b[0m 8ms/step - accuracy: 0.4994 - loss: 1.1708\n",
            "Epoch 7/10\n",
            "\u001b[1m20/20\u001b[0m \u001b[32m━━━━━━━━━━━━━━━━━━━━\u001b[0m\u001b[37m\u001b[0m \u001b[1m0s\u001b[0m 11ms/step - accuracy: 0.5710 - loss: 0.9228\n",
            "Epoch 8/10\n",
            "\u001b[1m20/20\u001b[0m \u001b[32m━━━━━━━━━━━━━━━━━━━━\u001b[0m\u001b[37m\u001b[0m \u001b[1m0s\u001b[0m 16ms/step - accuracy: 0.5957 - loss: 0.7356\n",
            "Epoch 9/10\n",
            "\u001b[1m20/20\u001b[0m \u001b[32m━━━━━━━━━━━━━━━━━━━━\u001b[0m\u001b[37m\u001b[0m \u001b[1m0s\u001b[0m 9ms/step - accuracy: 0.6570 - loss: 0.6695\n",
            "Epoch 10/10\n",
            "\u001b[1m20/20\u001b[0m \u001b[32m━━━━━━━━━━━━━━━━━━━━\u001b[0m\u001b[37m\u001b[0m \u001b[1m0s\u001b[0m 7ms/step - accuracy: 0.6571 - loss: 0.6685\n",
            "\u001b[1m9/9\u001b[0m \u001b[32m━━━━━━━━━━━━━━━━━━━━\u001b[0m\u001b[37m\u001b[0m \u001b[1m1s\u001b[0m 6ms/step - accuracy: 0.6362 - loss: 0.7181\n",
            "Accuracy: 0.6780303120613098\n"
          ]
        }
      ]
    },
    {
      "cell_type": "markdown",
      "source": [
        "#####**LSTM Model**"
      ],
      "metadata": {
        "id": "-KOD4BE5PSBR"
      }
    },
    {
      "cell_type": "code",
      "source": [
        "import tensorflow as tf\n",
        "from tensorflow.keras import layers\n",
        "\n",
        "# Define preprocessing layers for categorical and numeric columns\n",
        "def get_preprocessing_layers(categorical_columns, numeric_columns):\n",
        "    preprocessing_layers = {}\n",
        "\n",
        "    # Add one-hot encoding for categorical columns\n",
        "    for feature_name in categorical_columns:\n",
        "        vocab = dftrain[feature_name].unique().astype(str)  # Ensure values are strings\n",
        "        cat_layer = layers.StringLookup(vocabulary=vocab, output_mode='one_hot', name=f'cat_{feature_name}')\n",
        "        preprocessing_layers[feature_name] = cat_layer\n",
        "\n",
        "    # Add normalization for numeric columns\n",
        "    for feature_name in numeric_columns:\n",
        "        num_layer = layers.Normalization(name=f'num_{feature_name}')\n",
        "        preprocessing_layers[feature_name] = num_layer\n",
        "\n",
        "    return preprocessing_layers\n",
        "\n",
        "# Define columns\n",
        "categorical_columns = ['sex', 'n_siblings_spouses', 'parch', 'class', 'deck', 'embark_town', 'alone']\n",
        "numeric_columns = ['age', 'fare']\n",
        "\n",
        "# Ensure numeric columns are correctly typed and handled\n",
        "dftrain[numeric_columns] = dftrain[numeric_columns].apply(pd.to_numeric, errors='coerce')\n",
        "\n",
        "# Create preprocessing layers for all features\n",
        "preprocessing_layers = get_preprocessing_layers(categorical_columns, numeric_columns)\n",
        "\n",
        "# Define inputs for all features\n",
        "inputs = {\n",
        "    col: layers.Input(shape=(1,), name=col, dtype=tf.string if col in categorical_columns else tf.float32)\n",
        "    for col in categorical_columns + numeric_columns\n",
        "}\n",
        "\n",
        "# Apply preprocessing to inputs\n",
        "preprocessed_inputs = [\n",
        "    preprocessing_layers[col](inputs[col]) for col in categorical_columns + numeric_columns\n",
        "]\n",
        "\n",
        "# Concatenate preprocessed inputs\n",
        "concatenated_inputs = layers.Concatenate()(preprocessed_inputs)\n",
        "\n",
        "# Reshape the concatenated inputs to make them compatible with RNN layers (sequence length = 1)\n",
        "reshaped_inputs = layers.Reshape((1, concatenated_inputs.shape[-1]))(concatenated_inputs)\n",
        "\n",
        "# Build the RNN model using an LSTM (you can also use SimpleRNN or GRU)\n",
        "x = layers.LSTM(10)(reshaped_inputs)  # LSTM layer with 10 units\n",
        "output = layers.Dense(1, activation='sigmoid')(x)\n",
        "\n",
        "# Create the model\n",
        "model = tf.keras.Model(inputs=inputs, outputs=output)\n",
        "\n",
        "# Compile the model\n",
        "model.compile(optimizer='adam', loss='binary_crossentropy', metrics=['accuracy'])\n",
        "\n",
        "# Convert dftrain and dfeval to tf.data.Dataset\n",
        "def df_to_dataset(data_df, label_df, shuffle=True, batch_size=32):\n",
        "    data = {key: data_df[key].astype(str).values for key in categorical_columns}\n",
        "    for key in numeric_columns:\n",
        "        data[key] = data_df[key].values.astype(float)  # Ensure numeric data is float\n",
        "    ds = tf.data.Dataset.from_tensor_slices((data, label_df))\n",
        "    if shuffle:\n",
        "        ds = ds.shuffle(buffer_size=len(data_df))\n",
        "    ds = ds.batch(batch_size)\n",
        "    return ds\n",
        "\n",
        "# Create train and evaluation datasets\n",
        "train_dataset = df_to_dataset(dftrain, y_train)\n",
        "eval_dataset = df_to_dataset(dfeval, y_eval, shuffle=False)\n",
        "\n",
        "# Train the model\n",
        "model.fit(train_dataset, epochs=10)\n",
        "\n",
        "# Evaluate the model\n",
        "result = model.evaluate(eval_dataset)\n",
        "\n",
        "# Print accuracy\n",
        "print(f\"Accuracy: {result[1]}\")\n"
      ],
      "metadata": {
        "colab": {
          "base_uri": "https://localhost:8080/"
        },
        "id": "uq_nZ0MadjA9",
        "outputId": "8f065066-2601-4e4a-967c-a3c9db940ee0"
      },
      "execution_count": null,
      "outputs": [
        {
          "output_type": "stream",
          "name": "stdout",
          "text": [
            "Epoch 1/10\n",
            "\u001b[1m20/20\u001b[0m \u001b[32m━━━━━━━━━━━━━━━━━━━━\u001b[0m\u001b[37m\u001b[0m \u001b[1m12s\u001b[0m 5ms/step - accuracy: 0.6085 - loss: 0.6783\n",
            "Epoch 2/10\n",
            "\u001b[1m20/20\u001b[0m \u001b[32m━━━━━━━━━━━━━━━━━━━━\u001b[0m\u001b[37m\u001b[0m \u001b[1m0s\u001b[0m 5ms/step - accuracy: 0.6254 - loss: 0.6513\n",
            "Epoch 3/10\n",
            "\u001b[1m20/20\u001b[0m \u001b[32m━━━━━━━━━━━━━━━━━━━━\u001b[0m\u001b[37m\u001b[0m \u001b[1m0s\u001b[0m 5ms/step - accuracy: 0.6223 - loss: 0.6421\n",
            "Epoch 4/10\n",
            "\u001b[1m20/20\u001b[0m \u001b[32m━━━━━━━━━━━━━━━━━━━━\u001b[0m\u001b[37m\u001b[0m \u001b[1m0s\u001b[0m 5ms/step - accuracy: 0.6261 - loss: 0.6331\n",
            "Epoch 5/10\n",
            "\u001b[1m20/20\u001b[0m \u001b[32m━━━━━━━━━━━━━━━━━━━━\u001b[0m\u001b[37m\u001b[0m \u001b[1m0s\u001b[0m 5ms/step - accuracy: 0.6795 - loss: 0.6077\n",
            "Epoch 6/10\n",
            "\u001b[1m20/20\u001b[0m \u001b[32m━━━━━━━━━━━━━━━━━━━━\u001b[0m\u001b[37m\u001b[0m \u001b[1m0s\u001b[0m 5ms/step - accuracy: 0.6739 - loss: 0.5976\n",
            "Epoch 7/10\n",
            "\u001b[1m20/20\u001b[0m \u001b[32m━━━━━━━━━━━━━━━━━━━━\u001b[0m\u001b[37m\u001b[0m \u001b[1m0s\u001b[0m 5ms/step - accuracy: 0.6827 - loss: 0.5967\n",
            "Epoch 8/10\n",
            "\u001b[1m20/20\u001b[0m \u001b[32m━━━━━━━━━━━━━━━━━━━━\u001b[0m\u001b[37m\u001b[0m \u001b[1m0s\u001b[0m 5ms/step - accuracy: 0.6833 - loss: 0.5997\n",
            "Epoch 9/10\n",
            "\u001b[1m20/20\u001b[0m \u001b[32m━━━━━━━━━━━━━━━━━━━━\u001b[0m\u001b[37m\u001b[0m \u001b[1m0s\u001b[0m 5ms/step - accuracy: 0.6824 - loss: 0.5868\n",
            "Epoch 10/10\n",
            "\u001b[1m20/20\u001b[0m \u001b[32m━━━━━━━━━━━━━━━━━━━━\u001b[0m\u001b[37m\u001b[0m \u001b[1m0s\u001b[0m 5ms/step - accuracy: 0.6786 - loss: 0.5893\n",
            "\u001b[1m9/9\u001b[0m \u001b[32m━━━━━━━━━━━━━━━━━━━━\u001b[0m\u001b[37m\u001b[0m \u001b[1m1s\u001b[0m 4ms/step - accuracy: 0.6370 - loss: 0.6229  \n",
            "Accuracy: 0.7045454382896423\n"
          ]
        }
      ]
    },
    {
      "cell_type": "markdown",
      "source": [
        "####**Linear Model**"
      ],
      "metadata": {
        "id": "TLNANBgqQwn6"
      }
    },
    {
      "cell_type": "code",
      "source": [
        "from tensorflow.keras.layers import Normalization, StringLookup, CategoryEncoding\n",
        "\n",
        "def preprocess_data(data_df):\n",
        "    inputs = {}\n",
        "    for name, column in data_df.items():\n",
        "        dtype = column.dtype\n",
        "        if dtype == 'object' or dtype.name == 'category':  # Categorical data\n",
        "            inputs[name] = tf.keras.Input(shape=(1,), name=name, dtype='string')\n",
        "        else:  # Numeric data\n",
        "            inputs[name] = tf.keras.Input(shape=(1,), name=name, dtype='float32')\n",
        "\n",
        "    return inputs\n",
        "\n",
        "\n",
        "def encode_categorical(inputs, data):\n",
        "    encoded_features = []\n",
        "\n",
        "    for name, input in inputs.items():\n",
        "        if data[name].dtype == 'object' or data[name].dtype.name == 'category':\n",
        "            lookup = StringLookup(output_mode='one_hot')\n",
        "            # Adapt the StringLookup layer to the training data\n",
        "            lookup.adapt(data[name])##Adapt for categorical values\n",
        "            encoded = lookup(input)\n",
        "            encoded_features.append(encoded)\n",
        "        else:\n",
        "            normalization = Normalization()\n",
        "            ##normalization.adapt(data[name].values)##Adapt for numerical values\n",
        "            encoded = normalization(input)\n",
        "            encoded_features.append(encoded)\n",
        "\n",
        "    return encoded_features\n",
        "\n",
        "\n",
        "inputs = preprocess_data(dftrain)\n",
        "encoded_features = encode_categorical(inputs, dftrain)\n",
        "\n",
        "# Concatenate all encoded features\n",
        "concatenated_inputs = tf.keras.layers.concatenate(encoded_features)\n",
        "\n",
        "# Define the rest of the model\n",
        "output = tf.keras.layers.Dense(1, activation='linear')(concatenated_inputs)\n",
        "\n",
        "model = tf.keras.Model(inputs=inputs, outputs=output)\n",
        "\n",
        "model.compile(optimizer='adam', loss='mean_squared_error', metrics=['mae'])\n",
        "\n",
        "\n",
        "def df_to_dataset(data_df, label_df, shuffle=False, batch_size=32):\n",
        "    ds = tf.data.Dataset.from_tensor_slices((dict(data_df), label_df))\n",
        "    if shuffle:\n",
        "        ds = ds.shuffle(1000)\n",
        "    ds = ds.batch(batch_size)\n",
        "    return ds\n",
        "\n",
        "\n",
        "train_dataset = df_to_dataset(dftrain, y_train)\n",
        "eval_dataset = df_to_dataset(dfeval, y_eval, shuffle=False)\n",
        "\n",
        "# Train the model\n",
        "model.fit(train_dataset, epochs=10)\n",
        "\n",
        "# Evaluate the model\n",
        "result = model.evaluate(eval_dataset)\n",
        "# Print accuracy\n",
        "print(f\"Accuracy: {result[1]}\")"
      ],
      "metadata": {
        "colab": {
          "base_uri": "https://localhost:8080/"
        },
        "id": "5wNNvv6MQwBy",
        "outputId": "dfe3eaa1-4630-4845-db85-610fe09842cf"
      },
      "execution_count": null,
      "outputs": [
        {
          "output_type": "stream",
          "name": "stdout",
          "text": [
            "Epoch 1/10\n",
            "\u001b[1m20/20\u001b[0m \u001b[32m━━━━━━━━━━━━━━━━━━━━\u001b[0m\u001b[37m\u001b[0m \u001b[1m1s\u001b[0m 3ms/step - loss: 220.9991 - mae: 8.6271\n",
            "Epoch 2/10\n",
            "\u001b[1m20/20\u001b[0m \u001b[32m━━━━━━━━━━━━━━━━━━━━\u001b[0m\u001b[37m\u001b[0m \u001b[1m0s\u001b[0m 3ms/step - loss: 180.7431 - mae: 7.3868 \n",
            "Epoch 3/10\n",
            "\u001b[1m20/20\u001b[0m \u001b[32m━━━━━━━━━━━━━━━━━━━━\u001b[0m\u001b[37m\u001b[0m \u001b[1m0s\u001b[0m 3ms/step - loss: 148.3572 - mae: 6.2885\n",
            "Epoch 4/10\n",
            "\u001b[1m20/20\u001b[0m \u001b[32m━━━━━━━━━━━━━━━━━━━━\u001b[0m\u001b[37m\u001b[0m \u001b[1m0s\u001b[0m 3ms/step - loss: 121.7064 - mae: 5.3728\n",
            "Epoch 5/10\n",
            "\u001b[1m20/20\u001b[0m \u001b[32m━━━━━━━━━━━━━━━━━━━━\u001b[0m\u001b[37m\u001b[0m \u001b[1m0s\u001b[0m 4ms/step - loss: 99.9796 - mae: 4.6688\n",
            "Epoch 6/10\n",
            "\u001b[1m20/20\u001b[0m \u001b[32m━━━━━━━━━━━━━━━━━━━━\u001b[0m\u001b[37m\u001b[0m \u001b[1m0s\u001b[0m 3ms/step - loss: 82.4139 - mae: 4.1837 \n",
            "Epoch 7/10\n",
            "\u001b[1m20/20\u001b[0m \u001b[32m━━━━━━━━━━━━━━━━━━━━\u001b[0m\u001b[37m\u001b[0m \u001b[1m0s\u001b[0m 3ms/step - loss: 68.3032 - mae: 3.8764 \n",
            "Epoch 8/10\n",
            "\u001b[1m20/20\u001b[0m \u001b[32m━━━━━━━━━━━━━━━━━━━━\u001b[0m\u001b[37m\u001b[0m \u001b[1m0s\u001b[0m 3ms/step - loss: 57.0080 - mae: 3.6671\n",
            "Epoch 9/10\n",
            "\u001b[1m20/20\u001b[0m \u001b[32m━━━━━━━━━━━━━━━━━━━━\u001b[0m\u001b[37m\u001b[0m \u001b[1m0s\u001b[0m 3ms/step - loss: 47.9637 - mae: 3.4973\n",
            "Epoch 10/10\n",
            "\u001b[1m20/20\u001b[0m \u001b[32m━━━━━━━━━━━━━━━━━━━━\u001b[0m\u001b[37m\u001b[0m \u001b[1m0s\u001b[0m 3ms/step - loss: 40.6876 - mae: 3.3567\n",
            "\u001b[1m9/9\u001b[0m \u001b[32m━━━━━━━━━━━━━━━━━━━━\u001b[0m\u001b[37m\u001b[0m \u001b[1m0s\u001b[0m 3ms/step - loss: 16.0281 - mae: 2.6378 \n",
            "Accuracy: 2.7206480503082275\n"
          ]
        }
      ]
    },
    {
      "cell_type": "markdown",
      "metadata": {
        "id": "tRzf9GHqXvie"
      },
      "source": [
        "**The Training Process**\n",
        "\n",
        "This explains how input data is fed to our model.\n",
        "For this model, data is going to be streamed in small `batches` of 32. The batches are fed multiple times according to the number of epochs.\n",
        "\n",
        "An `epoch` is one stream of the entire dataset. The number of epochs we define is the amount iof time we will see the entire dataset. If we have 10 epochs, the model will see the dataset 10 times.\n",
        "\n",
        "To feed  data our data in batches and multiple times, create an `input function`. The input function defines how the dataset will be converted into batches at each epoch."
      ]
    },
    {
      "cell_type": "markdown",
      "metadata": {
        "id": "hnWW6INEfPI6"
      },
      "source": [
        "**Input Function**\n",
        "\n",
        "The TensorFlow model requires that the data comes in as `tf.data.Dataset`. Create a input function that can convert pandas dataframe into object."
      ]
    },
    {
      "cell_type": "code",
      "source": [
        "dfeval"
      ],
      "metadata": {
        "id": "1ywxqKrWVMAF",
        "colab": {
          "base_uri": "https://localhost:8080/",
          "height": 424
        },
        "outputId": "f576e90e-5c78-4dbc-a981-d21482db9ed6"
      },
      "execution_count": null,
      "outputs": [
        {
          "output_type": "execute_result",
          "data": {
            "text/plain": [
              "        sex   age  n_siblings_spouses  parch     fare   class     deck  \\\n",
              "0      male  35.0                   0      0   8.0500   Third  unknown   \n",
              "1      male  54.0                   0      0  51.8625   First        E   \n",
              "2    female  58.0                   0      0  26.5500   First        C   \n",
              "3    female  55.0                   0      0  16.0000  Second  unknown   \n",
              "4      male  34.0                   0      0  13.0000  Second        D   \n",
              "..      ...   ...                 ...    ...      ...     ...      ...   \n",
              "259  female  25.0                   0      1  26.0000  Second  unknown   \n",
              "260    male  33.0                   0      0   7.8958   Third  unknown   \n",
              "261  female  39.0                   0      5  29.1250   Third  unknown   \n",
              "262    male  27.0                   0      0  13.0000  Second  unknown   \n",
              "263    male  26.0                   0      0  30.0000   First        C   \n",
              "\n",
              "     embark_town alone  \n",
              "0    Southampton     y  \n",
              "1    Southampton     y  \n",
              "2    Southampton     y  \n",
              "3    Southampton     y  \n",
              "4    Southampton     y  \n",
              "..           ...   ...  \n",
              "259  Southampton     n  \n",
              "260  Southampton     y  \n",
              "261   Queenstown     n  \n",
              "262  Southampton     y  \n",
              "263    Cherbourg     y  \n",
              "\n",
              "[264 rows x 9 columns]"
            ],
            "text/html": [
              "\n",
              "  <div id=\"df-b9d2a299-edcf-4b7b-a896-1da0ac8d43a3\" class=\"colab-df-container\">\n",
              "    <div>\n",
              "<style scoped>\n",
              "    .dataframe tbody tr th:only-of-type {\n",
              "        vertical-align: middle;\n",
              "    }\n",
              "\n",
              "    .dataframe tbody tr th {\n",
              "        vertical-align: top;\n",
              "    }\n",
              "\n",
              "    .dataframe thead th {\n",
              "        text-align: right;\n",
              "    }\n",
              "</style>\n",
              "<table border=\"1\" class=\"dataframe\">\n",
              "  <thead>\n",
              "    <tr style=\"text-align: right;\">\n",
              "      <th></th>\n",
              "      <th>sex</th>\n",
              "      <th>age</th>\n",
              "      <th>n_siblings_spouses</th>\n",
              "      <th>parch</th>\n",
              "      <th>fare</th>\n",
              "      <th>class</th>\n",
              "      <th>deck</th>\n",
              "      <th>embark_town</th>\n",
              "      <th>alone</th>\n",
              "    </tr>\n",
              "  </thead>\n",
              "  <tbody>\n",
              "    <tr>\n",
              "      <th>0</th>\n",
              "      <td>male</td>\n",
              "      <td>35.0</td>\n",
              "      <td>0</td>\n",
              "      <td>0</td>\n",
              "      <td>8.0500</td>\n",
              "      <td>Third</td>\n",
              "      <td>unknown</td>\n",
              "      <td>Southampton</td>\n",
              "      <td>y</td>\n",
              "    </tr>\n",
              "    <tr>\n",
              "      <th>1</th>\n",
              "      <td>male</td>\n",
              "      <td>54.0</td>\n",
              "      <td>0</td>\n",
              "      <td>0</td>\n",
              "      <td>51.8625</td>\n",
              "      <td>First</td>\n",
              "      <td>E</td>\n",
              "      <td>Southampton</td>\n",
              "      <td>y</td>\n",
              "    </tr>\n",
              "    <tr>\n",
              "      <th>2</th>\n",
              "      <td>female</td>\n",
              "      <td>58.0</td>\n",
              "      <td>0</td>\n",
              "      <td>0</td>\n",
              "      <td>26.5500</td>\n",
              "      <td>First</td>\n",
              "      <td>C</td>\n",
              "      <td>Southampton</td>\n",
              "      <td>y</td>\n",
              "    </tr>\n",
              "    <tr>\n",
              "      <th>3</th>\n",
              "      <td>female</td>\n",
              "      <td>55.0</td>\n",
              "      <td>0</td>\n",
              "      <td>0</td>\n",
              "      <td>16.0000</td>\n",
              "      <td>Second</td>\n",
              "      <td>unknown</td>\n",
              "      <td>Southampton</td>\n",
              "      <td>y</td>\n",
              "    </tr>\n",
              "    <tr>\n",
              "      <th>4</th>\n",
              "      <td>male</td>\n",
              "      <td>34.0</td>\n",
              "      <td>0</td>\n",
              "      <td>0</td>\n",
              "      <td>13.0000</td>\n",
              "      <td>Second</td>\n",
              "      <td>D</td>\n",
              "      <td>Southampton</td>\n",
              "      <td>y</td>\n",
              "    </tr>\n",
              "    <tr>\n",
              "      <th>...</th>\n",
              "      <td>...</td>\n",
              "      <td>...</td>\n",
              "      <td>...</td>\n",
              "      <td>...</td>\n",
              "      <td>...</td>\n",
              "      <td>...</td>\n",
              "      <td>...</td>\n",
              "      <td>...</td>\n",
              "      <td>...</td>\n",
              "    </tr>\n",
              "    <tr>\n",
              "      <th>259</th>\n",
              "      <td>female</td>\n",
              "      <td>25.0</td>\n",
              "      <td>0</td>\n",
              "      <td>1</td>\n",
              "      <td>26.0000</td>\n",
              "      <td>Second</td>\n",
              "      <td>unknown</td>\n",
              "      <td>Southampton</td>\n",
              "      <td>n</td>\n",
              "    </tr>\n",
              "    <tr>\n",
              "      <th>260</th>\n",
              "      <td>male</td>\n",
              "      <td>33.0</td>\n",
              "      <td>0</td>\n",
              "      <td>0</td>\n",
              "      <td>7.8958</td>\n",
              "      <td>Third</td>\n",
              "      <td>unknown</td>\n",
              "      <td>Southampton</td>\n",
              "      <td>y</td>\n",
              "    </tr>\n",
              "    <tr>\n",
              "      <th>261</th>\n",
              "      <td>female</td>\n",
              "      <td>39.0</td>\n",
              "      <td>0</td>\n",
              "      <td>5</td>\n",
              "      <td>29.1250</td>\n",
              "      <td>Third</td>\n",
              "      <td>unknown</td>\n",
              "      <td>Queenstown</td>\n",
              "      <td>n</td>\n",
              "    </tr>\n",
              "    <tr>\n",
              "      <th>262</th>\n",
              "      <td>male</td>\n",
              "      <td>27.0</td>\n",
              "      <td>0</td>\n",
              "      <td>0</td>\n",
              "      <td>13.0000</td>\n",
              "      <td>Second</td>\n",
              "      <td>unknown</td>\n",
              "      <td>Southampton</td>\n",
              "      <td>y</td>\n",
              "    </tr>\n",
              "    <tr>\n",
              "      <th>263</th>\n",
              "      <td>male</td>\n",
              "      <td>26.0</td>\n",
              "      <td>0</td>\n",
              "      <td>0</td>\n",
              "      <td>30.0000</td>\n",
              "      <td>First</td>\n",
              "      <td>C</td>\n",
              "      <td>Cherbourg</td>\n",
              "      <td>y</td>\n",
              "    </tr>\n",
              "  </tbody>\n",
              "</table>\n",
              "<p>264 rows × 9 columns</p>\n",
              "</div>\n",
              "    <div class=\"colab-df-buttons\">\n",
              "\n",
              "  <div class=\"colab-df-container\">\n",
              "    <button class=\"colab-df-convert\" onclick=\"convertToInteractive('df-b9d2a299-edcf-4b7b-a896-1da0ac8d43a3')\"\n",
              "            title=\"Convert this dataframe to an interactive table.\"\n",
              "            style=\"display:none;\">\n",
              "\n",
              "  <svg xmlns=\"http://www.w3.org/2000/svg\" height=\"24px\" viewBox=\"0 -960 960 960\">\n",
              "    <path d=\"M120-120v-720h720v720H120Zm60-500h600v-160H180v160Zm220 220h160v-160H400v160Zm0 220h160v-160H400v160ZM180-400h160v-160H180v160Zm440 0h160v-160H620v160ZM180-180h160v-160H180v160Zm440 0h160v-160H620v160Z\"/>\n",
              "  </svg>\n",
              "    </button>\n",
              "\n",
              "  <style>\n",
              "    .colab-df-container {\n",
              "      display:flex;\n",
              "      gap: 12px;\n",
              "    }\n",
              "\n",
              "    .colab-df-convert {\n",
              "      background-color: #E8F0FE;\n",
              "      border: none;\n",
              "      border-radius: 50%;\n",
              "      cursor: pointer;\n",
              "      display: none;\n",
              "      fill: #1967D2;\n",
              "      height: 32px;\n",
              "      padding: 0 0 0 0;\n",
              "      width: 32px;\n",
              "    }\n",
              "\n",
              "    .colab-df-convert:hover {\n",
              "      background-color: #E2EBFA;\n",
              "      box-shadow: 0px 1px 2px rgba(60, 64, 67, 0.3), 0px 1px 3px 1px rgba(60, 64, 67, 0.15);\n",
              "      fill: #174EA6;\n",
              "    }\n",
              "\n",
              "    .colab-df-buttons div {\n",
              "      margin-bottom: 4px;\n",
              "    }\n",
              "\n",
              "    [theme=dark] .colab-df-convert {\n",
              "      background-color: #3B4455;\n",
              "      fill: #D2E3FC;\n",
              "    }\n",
              "\n",
              "    [theme=dark] .colab-df-convert:hover {\n",
              "      background-color: #434B5C;\n",
              "      box-shadow: 0px 1px 3px 1px rgba(0, 0, 0, 0.15);\n",
              "      filter: drop-shadow(0px 1px 2px rgba(0, 0, 0, 0.3));\n",
              "      fill: #FFFFFF;\n",
              "    }\n",
              "  </style>\n",
              "\n",
              "    <script>\n",
              "      const buttonEl =\n",
              "        document.querySelector('#df-b9d2a299-edcf-4b7b-a896-1da0ac8d43a3 button.colab-df-convert');\n",
              "      buttonEl.style.display =\n",
              "        google.colab.kernel.accessAllowed ? 'block' : 'none';\n",
              "\n",
              "      async function convertToInteractive(key) {\n",
              "        const element = document.querySelector('#df-b9d2a299-edcf-4b7b-a896-1da0ac8d43a3');\n",
              "        const dataTable =\n",
              "          await google.colab.kernel.invokeFunction('convertToInteractive',\n",
              "                                                    [key], {});\n",
              "        if (!dataTable) return;\n",
              "\n",
              "        const docLinkHtml = 'Like what you see? Visit the ' +\n",
              "          '<a target=\"_blank\" href=https://colab.research.google.com/notebooks/data_table.ipynb>data table notebook</a>'\n",
              "          + ' to learn more about interactive tables.';\n",
              "        element.innerHTML = '';\n",
              "        dataTable['output_type'] = 'display_data';\n",
              "        await google.colab.output.renderOutput(dataTable, element);\n",
              "        const docLink = document.createElement('div');\n",
              "        docLink.innerHTML = docLinkHtml;\n",
              "        element.appendChild(docLink);\n",
              "      }\n",
              "    </script>\n",
              "  </div>\n",
              "\n",
              "\n",
              "<div id=\"df-6aee2bc8-982d-4e95-b520-61223974aa70\">\n",
              "  <button class=\"colab-df-quickchart\" onclick=\"quickchart('df-6aee2bc8-982d-4e95-b520-61223974aa70')\"\n",
              "            title=\"Suggest charts\"\n",
              "            style=\"display:none;\">\n",
              "\n",
              "<svg xmlns=\"http://www.w3.org/2000/svg\" height=\"24px\"viewBox=\"0 0 24 24\"\n",
              "     width=\"24px\">\n",
              "    <g>\n",
              "        <path d=\"M19 3H5c-1.1 0-2 .9-2 2v14c0 1.1.9 2 2 2h14c1.1 0 2-.9 2-2V5c0-1.1-.9-2-2-2zM9 17H7v-7h2v7zm4 0h-2V7h2v10zm4 0h-2v-4h2v4z\"/>\n",
              "    </g>\n",
              "</svg>\n",
              "  </button>\n",
              "\n",
              "<style>\n",
              "  .colab-df-quickchart {\n",
              "      --bg-color: #E8F0FE;\n",
              "      --fill-color: #1967D2;\n",
              "      --hover-bg-color: #E2EBFA;\n",
              "      --hover-fill-color: #174EA6;\n",
              "      --disabled-fill-color: #AAA;\n",
              "      --disabled-bg-color: #DDD;\n",
              "  }\n",
              "\n",
              "  [theme=dark] .colab-df-quickchart {\n",
              "      --bg-color: #3B4455;\n",
              "      --fill-color: #D2E3FC;\n",
              "      --hover-bg-color: #434B5C;\n",
              "      --hover-fill-color: #FFFFFF;\n",
              "      --disabled-bg-color: #3B4455;\n",
              "      --disabled-fill-color: #666;\n",
              "  }\n",
              "\n",
              "  .colab-df-quickchart {\n",
              "    background-color: var(--bg-color);\n",
              "    border: none;\n",
              "    border-radius: 50%;\n",
              "    cursor: pointer;\n",
              "    display: none;\n",
              "    fill: var(--fill-color);\n",
              "    height: 32px;\n",
              "    padding: 0;\n",
              "    width: 32px;\n",
              "  }\n",
              "\n",
              "  .colab-df-quickchart:hover {\n",
              "    background-color: var(--hover-bg-color);\n",
              "    box-shadow: 0 1px 2px rgba(60, 64, 67, 0.3), 0 1px 3px 1px rgba(60, 64, 67, 0.15);\n",
              "    fill: var(--button-hover-fill-color);\n",
              "  }\n",
              "\n",
              "  .colab-df-quickchart-complete:disabled,\n",
              "  .colab-df-quickchart-complete:disabled:hover {\n",
              "    background-color: var(--disabled-bg-color);\n",
              "    fill: var(--disabled-fill-color);\n",
              "    box-shadow: none;\n",
              "  }\n",
              "\n",
              "  .colab-df-spinner {\n",
              "    border: 2px solid var(--fill-color);\n",
              "    border-color: transparent;\n",
              "    border-bottom-color: var(--fill-color);\n",
              "    animation:\n",
              "      spin 1s steps(1) infinite;\n",
              "  }\n",
              "\n",
              "  @keyframes spin {\n",
              "    0% {\n",
              "      border-color: transparent;\n",
              "      border-bottom-color: var(--fill-color);\n",
              "      border-left-color: var(--fill-color);\n",
              "    }\n",
              "    20% {\n",
              "      border-color: transparent;\n",
              "      border-left-color: var(--fill-color);\n",
              "      border-top-color: var(--fill-color);\n",
              "    }\n",
              "    30% {\n",
              "      border-color: transparent;\n",
              "      border-left-color: var(--fill-color);\n",
              "      border-top-color: var(--fill-color);\n",
              "      border-right-color: var(--fill-color);\n",
              "    }\n",
              "    40% {\n",
              "      border-color: transparent;\n",
              "      border-right-color: var(--fill-color);\n",
              "      border-top-color: var(--fill-color);\n",
              "    }\n",
              "    60% {\n",
              "      border-color: transparent;\n",
              "      border-right-color: var(--fill-color);\n",
              "    }\n",
              "    80% {\n",
              "      border-color: transparent;\n",
              "      border-right-color: var(--fill-color);\n",
              "      border-bottom-color: var(--fill-color);\n",
              "    }\n",
              "    90% {\n",
              "      border-color: transparent;\n",
              "      border-bottom-color: var(--fill-color);\n",
              "    }\n",
              "  }\n",
              "</style>\n",
              "\n",
              "  <script>\n",
              "    async function quickchart(key) {\n",
              "      const quickchartButtonEl =\n",
              "        document.querySelector('#' + key + ' button');\n",
              "      quickchartButtonEl.disabled = true;  // To prevent multiple clicks.\n",
              "      quickchartButtonEl.classList.add('colab-df-spinner');\n",
              "      try {\n",
              "        const charts = await google.colab.kernel.invokeFunction(\n",
              "            'suggestCharts', [key], {});\n",
              "      } catch (error) {\n",
              "        console.error('Error during call to suggestCharts:', error);\n",
              "      }\n",
              "      quickchartButtonEl.classList.remove('colab-df-spinner');\n",
              "      quickchartButtonEl.classList.add('colab-df-quickchart-complete');\n",
              "    }\n",
              "    (() => {\n",
              "      let quickchartButtonEl =\n",
              "        document.querySelector('#df-6aee2bc8-982d-4e95-b520-61223974aa70 button');\n",
              "      quickchartButtonEl.style.display =\n",
              "        google.colab.kernel.accessAllowed ? 'block' : 'none';\n",
              "    })();\n",
              "  </script>\n",
              "</div>\n",
              "\n",
              "  <div id=\"id_504e35b6-562d-4ed9-a6f9-e60ec73bf8a7\">\n",
              "    <style>\n",
              "      .colab-df-generate {\n",
              "        background-color: #E8F0FE;\n",
              "        border: none;\n",
              "        border-radius: 50%;\n",
              "        cursor: pointer;\n",
              "        display: none;\n",
              "        fill: #1967D2;\n",
              "        height: 32px;\n",
              "        padding: 0 0 0 0;\n",
              "        width: 32px;\n",
              "      }\n",
              "\n",
              "      .colab-df-generate:hover {\n",
              "        background-color: #E2EBFA;\n",
              "        box-shadow: 0px 1px 2px rgba(60, 64, 67, 0.3), 0px 1px 3px 1px rgba(60, 64, 67, 0.15);\n",
              "        fill: #174EA6;\n",
              "      }\n",
              "\n",
              "      [theme=dark] .colab-df-generate {\n",
              "        background-color: #3B4455;\n",
              "        fill: #D2E3FC;\n",
              "      }\n",
              "\n",
              "      [theme=dark] .colab-df-generate:hover {\n",
              "        background-color: #434B5C;\n",
              "        box-shadow: 0px 1px 3px 1px rgba(0, 0, 0, 0.15);\n",
              "        filter: drop-shadow(0px 1px 2px rgba(0, 0, 0, 0.3));\n",
              "        fill: #FFFFFF;\n",
              "      }\n",
              "    </style>\n",
              "    <button class=\"colab-df-generate\" onclick=\"generateWithVariable('dfeval')\"\n",
              "            title=\"Generate code using this dataframe.\"\n",
              "            style=\"display:none;\">\n",
              "\n",
              "  <svg xmlns=\"http://www.w3.org/2000/svg\" height=\"24px\"viewBox=\"0 0 24 24\"\n",
              "       width=\"24px\">\n",
              "    <path d=\"M7,19H8.4L18.45,9,17,7.55,7,17.6ZM5,21V16.75L18.45,3.32a2,2,0,0,1,2.83,0l1.4,1.43a1.91,1.91,0,0,1,.58,1.4,1.91,1.91,0,0,1-.58,1.4L9.25,21ZM18.45,9,17,7.55Zm-12,3A5.31,5.31,0,0,0,4.9,8.1,5.31,5.31,0,0,0,1,6.5,5.31,5.31,0,0,0,4.9,4.9,5.31,5.31,0,0,0,6.5,1,5.31,5.31,0,0,0,8.1,4.9,5.31,5.31,0,0,0,12,6.5,5.46,5.46,0,0,0,6.5,12Z\"/>\n",
              "  </svg>\n",
              "    </button>\n",
              "    <script>\n",
              "      (() => {\n",
              "      const buttonEl =\n",
              "        document.querySelector('#id_504e35b6-562d-4ed9-a6f9-e60ec73bf8a7 button.colab-df-generate');\n",
              "      buttonEl.style.display =\n",
              "        google.colab.kernel.accessAllowed ? 'block' : 'none';\n",
              "\n",
              "      buttonEl.onclick = () => {\n",
              "        google.colab.notebook.generateWithVariable('dfeval');\n",
              "      }\n",
              "      })();\n",
              "    </script>\n",
              "  </div>\n",
              "\n",
              "    </div>\n",
              "  </div>\n"
            ],
            "application/vnd.google.colaboratory.intrinsic+json": {
              "type": "dataframe",
              "variable_name": "dfeval",
              "summary": "{\n  \"name\": \"dfeval\",\n  \"rows\": 264,\n  \"fields\": [\n    {\n      \"column\": \"sex\",\n      \"properties\": {\n        \"dtype\": \"category\",\n        \"num_unique_values\": 2,\n        \"samples\": [\n          \"female\",\n          \"male\"\n        ],\n        \"semantic_type\": \"\",\n        \"description\": \"\"\n      }\n    },\n    {\n      \"column\": \"age\",\n      \"properties\": {\n        \"dtype\": \"number\",\n        \"std\": 14.157538177215454,\n        \"min\": 0.42,\n        \"max\": 74.0,\n        \"num_unique_values\": 67,\n        \"samples\": [\n          37.0,\n          33.0\n        ],\n        \"semantic_type\": \"\",\n        \"description\": \"\"\n      }\n    },\n    {\n      \"column\": \"n_siblings_spouses\",\n      \"properties\": {\n        \"dtype\": \"number\",\n        \"std\": 0,\n        \"min\": 0,\n        \"max\": 8,\n        \"num_unique_values\": 7,\n        \"samples\": [\n          0,\n          3\n        ],\n        \"semantic_type\": \"\",\n        \"description\": \"\"\n      }\n    },\n    {\n      \"column\": \"parch\",\n      \"properties\": {\n        \"dtype\": \"number\",\n        \"std\": 0,\n        \"min\": 0,\n        \"max\": 6,\n        \"num_unique_values\": 7,\n        \"samples\": [\n          0,\n          1\n        ],\n        \"semantic_type\": \"\",\n        \"description\": \"\"\n      }\n    },\n    {\n      \"column\": \"fare\",\n      \"properties\": {\n        \"dtype\": \"number\",\n        \"std\": 34.973108108760705,\n        \"min\": 0.0,\n        \"max\": 263.0,\n        \"num_unique_values\": 133,\n        \"samples\": [\n          15.2458,\n          35.0\n        ],\n        \"semantic_type\": \"\",\n        \"description\": \"\"\n      }\n    },\n    {\n      \"column\": \"class\",\n      \"properties\": {\n        \"dtype\": \"category\",\n        \"num_unique_values\": 3,\n        \"samples\": [\n          \"Third\",\n          \"First\"\n        ],\n        \"semantic_type\": \"\",\n        \"description\": \"\"\n      }\n    },\n    {\n      \"column\": \"deck\",\n      \"properties\": {\n        \"dtype\": \"category\",\n        \"num_unique_values\": 7,\n        \"samples\": [\n          \"unknown\",\n          \"E\"\n        ],\n        \"semantic_type\": \"\",\n        \"description\": \"\"\n      }\n    },\n    {\n      \"column\": \"embark_town\",\n      \"properties\": {\n        \"dtype\": \"category\",\n        \"num_unique_values\": 4,\n        \"samples\": [\n          \"Queenstown\",\n          \"unknown\"\n        ],\n        \"semantic_type\": \"\",\n        \"description\": \"\"\n      }\n    },\n    {\n      \"column\": \"alone\",\n      \"properties\": {\n        \"dtype\": \"category\",\n        \"num_unique_values\": 2,\n        \"samples\": [\n          \"n\",\n          \"y\"\n        ],\n        \"semantic_type\": \"\",\n        \"description\": \"\"\n      }\n    }\n  ]\n}"
            }
          },
          "metadata": {},
          "execution_count": 33
        }
      ]
    },
    {
      "cell_type": "code",
      "source": [
        "dftrain['embark_town'].nunique()"
      ],
      "metadata": {
        "id": "nh_HUV-LTREO",
        "colab": {
          "base_uri": "https://localhost:8080/"
        },
        "outputId": "09f0a59f-47d1-4101-ca93-216f934cddfb"
      },
      "execution_count": null,
      "outputs": [
        {
          "output_type": "execute_result",
          "data": {
            "text/plain": [
              "4"
            ]
          },
          "metadata": {},
          "execution_count": 34
        }
      ]
    },
    {
      "cell_type": "markdown",
      "metadata": {
        "id": "67eauTCjEIjw"
      },
      "source": [
        "**Creating the model**"
      ]
    },
    {
      "cell_type": "code",
      "source": [
        "##tf.__version__\n",
        "##linear_est = tf.compat.v1.LinearClassifier(feature_columns=feature_columns)\n",
        "##!pip install tensorflow-estimator --quiet #Ensure the estimator module is installed\n",
        "##linear_est =tf.estimator.LinearClassifier(feature_columns=feature_columns) #Use estimator to call LinearClassifier"
      ],
      "metadata": {
        "id": "blRY76rA5-74"
      },
      "execution_count": null,
      "outputs": []
    },
    {
      "cell_type": "markdown",
      "metadata": {
        "id": "wOglg1K9l-7c"
      },
      "source": [
        "**Training the model**"
      ]
    },
    {
      "cell_type": "code",
      "execution_count": null,
      "metadata": {
        "id": "ISF-hDcxmDFJ",
        "colab": {
          "base_uri": "https://localhost:8080/"
        },
        "outputId": "9e932e80-07fa-4e3e-d83d-7dcba50fc402"
      },
      "outputs": [
        {
          "output_type": "stream",
          "name": "stdout",
          "text": [
            "2.7206480503082275\n",
            "[17.500545501708984, 2.7206480503082275]\n"
          ]
        }
      ],
      "source": [
        "clear_output()\n",
        "print(result[1])#the result variable is adict of stats about our model\n",
        "print(result)\n"
      ]
    },
    {
      "cell_type": "code",
      "execution_count": null,
      "metadata": {
        "id": "40OYDK8ymEJk",
        "colab": {
          "base_uri": "https://localhost:8080/"
        },
        "outputId": "848f0445-c54f-4c7d-ecf2-a7b4dd84b6b5"
      },
      "outputs": [
        {
          "output_type": "stream",
          "name": "stdout",
          "text": [
            "\u001b[1m9/9\u001b[0m \u001b[32m━━━━━━━━━━━━━━━━━━━━\u001b[0m\u001b[37m\u001b[0m \u001b[1m0s\u001b[0m 24ms/step\n",
            "sex                          male\n",
            "age                          35.0\n",
            "n_siblings_spouses              0\n",
            "parch                           0\n",
            "fare                         8.05\n",
            "class                       Third\n",
            "deck                      unknown\n",
            "embark_town           Southampton\n",
            "alone                           y\n",
            "Name: 0, dtype: object\n",
            "-2.4230924\n"
          ]
        }
      ],
      "source": [
        "prediction = model.predict(eval_dataset)\n",
        "print(dfeval.loc[0])\n",
        "print(prediction[0][0])#Probability of not surviving"
      ]
    },
    {
      "cell_type": "code",
      "execution_count": null,
      "metadata": {
        "id": "E0j_WZUSmDyc",
        "colab": {
          "base_uri": "https://localhost:8080/"
        },
        "outputId": "04c19e66-6927-4985-90ce-e618f66bf55b"
      },
      "outputs": [
        {
          "output_type": "stream",
          "name": "stdout",
          "text": [
            "\u001b[1m9/9\u001b[0m \u001b[32m━━━━━━━━━━━━━━━━━━━━\u001b[0m\u001b[37m\u001b[0m \u001b[1m0s\u001b[0m 2ms/step\n",
            "sex                        female\n",
            "age                          58.0\n",
            "n_siblings_spouses              0\n",
            "parch                           0\n",
            "fare                        26.55\n",
            "class                       First\n",
            "deck                            C\n",
            "embark_town           Southampton\n",
            "alone                           y\n",
            "Name: 2, dtype: object\n",
            "1\n",
            "-2.7616532\n"
          ]
        }
      ],
      "source": [
        "prediction = model.predict(eval_dataset)\n",
        "print(dfeval.loc[2])\n",
        "print(y_eval.loc[2])\n",
        "print(prediction[2][0])#Probability of not surviving"
      ]
    },
    {
      "cell_type": "code",
      "execution_count": null,
      "metadata": {
        "id": "2im2uSzlgPKl",
        "colab": {
          "base_uri": "https://localhost:8080/"
        },
        "outputId": "e04f8032-2bac-435d-b0bc-08ee4808bb1d"
      },
      "outputs": [
        {
          "output_type": "stream",
          "name": "stdout",
          "text": [
            "\u001b[1m9/9\u001b[0m \u001b[32m━━━━━━━━━━━━━━━━━━━━\u001b[0m\u001b[37m\u001b[0m \u001b[1m0s\u001b[0m 2ms/step\n",
            "sex                        female\n",
            "age                          55.0\n",
            "n_siblings_spouses              0\n",
            "parch                           0\n",
            "fare                         16.0\n",
            "class                      Second\n",
            "deck                      unknown\n",
            "embark_town           Southampton\n",
            "alone                           y\n",
            "Name: 3, dtype: object\n",
            "1\n",
            "-3.8966963\n"
          ]
        }
      ],
      "source": [
        "prediction = model.predict(eval_dataset)\n",
        "print(dfeval.loc[3])\n",
        "print(y_eval.loc[3])\n",
        "print(prediction[3][0])#Probability of not surviving"
      ]
    },
    {
      "cell_type": "code",
      "execution_count": null,
      "metadata": {
        "id": "32RpSEKogcQH",
        "colab": {
          "base_uri": "https://localhost:8080/"
        },
        "outputId": "40a40a62-6273-4af1-f616-19c7ac492615"
      },
      "outputs": [
        {
          "output_type": "stream",
          "name": "stdout",
          "text": [
            "\u001b[1m9/9\u001b[0m \u001b[32m━━━━━━━━━━━━━━━━━━━━\u001b[0m\u001b[37m\u001b[0m \u001b[1m0s\u001b[0m 2ms/step\n",
            "sex                          male\n",
            "age                          34.0\n",
            "n_siblings_spouses              0\n",
            "parch                           0\n",
            "fare                         13.0\n",
            "class                      Second\n",
            "deck                            D\n",
            "embark_town           Southampton\n",
            "alone                           y\n",
            "Name: 4, dtype: object\n",
            "1\n",
            "-2.0614452\n"
          ]
        }
      ],
      "source": [
        "prediction = model.predict(eval_dataset)\n",
        "print(dfeval.loc[4])\n",
        "print(y_eval.loc[4])\n",
        "print(prediction[4][0])#Probability of not surviving"
      ]
    },
    {
      "cell_type": "markdown",
      "metadata": {
        "id": "amSkdRkKgjLp"
      },
      "source": [
        "##**Classification**\n",
        "\n",
        "Classification is used to separate datapoints in to classes of different labels. This example uses a Tensorflow estimator to classify flowers on the iris dataset."
      ]
    },
    {
      "cell_type": "code",
      "execution_count": null,
      "metadata": {
        "id": "lP4GSk9rjGS7"
      },
      "outputs": [],
      "source": [
        "#from_future_import absolute_import, division, print_function, unicode_literals\n",
        "import tensorflow as tf\n",
        "import pandas as pd\n"
      ]
    },
    {
      "cell_type": "markdown",
      "metadata": {
        "id": "oELB87HlnzOS"
      },
      "source": [
        "**Dataset**\n",
        "\n",
        "This specific dataset separates flowers in to 3 different classes of species.\n",
        "\n",
        "\n",
        "*   Setosa\n",
        "*  Versicolor\n",
        "*  Virginica\n",
        "\n"
      ]
    },
    {
      "cell_type": "code",
      "execution_count": null,
      "metadata": {
        "id": "LdMx88iYohco"
      },
      "outputs": [],
      "source": [
        "csv_column_names = ['SepalLength','SepalWidth','PetalWidth','Species']\n",
        "species = ['Setosa','Versicolor','Virginica']\n",
        "#"
      ]
    },
    {
      "cell_type": "code",
      "execution_count": null,
      "metadata": {
        "id": "6J-KWfn089P6",
        "colab": {
          "base_uri": "https://localhost:8080/",
          "height": 242
        },
        "outputId": "f353c37f-e553-41b6-9312-65b8ac13ff33"
      },
      "outputs": [
        {
          "output_type": "stream",
          "name": "stdout",
          "text": [
            "Downloading data from https://storage.googleapis.com/download.tensorflow.org/data/iris_training.csv\n",
            "\u001b[1m2194/2194\u001b[0m \u001b[32m━━━━━━━━━━━━━━━━━━━━\u001b[0m\u001b[37m\u001b[0m \u001b[1m0s\u001b[0m 1us/step\n"
          ]
        },
        {
          "output_type": "execute_result",
          "data": {
            "text/plain": [
              "     SepalLength  SepalWidth  PetalWidth\n",
              "6.4          2.8         5.6         2.2\n",
              "5.0          2.3         3.3         1.0\n",
              "4.9          2.5         4.5         1.7\n",
              "4.9          3.1         1.5         0.1\n",
              "5.7          3.8         1.7         0.3"
            ],
            "text/html": [
              "\n",
              "  <div id=\"df-18a3748b-8e04-43e2-bf12-0af8cb925015\" class=\"colab-df-container\">\n",
              "    <div>\n",
              "<style scoped>\n",
              "    .dataframe tbody tr th:only-of-type {\n",
              "        vertical-align: middle;\n",
              "    }\n",
              "\n",
              "    .dataframe tbody tr th {\n",
              "        vertical-align: top;\n",
              "    }\n",
              "\n",
              "    .dataframe thead th {\n",
              "        text-align: right;\n",
              "    }\n",
              "</style>\n",
              "<table border=\"1\" class=\"dataframe\">\n",
              "  <thead>\n",
              "    <tr style=\"text-align: right;\">\n",
              "      <th></th>\n",
              "      <th>SepalLength</th>\n",
              "      <th>SepalWidth</th>\n",
              "      <th>PetalWidth</th>\n",
              "    </tr>\n",
              "  </thead>\n",
              "  <tbody>\n",
              "    <tr>\n",
              "      <th>6.4</th>\n",
              "      <td>2.8</td>\n",
              "      <td>5.6</td>\n",
              "      <td>2.2</td>\n",
              "    </tr>\n",
              "    <tr>\n",
              "      <th>5.0</th>\n",
              "      <td>2.3</td>\n",
              "      <td>3.3</td>\n",
              "      <td>1.0</td>\n",
              "    </tr>\n",
              "    <tr>\n",
              "      <th>4.9</th>\n",
              "      <td>2.5</td>\n",
              "      <td>4.5</td>\n",
              "      <td>1.7</td>\n",
              "    </tr>\n",
              "    <tr>\n",
              "      <th>4.9</th>\n",
              "      <td>3.1</td>\n",
              "      <td>1.5</td>\n",
              "      <td>0.1</td>\n",
              "    </tr>\n",
              "    <tr>\n",
              "      <th>5.7</th>\n",
              "      <td>3.8</td>\n",
              "      <td>1.7</td>\n",
              "      <td>0.3</td>\n",
              "    </tr>\n",
              "  </tbody>\n",
              "</table>\n",
              "</div>\n",
              "    <div class=\"colab-df-buttons\">\n",
              "\n",
              "  <div class=\"colab-df-container\">\n",
              "    <button class=\"colab-df-convert\" onclick=\"convertToInteractive('df-18a3748b-8e04-43e2-bf12-0af8cb925015')\"\n",
              "            title=\"Convert this dataframe to an interactive table.\"\n",
              "            style=\"display:none;\">\n",
              "\n",
              "  <svg xmlns=\"http://www.w3.org/2000/svg\" height=\"24px\" viewBox=\"0 -960 960 960\">\n",
              "    <path d=\"M120-120v-720h720v720H120Zm60-500h600v-160H180v160Zm220 220h160v-160H400v160Zm0 220h160v-160H400v160ZM180-400h160v-160H180v160Zm440 0h160v-160H620v160ZM180-180h160v-160H180v160Zm440 0h160v-160H620v160Z\"/>\n",
              "  </svg>\n",
              "    </button>\n",
              "\n",
              "  <style>\n",
              "    .colab-df-container {\n",
              "      display:flex;\n",
              "      gap: 12px;\n",
              "    }\n",
              "\n",
              "    .colab-df-convert {\n",
              "      background-color: #E8F0FE;\n",
              "      border: none;\n",
              "      border-radius: 50%;\n",
              "      cursor: pointer;\n",
              "      display: none;\n",
              "      fill: #1967D2;\n",
              "      height: 32px;\n",
              "      padding: 0 0 0 0;\n",
              "      width: 32px;\n",
              "    }\n",
              "\n",
              "    .colab-df-convert:hover {\n",
              "      background-color: #E2EBFA;\n",
              "      box-shadow: 0px 1px 2px rgba(60, 64, 67, 0.3), 0px 1px 3px 1px rgba(60, 64, 67, 0.15);\n",
              "      fill: #174EA6;\n",
              "    }\n",
              "\n",
              "    .colab-df-buttons div {\n",
              "      margin-bottom: 4px;\n",
              "    }\n",
              "\n",
              "    [theme=dark] .colab-df-convert {\n",
              "      background-color: #3B4455;\n",
              "      fill: #D2E3FC;\n",
              "    }\n",
              "\n",
              "    [theme=dark] .colab-df-convert:hover {\n",
              "      background-color: #434B5C;\n",
              "      box-shadow: 0px 1px 3px 1px rgba(0, 0, 0, 0.15);\n",
              "      filter: drop-shadow(0px 1px 2px rgba(0, 0, 0, 0.3));\n",
              "      fill: #FFFFFF;\n",
              "    }\n",
              "  </style>\n",
              "\n",
              "    <script>\n",
              "      const buttonEl =\n",
              "        document.querySelector('#df-18a3748b-8e04-43e2-bf12-0af8cb925015 button.colab-df-convert');\n",
              "      buttonEl.style.display =\n",
              "        google.colab.kernel.accessAllowed ? 'block' : 'none';\n",
              "\n",
              "      async function convertToInteractive(key) {\n",
              "        const element = document.querySelector('#df-18a3748b-8e04-43e2-bf12-0af8cb925015');\n",
              "        const dataTable =\n",
              "          await google.colab.kernel.invokeFunction('convertToInteractive',\n",
              "                                                    [key], {});\n",
              "        if (!dataTable) return;\n",
              "\n",
              "        const docLinkHtml = 'Like what you see? Visit the ' +\n",
              "          '<a target=\"_blank\" href=https://colab.research.google.com/notebooks/data_table.ipynb>data table notebook</a>'\n",
              "          + ' to learn more about interactive tables.';\n",
              "        element.innerHTML = '';\n",
              "        dataTable['output_type'] = 'display_data';\n",
              "        await google.colab.output.renderOutput(dataTable, element);\n",
              "        const docLink = document.createElement('div');\n",
              "        docLink.innerHTML = docLinkHtml;\n",
              "        element.appendChild(docLink);\n",
              "      }\n",
              "    </script>\n",
              "  </div>\n",
              "\n",
              "\n",
              "<div id=\"df-6badb6f7-1ee5-49e1-ab58-71903258c02a\">\n",
              "  <button class=\"colab-df-quickchart\" onclick=\"quickchart('df-6badb6f7-1ee5-49e1-ab58-71903258c02a')\"\n",
              "            title=\"Suggest charts\"\n",
              "            style=\"display:none;\">\n",
              "\n",
              "<svg xmlns=\"http://www.w3.org/2000/svg\" height=\"24px\"viewBox=\"0 0 24 24\"\n",
              "     width=\"24px\">\n",
              "    <g>\n",
              "        <path d=\"M19 3H5c-1.1 0-2 .9-2 2v14c0 1.1.9 2 2 2h14c1.1 0 2-.9 2-2V5c0-1.1-.9-2-2-2zM9 17H7v-7h2v7zm4 0h-2V7h2v10zm4 0h-2v-4h2v4z\"/>\n",
              "    </g>\n",
              "</svg>\n",
              "  </button>\n",
              "\n",
              "<style>\n",
              "  .colab-df-quickchart {\n",
              "      --bg-color: #E8F0FE;\n",
              "      --fill-color: #1967D2;\n",
              "      --hover-bg-color: #E2EBFA;\n",
              "      --hover-fill-color: #174EA6;\n",
              "      --disabled-fill-color: #AAA;\n",
              "      --disabled-bg-color: #DDD;\n",
              "  }\n",
              "\n",
              "  [theme=dark] .colab-df-quickchart {\n",
              "      --bg-color: #3B4455;\n",
              "      --fill-color: #D2E3FC;\n",
              "      --hover-bg-color: #434B5C;\n",
              "      --hover-fill-color: #FFFFFF;\n",
              "      --disabled-bg-color: #3B4455;\n",
              "      --disabled-fill-color: #666;\n",
              "  }\n",
              "\n",
              "  .colab-df-quickchart {\n",
              "    background-color: var(--bg-color);\n",
              "    border: none;\n",
              "    border-radius: 50%;\n",
              "    cursor: pointer;\n",
              "    display: none;\n",
              "    fill: var(--fill-color);\n",
              "    height: 32px;\n",
              "    padding: 0;\n",
              "    width: 32px;\n",
              "  }\n",
              "\n",
              "  .colab-df-quickchart:hover {\n",
              "    background-color: var(--hover-bg-color);\n",
              "    box-shadow: 0 1px 2px rgba(60, 64, 67, 0.3), 0 1px 3px 1px rgba(60, 64, 67, 0.15);\n",
              "    fill: var(--button-hover-fill-color);\n",
              "  }\n",
              "\n",
              "  .colab-df-quickchart-complete:disabled,\n",
              "  .colab-df-quickchart-complete:disabled:hover {\n",
              "    background-color: var(--disabled-bg-color);\n",
              "    fill: var(--disabled-fill-color);\n",
              "    box-shadow: none;\n",
              "  }\n",
              "\n",
              "  .colab-df-spinner {\n",
              "    border: 2px solid var(--fill-color);\n",
              "    border-color: transparent;\n",
              "    border-bottom-color: var(--fill-color);\n",
              "    animation:\n",
              "      spin 1s steps(1) infinite;\n",
              "  }\n",
              "\n",
              "  @keyframes spin {\n",
              "    0% {\n",
              "      border-color: transparent;\n",
              "      border-bottom-color: var(--fill-color);\n",
              "      border-left-color: var(--fill-color);\n",
              "    }\n",
              "    20% {\n",
              "      border-color: transparent;\n",
              "      border-left-color: var(--fill-color);\n",
              "      border-top-color: var(--fill-color);\n",
              "    }\n",
              "    30% {\n",
              "      border-color: transparent;\n",
              "      border-left-color: var(--fill-color);\n",
              "      border-top-color: var(--fill-color);\n",
              "      border-right-color: var(--fill-color);\n",
              "    }\n",
              "    40% {\n",
              "      border-color: transparent;\n",
              "      border-right-color: var(--fill-color);\n",
              "      border-top-color: var(--fill-color);\n",
              "    }\n",
              "    60% {\n",
              "      border-color: transparent;\n",
              "      border-right-color: var(--fill-color);\n",
              "    }\n",
              "    80% {\n",
              "      border-color: transparent;\n",
              "      border-right-color: var(--fill-color);\n",
              "      border-bottom-color: var(--fill-color);\n",
              "    }\n",
              "    90% {\n",
              "      border-color: transparent;\n",
              "      border-bottom-color: var(--fill-color);\n",
              "    }\n",
              "  }\n",
              "</style>\n",
              "\n",
              "  <script>\n",
              "    async function quickchart(key) {\n",
              "      const quickchartButtonEl =\n",
              "        document.querySelector('#' + key + ' button');\n",
              "      quickchartButtonEl.disabled = true;  // To prevent multiple clicks.\n",
              "      quickchartButtonEl.classList.add('colab-df-spinner');\n",
              "      try {\n",
              "        const charts = await google.colab.kernel.invokeFunction(\n",
              "            'suggestCharts', [key], {});\n",
              "      } catch (error) {\n",
              "        console.error('Error during call to suggestCharts:', error);\n",
              "      }\n",
              "      quickchartButtonEl.classList.remove('colab-df-spinner');\n",
              "      quickchartButtonEl.classList.add('colab-df-quickchart-complete');\n",
              "    }\n",
              "    (() => {\n",
              "      let quickchartButtonEl =\n",
              "        document.querySelector('#df-6badb6f7-1ee5-49e1-ab58-71903258c02a button');\n",
              "      quickchartButtonEl.style.display =\n",
              "        google.colab.kernel.accessAllowed ? 'block' : 'none';\n",
              "    })();\n",
              "  </script>\n",
              "</div>\n",
              "\n",
              "    </div>\n",
              "  </div>\n"
            ],
            "application/vnd.google.colaboratory.intrinsic+json": {
              "type": "dataframe",
              "variable_name": "train",
              "summary": "{\n  \"name\": \"train\",\n  \"rows\": 120,\n  \"fields\": [\n    {\n      \"column\": \"SepalLength\",\n      \"properties\": {\n        \"dtype\": \"number\",\n        \"std\": 0.4271559257155984,\n        \"min\": 2.0,\n        \"max\": 4.4,\n        \"num_unique_values\": 21,\n        \"samples\": [\n          2.8,\n          3.6,\n          3.5\n        ],\n        \"semantic_type\": \"\",\n        \"description\": \"\"\n      }\n    },\n    {\n      \"column\": \"SepalWidth\",\n      \"properties\": {\n        \"dtype\": \"number\",\n        \"std\": 1.822100359444549,\n        \"min\": 1.0,\n        \"max\": 6.9,\n        \"num_unique_values\": 41,\n        \"samples\": [\n          6.4,\n          5.9,\n          3.9\n        ],\n        \"semantic_type\": \"\",\n        \"description\": \"\"\n      }\n    },\n    {\n      \"column\": \"PetalWidth\",\n      \"properties\": {\n        \"dtype\": \"number\",\n        \"std\": 0.7820392791757137,\n        \"min\": 0.1,\n        \"max\": 2.5,\n        \"num_unique_values\": 21,\n        \"samples\": [\n          2.2,\n          2.4,\n          1.1\n        ],\n        \"semantic_type\": \"\",\n        \"description\": \"\"\n      }\n    }\n  ]\n}"
            }
          },
          "metadata": {},
          "execution_count": 43
        }
      ],
      "source": [
        "train_path = tf.keras.utils.get_file(\"iris_training.csv\",\"https://storage.googleapis.com/download.tensorflow.org/data/iris_training.csv\"\n",
        ")\n",
        "test_path = tf.keras.utils.get_file(\"iris_training.csv\",\"https://storage.googleapis.com/download.tensorflow.org/data/iris_test.csv\"\n",
        ")\n",
        "\n",
        "train = pd.read_csv(train_path, names=csv_column_names, header=0)\n",
        "test = pd.read_csv(test_path, names=csv_column_names, header=0)\n",
        "\n",
        "##pop the species column off and use that as label\n",
        "train_y = train.pop('Species')\n",
        "test_y= test.pop('Species')\n",
        "train.head()#the species column is now gone"
      ]
    },
    {
      "cell_type": "code",
      "execution_count": null,
      "metadata": {
        "id": "z8p7LupgBrBK",
        "colab": {
          "base_uri": "https://localhost:8080/",
          "height": 206
        },
        "outputId": "0b173c7b-3c81-4da8-eab1-25e8f1c9aa74"
      },
      "outputs": [
        {
          "output_type": "execute_result",
          "data": {
            "text/plain": [
              "     SepalLength  SepalWidth  PetalWidth\n",
              "6.4          2.8         5.6         2.2\n",
              "5.0          2.3         3.3         1.0\n",
              "4.9          2.5         4.5         1.7\n",
              "4.9          3.1         1.5         0.1\n",
              "5.7          3.8         1.7         0.3"
            ],
            "text/html": [
              "\n",
              "  <div id=\"df-df4bab82-768f-489d-8e36-f7fb8473e3a1\" class=\"colab-df-container\">\n",
              "    <div>\n",
              "<style scoped>\n",
              "    .dataframe tbody tr th:only-of-type {\n",
              "        vertical-align: middle;\n",
              "    }\n",
              "\n",
              "    .dataframe tbody tr th {\n",
              "        vertical-align: top;\n",
              "    }\n",
              "\n",
              "    .dataframe thead th {\n",
              "        text-align: right;\n",
              "    }\n",
              "</style>\n",
              "<table border=\"1\" class=\"dataframe\">\n",
              "  <thead>\n",
              "    <tr style=\"text-align: right;\">\n",
              "      <th></th>\n",
              "      <th>SepalLength</th>\n",
              "      <th>SepalWidth</th>\n",
              "      <th>PetalWidth</th>\n",
              "    </tr>\n",
              "  </thead>\n",
              "  <tbody>\n",
              "    <tr>\n",
              "      <th>6.4</th>\n",
              "      <td>2.8</td>\n",
              "      <td>5.6</td>\n",
              "      <td>2.2</td>\n",
              "    </tr>\n",
              "    <tr>\n",
              "      <th>5.0</th>\n",
              "      <td>2.3</td>\n",
              "      <td>3.3</td>\n",
              "      <td>1.0</td>\n",
              "    </tr>\n",
              "    <tr>\n",
              "      <th>4.9</th>\n",
              "      <td>2.5</td>\n",
              "      <td>4.5</td>\n",
              "      <td>1.7</td>\n",
              "    </tr>\n",
              "    <tr>\n",
              "      <th>4.9</th>\n",
              "      <td>3.1</td>\n",
              "      <td>1.5</td>\n",
              "      <td>0.1</td>\n",
              "    </tr>\n",
              "    <tr>\n",
              "      <th>5.7</th>\n",
              "      <td>3.8</td>\n",
              "      <td>1.7</td>\n",
              "      <td>0.3</td>\n",
              "    </tr>\n",
              "  </tbody>\n",
              "</table>\n",
              "</div>\n",
              "    <div class=\"colab-df-buttons\">\n",
              "\n",
              "  <div class=\"colab-df-container\">\n",
              "    <button class=\"colab-df-convert\" onclick=\"convertToInteractive('df-df4bab82-768f-489d-8e36-f7fb8473e3a1')\"\n",
              "            title=\"Convert this dataframe to an interactive table.\"\n",
              "            style=\"display:none;\">\n",
              "\n",
              "  <svg xmlns=\"http://www.w3.org/2000/svg\" height=\"24px\" viewBox=\"0 -960 960 960\">\n",
              "    <path d=\"M120-120v-720h720v720H120Zm60-500h600v-160H180v160Zm220 220h160v-160H400v160Zm0 220h160v-160H400v160ZM180-400h160v-160H180v160Zm440 0h160v-160H620v160ZM180-180h160v-160H180v160Zm440 0h160v-160H620v160Z\"/>\n",
              "  </svg>\n",
              "    </button>\n",
              "\n",
              "  <style>\n",
              "    .colab-df-container {\n",
              "      display:flex;\n",
              "      gap: 12px;\n",
              "    }\n",
              "\n",
              "    .colab-df-convert {\n",
              "      background-color: #E8F0FE;\n",
              "      border: none;\n",
              "      border-radius: 50%;\n",
              "      cursor: pointer;\n",
              "      display: none;\n",
              "      fill: #1967D2;\n",
              "      height: 32px;\n",
              "      padding: 0 0 0 0;\n",
              "      width: 32px;\n",
              "    }\n",
              "\n",
              "    .colab-df-convert:hover {\n",
              "      background-color: #E2EBFA;\n",
              "      box-shadow: 0px 1px 2px rgba(60, 64, 67, 0.3), 0px 1px 3px 1px rgba(60, 64, 67, 0.15);\n",
              "      fill: #174EA6;\n",
              "    }\n",
              "\n",
              "    .colab-df-buttons div {\n",
              "      margin-bottom: 4px;\n",
              "    }\n",
              "\n",
              "    [theme=dark] .colab-df-convert {\n",
              "      background-color: #3B4455;\n",
              "      fill: #D2E3FC;\n",
              "    }\n",
              "\n",
              "    [theme=dark] .colab-df-convert:hover {\n",
              "      background-color: #434B5C;\n",
              "      box-shadow: 0px 1px 3px 1px rgba(0, 0, 0, 0.15);\n",
              "      filter: drop-shadow(0px 1px 2px rgba(0, 0, 0, 0.3));\n",
              "      fill: #FFFFFF;\n",
              "    }\n",
              "  </style>\n",
              "\n",
              "    <script>\n",
              "      const buttonEl =\n",
              "        document.querySelector('#df-df4bab82-768f-489d-8e36-f7fb8473e3a1 button.colab-df-convert');\n",
              "      buttonEl.style.display =\n",
              "        google.colab.kernel.accessAllowed ? 'block' : 'none';\n",
              "\n",
              "      async function convertToInteractive(key) {\n",
              "        const element = document.querySelector('#df-df4bab82-768f-489d-8e36-f7fb8473e3a1');\n",
              "        const dataTable =\n",
              "          await google.colab.kernel.invokeFunction('convertToInteractive',\n",
              "                                                    [key], {});\n",
              "        if (!dataTable) return;\n",
              "\n",
              "        const docLinkHtml = 'Like what you see? Visit the ' +\n",
              "          '<a target=\"_blank\" href=https://colab.research.google.com/notebooks/data_table.ipynb>data table notebook</a>'\n",
              "          + ' to learn more about interactive tables.';\n",
              "        element.innerHTML = '';\n",
              "        dataTable['output_type'] = 'display_data';\n",
              "        await google.colab.output.renderOutput(dataTable, element);\n",
              "        const docLink = document.createElement('div');\n",
              "        docLink.innerHTML = docLinkHtml;\n",
              "        element.appendChild(docLink);\n",
              "      }\n",
              "    </script>\n",
              "  </div>\n",
              "\n",
              "\n",
              "<div id=\"df-03f79a36-64a9-4905-adce-fb8203e7bc4f\">\n",
              "  <button class=\"colab-df-quickchart\" onclick=\"quickchart('df-03f79a36-64a9-4905-adce-fb8203e7bc4f')\"\n",
              "            title=\"Suggest charts\"\n",
              "            style=\"display:none;\">\n",
              "\n",
              "<svg xmlns=\"http://www.w3.org/2000/svg\" height=\"24px\"viewBox=\"0 0 24 24\"\n",
              "     width=\"24px\">\n",
              "    <g>\n",
              "        <path d=\"M19 3H5c-1.1 0-2 .9-2 2v14c0 1.1.9 2 2 2h14c1.1 0 2-.9 2-2V5c0-1.1-.9-2-2-2zM9 17H7v-7h2v7zm4 0h-2V7h2v10zm4 0h-2v-4h2v4z\"/>\n",
              "    </g>\n",
              "</svg>\n",
              "  </button>\n",
              "\n",
              "<style>\n",
              "  .colab-df-quickchart {\n",
              "      --bg-color: #E8F0FE;\n",
              "      --fill-color: #1967D2;\n",
              "      --hover-bg-color: #E2EBFA;\n",
              "      --hover-fill-color: #174EA6;\n",
              "      --disabled-fill-color: #AAA;\n",
              "      --disabled-bg-color: #DDD;\n",
              "  }\n",
              "\n",
              "  [theme=dark] .colab-df-quickchart {\n",
              "      --bg-color: #3B4455;\n",
              "      --fill-color: #D2E3FC;\n",
              "      --hover-bg-color: #434B5C;\n",
              "      --hover-fill-color: #FFFFFF;\n",
              "      --disabled-bg-color: #3B4455;\n",
              "      --disabled-fill-color: #666;\n",
              "  }\n",
              "\n",
              "  .colab-df-quickchart {\n",
              "    background-color: var(--bg-color);\n",
              "    border: none;\n",
              "    border-radius: 50%;\n",
              "    cursor: pointer;\n",
              "    display: none;\n",
              "    fill: var(--fill-color);\n",
              "    height: 32px;\n",
              "    padding: 0;\n",
              "    width: 32px;\n",
              "  }\n",
              "\n",
              "  .colab-df-quickchart:hover {\n",
              "    background-color: var(--hover-bg-color);\n",
              "    box-shadow: 0 1px 2px rgba(60, 64, 67, 0.3), 0 1px 3px 1px rgba(60, 64, 67, 0.15);\n",
              "    fill: var(--button-hover-fill-color);\n",
              "  }\n",
              "\n",
              "  .colab-df-quickchart-complete:disabled,\n",
              "  .colab-df-quickchart-complete:disabled:hover {\n",
              "    background-color: var(--disabled-bg-color);\n",
              "    fill: var(--disabled-fill-color);\n",
              "    box-shadow: none;\n",
              "  }\n",
              "\n",
              "  .colab-df-spinner {\n",
              "    border: 2px solid var(--fill-color);\n",
              "    border-color: transparent;\n",
              "    border-bottom-color: var(--fill-color);\n",
              "    animation:\n",
              "      spin 1s steps(1) infinite;\n",
              "  }\n",
              "\n",
              "  @keyframes spin {\n",
              "    0% {\n",
              "      border-color: transparent;\n",
              "      border-bottom-color: var(--fill-color);\n",
              "      border-left-color: var(--fill-color);\n",
              "    }\n",
              "    20% {\n",
              "      border-color: transparent;\n",
              "      border-left-color: var(--fill-color);\n",
              "      border-top-color: var(--fill-color);\n",
              "    }\n",
              "    30% {\n",
              "      border-color: transparent;\n",
              "      border-left-color: var(--fill-color);\n",
              "      border-top-color: var(--fill-color);\n",
              "      border-right-color: var(--fill-color);\n",
              "    }\n",
              "    40% {\n",
              "      border-color: transparent;\n",
              "      border-right-color: var(--fill-color);\n",
              "      border-top-color: var(--fill-color);\n",
              "    }\n",
              "    60% {\n",
              "      border-color: transparent;\n",
              "      border-right-color: var(--fill-color);\n",
              "    }\n",
              "    80% {\n",
              "      border-color: transparent;\n",
              "      border-right-color: var(--fill-color);\n",
              "      border-bottom-color: var(--fill-color);\n",
              "    }\n",
              "    90% {\n",
              "      border-color: transparent;\n",
              "      border-bottom-color: var(--fill-color);\n",
              "    }\n",
              "  }\n",
              "</style>\n",
              "\n",
              "  <script>\n",
              "    async function quickchart(key) {\n",
              "      const quickchartButtonEl =\n",
              "        document.querySelector('#' + key + ' button');\n",
              "      quickchartButtonEl.disabled = true;  // To prevent multiple clicks.\n",
              "      quickchartButtonEl.classList.add('colab-df-spinner');\n",
              "      try {\n",
              "        const charts = await google.colab.kernel.invokeFunction(\n",
              "            'suggestCharts', [key], {});\n",
              "      } catch (error) {\n",
              "        console.error('Error during call to suggestCharts:', error);\n",
              "      }\n",
              "      quickchartButtonEl.classList.remove('colab-df-spinner');\n",
              "      quickchartButtonEl.classList.add('colab-df-quickchart-complete');\n",
              "    }\n",
              "    (() => {\n",
              "      let quickchartButtonEl =\n",
              "        document.querySelector('#df-03f79a36-64a9-4905-adce-fb8203e7bc4f button');\n",
              "      quickchartButtonEl.style.display =\n",
              "        google.colab.kernel.accessAllowed ? 'block' : 'none';\n",
              "    })();\n",
              "  </script>\n",
              "</div>\n",
              "\n",
              "    </div>\n",
              "  </div>\n"
            ],
            "application/vnd.google.colaboratory.intrinsic+json": {
              "type": "dataframe",
              "variable_name": "train",
              "summary": "{\n  \"name\": \"train\",\n  \"rows\": 120,\n  \"fields\": [\n    {\n      \"column\": \"SepalLength\",\n      \"properties\": {\n        \"dtype\": \"number\",\n        \"std\": 0.4271559257155984,\n        \"min\": 2.0,\n        \"max\": 4.4,\n        \"num_unique_values\": 21,\n        \"samples\": [\n          2.8,\n          3.6,\n          3.5\n        ],\n        \"semantic_type\": \"\",\n        \"description\": \"\"\n      }\n    },\n    {\n      \"column\": \"SepalWidth\",\n      \"properties\": {\n        \"dtype\": \"number\",\n        \"std\": 1.822100359444549,\n        \"min\": 1.0,\n        \"max\": 6.9,\n        \"num_unique_values\": 41,\n        \"samples\": [\n          6.4,\n          5.9,\n          3.9\n        ],\n        \"semantic_type\": \"\",\n        \"description\": \"\"\n      }\n    },\n    {\n      \"column\": \"PetalWidth\",\n      \"properties\": {\n        \"dtype\": \"number\",\n        \"std\": 0.7820392791757137,\n        \"min\": 0.1,\n        \"max\": 2.5,\n        \"num_unique_values\": 21,\n        \"samples\": [\n          2.2,\n          2.4,\n          1.1\n        ],\n        \"semantic_type\": \"\",\n        \"description\": \"\"\n      }\n    }\n  ]\n}"
            }
          },
          "metadata": {},
          "execution_count": 44
        }
      ],
      "source": [
        "train.head()"
      ]
    },
    {
      "cell_type": "code",
      "execution_count": null,
      "metadata": {
        "id": "xoleo7_bPr0N",
        "colab": {
          "base_uri": "https://localhost:8080/"
        },
        "outputId": "78c3031d-00e4-4395-d7e5-db054dc2c767"
      },
      "outputs": [
        {
          "output_type": "execute_result",
          "data": {
            "text/plain": [
              "(120, 3)"
            ]
          },
          "metadata": {},
          "execution_count": 45
        }
      ],
      "source": [
        "train.shape#We have 120 entries with 4 features"
      ]
    },
    {
      "cell_type": "code",
      "execution_count": null,
      "metadata": {
        "id": "s_Dgo7eHQTXr",
        "colab": {
          "base_uri": "https://localhost:8080/",
          "height": 241
        },
        "outputId": "6792dcdb-24b2-47d2-ce42-53ece6a88de5"
      },
      "outputs": [
        {
          "output_type": "execute_result",
          "data": {
            "text/plain": [
              "6.4    2\n",
              "5.0    1\n",
              "4.9    2\n",
              "4.9    0\n",
              "5.7    0\n",
              "Name: Species, dtype: int64"
            ],
            "text/html": [
              "<div>\n",
              "<style scoped>\n",
              "    .dataframe tbody tr th:only-of-type {\n",
              "        vertical-align: middle;\n",
              "    }\n",
              "\n",
              "    .dataframe tbody tr th {\n",
              "        vertical-align: top;\n",
              "    }\n",
              "\n",
              "    .dataframe thead th {\n",
              "        text-align: right;\n",
              "    }\n",
              "</style>\n",
              "<table border=\"1\" class=\"dataframe\">\n",
              "  <thead>\n",
              "    <tr style=\"text-align: right;\">\n",
              "      <th></th>\n",
              "      <th>Species</th>\n",
              "    </tr>\n",
              "  </thead>\n",
              "  <tbody>\n",
              "    <tr>\n",
              "      <th>6.4</th>\n",
              "      <td>2</td>\n",
              "    </tr>\n",
              "    <tr>\n",
              "      <th>5.0</th>\n",
              "      <td>1</td>\n",
              "    </tr>\n",
              "    <tr>\n",
              "      <th>4.9</th>\n",
              "      <td>2</td>\n",
              "    </tr>\n",
              "    <tr>\n",
              "      <th>4.9</th>\n",
              "      <td>0</td>\n",
              "    </tr>\n",
              "    <tr>\n",
              "      <th>5.7</th>\n",
              "      <td>0</td>\n",
              "    </tr>\n",
              "  </tbody>\n",
              "</table>\n",
              "</div><br><label><b>dtype:</b> int64</label>"
            ]
          },
          "metadata": {},
          "execution_count": 46
        }
      ],
      "source": [
        "train_y.head()"
      ]
    },
    {
      "cell_type": "markdown",
      "metadata": {
        "id": "3QKYGlM3QA9Z"
      },
      "source": [
        "##**Classification model**"
      ]
    },
    {
      "cell_type": "code",
      "source": [
        "import tensorflow as tf\n",
        "import pandas as pd\n",
        "\n",
        "# Column names for the dataset\n",
        "csv_column_names = ['SepalLength', 'SepalWidth', 'PetalLength', 'PetalWidth', 'Species']\n",
        "species = ['Setosa', 'Versicolor', 'Virginica']\n",
        "\n",
        "# Paths to the dataset\n",
        "train_path = tf.keras.utils.get_file(\"iris_training.csv\", \"https://storage.googleapis.com/download.tensorflow.org/data/iris_training.csv\")\n",
        "test_path = tf.keras.utils.get_file(\"iris_test.csv\", \"https://storage.googleapis.com/download.tensorflow.org/data/iris_test.csv\")\n",
        "\n",
        "# Load the datasets\n",
        "train = pd.read_csv(train_path, names=csv_column_names, header=0)\n",
        "test = pd.read_csv(test_path, names=csv_column_names, header=0)\n",
        "\n",
        "# Pop the species column off and use it as the label\n",
        "train_y = train.pop('Species')\n",
        "test_y = test.pop('Species')\n",
        "\n",
        "# Normalize the features\n",
        "train_X = train.values\n",
        "test_X = test.values\n",
        "\n",
        "# Convert labels to categorical (one-hot encoding)\n",
        "train_y = tf.keras.utils.to_categorical(train_y, num_classes=3)\n",
        "test_y = tf.keras.utils.to_categorical(test_y, num_classes=3)\n",
        "\n",
        "# Define input function (data preprocessing)\n",
        "def input_fn(features, labels, batch_size=256, training=True):\n",
        "    dataset = tf.data.Dataset.from_tensor_slices((features, labels))\n",
        "    if training:\n",
        "        dataset = dataset.shuffle(buffer_size=len(features)).repeat()\n",
        "    return dataset.batch(batch_size)\n",
        "\n",
        "# Building the Keras model to replace DNNClassifier\n",
        "model = tf.keras.Sequential([\n",
        "    tf.keras.Input(shape=(train_X.shape[1],)),\n",
        "    tf.keras.layers.Dense(30, activation='relu'),\n",
        "    tf.keras.layers.Dense(10, activation='relu'),\n",
        "    tf.keras.layers.Dense(3, activation='softmax')  # 3 output units for the 3 classes\n",
        "])\n",
        "\n",
        "# Compile the model\n",
        "model.compile(optimizer='adam', loss='categorical_crossentropy', metrics=['accuracy'])\n",
        "\n",
        "# Train the model\n",
        "model.fit(input_fn(train_X, train_y, training=True), epochs=10, steps_per_epoch=100)\n",
        "\n",
        "# Evaluate the model\n",
        "eval_result = model.evaluate(input_fn(test_X, test_y, training=False))\n",
        "\n",
        "# Print the accuracy on the test set\n",
        "print('\\nTest set accuracy: {:.3f}\\n'.format(eval_result[1]))\n"
      ],
      "metadata": {
        "id": "lafd9-r0VaCU",
        "colab": {
          "base_uri": "https://localhost:8080/"
        },
        "outputId": "6f6f166c-d342-41ee-ddfd-c67e4d7f3d3f"
      },
      "execution_count": null,
      "outputs": [
        {
          "output_type": "stream",
          "name": "stdout",
          "text": [
            "Downloading data from https://storage.googleapis.com/download.tensorflow.org/data/iris_test.csv\n",
            "\u001b[1m573/573\u001b[0m \u001b[32m━━━━━━━━━━━━━━━━━━━━\u001b[0m\u001b[37m\u001b[0m \u001b[1m0s\u001b[0m 5us/step\n",
            "Epoch 1/10\n",
            "\u001b[1m100/100\u001b[0m \u001b[32m━━━━━━━━━━━━━━━━━━━━\u001b[0m\u001b[37m\u001b[0m \u001b[1m2s\u001b[0m 3ms/step - accuracy: 0.3962 - loss: 1.1037\n",
            "Epoch 2/10\n",
            "\u001b[1m100/100\u001b[0m \u001b[32m━━━━━━━━━━━━━━━━━━━━\u001b[0m\u001b[37m\u001b[0m \u001b[1m0s\u001b[0m 3ms/step - accuracy: 0.9258 - loss: 0.4444\n",
            "Epoch 3/10\n",
            "\u001b[1m100/100\u001b[0m \u001b[32m━━━━━━━━━━━━━━━━━━━━\u001b[0m\u001b[37m\u001b[0m \u001b[1m0s\u001b[0m 3ms/step - accuracy: 0.9666 - loss: 0.2973\n",
            "Epoch 4/10\n",
            "\u001b[1m100/100\u001b[0m \u001b[32m━━━━━━━━━━━━━━━━━━━━\u001b[0m\u001b[37m\u001b[0m \u001b[1m0s\u001b[0m 3ms/step - accuracy: 0.9750 - loss: 0.2007\n",
            "Epoch 5/10\n",
            "\u001b[1m100/100\u001b[0m \u001b[32m━━━━━━━━━━━━━━━━━━━━\u001b[0m\u001b[37m\u001b[0m \u001b[1m0s\u001b[0m 3ms/step - accuracy: 0.9749 - loss: 0.1405\n",
            "Epoch 6/10\n",
            "\u001b[1m100/100\u001b[0m \u001b[32m━━━━━━━━━━━━━━━━━━━━\u001b[0m\u001b[37m\u001b[0m \u001b[1m0s\u001b[0m 3ms/step - accuracy: 0.9751 - loss: 0.1059\n",
            "Epoch 7/10\n",
            "\u001b[1m100/100\u001b[0m \u001b[32m━━━━━━━━━━━━━━━━━━━━\u001b[0m\u001b[37m\u001b[0m \u001b[1m0s\u001b[0m 3ms/step - accuracy: 0.9819 - loss: 0.0866\n",
            "Epoch 8/10\n",
            "\u001b[1m100/100\u001b[0m \u001b[32m━━━━━━━━━━━━━━━━━━━━\u001b[0m\u001b[37m\u001b[0m \u001b[1m1s\u001b[0m 5ms/step - accuracy: 0.9834 - loss: 0.0749\n",
            "Epoch 9/10\n",
            "\u001b[1m100/100\u001b[0m \u001b[32m━━━━━━━━━━━━━━━━━━━━\u001b[0m\u001b[37m\u001b[0m \u001b[1m1s\u001b[0m 5ms/step - accuracy: 0.9833 - loss: 0.0675\n",
            "Epoch 10/10\n",
            "\u001b[1m100/100\u001b[0m \u001b[32m━━━━━━━━━━━━━━━━━━━━\u001b[0m\u001b[37m\u001b[0m \u001b[1m0s\u001b[0m 5ms/step - accuracy: 0.9833 - loss: 0.0624\n",
            "\u001b[1m1/1\u001b[0m \u001b[32m━━━━━━━━━━━━━━━━━━━━\u001b[0m\u001b[37m\u001b[0m \u001b[1m0s\u001b[0m 308ms/step - accuracy: 0.9333 - loss: 0.0629\n",
            "\n",
            "Test set accuracy: 0.933\n",
            "\n"
          ]
        }
      ]
    },
    {
      "source": [
        "import numpy as np #Import numpy for array manipulation\n",
        "\n",
        "def create_predict_dataset(features):\n",
        "    #Convert features to a numpy array with the correct shape\n",
        "    input_data = np.array([features[feature][0] for feature in features]).reshape(1,-1)\n",
        "    return tf.data.Dataset.from_tensor_slices(input_data).batch(1)\n",
        "\n",
        "features = ['SepalLength', 'SepalWidth', 'PetalLength', 'PetalWidth']\n",
        "predict = {}\n",
        "\n",
        "print(\"Enter numeric values:\")\n",
        "for feature in features:\n",
        "    while True:\n",
        "        val = input(f\"{feature}: \")\n",
        "        if val.replace('.', '', 1).isdigit():\n",
        "            predict[feature] = [float(val)]\n",
        "            break\n",
        "        print(\"Invalid input. Please enter a numeric value.\")\n",
        "\n",
        "# Create dataset for predictions\n",
        "predict_dataset = create_predict_dataset(predict)\n",
        "\n",
        "# Make predictions\n",
        "predictions = model.predict(predict_dataset)\n",
        "\n",
        "# Assuming SPECIES is defined as follows:\n",
        "SPECIES = ['Setosa', 'Versicolor', 'Virginica']\n",
        "\n",
        "# Output predictions\n",
        "for pred in predictions:\n",
        "    class_id = np.argmax(pred)  # Get class index\n",
        "    probability = pred[class_id]\n",
        "    print(f'Prediction is \"{SPECIES[class_id]}\" ({100 * probability:.1f}%)')"
      ],
      "cell_type": "code",
      "metadata": {
        "colab": {
          "base_uri": "https://localhost:8080/"
        },
        "id": "XqfmG9lfVGbw",
        "outputId": "f668c7a0-7a51-4e9c-c7f9-2e3d5d0959e1"
      },
      "execution_count": null,
      "outputs": [
        {
          "output_type": "stream",
          "name": "stdout",
          "text": [
            "Enter numeric values:\n",
            "SepalLength: 6.5\n",
            "SepalWidth: 2.3\n",
            "PetalLength: 2.3\n",
            "PetalWidth: 4.6\n",
            "\u001b[1m1/1\u001b[0m \u001b[32m━━━━━━━━━━━━━━━━━━━━\u001b[0m\u001b[37m\u001b[0m \u001b[1m0s\u001b[0m 42ms/step\n",
            "Prediction is \"Virginica\" (99.8%)\n"
          ]
        }
      ]
    },
    {
      "cell_type": "code",
      "source": [
        "import tensorflow as tf\n",
        "from tensorflow.keras.models import Sequential\n",
        "from tensorflow.keras.layers import Dense, Flatten\n",
        "from tensorflow.keras.optimizers import Adam\n",
        "from tensorflow.keras.losses import SparseCategoricalCrossentropy\n",
        "from tensorflow.keras.metrics import SparseCategoricalAccuracy\n",
        "\n",
        "# Load and prepare the MNIST dataset\n",
        "mnist = tf.keras.datasets.mnist\n",
        "(x_train, y_train), (x_test, y_test) = mnist.load_data()\n",
        "x_train, x_test = x_train / 255.0, x_test / 255.0\n",
        "\n",
        "# Build the model\n",
        "model = Sequential([\n",
        "    Flatten(input_shape=(28, 28)),\n",
        "    Dense(128, activation='relu'),\n",
        "    Dense(10, activation='softmax')\n",
        "])\n",
        "\n",
        "# Compile the model\n",
        "model.compile(optimizer=Adam(),\n",
        "              loss=SparseCategoricalCrossentropy(),\n",
        "              metrics=[SparseCategoricalAccuracy()])\n",
        "\n",
        "# Train the model\n",
        "model.fit(x_train, y_train, epochs=10)\n",
        "\n",
        "# Evaluate the model\n",
        "test_loss, test_acc = model.evaluate(x_test, y_test)\n",
        "print(f'\\nTest accuracy: {test_acc}')\n"
      ],
      "metadata": {
        "colab": {
          "base_uri": "https://localhost:8080/"
        },
        "id": "dpczYTminIV_",
        "outputId": "4ef047db-1e8f-441b-d8ba-f4e14283ffc7"
      },
      "execution_count": null,
      "outputs": [
        {
          "output_type": "stream",
          "name": "stdout",
          "text": [
            "Downloading data from https://storage.googleapis.com/tensorflow/tf-keras-datasets/mnist.npz\n",
            "\u001b[1m11490434/11490434\u001b[0m \u001b[32m━━━━━━━━━━━━━━━━━━━━\u001b[0m\u001b[37m\u001b[0m \u001b[1m0s\u001b[0m 0us/step\n"
          ]
        },
        {
          "output_type": "stream",
          "name": "stderr",
          "text": [
            "/usr/local/lib/python3.10/dist-packages/keras/src/layers/reshaping/flatten.py:37: UserWarning: Do not pass an `input_shape`/`input_dim` argument to a layer. When using Sequential models, prefer using an `Input(shape)` object as the first layer in the model instead.\n",
            "  super().__init__(**kwargs)\n"
          ]
        },
        {
          "output_type": "stream",
          "name": "stdout",
          "text": [
            "Epoch 1/10\n",
            "\u001b[1m1875/1875\u001b[0m \u001b[32m━━━━━━━━━━━━━━━━━━━━\u001b[0m\u001b[37m\u001b[0m \u001b[1m7s\u001b[0m 3ms/step - loss: 0.4292 - sparse_categorical_accuracy: 0.8815\n",
            "Epoch 2/10\n",
            "\u001b[1m1875/1875\u001b[0m \u001b[32m━━━━━━━━━━━━━━━━━━━━\u001b[0m\u001b[37m\u001b[0m \u001b[1m12s\u001b[0m 4ms/step - loss: 0.1191 - sparse_categorical_accuracy: 0.9653\n",
            "Epoch 3/10\n",
            "\u001b[1m1875/1875\u001b[0m \u001b[32m━━━━━━━━━━━━━━━━━━━━\u001b[0m\u001b[37m\u001b[0m \u001b[1m8s\u001b[0m 4ms/step - loss: 0.0741 - sparse_categorical_accuracy: 0.9772\n",
            "Epoch 4/10\n",
            "\u001b[1m1875/1875\u001b[0m \u001b[32m━━━━━━━━━━━━━━━━━━━━\u001b[0m\u001b[37m\u001b[0m \u001b[1m6s\u001b[0m 3ms/step - loss: 0.0533 - sparse_categorical_accuracy: 0.9848\n",
            "Epoch 5/10\n",
            "\u001b[1m1875/1875\u001b[0m \u001b[32m━━━━━━━━━━━━━━━━━━━━\u001b[0m\u001b[37m\u001b[0m \u001b[1m8s\u001b[0m 4ms/step - loss: 0.0399 - sparse_categorical_accuracy: 0.9882\n",
            "Epoch 6/10\n",
            "\u001b[1m1875/1875\u001b[0m \u001b[32m━━━━━━━━━━━━━━━━━━━━\u001b[0m\u001b[37m\u001b[0m \u001b[1m8s\u001b[0m 3ms/step - loss: 0.0317 - sparse_categorical_accuracy: 0.9907\n",
            "Epoch 7/10\n",
            "\u001b[1m1875/1875\u001b[0m \u001b[32m━━━━━━━━━━━━━━━━━━━━\u001b[0m\u001b[37m\u001b[0m \u001b[1m10s\u001b[0m 3ms/step - loss: 0.0241 - sparse_categorical_accuracy: 0.9930\n",
            "Epoch 8/10\n",
            "\u001b[1m1875/1875\u001b[0m \u001b[32m━━━━━━━━━━━━━━━━━━━━\u001b[0m\u001b[37m\u001b[0m \u001b[1m8s\u001b[0m 4ms/step - loss: 0.0211 - sparse_categorical_accuracy: 0.9939\n",
            "Epoch 9/10\n",
            "\u001b[1m1875/1875\u001b[0m \u001b[32m━━━━━━━━━━━━━━━━━━━━\u001b[0m\u001b[37m\u001b[0m \u001b[1m6s\u001b[0m 3ms/step - loss: 0.0166 - sparse_categorical_accuracy: 0.9951\n",
            "Epoch 10/10\n",
            "\u001b[1m1875/1875\u001b[0m \u001b[32m━━━━━━━━━━━━━━━━━━━━\u001b[0m\u001b[37m\u001b[0m \u001b[1m8s\u001b[0m 4ms/step - loss: 0.0131 - sparse_categorical_accuracy: 0.9962\n",
            "\u001b[1m313/313\u001b[0m \u001b[32m━━━━━━━━━━━━━━━━━━━━\u001b[0m\u001b[37m\u001b[0m \u001b[1m1s\u001b[0m 1ms/step - loss: 0.0951 - sparse_categorical_accuracy: 0.9723\n",
            "\n",
            "Test accuracy: 0.9771999716758728\n"
          ]
        }
      ]
    },
    {
      "cell_type": "markdown",
      "source": [
        "##**Hidden Markov Models**\n",
        "The hidden Markov Model is a finite set of states, each of which is associated with a (generally multidimensional) probability distribution. A hidden markov model works with probabilities to predict future events or states. Let's create a hidden markov model that predict the weather.\n",
        "\n",
        "**Data**\n",
        "\n",
        "In a markov model we are interested in probability distributions that have to do with states.\n",
        "\n",
        "We can find these probabilities from large datasets or may already have these values.\n",
        "\n",
        "The components of a markov model are:\n",
        "\n",
        "**States**: In each markov model, we have a finite set of states. These states could be something like `warm` and `cold` or `high` and `low` or `red`, `green` and `blue`. These states are hidden within the model, which means we do not directly observe them.\n",
        "\n",
        "**Observations:** Each state has a particular outcome or observation associated with it based on a probability distribution. `Example:` On a hot day Tim has 80% chance of being happy and a 20% chance of being sad.\n",
        "\n",
        "\n",
        "**Transition:**Each state will have a probability defining the likelihood of transitioning to a different state. **Example:** a cold day has a 30% chance of being followed by a hot day and a 70% chance of being followed by another cold day.\n",
        "\n",
        "To create a hidden markov model we need:\n",
        "* States\n",
        "* Observation Distribution\n",
        "* Transition Distribution\n",
        "\n",
        "For our purpose we will assume we already have this information available as we attempt to predict the weather on a given day."
      ],
      "metadata": {
        "id": "wSwTnTBgeYf2"
      }
    },
    {
      "cell_type": "code",
      "source": [
        "import tensorflow_probability as tfp"
      ],
      "metadata": {
        "id": "MPW0UamK6Nxs"
      },
      "execution_count": null,
      "outputs": []
    },
    {
      "cell_type": "markdown",
      "source": [
        "**Weather Model**\n",
        "\n",
        "We will model a simple weather system and try to predict the temperature on each day given the following information:\n",
        "\n",
        "1.   Cold days are encoded by a 0 and hot days are encoded by a 1.\n",
        "2.   The first day in our sequence has an 80% chance of being cold.\n",
        "3. A cold day has a 30% chance of being followed by a hot day.\n",
        "4. A hot day has a 20% chance of being followed by a cold day.\n",
        "5. On each day the temperature is normally distributed with mean and standard deviation 0 and 5 on a cold dayand mean and standard deviation of 10 on a hot day.\n",
        "\n",
        "In this example, on a hot day the average temperature is 15 and ranges from 5 to 25.\n",
        "\n",
        "The essence of Markov models is to predict future events based on past events.\n",
        "\n"
      ],
      "metadata": {
        "id": "4ibyitDl7at1"
      }
    },
    {
      "cell_type": "code",
      "source": [
        "tfd  =tfp.distributions # making a shortcut for later on\n",
        "initial_distribution = tfd.Categorical(probs = [0.8,0.2] ) # Refer to point 2 above\n",
        "transition_distribution = tfd.Categorical(probs = [[0.7,0.3],\n",
        "                                                   [0.2,0.8]])# refer to points 3 and 4 above\n",
        "observation_distribution = tfd.Normal(loc = [0., 15.], scale=[5., 10.])# refer to point 5 above\n",
        "\n",
        "# the loc argument represent the mean and the scale is the standard deviation\n",
        "## Create the HMM_MarkovModel\n",
        "hmm_model  =tfd.HiddenMarkovModel(\n",
        "    initial_distribution=initial_distribution,\n",
        "    transition_distribution=transition_distribution,\n",
        "    observation_distribution=observation_distribution,\n",
        "    num_steps=7\n",
        ")"
      ],
      "metadata": {
        "id": "ChDFCeLthiem"
      },
      "execution_count": null,
      "outputs": []
    },
    {
      "cell_type": "markdown",
      "source": [
        "The number of steps represent the number of days that we would like to predict information for. In this case we've chosen 7, an entire week.\n",
        "The numebr of steps is how many times we are going to step through this probability cycle and run the hmm_model. **We are interested in predicting the average temperature on each day using the given observation and transitions.**\n",
        "\n",
        "To get the expected temperatures on each day we can do the following."
      ],
      "metadata": {
        "id": "Zl0GfFtDFsAW"
      }
    },
    {
      "cell_type": "code",
      "source": [
        "mean=hmm_model.mean()\n",
        "# due to the way TensorFlow work on a lower level we need to evaluate part of the graph\n",
        "print(mean.numpy())"
      ],
      "metadata": {
        "colab": {
          "base_uri": "https://localhost:8080/"
        },
        "id": "nhjuKmXpGJDJ",
        "outputId": "33bf78b1-5a87-4e76-bd2a-268863b26239"
      },
      "execution_count": null,
      "outputs": [
        {
          "output_type": "stream",
          "name": "stdout",
          "text": [
            "[3.        5.9999995 7.4999995 8.25      8.625001  8.812501  8.90625  ]\n"
          ]
        }
      ]
    },
    {
      "cell_type": "markdown",
      "source": [
        "## **Neural Networks**"
      ],
      "metadata": {
        "id": "XwAskO6XUDex"
      }
    },
    {
      "cell_type": "markdown",
      "source": [
        "The essence of `neural networks` is to perform classification or regression given data. It is more of a function that maps inputs to outputs.\n",
        "\n",
        "**Components of A neural Neural Network**\n",
        "\n",
        "**Input Layer**\n",
        "\n",
        "A neural network is made up of layers. The first layer is the `input layer` that accpets the raw data i.e. what is to be classified.\n",
        "\n",
        "**Output Layer**\n",
        "\n",
        "The last layer is the `Output layer`. It can take one output neuron i.e. [0,1], if the value is closer to 0 the output is 0 and if the output is closer to 1 then the output is 1.\n",
        "\n",
        "The other way to approach it is to have have as many output neurons as classes you are predicting. let's say we are having 5 classes we are predicting, we will have 5 output neurons and each of this neurons will have  a value between 0 and 1 and the sum of all these values is equal to 1.\n",
        "\n",
        "In this case, we are making a prediction of how strongly we think each input information is each class.\n",
        "\n",
        "For `Regression tasks`, we can have one neuron and that will predict some value.\n",
        "\n",
        "The layer(s) in between is called `hidden layer`. The reason it is called hidden is because we don't observe it when using neural network. We cast information to the input layer, we get information from the output layer, we don't know what happens in the hidden layer.\n",
        "\n",
        "Every single layer is connected to another layer using `weight`. **A densely connect neural network means it is connected to every node from the previous layer**. Every single node in the input layer is connected to every single node in the hidden layer.\n",
        "\n",
        "These weights(connections) are what the neural networks are going to optimize to determine the mapping from input to output. They are called trainable parameters.\n",
        "\n",
        "**Bias**\n",
        "\n",
        "The other parameter is bias. A bias exist from the previous layer to the layer that it affects , it connects each neuron in the next layer. This ia constant numeric value that doesn't take any input. Whenever a bias is connected to another neurone its weight is typically one. This is another trainable parameter.\n",
        "\n",
        "These baises can be thought of as Y-intercepts, they move completely up or completely down the entire activation function and allows us get better prediction.\n"
      ],
      "metadata": {
        "id": "_i2GEIkvzGRD"
      }
    },
    {
      "cell_type": "markdown",
      "source": [
        "![Neural Network1.png](data:image/png;base64,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)"
      ],
      "metadata": {
        "id": "ulgBF4inGRgA"
      }
    },
    {
      "cell_type": "markdown",
      "source": [
        "Tof find the hidden nodes, we get the weighted sum of the previous nodes added to the bias.\n"
      ],
      "metadata": {
        "id": "8qOHMmU9GlUS"
      }
    },
    {
      "cell_type": "markdown",
      "source": [
        "##**Activation Functions**\n",
        "Activation functions introduce complexity in the hidden layers.\n",
        "\n",
        "**Relu (Rectified Linear Unit)**\n",
        "\n",
        "Take any values that are less than 0 and then make them 0 and any values that are +ve, its equal to those +ve values.Allows us to remove -ve values.\n",
        "\n",
        "**Tanh(Hyperbolic Tangent)**\n",
        "\n",
        "This squeezes our values between -1 and 1. The more +ve they are, the closer to 1 they are. The more -ve they, the closer to -1 they are.\n",
        "\n",
        "**Sigmoid**\n",
        "\n",
        "Squeeze the values between 0 and 1. It takes any extremely -ve numbers and puts them closer to zero and extremely +ve numbers and puts them closer to 1\n",
        "\n",
        "At eah of the neuron, there is an activation function that is applied to the output of that neuron.\n",
        "\n",
        "We take the weighted sum + bias and then apply am activation fnction to it before we send that value to the next neuron.\n",
        "\n",
        "Activation functions dictates how we would like our output to look like."
      ],
      "metadata": {
        "id": "FMrxv16RgPjX"
      }
    },
    {
      "cell_type": "markdown",
      "source": [
        "Activation functions are meant to introduce **complexity** in a neural network. They introduce a higher dimension in the neural network allowing us to pick up complex patterns that we couldn't determine previous dimension.\n",
        "\n"
      ],
      "metadata": {
        "id": "JD3KlHSOjr2T"
      }
    },
    {
      "cell_type": "markdown",
      "source": [
        "**Lost function/Cost Function**\n",
        "\n",
        "This calculates how far away our output was from our expected output. A higher loss tells us that the network is very bad enabling us to optimize it by adjusting the weights and biases.\n",
        "Examples are: Mean Squared Erroe, Hinge Loss and Mean Absolute Error."
      ],
      "metadata": {
        "id": "J2O7porVl-Rh"
      }
    },
    {
      "cell_type": "markdown",
      "source": [
        "**Gradient Descent**\n",
        "\n",
        "The parameters of a network are weights and biases. The loss function tells how bad/good the model is. We need to get it as low as possible by optimizing the loss function.\n",
        "\n",
        "We are interested in the minimum(global minimum) where we get the least possible loss from our Neural Network. This is Gradient Descent Algorithm which tells us what dierction we need to move our function to get this global minimum.\n",
        "\n",
        "The Backprogation algorithm would go backwards thro' and update weights and biases."
      ],
      "metadata": {
        "id": "Hdx4ODdcneW7"
      }
    },
    {
      "cell_type": "markdown",
      "source": [
        "![Neural Network2.png](data:image/png;base64,iVBORw0KGgoAAAANSUhEUgAAAu0AAAJWCAYAAADss7nRAAAAAXNSR0IArs4c6QAAAARnQU1BAACxjwv8YQUAAAAJcEhZcwAADsMAAA7DAcdvqGQAAP+lSURBVHhe7J0HmFRF1oavu6vumgEVFVGQZEBUTJgjYgIRFUUwYA6YERVzRhEx46ooYlZEMSMmDJgDZsGAigERMbur/tv/fQ/9XYumZ6Z7pqfDzHmfp+b23Fi3boVTp06dmi8VEzmO4ziO4ziOUzQQwWfOnBn93//9n/3WPsHvf/zjH9Hs2bOjVVddNfpber/jOI7jOI7jOGXEn3/+GTVt2jTq3r175Jp2x3Ecx3EcxykyiOA1adrhb3/7m53nmnbHcRzHcRzHKRHzBQHBfL4oZeFv88XBtlG0xBKLu9DuOI7jOI7jOMVkjhJ9vkRQ/1u8wwJCuoX/WYhSf0bRn79Hi/1zfjvPcRzHcRzHcZwiEFjARPPFvy2kteumYZfQPt//ogX+MV/0ycdTo//O/NaFdsdxHMdxHMcpJYnG3cIcwf3vHEj9L/r73/8W3Xj5lT4R1XEcx3Ecx3GKRSh5z/rmmyj1f/8X7/w/E9zjH3H4Xzr8deLPU6a5pt1xHMdxHMdxigfCuELN/N//YqG+9bKuaXccx3Ecx3GcovG/tOgdb2/f97Bogfm+NFv2v5hXNGePC+2O4ziO4ziOUxRisTsWvf833xwDmB/fnhLNn/o13jfHOKY6XGh3HMdxHMdxnKKA2D1H9E7973/RF19+Hf3PRHGE9uoFdxfaHcdxHMdxHKco/CW0s/npx5+iP5DVXdPuOI7jOI7jOOXCHKEd0xicO/6Nf2uW1w0X2h3HcRzHcRynzHGXj47jOI7jOI5T5rjQ7jiO4ziO4zhljgvtjuM4juM4jlPmuNDuOI7jOI7jOGWOC+1Oncmcy8z/Pr/ZcRzHcRyncLjQ7hSE//3vfxYQ1uebL0ffRU7Zoc6Wd7ocx3Ecp7xwod2pM3/++Wf0xhtvRG3bto222Wab6IcffjAB3qkcJKSrw+Xfz3Ecx3HKCxfanToz//zzR/vvv3/0ySefRE899VTUuXPnaPbs2emjTinJVWPOeVOnTo123HHHaOutt44mTpyY7Hccx3Ecp/T44koxaBXRFn/88cfRa6+9Fv3yyy/R7rvvHi266KJu6pEj1113XXTcccdFv/32W/THH39EEyZMMOHPKS4UZwJ5mNC8efOc8jDX9O7dOxo7dmz0t7/9LVpwwQWjt99+O1pmmWXst5cDx3EcxyktFa1pl4BSW2bNmmVC+rnnnhsttdRS0Zprrmka44MOOijaY489yk5Qqev71icHHHBAtPbaaydmFaTr//3f/9lvp3iQZ5999tlohRVWiFq1ahXdfvvttr+mfEOndfLkyfb9+G7/+c9/ohNOOMFGUXLJdxx3kxrHcRzHqT8ahNCOZvf33383QYPfCB0IEBzjN8e0j+0777xjgjlmHBtttFF05plnRj/++GP03//+167/+9//Hn3zzTfpp5QfvBca0TXWWMNGBNBulwMbbrihxQ2uvfZaS0enuCB877PPPtGvv/5qAjz5nM5pTQI134qyIa065z/33HP2W+UsG999951tKXsutDuO4zhO/VHR5jFEfcaMGdHZZ5+dTH5EyFAAtgz3//TTT9HMmTNNYEdAB66XUPKPf/zDhPaFFlrIhPyzzjorOumkk+y8coH3I65XXnlldPLJJ0c///xzYk8+YsSI9Fml44YbbrC4EKd//etf0Zdffmnp6RQP8siWW24ZTZo0yX4jiD/wwAPRtttuO0/ZEOQpAqMjjz32WHTqqafadQjyb775ZtShQ4es18HDDz8cXXPNNdHqq68eDRo0KPrnP/9pZclxGjNqWxzHcQpJxdu0L7DAAolAQUDgDjV+CJDsl6YdgQJtpCpVtmgX8Xyy6aabmjDcpEmTshU2iXvr1q2jr7/+2n7r/d5//33bX0rGjx8fbbfddtEiiyxi2n+EdsyOnOLy/fffRyuttJJtgbkGF154oeV/OrDkl0wYYaJsfPXVV9HKK69s9vBw0UUXRcccc4z9zgYmUXgO4p50DO69914X2p1GD2VN7QtlDtTmOI7j1JaK9x5DhYigjpY8c4ieCpL/CeqbIJwg6CNYNGvWzMxj8JqBRvGSSy6JllxySdMW6vxyA60mwjACO6hxmDJliv1fLpB+pLVTfJZYYgnLwwKPPlCdwKDOXxgoI9OmTUufkR1Guej0Ug55zrvvvps+4jiNF8oPdSCBtolOcLmYMTqOU7lUvE07Hl8ef/zx6MQTTzSzgHXXXdcC9uoM6y+99NImfEgIQcjAswmT7j799FObtNeiRQsTOhBcEOir0kaWA6ecckqiuSGO6pS8+uqrtq+QqLMTdnpqgvMY1QCuc0oDeVp8++231rElv9SUrzmeT/7v2rVr1KdPHzsfwWTUqFHpI/UL+SzXPOk0DjLrqVLXP5Qj2piOHTtGbdq0iYYPH54+kj/Z8rrnf8dpfFS8pn255ZYzYf3888834f2ll16y8PLLL5vLOjSF2FcDlTia9U022SRaZZVVTEMIElDYEsqxMkSzTgcFrU0YP+LLezFaUEgYtVB6ECB8Lr8JPFuNI8Ih8D8NlvY7xWfZZZdN/4oSN5y5ojyVSzmgI4wJTc+ePc08C/OofKCDR97ONX7Kc2w12uQ4QL4g7+JEgPqQjmqpIB7k0bfeesvaIOZToSiqDdxHdTD1v8ilfDqO07CoaKFdFVk2EBqZSIfmfLXVVrN9VHKHHXaY/Q7JvE91960LPL+2FS3C0fPPP28NkxonUZf7ZoP7M5Fxzz33jMaNG2fPUhD8xkwHDyNM8uX5n332maU7Aj9bfHw7xYdvocnWgu9V6HwC5BXmgNxxxx3WqUTzngvkFSYtn3baaWZ7zyhXLhB/8taTTz5p5jga1XEaL+QJ8gF15L///W8bZerUqZPlS+ZyMGG/VLDgnMpcXcofi9WdccYZ9k7bb7999PTTT1s5qO39HMepTCpe054L2PhKiP/www/Te4uLKmy0g2zRfqIJylXo4Bo02QhJulf79u3TRwsLdsndunWL7rnnnuj0009P752XnXfe2SbvIpyfc845JrQBi1I1bdrUOkygOGdD7+LUHdKZQN5CgBHksVzNY7he5/BdWJypOtQZyJctttgiuvXWW6Nhw4bZwly53EPnIKyzcBd5FE83TuMBV6YhKA2YDL3DDjtEr7zyik26BhQHBMwmGf1BsVBMyKuUpVDbzwT9mspfNrhm8ODB5poYTfujjz4abbPNNmaKpgnjpRxVcByneDQKoZ2FZhBcGIKnMv3iiy/SR+qXUBBhiBT3eNj/4koS7aJ8Y+cCFbfMfGDxxRe3DkBtGoFshHEdPXq03ZtGp0uXLum98yKNOg0Jwv3IkSNtP/fCNzg+5BHmb775Zmto8DKCdxJ8e6Ol55zwuU7hIG8J8gjfqTr4DgS+O4IA357fNXUMa5v/sPHlGeT/sKOQC2Ge8cl9jQtMGnEaQD26/PLLm6nj66+/bvULozwIr+TbsNPKqCHrFVRX15AH80VlRiGE/ExA0y6kxMiXiRMnWseWMq1nEd+DDz44euGFF+x3be9dH2SmheM4haNRCO2aKKeKnMmnxUAV7EcffWRa6V69epn2+oILLjD739tuuy0R2nNpNMJRArzcyKUftGzZMv2rbiCAs3AT6UXcENqr6lggjLOQz2KLLWbvKcGL8wl33323aUIxg9hpp52i9dZbzxpaJgdjsoSpEh57aJRc+Ko7Sn++RSi0I7DrWDbUyLJF6CEPcD7XkU91PBucV929q4L4kecJtdGCyttNphmQ0zDhO991111Wj+JkgLoF5Qt5lLyAa9n+/ftHCy+8cNS3b19TFiDgk3fJY7gi/fzzz9N3mxcEfdVz3DcXzTX3rq5sEDfWPlD5qE05AUajiJ/KMc/kf8KRRx5p5ZXfpeK9996zEQ+V55rSxXGc2tMohPY111zTKnZVbLWtPPOFiouGAvtKtEPS9PN8GoW99trLFr4BKuSaKrtwlVa01WiqgcaJ1UgLAVpW7I0FjaEaisy48V5o1z/44AMbrqXC5twwnekocR37dBwQ1Gh4WZAHMwfMJTDLKaX9aaVD2qphJ61FdXlK6PsiAAjus+qqq+Z0fV3Qqqr5QJyIn8wDnIYH3xjFxIMPPmj5sHfv3tFDDz1kx8jf0jzjnQXvWUOHDrW8dP3119vaAmPGjEm8gVH/INRnU0BwL45zv8MPP9wUIKxzkFkeMuG+qre5B9tMqNPYr3qvNjCKIBj52mOPPZJnITDTmakunvUJJpuMcGy88cbWFpAejuPUH42ihGFLKFMOAqYZ9Y0qcewpqVB5braKG6EVO82qtNkhYaPACrDAdTRauU4ArArixv21aJPiStpVVxFzHnbP1157rf3PPSQw8juMc1XwPDz+rL/++qZ1z/U6JzsIH6GmkDzCN6lKsNC3Zqtvx+/QXWqhvwffXHle8csVrgXFu9RUla5O3aBjf/XVV0c77rij1dnKn0prXPoyjwYtL3mVfM85COoElAGtWrVK9j/xxBNZO3kcY10DNOxyWcpvFqyTh7GqoJzJO0yYh/lNvU+7k0/eDuE6XPwSf6AevuWWWxIzRI7znvfff/9cppPFhHdkkixpyMgrSpeq2jrHcepOoxDaqTgRPtC2IyAgmNYXNCgEKi6GNVn0iAqMgJtJ7NqZ/c9xKmMao6OPPjp9dXZBhPtRQYeVf3gegn9dhQZdr8mkggmlOlZdRcyIgo5zPt49EK7oXKC5x+6UFVNpdLCZv+GGG6JddtnFJglzHYEGAG0a5zq1h3yiTh2Qtmr4q4L8yHdDY8lvwJ0q5aWueSsblEnuS+B3Lih/hYIXmlXFsT7imQtKLwjLqFN7SEc8wTD/B5SHMQs877zzTIPNxFO04gjW2bwP8V2YO6H6hZDNNS77OffYY481Mz3+x8wGbTtU900feeQR6zzgYpV6Tbz44osm0FMH1jZfEg+8d/F8flNX0glBQN9vv/1sH/dHE5+LOU99QLrTceAdp0+fPteibo7jFJ5GIbRTqVDRIRRSARZD047G4eKLL7ZKlcBz0Rqh/bnzzjtNMwQIHGipWYSDSrgqQqGE87gfWnDMUvCcwL5cG4fwXplk7s/1ngjpofBC48K1pDveZeiwbL755jY5leFd3Eli04+WislULIFPhY8AR3pVlxZOdkhv8gUd1NDLBg0rgk11aUo+xG449BbECArfpLrreJ62ueYVkJDBNXzvfAgFFN4zl2fnE7d84d50HggygXNqh/ITpi2hwE6aMgeGevKEE04wMxHqFuocQrY8yj7s25U/KBdaSyIT8j6aeM6Btm3bJlr2bPfmfgRMcthyLtp28uZuu+1m64Fo9JPOBudUB+UvE4Rg2irqROLAOyO4cy/qUJ5JfBmRqO2coJriVRPUDzhFAL5Npncfx3EKS6MQ2qnUERqp+AiZ2uRCogoeLTLDhgJ/1Nj9wUILLRR1797dflNZU6lrqflMqFRVsapy1D4mZDGxlcZLjU11qGHQ/bQFpU2mxkbn6L2qAs2SIJ7y0a7rdH/ge/DObOl4rLPOOma3SqWPBo0Jq3pHJ3dIX9KUdAu10eQNBPds35BzEWr4HixGFs5nkOeY8NtVBfcg5KrxC4WMsJzUBPEI5z0wz4P3qyqOCNE8i7ghmD3zzDNmbsHkaTrzvDeeRXjvXPNbmDffeeedaMUVVzQNcLNmzWx0AlMvp/bwveg88l0JfCMmljJpPR9NLt+IOpdvT8eQvFDVZFQWQUKgp47kfLT8+s7Z8hXnMXKIaQ6/OY/vT55ipJDypjpR13MuShbOYR+jmIzG4mFGdXMIo2XkWVzocv5NN92UdFB4Hs+gvCme+aLrKE/MSwpH53KF76Fn8w7UIY7j1B+NQminEqaCVOWJcFifzJgxw9yM0UhQsbIgBkOvIVTWaEpUCfN/NjgmITdcrAjfxI899ph1AITeLxukAfeggaCBqurcbJV/dfcVNHg6b+WVV06ERILiz7Y6EPbRcIGudfIHASU0OZEgkg3SmGNM+Dv55JPTe+ew1lprVXmd4JtyDl4yEIhy6TxCNiElF8ifoWYeAS9bngX2kw+J04ABA0y4Zl0BTBpIH70bplrMC2HxMo3GVYfy5aWXXhqtu+66phEF0oIOCOZvaFkVr6ri52QHDTuesqg/ySeHHHJIUn/mk5Z8J0aL+J66jpG9EPYT0Jjz/biGyffMr+G3vnWI7oXCBDiHfIaGnWfRkdNIaghexPBcpvxLXhk4cKDlPfJStnfj3irLmOxwDkI2HU007Iojyg+h+2S7XwjXEV/WPFh99dVNe58LmffVsylnvLvjOPVHoxDagYqFSgpqEh5rixr7CRMmmJAKVOa4PERbElZ2VHD4GFac0HRU1ZngOu6NFi9Ez8gFCVe4cETQwFQnW6VOQxneV0PE1YG2R8IT74OwVxuIYz7v5GRHZhqCIXW+D408ggIdLDpuV1xxRXT88cebsEHeQhPIN1C+wOtSTXAu7vTIy5yPiUAu1EVo510EQjZ5TuUohHMRcDAfu+aaaxJNovK0yivXMjKB+zx1pGuCTjnCJc/nOeRbtgTSH3MxzOOAfU5ukH/oRJE/SDe010zGpB7V98oVvmtmJ1LzmfStOIdygVca5aOaOqucQx6R2QrwP6M3XEceGjFihLlLBYR0zuOYfnM+QcoNXOPiTStEo16KK5p25j+1a9fOJsrybuQ75gFxD84BfvMcXZcN6mzig/cy5gZwL67JJY3De/J8yoBgLQ7HceqPRiG0U4nR0KshqGmVx9pCJUwDgLsxBASeC7IT1v/AsKJs0QWTNKuqZDmPRkFoWDRfiCPXDRkyZJ4JueyXECQYyq0JKnsaMMVnq622sq1TGvgOoZkKJkfkHUZ8MOMg/2NahQDACA9CN+WDBluNNh073OyFeSEbHJfnDARfzJxygY5EbeDdQqE9m5ChfEjcWBOBTrSg3CFUYZKFhpGF1/TejJDlAu9LHicePAvzNGyYKc8IP4x+UdcgiDGyVVMaOn+Ba1xMQkhXwlFHHZXzZPgQXZ95vjqz4X5NfGcfgXxBPVkdnKdn6H9QfiQv3HjjjZbX0JCTHyh3aLQx2WEOD/Ob1lhjDatziVemIiVsD9gy2nD55Zdb/uN+BEaPzj///Lneh1EzJpRjXx7uD6Fe55kaLaC+yMUDGeZolHPqfFA6SNlCh9VxnPqj0Qjtod0sw5/1AZUoWgu0ezTeaFF69uxpWn4qtrBCBhp6VapsGRLOVsmyj4DQJULBJVdoiLbcckuLB6YMWvKb/2lsqMQz3U9mi08mNADER/GkMXJKB99QjargG/P99T353nznME9yjHyLYIt3Cn7n8v11D/KB/Ghng/N0bosWLWwr4agmISkkM06Z/+vdMVtBaAfel/dBs4iJBK5FcZVHx5V04Pl4AKlJ6OBczIgoK9wPYWXvvfc2+2bux0JuKpt0ZLVQmVMz5A1Gf0gv0pV6muX7+Z/vw75c0lL5LMxv2dC9GOUE/c/IU01wbnjvMF7aTx4hLyLkEn9GchihYRSGfEjA7h2lDgI9nmLC++DpRvfS+6uccB6dmcmTJ5tGPyyrtDms24HQT4eAOKgzAdyTvEk9wYRfriNgEqT7Z4N7sDgeHf+XX355rvfXdeG+qsjlHMdxspN7S1nhhAKxhi0LCRURlSq2vUDjjvaClUDD4cMQtJ2hxhGbR6ByzFax0QiIqrwg1ASNIrbjaAfvuOMO07SQLlS6bBneZMvz0c7iBaYmwsbEKQ8y84/MPshbCjT0CNqUBxZoOfTQQy3fEvKF53FdtuFx5dswTqFfbUzHaoJrCZyPdrw6KG+ce/vttyfvQgcaAZ4RBDolvD8jDQg0pAPHTzzxxESrG8Y1BC0m3p+4nntTlriO9IUrr7wyKQ/cI1zF2KkapTfzCpRPyZf8JvDd84HzuYc6UPzPfZhcnZm/M0cTscvO7PTWBkZcFG/eD7OWEI4R6ARi7hLOTwK1B8Qbkx1cXWKSRf5D2KcNIC9nwkRo7ouXHZ6rchbCdSxCFbYpOGvIBvcgPWgrOJ92jXkbeANjNEHll3NIb5RW2YImxxMXfW/HcfKjwUpaVAqqGKi8gcoLpOUDztHxuqBKUQtfcF+GRRlyRCCAsOLUM+VFBlRJZ1aweo9whADzGxqffOOPtv6ss86yCpT0QPuDoEWFSzyJg+6LjXJmXLLBOWoYFFendJAfwu+AZhltImYACEWsFYBJDMIJjSmLyOy6667WkCPA1uYb6pqvvvrKtiF4RsJcANem5BHyGsP6xBOBhGfWBNcpnyHw87sqGNkiD6M1V9ngGZityWsMtvzYCHM/4sPy+L169UryflUgNJFmxBsQfNA+8hw6Cwgw3J/jBCYe5lM+GyukOaOhMrUiDckjQDpW970zCfMK5oqC+zB3I/N7aA4OcSAv0NnLJU+GcB33DePJ8/Us7k27U9N7hHlPczDIk3Q2MI+h7iafYt7FM7PdT6ZxoZAcwv88h/pA5Z20yTZ5NoQyQkeAb0O6MqrMhFi0/cQRMI9jHkK2QIcYc6AzzzzTzgu/Q/jejuNUTYMV2lVRqUJCQ8AWqhOi6wLPQLMmzToNPI14tkZHlVS/fv2s8iWELrcy48bxsCHR9flWdtxr3333NTMZ7okJARNl0fRQEUtTiuaQUYJcIW5KXxorp/iQF/i+DH0rP7OP0RxMP1gEBk0zHUncHrLwDN+MQEOPlozrapu39P2Ba3X9ueeeax0F7JOxV6aBZ4hdxxn1UXwzQatIWSCuvBeEczuqgrxNeeRaguKDIENnlImCmAdQVkmP0emFcYhHZlkVpA8dEN5T8UXbyPuwT9r2DTbYwP6nHLC4WpguTnZIIzTHpBnfiTSVi9u6gGAZQgeLZynvsaVzoHzCsffee8+O5QP5iA5rmHfoBIf/IxTnkxcy8yF1bLhP/+tdhEZvSUPilHkcKBt05NlynA5tVfAMxfuMM84wf/mUWcqD4sM9+HaKD89WuxYGFAVnn322tS14QJPnJa7JFk/HceamQbcmVAIIwggk2AxSoSCwU3kiAKgiUoWhSqO2lQdaN56h4VaGd6sSYPVstA9ABa8JspkCjO6h4UtVlLWB5xI/hBS07twLkx7sGZkchRaRxoA0w9NMrtDAkm7cXyMGTnFRg4mdtoRvNFw0sOShqgLfm8BETBrb2sCzuTY0XeH5mffDQxJ5hLzOlniGwgchBKGL84gbHUsgzkLXhfA/+4FrFQBBnXtxDsI/k/juu+++JC7hvQXnItyguSf+6gywEiX3kLAOvO9mm22W/m8OmfFzsqN6E0izQqSb1r/gXgiN1FN8a+UPtgi5LMIEnIfQjsa/JnQP4N5M0gzzD/ma+3EeeYT6Nnx2PlR1Dfszj6HNBp4vc8dMiAflQG0NneLq0HO45/Dhw6NZs2ZZZ5zraVP1vQjVoXO4jknHrDpLmcoWR8dx5qXBCO1UAmg7qGxx74YbLIbzWIETbRhaBY5z3uGHH24+zxGqWcgHExXOZ/EONci1AVtCKm+eQSXNQhpV3Uv7EcSJL/aO+ApGqIDMyo9KVo0av2sL96WSZZiYiUrck7hiq0sFj7CO4IFGKheXfwIfv6rUmeTnlI5wxV/ZjmcTRkPIU7UV2LmOb0++z7Q351iYl5kATVw0AkVQ51EhhHzJfcmXWhgHwYt8Btwrs6wA+2VTzDMo15gBYWKGHS727UwexU825YHzdW5mPPjNcUzfuA9Qf+Dznfcjfjqf/5WO4T2cmqEe0ihomI61hfRnwqTgf+q9bN/l4IMPtjzF86mDMUOpCcVVILRzb90/rK9Vz2Z7dqHBwQFlgjwrN8KZzyVOjKwqvjWNXuk80ojvwvWMnCH4M++J/3nmdtttZ/NjmC8VBkyOWAGbdhbzNe6jsobmXvd3HKd6Kl5opwJBGKeSpfLAbpBKAJ+3zM5nASIm7VAhqGJhiJwKiwoN11gstoKNLxOC0Eqihea8bMJAdVBp6xl0CHJxa0flhXkKWgc6Dzw/W+WlCg5hmvuH5+RT2XGu3muLLbaILrvsMmtQ6GzQWNGwYLpAuuUDNtFKM9LSKR2MIvGdCWjac0EdzdrAM3gWZRF/7UJ5lrIg8KaCAC5TAY6T57OhfCowrQHOl8BE3uU+mSCwYAoEvBv3YpIoz6YzjcDB6JKEh8xnZcI9KCs6jw4t10rYF3oWWwLUdG9nDnTGyLv6tqxcXZe041uHK/wyx4i6LRvkUY7xzfiutAG0E/qGIYqTRkkFCiOO6Th5g9/kj9q8h67NF83ZojzSDlK3ZyN8t3yew3uRRpoDI2UY+/Fag+kLdvcozRT4n4DgzogV9QAdaK5hpLeuHTTHaSxUvNBOocfOjqE6zAJU+YSVJ1Cp8D/bbI08+9GicQ423xdddFH6SO5QaVOJoeEjTvyuCeJCoOJTvKqrQLFNplHjGdy/NpW6rqHSxbUfJggIOGj7mfDEkDLbfIQ4GgpW9iMdaxMnpzCQ9tKE8TtXu2C+G99bebCqhj4TrsMmmDxJ2ZG7T+UB7teyZcuk7N18882mnaPTzDXsq857DOWbwPXyt44tLftAAh7HCcCzCQgQ+p/3QVCQXXxm2eS4OgXZQIDTcZ655557zlNele7cS+9Lp0LxcqqH+ghFAmnI98XMTt+rNpDHUKQA34iREX2zTOhEhp5l+N4vvPBCleeDNOmCa8JvnUv9Xx3Kx/nmH9oIXcfoL0JyNqGY/Mk5hMx3yQXSRtcDW00wD++tQJzYz7dFQcXoN/M/GMFSeXYcp3qqrpEqCDTrCLEM8VHxo1FBEECTxkRPPKRQKXEMwWSvvfYyoRw/5Xi1QFiV9o6KhcpWK+TlA0P5VI4I/zQQVFS5Qrz0PLZVPXvUqFEWzx49elilWd251aFreFcaK7yKMGkOjT+L6kA+9+VcJhviSQB/1U5p4DsgFOvbVaVZzITzsWtlS5Dr0pogD1LOMK3CS42024LGWHmVckHnlMVlcBnHyA6LFGGiAmrcBfFAi0+ZYj8rZT799NPW0GsBHobaua/eNwSzmwEDBljZosyQLri1zIRrqUN4f0xmssGonOLG/RDaM+F9eA7aXQku+Px2gSQ3yCNoZUlnvgneZDC1CPNE+Lsm8FKijhTXUd9XJ0izcBHnSeDEM0o2lNfCtT/Yl2kaRnsTxpdzcglCnVnikw+MJPHOQH7897//PU/nh+fQudTzyNO1gbgxogGktYT2bN8p2/s9/vjjVhc4jpMbDUJoR8tLBZoZWJb9uuuuMy08jTsgNFCp4aOZ/Wjf6PHT4KKZYVIaniVYdKKqyqcqiAcVIRUXHYd8yazUstG2bVuL56233preUx4QbyYXrrzyyrXS2jiFge+AkEi+peHOxUQLuIa8JY0cXh64Vy75n+fQ8SXfc37mNUyMQ3BX3sbmXqZYeJCgTALHdY5gPgpQFhE88HpE2eYZ7COvIZhUBUK7OtLEkwVstEw+cB9sbilPlCtM1bK9s2zxuQcmQLo+REJW6Jtdk8ud3EDTzjfl25IvWLGX70F6Z/suVUH+ZU0KriN/YFbIyIuE2WwwKZL8BZzHyClmMpkQt2zIJa/iqc6a8nR1z84GcQ4F61yhs6DVTdH+o0yhPQrjzT0VT35n+ojPFcoVzxDq+FdFvu/iOM7cVLzQTsVDZVhVoMLGIwowrA5M1AGOU4lQmVG58xsPKv37989Z2AlBQGBCpjoJXkE5pUAdRvJ3TV4hBPmfJdYRNBAUmAeCt5ZcBaXqzuOedISZ9A1oOylzlDVsy6vTfiJo4ZNaZUnCsrSYCDYiLG8c43+EZvxbax9aQbTqlFFGl5ggx0gcHQLiVFW5ZyQOIZK4ItjxTtnemXuwkqXeiTRVnJ2aQVuNfbm+JWmJr/uq0juE46Q/9Xz4zfluaPBr0iZznLlR3IOOA+3GKaecYh7I2Me9FLgnI5OCdgbzwFDIJo8C52N+ky+dOnVKnpcPnH/OOedY+QfKMvMDQkgjygLn8m6Ka74gtEvTTp6n45JvfB3HyYO4gDV4Tj/9dGqRVFwRp5ZccslUXNGk4oa0xhBXZhYcp5IYOnRoKhZyLM+PHTs2FQsS6SNVo3PWXHPNVCx0pOIGP7XffvtZWckFlZPqygz7H3vssdRVV12V+vrrr+2ZucQtFo5S7du3tzjFwlGqS5cuqR9//DE1adKkVCw8pc+qmlioSG266aaWHlzP+/E73HJv0uz999+3d858h1ioT8XCpNUfL730UnrvX3C+4tKkSRO7VywIpWLBz/Y5ufHrr7+mHn/88VQsAFoa8r0IM2bMsO+o/KUQQl7i+r333tuu1/dt1apV+ozc6NWrl11PnuAecSctfWQOPJc4cm/ln7Zt26aP/lUGyDMcI2y//fb2fz5ceumlyTv07ds3vbd6lCakQ4sWLexa3qNp06apuPNhx+CJJ56w/Kl3+PDDD9NH8uPzzz9PxZ0di2fcMbFvpEA5CgNtquM4daNBmMfUBBMt40rFNF4Mj6MR4P9cg+NUCnGZnsvMBY9KuYAmEzAnQ9scN/S2sJFGp3KlujLDfswfcK+HvXmuYHrDXAvKMRPrnnnmGRtNYB2BmkyxSA+eyxLsmAzwm3dFM8o76hz2xcKemfhkiz9aWMxesFfPtNsHriFwL2yj0axi5891sSBl+53q0XdgdIXRDPJwLOzZfuY+8FtpyZaAxlvXklfRjDPZWfuo6+NOYqINzoULL7wwyRvEh4n55FvmNTAiw3ocLE6mfMI3xrMQ8Eyh/ACY3nBePnTu3Nmeny0/VoXShpGhXXbZxTToXE/aUG4EZTuMa3WTwXMFbzo8m+flE2fHcfIgLrgNnttuuy3Vo0eP1PDhwxNtR1y51BgcpxJBiz1o0KDUmWeeaf/nos0OOemkk0z7ttRSS6X31ExtyguaN+LGllDocqd76TlovU844YRULPCbFhdtKlpcNIVDhgyZ6/zaxCMzndE2sq+Q79TQIe2po9955x0b1SAfoilmu8Yaa6Tijpudh+aW9GV0gy2a4r322svOCwNlgPtx35oIvxOaaGn5uQ/5hRALo0ngf0ZvGZ3St+ceCsRrueWWs/gzuqT9ucK7ci2hX79+6b3Vk/kMadsJ5PtYcLf9aMV5B/bzG818bQg17WuttVaS1qSHNOwKuXwDx3GqZz7+xAW3QaNXjCsW22b+7zgNDTSQaAvRKMeNpWns8gEbWDSDVS1Gkwllqjbliesyy2MxyiVeSVhcDM8VeJMinQDNbG3fJRte1+RPLHRaePDBB22OUCzwWV5mVIV8zZwEbNRjwdAmNDOiwWJZ/A7zOZ57brrppmR+Qa5QXngezgpY+I7/iQNwL56r3zgfePvtt5OFvIR+o+HHLp9F9LhnPuDBiYnaXMeKrdkmxdYE6XLiiSfab9KGES5GCkg/3guI21tvvZV3HQHTp0+3kT3eEy9SzD8gvnw/5X3B/nzTwHGcuWkUQnsm3pA6jQHlc7Z1aSy5vqaykss52eA6xVPXl6pc6h1q+y5OYSD9EfrIs7j43HrrrRNBGcGdY6At6Hzc/uJ6FyEXzzM4BMgUqGsi/P5MVO7Tp4+td8CEVKAzS+cBhwas/oywqzwslI8yySceeMBhcivgupgOSD7wfPzU0/HBxIdnk0ZKX+B/XGGeffbZeZvvQCi048r1ySefTJ5BCN+X3/m8v+M489Iou71eeTiNAeXxcs/r5VIeKyW9GgPSArPeBYJxhw4d7H+EQwROgoRivheCM4HjN954Y8SCPQjrzH3I93vqfOKAwDtr1izTuB9xxBGmvacz8MQTT5hWWZ2J+sgz2KUT6KggGOt9c4XRAby5sAopNvWkj+KpLelz0kkn1Upgz4R7SFvP/esjTRynsdMoNe2O45QPofDlOKEWGMgfuF8cMmSI+RzHHAWBmvMkJGL2ceCBB5opiAT1QgmOPL9UeZNFABk5QBNOPJQmuRDGm5EBhHMm5eo+CPWsWYB5WG0JNe2scoqjB+4PpUozx2nIuNDuOI7jlA2ZQrugqcILCrbk2GBjy47ZSrdu3UyrjgCPMC9hvdKFRt5FnZK6EI5KIKgzasAaDIMHD7b043g+nYGQUGhnJOLSSy9NH3Ecpz5wod1xHMcpG2iSCKEgqX2hIK7fVTVhlS60630R3kmL2ryP0oYt99D/hUobVideddVVzXZ+/PjxNv/AcZz6w4V2x3Ecp2ygSZKQGcI+hE1thZowHROFEkxLhd6zLkI7cJ/MNCtk2mDzzwhIuDqx4zj1gwvtjuM4TtkgITNTaG9sSNCuq9AOmc18IYV28G/mOMXBS5jjOI7jNGAQ0sNQaOrrvo7jzI0L7Y7jOI7j1AkX2h2n/nGh3XEcx3Ecx3HKHBfaHcdxnLLCtbZ/4WnhOI7wiaiO4ziO4ziOU+a4pt1xHMdxHMdxyhwX2h3HcRzHcRynzHGh3XEcx3Ecx3HKHBfaHcdxHMdxHKfMcaHdcRzHcRzHccocF9qdisSdHjmO4ziO05hwod2pSBDaXXB3HMdxHKex4EK7U3H8/vvv0T777BNtscUW0ffff5/e6ziO4ziO03Bxod2pGKRZP+aYY6Kbb745eumll6LDDjvMhHjHcRzHcZyGjAvtTsXwv//9L/r888+jUaNGRf/4xz+i3377zQR2fjuO4ziO4zRkXGh3igICdyb52KT/8ccfdv7uu+9uv//880/bj9Ydwd3t2x3HcRzHaci40O4Uhfnmmy96/fXXo5NOOsm05doHuQjcf//736MpU6ZEb775ZtIBaN26dbThhhtG//znP5N7OY7jOI7jNETmiwUmV1E69Q6CeqtWraK//e1vJoAfccQR0dChQ+cS2DMFbx1j/9dffx2tuuqq0c8//xz93//9n+1HgF9ttdXst+M4juM4TkPGNe1OUcCcZZllljEBHGF8+PDh0S677JLVbCYEAf0///lPdM4550Q//vijnb/AAguY95gOHTqkz3Icx3Ecx2nYuKbdKRoff/xxtPrqq5sQjvCOAI4XmD59+qTPmFvbznE083iIYfLpf//7X/u/ZcuW0Ycffmi/HcdxHMdxGgMu9ZQxufSn0ETXpK0uF1ZaaaXoqaeeMvMYPL4Q+vfvH7333nvJxFLBu/Net9xyS3TnnXcmx9k3cuRIF9gdx3Ecx2lUuKa9TNFnQUhFwzxu3Diz50ZY5RgCLxpnNNdLLrmkaahDLXW5QiejX79+0ZgxYyy+/M9k0scffzyaf/75bZ/e/dFHH4323Xff6LvvvrP/4eqrr7brOddxHMdxHKex4EJ7GcOneeedd2zlz2+//dYE9QUXXNAEeTTPbBHiEWCxFz/88MOjbbfdNmrWrFm01FJLpe8SJYJ+OQj1xIO4M4H0008/tXcgXHHFFdGhhx5q5/A/CydtvPHGJtQTf+K+8847m+Ydm3bHcRzHcZzGhAvtZUL4GdCsz5492zTMCOEI7DKDqe5zYXaCD/NFFlkkat++fXTkkUdGffv2NWFf5iX8LgduvPHG6MADD7TfvBeeZbBTZzThk08+ibbZZpvo+++/N/t33mvHHXc07Xy5xN9xHMdxHKeYuNBeQpT00oAjrJ9xxhlmAiLTkZ9++snOy8WGG+EXn+UsNsT5COrLLbecaep33XXXqGfPnnZPhODMZxcTLYZEh+TZZ5+13wjjJ554ognnaNRnzJhhcSV+vXr1MiGfc9wsxnEcp/6hXlY7kUv74zhO/eNCewlhGX4JoqNHj44GDx4cffHFF2b+gcDKp5EpCO4REV7RpHPOZ599ZppoBPOpU6daQDsvIRzhnfsD+7jXlltuGZ1wwgnR5ptvbvt5NseKLbjTuaARePXVV6MNNtjA3ok4LLbYYnb8hx9+sDQhDbbaaqvonnvuif71r395w+E4jlPPoFShbaCeFvwPEheK3WY4jjMHF9qLSJjUVHpUiqzyicYZ+24EVQRTNO5NmzaNzjzzzOjJJ580wRzXiIsuumj66r/gnqpcEeT333//6K233jKf5gj8mJsIKl4E4Y4dO0Z33HGHrSjKOTxTgnQxIM6q9LfbbjubcMr/BOKneK611lrRM888YwK74ziOUz+EbRPtzS+//GJ178ILL2ymi8yRytb+OI5TXFxoLyIIxhKwEUz33ntv8wpDBcl+hFb2M0mT/XiHEXwmBFkJ2CBBNxS2OQ+B/auvvjKPLKw8CpzD9XQMuJ7KeKONNjL/50svvbRpu3k29ysGel/iyiJJs2bNsv2yvccW/6abbipafBzHcRortBsE2g3mE3300UfWXqiNWWWVVaJLL7002myzzZLzvW52nOLj9gb1DJWboJJDMB4yZIhpuRFKGYoEhOnmzZtHl1xyiWmeQ4EdAZcKVL8F9+Z/HVdAM73yyitH++23n1XC1113nWmtAeGcc+goPPHEE9Eaa6xhz+T5YVzrGzUGmPBkavh59+uvvz79n+M4jlMfqM6nLkZx0rt3bxv9VXvDcX5Pnjw56tatW3TBBRfYfhfYHac0uKa9HpE2WRXc22+/bat7vvbaayas4r6RChGBeZ111jHb7YUWWsj2A8dq83l4HtdJGOY3wjqdhBEjRkRvvPHGXPelI9G9e3ebAIvWvViwQiqdCbTtxEENBUyaNCnq3LmzpY03EI7jOIWHdoD6lbYKM02tl6ERT43QgtqMU089NTrppJNs3pTjOMXFhfZ6RpXiIYccEl177bVJhUhlyG+E9Keffjpq27at/S+4LhRi80FCeyjs6jPz7Isvvjg6++yzzZ2iID5Uwmjf6UDgYaa+oIHg2UxCxQ89/zM68OuvvyZxZgLqhAkT7LfjOI5TeGhjaBNwD4yHLrU5KI4Y7WzRokW0ySabJMI7bQQKIM7t06dPohhyHKc4eImrRxCUn3vuObPZ/ve//51o1hFSCZjJTJ8+PavATqBCrE1A8NVWQceodPFS8+abb5orSCaicpz4oP3feuuto3PPPTcdk7+E/UJCGmDP//777ycCO/aS66+/fvqMyCbgDh8+3H7XRxwcx3EaO7QJeCO77bbbrC4G5juxJsZOO+1kq1WjTEGJAihbqL/32Wef6O6777Z9juMUkVggcgrMn3/+mYort9TQoUNTsVCc+sc//oHUaYH/+/Tpk/ryyy9TcSVpoZiEz4sr39SVV16ZWmyxxVKx4J6KK3DbxkJ06uijj059//339i6FjCP3O+igg5I0WWihhVLjxo1LxQ1D6tlnn7U4KDRr1iw1ceLE1B9//JG+2nEcxykUv/32W2qLLbaw+vaf//xnav7550+dd955Vh9TVxOof3///ffU7rvvbudRb9NOtGrVKvXRRx+l7+Q4TjFw85h6AP/pDB1iH8hQohYzWn755aO4QjTPKKCkR9NdLMLPLQ07WvfjjjvOzHT4n3M4tttuu1l8V1xxxeQd6hpX7NfxjsMIA/bzDzzwgJnj8FyegT/6++67z87leYxOMFqx5ppr2j7HcRyn7lDn4vp3zz33tHo2FsjNHfBLL71kJjO4Hpa7XY598803tvjdK6+8YnUz85BWX311azdYhbvQZLZVhWh/Ckm5xcdpHLjQXmC+/fbbqGvXruYrXQIwIMTjpWXxxRe3CpJjKvClKvjETfFj2BPTGCpkOhpAvHD/9cgjj9j/nFvXuPLeBx10UPTwww9bZb/CCiuYaZDuzbNZBOrFF1+0fTQe+Aj+4IMPoiZNmqTv4jiO49QF6lpMElHaYPICrFAtM0UEderksM6XOScCPccxt8SBAgv2YWpZSML2iWfRdrAtBwrRFjpObXCb9gKgimXatGnm+xz3WAjmFGoqtSuuuMI8szRr1sz2l0uBV4VMQKPCJFT8usu+nngyWoDgTmdEcWa/3jlfqHRxQYkdJYt26F66H89mAlS7du1MYOeZ3333XXT00UfbccdxHKf2UNciAOPFjLZKoEVHYA/bBdX5gtHiG264wfZzD+poVurGXWRt24Sq4Bnc88MPP4zOOOMM0/RnQ+1HoZ9fFTyHOVd0Vnh/xykmf48Lwxnp304toRDjvlArm0prseSSS1oFh5YdYb0qjyyZFWMxUcWsSpgJRwjOaFz4n4Cv9/fee8808Xi7YZ+urQsI8ARVttyX/xdbbDEbdr3zzjttH8fR7Bx88MFlo2lxHMepRFRvn3DCCVavA/UszgBWWmklq285p6q6FvNGTBY///zzpH5GOcXCS3VtEzKZOXOmOUzAjBLFF6OttE/LLLOMHefZme0H7W99thNXXXVVtNdee0V33XWXmXsysl7o93acqnDzmDpC8iGwr7feetFPP/2UVGII7C+88IJpJuiNo8muKqnLrcDzDgMHDrRKnN+if//+0eWXX27eBVRBFgKlS5gO7Js4caL5j0dgx2Um3mTq0xWl4zhOY4HRTJRMmMlgk45Gu2nTplavE6prl1gxtX379tYOIERz/ieffGLXo6AqFAjGLPgExIf6ny2KnT322MOE52WXXTZaYoklzMYepVJ9QrvUpUsXG6Xg3QnM+2IkmOcTyq09dxoWrrasI7gtRBOACQfCOb18tBXYtGP+QYWmyTyVAhXw0KFDTbOtuFOp45t3wIAB0Q8//GD7CgWVXGZFx/+bbrqp2bKjDRo2bFjBOgmO4ziNDQROjQLTPs2ePdt+Y4t+/PHH5yywA23biSeeaAI6Qj/CK4P2hRTYgflMCOoIw8SL59DOEvdrrrnGBOhVVlklWnXVVc2fPIsXMpG2vuD5OJpgSxoRN957hx12SPY5Tn3imvZaQuVHxUFhffXVV20fhXbdddc1m2wqklDIrC6Zy7Gg8y7EH68yLMYE/E+ljN27lrMuFqSfV4iO4zi1gzqUeh1BE/NDFCKAaQuL3KGxpo7NRWjnXgj+ePVS28aoMvO6CjkaysrYMrsh7gSeJ427/g/jy2807gjyTJrFnAcPOTg9qOm9qoPnsJYJWn3af+6lZxMYXaft79atW/KcujzPcbLhQnsdoOJD0w4UTiqJ8ePH24RTKr5KFtpDjjrqKFvNlQqLypLAsGWPHj3SZziO4zjlDG0QQu7XX39to8EIntTlmMm8/vrribCukAuYhYwYMSL6/fff7XoWZdp5553TR+sOdvPEVeAeGLt2vNhMmTLF3oF3Eryj2lq083pHTDpvvvlmm2xbG7gn96K979Spk+3jvtmefeqpp0bHHnuseYpTOrK/3Nt5pzJwe4M8YSgQ94jYWk+dOjWpICjQTJZp3rx5Vk2FKsJsodzBtn2DDTZI/xfZ8CT+1DWJyXEcxyl/aG+ot6nDabtoz1j1FDNOtUUI4Jh74oAArzDM1QLOpZ1TmweHH364na9rMZnhnELRsmXLuVxJtmnTJnrooYfMTeWMGTPMgwttE4oyzgvjpndki0knpjOhkJ0PvB9Kq5tuuim9JzKN+2OPPWbCOzAKzXnYuBMnzgfioPRxnLriQnsOqCKgwFO5nX/++dGjjz5qlQEwLMiEHrYQatgbCrh+ZJY8FZQqoP3228/s+xzHcZzyh7obBwmC/xFmAaGctou5TK1bt7b2DC8tBMxMtttuOzONxBwUoR6hmfNWXnll02rTTv7yyy+myS8UxIlnCFwFozSj7V100UXNPBVXxbiDRPPOiMGoUaNsFBgTGdor2mzgmrq0zTwPO3pB+tDhoQOBPT3x4nmkAxp55giweBUeZhynYMQZzKmBWFi3bVzoUzfffLMtwR9XBEjytuT/gw8+aMcaOh9//HEqrrztvUmDuMJPDRgwIH3UcRzHKWd+//33VPv27VOx8GqhVatWqV9//TV9NJV64403UgsuuKDV72w5h/pedb6uo91r2bJlar311kvFwqvt4/gSSyyRevfdd9N3qzvEd/vtt7d7E2h/iK/aZG1D2Ef47bffUkOGDEktsMACFv9jjjkmfUbt+P777+0+tHuErl27puJOih1jO2jQoNQ///nPVCy4W+A35x144IGpuLORNa6Oky+uac8BtBHAcCG+belNMxTGNq4UsvppjdM2/athwBBoixYtzH4ReD8mMN16663mszeukGxfQ3tvx3GchsKXX35p9uCqpzHjiIVh+w0///yzbTmOmQv1OsdjoTz5n4DpB/bmeGrR/ThOO5jZFtYFno2JjPjss88sLsShKvR8zGVY+Klz5862QOC5555r+2sLowu6N1tGILRuCVucM7B6OCayxJs2ky3zwTCnZbVxx6krLrTnATPQGfrDbzjh0EMPtSX5gUIsoVUVYkOCCpB3ZIEl7BipqBgOxDymZ8+e0a+//po+03EcxylHnnnmGROuUThRn+NSEcFS7RZ22kD9zjkdO3ZMPMRU165xjPMJKHcKgZ4X3o940UkIheeq4BiTbPFAM3bsWHNfzPXVvUdVcI1WBSfwnloJlnuqQ4OnmzfeeCNaa6217Bz2A37dWcsFBZfj1AUX2nMEWz5VePSq8Vt++umnJ4W4MUAlhF3ghRdeaBOCqMgITPJBy9CY0sJxHKfSQFONwol6mraMVbyB/6nLNS+L/7EnxwMK2nQ08MzbYm4TK4IynwnBFEFYAQUWNuW0jYUCQXjppZdO/zdnvhjtDdtc4V3wHlMXiAejFGwBO3lcO9LJ4f4E4DiTYidMmGDtJKPRwHHaT5RedCA4rzadB8dxoT0Hnn/++ejf//63aZupnBDa8WvLxBSZyTQGqHioLHl/3GeRFsA+PMwwIcdxHMcpT+SiGIEcDfsaa6xh/wvaNECgpF5Hu8y51Pn4OUeTzAjzyJEjzdyDtUoYbSVccsklJvRLgK0rEoZDoZ22FrMcabDzpbZxQ8jmuaB4IZATn2ztPx2XI488Mrr77rttEq8UXHSY6PDQVnIPF9ydfHGhvRooYJiA4IsWDTMFjC3/Y8+mWemNBVVWsP7660d9+/a1NKACJa3OPvtsOyZthOM4jlM+vPjii4mWGttrQght3JZbbmn1PG0dCzCFHsIQUCVocg5KK5RZhPpoD4kr2n7BszFJqS1hG5YPvFsotOMZprr7KI2Y74ade4cOHSyN2M9IwV577WXtpreVTr640F4NVEiDBw82GzWgEsM/Ob5ogUKrwtlYCCsq/NFSoZIGVED33XefuRMjnRzHcZzyQMIhK5bq92677WbbTIYNG5acQ33PKp9C7V24zQyFRp0MoJ0hTuG+YqGJpLRvrHieDeImuYAtnRxGH5599lkT2gUj9SeffHK9pJfTsHGhvQqotPCvymIKYcFiaDDsHauQZgsNHSYxnXXWWen/5niYOeaYY2w41XEcxykPaMPwfhK2XZosmQn1OnbZascQ4mfOnGnHuE+2APXV7oVx5rfMMosJ78hkUqUXJi8hme+t/4kvyj9s3xnlIO7SuDMPDHMlRqkdJ1dcaA9QBURvHrOYTTfdNPGKQsFDs8w+hsrqo3KqRBh5wNZRvPzyy9Fbb72V/s9xHMcpJbRpCI9PP/20/QaEz+WWW872a59AqOzSpYvZvNPOYc7x1FNP2TG1kWGob7SyqMCkJxTkiwHadZR40vA3adLEtiGkVWbgfNKI9GYRqn333Td99hwuv/xyky0cJ1dcaA9QQaOAPfjggzaEhdaYwKpsWqJZFRXnNlZUYaNBwJadNKOSp0NzyCGHJGmkreM4jlNcqH/VZo0fPz69d47JCVpfhN+wHaMeZzIqjgW4hmMIrIygasXPzMC96rMtZLKr4DnqbEBV7QznFTJOpCHvyfvSxuXjjSaMi4R0/X/DDTeYV57GhjqLhGJ3wCodF9ozIBMhpGP2QUElQ1FQKVyZFVxjRhURFVjv3r3NBSTpg4kMk5cmT56cPtNxHMcpFdIO4+5RoE1nciRtWwjtH/U69TmTKLkWZQzrk1x99dXps4pLOBEWll12WWuj1d7wmzizVQdFwiDbQkCHBXRv2r3aQHoPGDAgiRdxPumkk+x3KdF7FQt19Aj85luRxmyd6nGhPQtjxoyJ3nvvPftNJtp+++2jTp06WaYmkzlzQwWGH3vShjSiIkKjQNp5ejmO45SWzHoYAUl26yES3DBJQbhEK8w+BHfcHsu2vRjwXITyX375Jb1nTmcDG3BcUL799tumMGKeGe4mb7nllmjcuHFmBoStODb8XB8KgrUVCrmO+ISKvNpy2GGHWfyV9vfee6+1mcWG91HQ/4WiunvpGJNzL7vssujAAw+070jnJfzWoHR3AuIEcQLiQpnq3LlzKi6UqbhQpeJKKzVp0qTUr7/+mvrzzz9TcSay4MxNXDmmWrZsmYp7zam4Yk3961//Sn311Vfpo47jOE6xoa2iTYsF3VSbNm2sXaPZ79Chg+2nXVN7xv+EsI3r1auXtYFcR+jatavt1znhuYWG+xLvWChPxZ0GCyuttJK1NUDc5p9/ftvPO9Hu0P4o0H6zv3nz5qmNNtoo9cADD6Tizopdmy9xZyW5J9s77rgjfWQO+abDiBEjkvgRBg4caPJFMdG3Vnryv6jrNw3TI+4A2ru99dZbqTFjxti3WGqppSwdeXelKb9Hjhxp1wiuI2Tmy8aMa9rTxGlhWxYNYpZ4nIlsX//+/W0BCrTJ9K7jDOba4wziAmV2j3369LF0Q7uBNuTWW2+146Sj0tdxHMcpDrRV1Mls0e6KAw44wFY5pV2rrm4eOnSo1eVcTz3/5JNPRhMnTkxMUWIhyq5nWx/Q5so0BZhDJdMU5pgxEkDbo/jxrowKENDKc+6MGTOi5557Ltpxxx2j0047za7NF72j2rK6yABcv9VWW83lBYeR6WJq23GwwTOZUEs8cCbBCq5ouskXdXk/4HoCprIsMsU8ifXWW88WlsItNCM2yjNKW+YJyJWm9hGYCM0iX5hoYSrFsZDM/xs6LrSnUSaNe8BW2MksVBhMqmRLJeDMCwWGipLKEb+/KkCkmSY+hYXTcRzHKT4I32LjjTeea0JkJtTV1NutWrWKrrvuuqTuRjDeddddTRijjidIQKsPaFvCiaiLLbZY9NVXX9nvdddd1+z0MYc5/fTToy222MLWDaGtJj7ElUDbxOqlMH36dNuWEuK20korReuss06SdoR33303fUb9c/zxx1tAICaNWDgK8xQ88+CKkv11AeH64IMPNoXntddea+ZWhJ9++inJS3xbQN5CsMdD0QYbbGAdCjpX5FE6aZhxsZgl/u6JH6vNYrLMPEPi3ujkiviFnTQfffSRDbER4oKe6t69+zxDVnFF5kM0VUC6rL322skQLMOSca/d08xxHKeEYAKBaUksKFnd/M0336T++OOPxCQGqKP5rfpa4ZdffkltuOGGZoYSC5d2j1i4MrOH8LxCwv1kFhELaIl5zNZbb20mM5nEwmDqu+++s2OYZWKK8eijj6biDkdq9913t/Y8FvZSo0aNSl+RH6QX6Ubg/e+88870kTnkmwaci7xBW8n9eDfkjfokjB/mq3oftdcKcQcntdlmm6W+/vprOzef98L86P3337fvhFkV9yPPaMuz+A7bbLNN6pRTTklNmDDBvhvfT8/ZfPPNk3zKNaQN/ysovmy32mqr1LRp05I83BiYjz9xAjRa4oxiPb74o5tWgSEYiDOKTUbFvRS/OSdMKnrGzrzQ+6WHzVAfPei4kjSzGcdxHKc00L7hLebjjz+2tgyf49I+05YRqhMFaBfXX39903JzL+5x9NFHRxdddFHShhYS4sJ9iRdmLbFwZ/vRpj/wwAPWtlSH4sQWc4/7778/ijse1sbXpu1G84zWF7jv6NGjo759+9r/oLTL9d6cz7mMFrz++uv2GzMfTEsZGcgV3m/KlCnW3nIdJiZNmza1b6tvojgpPXl2+/btTaN90EEH2bd9+OGH5/IuBC1btrR059xc34vJv0wMjjs1NgpDXkF+4l6scbPzzjubaRDaco7xzoz4hGBGw0gO5zCywnthIoXpTtx5St6D64Hvwmrsm2yyif3f4Ik/oBMTC+ipRRdd1Hpw9DSZjMokHbQRcSaxc9jqt5Odl19+2XrYcaGywGQhx3Ecp7Ssuuqq1r4xAoqWPBZ68mrPxo4da1pP7qEgzbXaxkK1j9yH+BFCTXu3bt3mmjxbLJADlltuOWvTYmE4dckll6SPzCHfd+dcRgX23nvvRHvM+911113pM2qGtGFiJ6MIfAu05/xGjunYsaNNbn3mmWeSeGnkglEX9vFboOkeMmSIyT76tsQnFoiT0fLq4F24/3777WfXLrTQQonVwrnnnps+a+58opAJ8Ys7EKm4o5SKO5c20sO9CchpTIZWHBWWXHLJVNwhTd+hYVOxNu1xZrRJMXUlzri2paeJzRWwL85o1gOMM67ti9PKtrn2OBsj2EwyMgH08kkzXG8p7RzHcZzSEAs2prWkjpYWNh922mknsx0HtYPHHXdcsgJ2Iev5sJ1VGwzEO5zAWSyIw3bbbWfxigXNOr8r13PPPfbYw+6ne+Zj105c0FSTJow8oG3nf+zGuc+wYcOizTff3Pzad+7cOYo7CNH5559vWmyuDfMAss6gQYNsRIL8gZac+GCbfvHFFyffo6r35vm09bfffrudixafd2JEggnDXKd3VADdN4Q8imYeLTsTWJlATXwIrCr76KOPRk888YSdw7nARFVWZ+e5DZ448SqOOONZz5TQpUsXs4mKM0T6aP7Qk1x44YXJRXbPFVdcMdGwh8GpHtKI3rBcP5KeTZo0MXtAx3Ecp3R88cUXpiF+++23TZuJpjXfdg0753XXXdfqdkIsdJmt/PTp0xMb+UJCe3LssccmmvZtt93WnlNsSKfhw4cn733SSSelj8whXxmBc9FOo0lGG006InswGpLPfbAh33///W0UgPRR/KoKPIdtu3btUr17907FAnnq4YcfthHyGTNmmFb7kUceMXlI5/KbeFYHMhT5gHfhPaRhJz/wDQn8DkNdiTsfqbhDYu/NCAMyB3bypcgfxSQvoV2ZSRk0M4Rk/i+qu6YmOJ9MuvzyyyeZnLD44ounpk6dmj4rPxhqY1KJMjUf/5xzzrFjdYlrY4P0oSDSGNxyyy1WgBRefPHF9FmO4zhOqZGAnW+7RvvLdShm1GZiUtG/f//ERKKQcL8LLrjA2mWEsxVWWCE1fvx4Ey4zKYQgWBWkF8Is74rMwURLpZ3kg3zSknNJL+K82267JfIM75jPexAvPfeJJ55I7bHHHibILrbYYonirKaAgM1WE0cJ4bXE7bnnnrNnhITvy+RTriH+bFdZZZXU7Nmz7Rjn8U5hyCetqgNzGSa2EkfiT2BiaqHuX47kNEYWF5xkZbH4mnlCvoTX5XoPnRNnChtS0nX8zyQRhoFeffXV5Dwdrw6OM9QmMxsmcAD3D4kzRNZhHGdeSCcmmwj+Z+KQ4ziOU3pioanW7RlmELFQZuuZ4F4RuN9tt91mPt1pi2tqd/OBe+G7OxZO7X8mS+Lur02bNjYRlomxyCVMNuVcyShsCwlyBhNxmRDJ+06ePNmeUdvnkP5Kyy233NLijKkH+3FxmWsaxoK+XUM8mKTLd/jwww+jqVOnmjzEaqv77rtv8q04N/z2/Ea2Ix5sgd8EIE7ERWav2SBNhgwZYtcQD1w0snoupi1cm/kumXEQ2c6tCcxlcEHKszHP5R0ef/zx9NEGSpxINRJ/CNuql1QVnKdzdA3wu6ohEo6F5+bCJ598wpe1XpV6iXEmsFW27r77bjuHHmguvX7iwCQG3SfOBLZf8co3bo0VpRXpCaQp2hG0B/T+PR0dx3FKT13a3rCex1yEOp62NxaarM4v9CrYPAfzSjS4tCUEnkdbzTMZZd90001Tp512mq14yoRKRgMUT4WqqO5YJkzexTRXz9doRZieteGGG26w+/GObHmXfMn2bPYpjvyOhfnUjTfemDryyCPN0QbvoREM0pKgb6l35Nipp55qslTmM3R/YMKqrkXLHk4WDtMoWzrxf2bIB8xkll56aYsvYbXVVksfaZjk5PIRx/u4/nnooYeiTz/91FazUs9XsFgAxIlnGmtcDxHooRLoERI0sYCJD/EHth5g/LGt18lxztVEE9wW6Vz26V5cN2nSJFtZCyf8cUawwPn0DNGUs9BP165d7T7VQa9s6623Tv8XRddff320zz77VNkbdHKDHvC0adPsuzAJhm/l6ek4jlNaaPIJqo/zqZd1LSEWrqIePXpYG4o8QLuMe8Zx48alz647eg6aWya9ok1lQi2uBWlbMkFWWH311aMVV1zRXAd27NjRZBIW5uE64sj76v3zeXfigavMzTbbzNwRshiQ7gf53k+wAvvaa69t1xIvRhIefPDB9NHawX1EGCe9N+mIHBcL8bZ4ltw98j6k66qrrmquHnHfiByFNl0jA0L3evnll6MuXbpY+nAczf7VV1+dTBIFjgmuyYxTNsJzqoP36Nevn8mo3IvnMhG3bdu26TMaGPFLzkOcwEmIM0+qRYsW1iPj9EIH3BMRmOyAphxXQQr0olu3bp2ci2adEHcKTDPONjNe7I8zjv1mgmp1YH+96667JtdyHRMy9O5O7enUqVOiaW/VqpX1sB3HcZzSQttGfVyXdk7Xob1dc801zd0gdT2L3RSy7eReaHnRcq+//vpm0z558mRbmIhRcbXdYRv+jwzNMXFDbsDVZSxQpiZNmmQTJ7PZxVeH3osJvd9+++08lgO1fe9Zs2ZZ3IkrW1xc1hXiohDC/0rPnXfe2eYmqJ2W3BSOjEvDXtW9YOTIkcm1vMPQoUPnae+rS6fw/mHIFeJ4zDHH2DsQB94H+/6GSpU27fEx61UeccQRUZxJs/Zqaws9KPWicE9EoCeHLRc9QH7juofno9kHNOwcI7Af2MYfzH4L2d6jtWd54+rg+jfffDP9X2RafZbdBcXPqR1oIvgO5BsWRZA7TcdxHKe01LV90/UsVnTCCSfY/7S5jHzXR9vJvXHzzOJQnTp1spF9XE0ScCmIfAC0OcgEbJFhYmEykRtmzJgR3XTTTbY8Psvis8UmPlf0Xth3Y7ddqPdE7sBKgPgWCuKmEMIz0OyTfixI9OWXX85lNYGraxZIZJ/SkJDtXiLudKR/zbk/tvXFhLzByArwvYknizA1VLIK7bw0L4+wpckJwPASE0AYclpttdWSwEQRhlLICPgElXlLVSgDhJmADML/Mn8BfhPYT2bg4xCAgklgfyYM47A6Vvfu3dN7skPnQJ0CoDLQ/Z26gdmTvo06Yo7jOE5pUbub2QbXBtrq3r17R++884756d5ggw3SRwoD8eMZ888/vwW1z5IHkD/wPY5SaPz48dHZZ59tExNZaRQzXckTkilQInEtSkFWIiXOtYF71DXtBHFESNa7InfVB8hYCNg9e/a0DgzvQHqgYGMVc/y30wFDfiJOoDyitjxE70/7HpJvh0bPyAz50KRJk+SbEHiHhkqNNu30THFkz8fERkgfMxNuQ6Yg0yGgMYs8hMxBQVEPDu06y+fiFF/HyKxsceiPzRr/cz4zw/kQnEdAWNd92M8zsbvnOsCeikxYE9g9UejFJ598Eq2wwgrJhy8l4WdRXJQpKwHs4B577DH7zTwGOkcULMdxHKfhoLaKrYTj+iZ8JvBcFIwI8sgGaK6RFbB3RrOMRhmBFXkD7fr06dNtrhULB9WGzOeD2uZ822jkGWzxkWeAeOH5pZAQT57DXEBs5unk0B4zJ4GODjb/oDiEVPde3PPUU0+NLrzwwuRa5rJJ8y3C+3KffNOoJi655JLo2GOPtd/kgTvvvHMuL3YNiRqF9vCwhORsCZ65r4bb5kXmvfQ/z+Q3oW/fvvah4Pnnn7eJETXBhNPRo0fbbzojDKmEPbZSQhwoEMRDFSG/9c6ljl9NbLjhhvYdgF4vaSu3U47jOI5TF2gHIWwLkVFoL3UM6qOt1P3DrZ6Tb8clU2jv0KFDrUcAqkKyG9p0LCOQc2ifEa5pnxXnMN1EdelHxwjzJDo/egbKWCb/hujdgHOqu2e+EGfcf1522WXpPZGZRmNt0RDJK3dVl9gkXBgKiZ6rQAYj8JteFZr9e+65J312bhBHCeyALTuCO/u5b6lQ+hEHhgOJU/i+mfHj/3KEITK+De/AcsRsHcdxHKe+yGy7i9WW0w6zhL+8sNSFTIG3EJAOBLy6MUeRkQY6B4xISGCvDbTxSyyxRPq/Of8X256cjsOLL76Y/m+Ob/l27dql/2t4VPu1MgXCYhWAfOCDMVmWLRkGN5O4K6oJzHNAwjBCJrb45fCOSneG9YYPHx7tt99+5sbymGOOiUaNGmVmPeq5lqvQTm+bb0L6Yt6EJsFxHMdx6gu132yL1ZbTBuM2ce+99zbXjWPHjk0fyQ1MgmnPkV8gFIILBWkhmYGJtEx+zYbSLQw1EcaX8zEzDjXr9Qlpjyz33nvvpffMMS9q3rx5+r+GR7VCe+bHK7cA2L6PGTPGMgm9RlYXQ7NbE8xCBz469yITq9CUGiZ2HH744VYBYKfFbO477rjDhn8OOeQQ27/OOuvYzPlyhDTlW5Cu2BkiuJdL2jqO4ziVTygHlAraOgIKP7bII7vsskt0wQUXJMdrAiGX9lETQOurrayLRr06QrNX5hPgt71YYFrERGTmP5JuhP3339+O5ZL2lUj9fMUiwAehwCLMklHEtddem/5VPcx253ruQ2bu1auX7S/1hyZO2223XXTVVVeZdloVk+JKJuV9mfnOssqvvPKKXVcuGZTOE4I6k36IE8I7s9Mdx3EcpyFBu4ygveeee0YnnXRSIjiecsoptmijvO9V1T7TXjKiDvLCkjmJs5xhNB0FIukAdDywxy+WtzjkDMycJSPRecLlpP5viFSk0K4CgEeSM8880zIOmQW79FyHRcLhG+5XbN+iVYFWHfssOhLEC/ssMiIVAe8oO3cyJIWcXj0Zt1wyKOlKgZX/WyotVqarqtJyHMdxnEqFNo82GR/1Q4cONXmEfawU261bN5vwma19pk1ECcdqr/wmcN3gwYPTZ5Q/yCXYycsOn/Yezzf1bQ6rtCLtcF9JOrIPV594AOR3Q6VihXYEQ7zFsCAT8AEPPPBA+50rFCSEYwKLLZQa3FFpqWbihJb65JNPTtxZ0iPHvRLumYg7gUklcq1YLhB/LYAFuJhqyIXIcRzHaXyoHQYUasw7u/LKK81kBCXbs88+a57U8LCSOUkV4R4HGoyai0033bReJqLWN/369Uv/mmN6HMok9dH2k+ZYS+BqUmAWzWRgvoO+SUOkIoV2Pgja5yFDhtj/9HKx895rr73s/1xAm819EI6Be5SaBx980Doh9FLpOZ5zzjnWe2eRCE2wRYjHhp+4K4QCcqmgYNJxouf93HPPpffO+VYME4IL7o7jOE6lE7a/CiDlIQpF2mztx8adxSdZPwZNNMq2u+++29xOo53mOmSao446qiLbyX333de2yFMIzTgHQYaB+ngfJp+SlnR8APkNv+x0eJTmDZWKFdoRDNE+8xutO/ZkZHxCLigjlVMBefPNNy3Tk9l32GEHm4yaLX4PPfRQkjERkinssp0rJeoATZgwIfkOFKaqZqo7juM4TkOANplAO7jVVlvZQkYs3ihTEfZff/31toYMJiV4m9GoOuesvvrq0TbbbJO07ZVE69atrVPCuyCzsJjV1KlT7Rj/F1rOOuCAA8zsSPMZsT7A015joCKFdmDVUwmJLMvL5E3QvppAOy3bs1wF/fqGHrgKPj1w4peZ4dnH0BNxZj/viwsnhuJKiSoaCtHDDz9svwETHwntlVgZOY7jOE4u0MbRJrNFkH300UfNRh3TDdpGFHK04bh5DNvDFi1aROPGjbP2Uu1+JUG8sQzQO7HiKkpHFKp1la/C60k/vMWMHz/e/kdpSXrjWQ8ZSHJRQ6ZihXbMSMggaHJZwpYPlqvADkze1Adnmf1y+NCsVga802abbWbbsGCTIcms9OCVkTGd6dSpk/0uNaQhLq+YhKp4M1zFSADHGnphchzHcRo3avvQnuPDHBPXyZMn23oraIRp16Vk4zhmHW+88YatFUMbmY8cUy4Qb5xitG3b1v4nDViV9KabbkpszGsrvCs96PScccYZNq/vhx9+SPZhJs2EX9JVNGRZo2KFdpbi5SPxsZZccknrneaT2fHryfUULATLcvjIZGzegUKMdlqFny3xYxWzHj16WEalw8E7M+Kgwl5qiBcCOxWS4o7nGNKY+Gqf4ziO4zR0JJzjxvGaa66xSZpo2SdOnGiuEfF8wuRJNNXII5JhKq2tJN60/6wjo7gjnwwYMCB64YUX8pLNhGQa7kPo06dPdO65584l/NNRGDhwoKVdY5ExKlZoP++888yrCpMyyfD6WLkKr6zSyccnlIPASxyYdU6mp+co7bSOkWmZhMqWzMk+3BuxmFS5QAXF92CSCOlKQWJijQvrjuM4TmOFNpB2Wy6bUWa1atXK2kz+J+i8Sm0vmXiLSQyeZJBTADkFH/asWMrvMFQH12PvT0eAUQrceTNxF3Qtdu2hj3bQ70pNw1yYL06A0kuseUKU+Sh8WHpw+l/k8sHwNEMPl+sJ2LiHBafYKJNjs0U8iEMYjyuuuCI68sgj7TfxRROPmQweZdSLLUW8Q/gO2OZ988039j4MBdKxchzHcRynYYMMwGjCtttuG3344YeJTMJo+6hRo6Lu3bsnSlZCKH7qXO1jHZ6LL77YFpqUfCQOPfRQ84mf6eSi1DJQMahYTTsfVsMhCK3KBLl+NFxEStgt1upd1UG8eafQlIRAZmXVUxaREpx3wgknmImQrislaNXp9BBPbM3QJgBp7DiO4zhOwwd5pE2bNqZQZIuMhXyCHLPHHntEffv2NbMgzhPIDxzHAx5zFd9+++3o2GOPjdZcc00T2CWnIRthgcCkU+Yxotnn3gTJS42BitS0F4KRI0eaP1W9PhmmlJr2EGVC+Prrr809FMKw9pHxMaVZZJFF5oprqeLNMBYF6vjjj48uuugi63TwP2Y+2LSVOj0dx3EcxykOCOI4++jcubO5fwSEbwJKPWSXrl27mptLQIZ48sknbf0c5B+5wkR24H8sEOgE4I2nZcuWiawGjU2+aLRC+2233Wa2VgLhWCuRlUsmwLREM8uB3ijadfyg4+YxFO5LGWcK1MyZM83HLL1k4oKt3pQpU6yAQWMrWI7jOI7TmPnkk0/MHz0rwyJoI8wDW2nhJYJKRghFUq5BCYgpDMpKvOVxLec2VpmiYs1jCoXsx1n0oBxQhmWG+UEHHWRL9RI/BHYWL8BHe6bAXmpYDY3Z8QjsYrfddjP7dmishctxHMdxGiv4qn/88cfNy90KK6xgsoAEdsG+8H/Arz2adSa2YtuODTuuuZGDGrs80Wg17e+++66tVkZGwP0jizM98MAD82SoYqHeI5mS3yzRy8QNZdDFF188uv/++6ONNtporkwbfr5SZWYKGGnI84k7cWKhCFaFwwZNPepSxc9xHMdxnOIieQBtOSbIeIDBNBkFH17m8A4DHEdWwG89XnWwaUcmY78zN41WaOe1sbvGtANhEpdC8ica2ksVE+JEfND6k2mZIEtcyOx4utl9991NqK+qU1EqoZjeMD1p4k8gHmjZWVQCEyQmjCidvRA6juM4TsNH4mUomyDIM0cPt9vIM8gEyDnINXiWQUHpVE2jNY8h42y//fZJZsKPKKt5lkpgB+KEbf1ZZ51lQi7/E79hw4aZqyQgg7MvWxBcVwwokDxLk0aALXFk8glDWrikpAPCjHHOVSHW1nFCPF84juM0DDJlE0BGaNKkSbTUUkuZVh3X0Msuu2zUvHlzF9hzoNFq2hGK8SOKiQyQDM8884yZn5QCBFoCkzbuvfdeix9DR8SHWdXMuCaOmQUgk99++816q88//7z5S+3UqZO9IwWlpmvzgbgQP56x/vrrm+DOiADPYBKqNOvAFkGekYLDDjssat++vc0eL3ScnMohzMvStijvCs8bjuM4DRdknlBOcGqm0QrtwJL7THZA4CTDYN+On9BSwGd47bXXos0339yEF/5v1qyZdSwwL0GoqQ4JQQhATF7F3AehGAH6ggsuSBZmKjSnnHKK3Z/nEgc8yNDBeO655+byf4+AT1w4D6H9lltuidq1a5cstOCFt/HBZGu+O7aMlEHM1cgfQqM2nh8cx3EaHhI/vY7PnUYttAN+RN98800TEBAgmOm82WabpY8Wl+uuu858xyOoYKZz3HHHRWeccUayWFE2EHIQ8idOnGieZdCwY5qilUgpDD179ozGjh1r/xcCZZlp06ZFa621ltmnAUNeTDBhiIvn//vf/45uvPFGm6RK2nId70WceMctttjCbOGxf+c92K/gNEyYfETnGFdgvXv3jj777LNo3XXXNYH9o48+MjtH8grQoWNEhnyF61PM2cgrCPuZaxQ4juM4TkOn0Qvt48ePj3baaScz7UBwx2vLFVdcURKBAFv2008/Pf1fFO24447mMgnhJdRAEjc0kwjnCD/Y4yPoIPggwEtAlvnJoEGDonPPPTd9dWHg/qTVtddea/+jLd1vv/1spTI07AhVxJH4jB49Orrzzjuj119/3QQu4kTcGEFgGWImsjISwP+Ks9MwYc4GHVE6c+QT8o3mb5DHM78/v8lrHKfziu0jo0islod3AXmAkqDP9UJVm+cnx3EcpyHQ6IV2hHW0xbiApHFHiESDjGlKsRt7BBkEXwQQTEmIm2ZVI9BIMCFeBPazj08oYQcBCNiH+yTMbfBGg7ayUPDMqVOnRl26dDHBi3gicD/88MO2L5spD9fgBhKhntEAuXqSrT6295dffrlpXTWywP5ifwOn8Og7MqK16667mkYdyCccU54FmUtp5IUt5xCU/4FywT5GddDCb7LJJlaOWcuADqPOZVvKyeWO4ziOUygarfcYgYCIHTbCggQDtN1sJSwUC8xYZL+OsELciIcEF4QYCbFsFT8JNwjC/M8qpAjA2Offc889BRXYgTjtsssupjVHaOf5TDBlQmq29NI77LDDDmbGg9Zdq8+S7ghtaOExS8JFJCYUnM91TuVD/mCkB+349OnTLY/wbcmvEtjRuDOqxDyHtm3b2gJi5A3lHZAWnfvpuh9//DG64YYbbIGvtdde28xnWB77iSeesOsY7XEcx3GchkCj17QDwi3uhhAiMDEBBMsePXokQnGxmDVrVnTZZZdFN998s9mFI5xkfiLig2C/5JJL2kqkmAkgEGE6gODDKEFoJlAIlA5s0Zjvs88+yYJKaDanTJliiywp/TLjrP91D0x7Lr300uiiiy6yfQRASENg22uvvaITTjjBRgsE50iQL/T7OYWFb0x5IvTp0yd69NFH7TffDzdf5FdGZtZbb71o4MCB0aabbmqCu/IPozecP3PmTDOpYcviYozS4D4UgTzMYxp1CqE8bL311pbH1El0HMdxnErFhfY0eDNBW0fjj8Cw8cYbm6CBIEESSagsJmgJv/32W9Nm85t4ICjj37Rp06bVepUpdHx5Nh0IPO6gUcenPemEGc+tt95qmnf9z7nKVooHW+0DfiNksaAVftxffvllE9i4B+fyXowY4OsdkyE6BOzjGo4rOOUJeYXOMOYwTz/9tOVV5jegDadDim/ep556ysypMHHRt1VnDKE8M28r/5AHcYM6adIkG6HBWxL3RsgH8oVMrASdzBNPPNE08eTRSss7Sg/ekTJz5ZVX2miC1pbo1auXlZMtt9zSO7SO4zgNFBfa05AMTGr74IMPTHig0T/qqKPMnSHHaDDZFrOxDwVU4Pnh5ypm48xz8eyBYDBmzBh7NsICfuQnTJgwl0AdxrGq9OIc7iFBDW3omWeeacKX4FqOockfPny4jShg6iNhrqp7O6WFfIJmHC06nUy+NZ3OddZZxzwc0QEL4bgC31u/M7+vjmGWRSeA3+QfoNPNqsEvvviieTPimMzL+A3MV+E8zOEQ3JX36oNs8Vc88s234XVMOqejg1kQ0NGVCRAKBtIX235+O47jOA0LF9oDsLft2LGjNfoS0q+55pqoX79+pjmk0YdSCoto3Hh+fQkbVYGG75xzzonOP/98+00c8NoxefJkM3dQNgqzU03pxHHSlS0CFKMKaEPpFCCI8K6kOdp33neZZZaJBg8ebOYWCH4I+Jq46JQHfP9vvvnGJkAz4ZTvxrdl5ApzGJm/COXnXNB55Ac6jNyXrfIPzyZP8Js5FgjoHGc/zwH+32OPPczrEWU8UyNfF3iO4kgcKCd6X56vMptvfuW+BK5fYYUVzLSM+xF/tgjo6uxy708//dRGMvJ9juM4jlPe+DhqAEPnCIU0tGqAafyZzInwiCBZ6oaQhrsUccD/OtpwCewENOMI7II0C8n8PxsIUbwTW2yQR40aZSvTHnLIISaM6HkIJ9j44x4STSLCfbbvkcszncIjoRktON5cWBQM+G7du3ePHnzwwXkEdpWxXOF8nqMywJZ9+ubsQwNPhw5PTAivF154oeUjzgWuxzynW7duNgpQCLgnQe8SxhHPTUyMxcf8VVddlRzPB70r9vyYBqkDcNppp0UPPPCAraIsSAvmCHCN0sVxHMdpIMQVu5MmFhAtbLfddqkFFlggFQuSqbjxS8XCfOqFF15IxY1t+szGA+88ffp0S4O442LpMf/886c222yzVCw0p8+ac14sTMwT2J9LEPz+/fffU3/++WfqnXfeSe20006pRRZZJPX3v/8dCcSeTRz4zb4jjjgiNXHixNRvv/1m1/BMpzTEAnsqFlDt2xBiwTK16aabpr7//ns7pu+sb56ZVwoRwrwE7Pvss89Sm2+++VzxIu9stNFGWa/JBV0TC832zmuvvXZq8uTJlgfFFVdckeRT6pK485CKhXirY2rzzBEjRtj94s5P6sADD0zuQd7fbbfdrM7S837++Wd7N8dxHKfh4EJ7BjSEX3zxRapNmzbWuBMQFFdddVVr/BtbQ4jA1bFjRxOUJbCTNt988036jKoFdgLHagq6h4Kugx9//NE6TF26dJlL6NJv4rTEEkukVltttdSzzz5rwiFCEegeTv1DR+vCCy9MNWnSxIRHvtEyyyyT+uijj+x4KMyG3zoMmXmntiHzfvyGM8880wTeMB+tscYaqW+//daO54Lu9csvv6SOOuqo5F6Epk2b2vNIC9578cUXt/yJEK2w/PLLp/7zn/8kcdT9cmHUqFH2HN6BzoLgHu+99551qnkGx8eOHZvXvR3HcZzyx81jMogbWXMPh8cL2bDHDbEtJsTEuueee872NRZYlRUXe3FesRALBeZVB3eToP2FJBamElMDJqF27tzZPI3EnanogAMOsH3Eg8B5zEFgZVjspvHzjbtITGmc4sH3Oemkk8y2GptzfK2zYJnMp/hWNcG3LEQQmfswJ7n66qttHoRs2ZmTQVmvKQ8rn8eCsHmtWX311aMRI0YkZjewwQYb2P/UF5h7aQ2DEOz9X3vttfR/+bHbbrvZxPizzz472mqrrdJ757xn+/btzf2r0hlTGuLhOI7jNCDihsjJAA0VmsGPP/441bp1a9Muy1ymZcuWqXHjxtmQtM5tiKAt3GSTTWxIn2yisNRSS6U+/PBDO4d3R7NYVcg3bao6P3P/p59+mjr33HNTsWBo34R4xYKLBcWTbxYLNqkrr7wyNXPmTPueobbXqTt8F8KUKVNSK620kn0LtNeEW2+9NW8zEN2vkCETtNwXX3yx5Q/lHULcGU+fkR3yDiYnscCcWmyxxezaWEC2wPXkNWnQOZf8f++996Yee+wx04rrXAKmLPXByJEjTctO2GWXXWxftjRwHMdxKhMX2rOgBp+GF9OMzp07WyNPg4tgiCCLUAJqoBtC46h3mDFjhtkiS6BBCJNAjLCCfbDSp6qgNKxPEJIuuuii1IYbbmimCaHQrsA+jg0cODD10EMPmQBfFXzLhvAdi4XyQO/evS2tJbAPGDAgOV5u8I0Ju+++u5Vp4vvPf/7T5rHofbLx5Zdfpvbee28r+xLU2VIezjjjjPRZf6WJTLSY90Enk3N5FtdRtjhPoVCMGTPGnsGzMOfz/Ow4jtOwcJePVUCyxAKf/cbUguFwhv7jhtCGwOPG0DyYMOTOeXHjnZyvbaWAF5YFF1zQhtPx+oG3i9C8hGN41vn444/t3WNhJ3rjjTdsSD4b4fvXR1ro27AlEG9WksU15yuvvGLmMoLvEn5LfrMQ1Omnn24mHPjrFpgz8D/v6NQMackiR3hioVwAZlMseITLwXJEeQHPMVptV3EnT1PO9f0p45z//fff2wqubPFBjzcaygxmWixwxPoO5Jswj+k5+p8yxJZ7svor5kRC59WVxx9/3FaABd6B+irM347jOE5l49JJFYQNKQIrwmyHDh0Sd20cHzZsWLThhhtG06ZNS1byJNA4VwKKJwIFAgkrmyJQSGCn4efYWWedFT377LOJLfAff/xhrhcRXEpB+G34jWCOD3f8gL/55pvm5x0hi2MSvCQwETjOQj8IWywWxWqsvAvnZBPY9c2dvyBNmGOAnTW///73v9vKpo888oiVl3IHwXvkyJHJOgF8d/I0W31vfv/000/R7rvvbp1Cyjj5H2G4Z8+e0ZQpU2yFV8oI91C+1LbY0ImgLAiVb20dx3GcysaF9hxBg/jqq69GvXv3tkadhpBGHP/l6667rvkwRwtXaQ0kWmqWQmeC2xFHHGEaSAmuCOnnnXdedOyxx9rkXCa/8e4IBmgYWU5dAg6Egksx0LOU5ghULD6DJh1tLxP+jjvuuKhNmzb2noof70fH47PPPotGjx5tE4zRsPKed911l/kaFwjzXOvMDWmID3KEWvIAacRKo2ussUZR80C+KG7EH8G7adOmyaTUl156yToiyv+ApppJnQjqdEwQ9i+99FJbuIkyQd5TvoJwq3wZlpH6RAuNKQ5hXcTv8H/HcRynAokrcqcG4kbXAjaihJNPPjm17LLLJjbubBdccMFULLynXnzxRXMHx3lM5ixH9C7E79FHH7V3iQUVew+F5ZZbLvXKK6+Y3bhgsh7nKcRCj9nsxgLbXHbsYahvqnsWccK2mHd98803UzvvvLO53IsFMYs/2Z935f+4I5JMLmQ/55I22Pfzjs7c4LufdCP/k164d4w7f+mj5Y/KMhNF9c3JE9jjk2+APEUZwead42xxGwk15Qmu5f7A/XiG8lx92bTHnQ6z0+cZ5OW3337b4q8y6jiO41Q2rmnPg7jRNW0bK4HiJg7NFkv5o9lC646ZBeYyuB6cPXv2XJo2fmtbCsLnEl806uuvv3603XbbmaYdiF/cuEetW7c2+16G/tFCsi8WQOx/zicNAHMUzGa4H6EU6NnZnq/vRUCTPnbsWHPdiStC3POhZeUY3473I/CuwCq4aI7R3JMeV155pWlbs0G6ERoL5CVGlkhzfpPOBx10kK1GWgkoznx7ymrz5s1tP9/w2muvtVEYwXnKW+QN5kFALrbiXMs9f/zxx/SeOft4frb8WlvIt9yT53B/4H/KK++Gi9bGlD8dx3EaKi6054CEQgkpNPYMjWP7jU9w9iHAAw07Ai+NJeYm+IFWwx8KAKUC23wELOJPPIkvQqvebdCgQSaIYw5EQ88+bTmHJdK1j+swFagkgYDvhLkM7/jOO+9Ed9xxR3TkkUfaxEl9oxDMY7788kv7liyPj80/Ns7333+/TVwF3l+BtGnI8I4spX/zzTebcIu5CP7BDznkEBNklQblnA58Z5VD4owgrv/J05RZxZ+tOmuUlXHjxtnvXFB+ojMv2EfdwH3DeNQV7kN+Jv15Jvfn+zBXZaeddoqGDBli8UfAdxzHcSqUuHJ36gDmFxMmTEhtvPHGyfC3QizcmwlB9+7dU6NHj85r5cXaEjfaWYfcn3zyyVS/fv0sjhpCV5BpD+YvP/30U3KPuIFPzEv0m4BP6kUWWcTeDxd4mATFAoE9R9cqlDOYMSnebFlFMhbOzYQmTB8C6ca7YnYQC0iWhoQddtghdckll1gakDYNGeUDTEhID9KBgN9z9kOlfPuQ22+/fa5vzToMoHfAVIz9vCurjob5piq4lnMI55xzjqUX5YX88/zzz6fPKgyK51tvvWWrFZNPeRbPJBB3THviTrqd5ziO41QmLrTXATXMYtiwYanmzZtbg6lGXoI7Ah4N6CmnnJJ67bXXzF/4b7/9Zsv0S+CB2go72J7//vvvdi+2s2fPTr3++uups846yxZEWnjhhS0OYWOOAMJiUVddddU8zw2FDoL+5/4ffPDBXILBmmuuac/UdQqVDJ2Xgw8+2Ja5X3TRRZNvyHfVe0toZZ++9wknnGC+/bHvZjEeqPS0CKFjwkJKenfyAYuQiUp7V/I05VDfkHDQQQfZMXXC+vfvP9c3xq69pjzOMa6nHHKdyhx5qRhzJD7//PPUPvvsk8zTYIstveM4jlO5uNBeB7I13DTSN954ozWS0soS1OjTcCP8sariaqutZkL1F198YdeFgl4+0AFAQOBatIY9evQw7SDPosEmhHHg+Qjsxx9/vF2LwM17IJDrnUJhPQzAeQhuuj/3RMsHmedWOghY77//vmnSGTFZcsklTWspwZ2gbxymMQs6dejQITVixIjUrFmzbIGdbJp4pVMlpBnxu//++21kRu96zDHHJMcqEQntLVq0SL4do0iUCTpuwIRsHeO96QDfddddpnHXe3OfEP6nPB544IGWXuQTrj/99NOTDm511CU9de2vv/5qz1Znc6211rJ9juM4TmXiiyvVAyQptqQPPPCATWx75plnbH/ccJvNqeD/WAiwbSwIm99wfMFjT87CL/i9btasmfkg5xzAxppFjnC1xyJCsQBg/qJjodl8Sev+4bN4BhCvlVde2eyPcYu47LLL2n6OcywWROeySeYeeq5gP+czURP3l7FwYvsPO+yw6JJLLrF76HkNAb2vwB0kvsiZG8DEVuYF8E3CdArT/V/phXhigSmKOzrRAQccYJOVSae4U2fnAedyj3JOO96L+QBff/212fMz8ZS8uNRSS1XsN+f7kocPPvhgc2EJcYc2ijtqUdzxTcpCLHybe1Dek3SgbPbq1csm5DZp0sTSIxaQ7XqYMWNGdO6550bXXXedff9YcLbvG3f+oo4dO9r3z4R7cG/uk29eCPMpv7nPQw89ZH709T/vcNVVV9k5juM4TuXhQns9wgQ2GmeE6osvvth8m3/zzTfzeCHJJvDRyCPU/fHHH0kDrsZX8Dv8H9Rwcw2B6+kA4Eu+R48eNgmVyXd0EjhX9w1/K2QTwNkP7GcBIybtcR6Cz3vvvWedjsxrGiJKM7wEDR8+3IR4JrcyaZXvRprQoeL7cB7fQunKbzpNeOJBgMO3OftCuEbP0LbUfPDBB9axJG8iYHbu3NmE0Gz5pFIgbXkXVjZGABf4aw+9ytAh3nbbbS2/65sAHRfKFN6JKGsc+/TTT5OJn+F3v/HGG23iera0YrIqnWA64iNGjLDf+aQpHYMwXqyOyrPo3BMHJlHj8YpOu+M4jlOhxJW8Uw/EDf1cQ+cMwTMs/tlnn5l/c8xLsAfmExDiBjcxOdBWv2VmE+6LG+Lk/zDI9KVZs2b2jLijYHEIwbyFOGULHNNxxT8bHMO0B1MBnhsLbqnzzjsvee/qrq1keC/SBmJBaR5Th++//96+79JLL21mFnxjzGkwU+A7Ekgvvh/finMWX3xxm8zKtZgv6P6Y0/A8vkc58NBDDyW+2Yn/DTfckNN3Lve8wDccNGjQXOWIeQnAt+A78K1jgTq14oorznUegbTQtyVQFtjP9+UY/2+55ZZ2v6ro1KmTXcO5lNt8YF5M375954oTdYB+882YYO04juNUNq5pr0fCpOV33IAnv2NhIProo4/MRzqu2u6++25bgv/bb79NNHacl/l52C90DE06Q/m4dkMbyNA9JjXsj4UI04RmknlfyLZPzwufK9AyYy7BluM8j1VIW7Zsae+a7ZpKp7rvEcJIBhpXfMJfdtlltqomGl2uj4VYO4fvwvUKgKkJ327HHXeMBgwYYEvTc4z8gtlGKeBdiOsmm2xiGmFGEOTyFK17VWkQgiYYUyLyKe/HdeUC3+SMM86I4k5oek8UXX755Zb+fCsC5/CemEedc845NnLGiJVGU0KUR/helGXuhWkKUC50L8H/rBvAisuAC0pGrfIBEx1M8ri/4qPfrHbMaADl03Ecx6lcXGgvAtkaaYQwBGq2CETso4H9+eefzZ4WX9gI9FzHfkxq+M01bLF7RQDCRzbD+AjqoAabc8JnZpLts2fbp3tkuxfnYwZwyimnJM/Fh/ntt99uvxsiYRpVl74CgZdvRmds/Pjx1jG79957zWRK30j3IQ25v4R5BNv27dubQLfZZptF3bp1M+EshGvCewjuk7mvLmC7jhkPHQ/yLOY9d911V5IeVT2L4wQE4JtuusmuReg99thjk7wfUtP96gPScOTIkSbYAul+1FFHRUOHDk2+CRAndbxff/118/F/5513Jjb+AmGeTg2COum06qqrJuVD75X5fpix4PueZ2HWwqJtuULHAJOaa665Jpo2bZotnNaiRQvrxO+www5mhsXzM9PacRzHqSxcaC8RmcIWn6HUDWu2rJApXIRw/vTp06N11lnHhFLiTweCibft2rVLn+VkgtYZwQobaoQ/tKpo5YH0lmCYmfakL500JrMynwCBHuEQjS4CcDgRMvyW1X3DXGFCNZONgWch0B533HHJc6p7BhN3tZIugY4HeYQRmTDO3KPY5YBn8Uw6IH369LF9xInJ2kysDtNRZL4rHWps3elo05Em8F30bpn3yOV7cE2u300dw+rI536O4zhOeTL37DenaCCYhY0ov0utCSMOmaE6OI7gdfrppyfvg/lA//79TXOYTeBx5mhimzZtGp133nnRww8/bNpROj1oRhH0SLdseQEBE+H+7LPPtknFdIzwNLT99tubBp/OgNI812+YCzwX0w2EQ+Ceu+66q/2Gqp6BcI8WGLMT3kf/Y07FyrpaRVhIsNS5xYJnhnk1/M2xzJAJHoK6dOkSde/ePVpvvfXm6oyE98qHbM+pipoEdsjnfo7jOE554kK7U2dwl4d2EbMCBMeXXnrJNKkIe868hAIUQh3phGtPzGbo7KC1ZY7DNttsYwIswrIEZuB6pS37n3zySXMjiYnU2muvHXXt2tW04HizwVtRSKYwzPOxy64OnoeXGKBztsoqq5gmmWurEwaJO/M1ZKvNuewj7ng3wUML8D/xYsv7YJqCLT/CL24Lf/zxRzuvPiFegvfi+bkK3EpTma6F8H9mcBzHcZza4EK7U2cQeJhsh9CCUIewgynFzJkz7Xiuwk9jBCFO5jBAGuIGkomoDz74oJnRYAt/6qmnmhDPZEI6RuE1EnjRYuOv/7HHHjMbZ+zg8cW//PLLR3vvvbfNP7j00kujMWPGmE09Gm/uhea/OhCkmTQNfMsttthiHi15NogPdtZcz3UEfhMYkZHPcKUBW4R87MuxEWf0gXyFAF1fSJDGpaMgLXk/9udCKPA7juM4Tn3hQrtTEBAymfSGQIYQ+Nlnn0VnnnlmIqw5+YNAjUCI8E1aYkrDoj14bUEIZ2IoIxwI+kpjBE5pfBn54H802kwCPemkk0wDjw9wJkci0ONnfI899rBJlXiGYfIz1+heCM9o2RHAge2mm25qv2sSaplUzSgAcUMox4wEzyjAtcOGDTO/5BxTJ2TixInJOgYatanP/KN3YDKpoBNUKk89juM4jlMVLrQ7BQGhC9tlBEa0qNj0spgMbv5caK8dsotmi3BJGpO+COqs3skkVlxKYuf+6KOP2uRUtNII2wi8hGzwPRBMOc65COwI7thj43UEYR4XiNhot27d2iaRhiY0rOyaCwi+CO7EnWditsMiRCBBHdMZ4qAwdepUe0fgGtwY8o71Cc+ViYvABMhxHMdxygkX2p2CgICFFpWVJQEhD2Ht0EMPnUcgcgoD6YuQjpC99dZbm1YajTEmMrgPxDSFZewRxKXJzoa0zWj1GSnBDp4OGJp9TFTQtiPYAmYj+JLPBTpv2OgD+YO44OoRyBMEOh/y8y/YT1zYx3Mx56lPeAbxEzwbe3rHcRzHKSdcaHcKCr6p0VIiCBEwrcCWWuYVTv2BsIkJCqYvaM75FvgRxy0ngjB26di6H3PMMdE+++xjJk0I4FwjoZ578FtCs4Rr4H8E+Jomrgq+OeYvygtbbbVVtO6665qnFWAfHQPuGQrN7Nf/dBLQ7Ov/8LxCwT01/wJ4dxYNcxzHcZxywoV2p2Bg1oArQzyDaMIk+xAUmRzpFJ5QQ10T+HjH/zireY4aNSq6//77zUYebfqkSZNsTgKL+iDEVwU28GjQc0HmOcSRe+IhB1Ofvn37mmCMcI75C+Y54UgAQrQEdzzphO4l6UCw+Bi28upM1BXix+iEUKfFcRzHccoJF9qdgiDhEUELcw3MYvhNQCjELWRVNtZO7clHaA/P5bsA++hYderUKRo3bpytfIoAi+tIjukatlyDJxrOzYXwe9MZ0L3QtGOGA+zDjj2bAM4xBGg6CrqWRZAYydlyyy3N5j7XDkR1cO+33347/V9kow8utDuO4zjlhgvtTkGRxnTw4MHmOxyNKWCigUmGUzpCbbaEYARx9iO4860YJcG7DK4XOcZ5YUBQ1jetCXmBAWnWCQjdPI/74eFGz8oFOhUCQVuTdesCnUpcawo886hT4TiO4zjlggvtTkFBEAPMIa688koT1tiHYDh27NjoiiuuMMEtVyHNqV/4NnwjhOfrrrsu6tWrV/TKK6+YEMt3yhT08SaTq1kK13NvCf9sCXiV2WCDDew+BGztJcTXBPb0ihO28IXQiOOzPsyPeOEpRGfAcRzHcQqJC+1OvYAwhR9x/IMzIRGhEKEMX+EffPCBC+1lAt8Bu3ZWHUVo13fRdp111jGBWv/jblICeE3wzTPP0/89evSwLQI4k0DlZSZXiEOhOn+4twxhPobjOI7jlBsutDv1BoIVPr7R3sonOCYT2267rS2+5JQevsnSSy9t3mbwma6VTjFhee2118z7TKYGPFdBmXtx/8zrAU8yLMJFh45zzjnnnPSRmgmfX1ehnevxJQ/YzjMKsNpqq9n/juM4jlNOuNDu1CuLL764eSpZa621TEAiILAfeeSR9ttth0vL+PHjo/bt20dPPPGEjY5gfoJm/ZJLLrFvVhcPLQjlaNuzgSebJk2aJHni2WefzdnUhfMLBZ0GdSAxCcIshonUjuM4jlNuuNDu1Dt4DsGWHQEerSomEQ888EC07777JvbJhRTEnJr58MMPowEDBkQ9e/a033Se0IgTLrjggmibbbax8xDapSnXNwrt3KsDF49VnUte4DiQJzCZ+uSTT2r0MMT9FBTfusD7sZgUcK+NNtrIfjuO4zhOueFCu1PvIOyxRP7IkSNNMEJIQ6uK+z5WxHSKB5p0/LQz34AVUyWIs+Wb4D3m8MMPT/azT4I3+0KhuSbQsmeb0Ml9mES6/fbbp/dEZlNP3KrzEQ/h8wm1FdrJg2jWb7/99rnS4NZbb7Vj2uc4juM45YIL7U69g2CF8Ie7QLS4LL2PZhf79uOPP95MMziHfS4sFQbSMQwIxMOHD486duwYDRw40NIe4RRTGGzPmXA6ceLEaP3117dvxTFA6OYc4Bvhw53vpOPVwXnYiGcK1vyP/TgjLTwLMFOhU5fN77reASSoExSv2sB9iANmWoL/gXg7juM4TrnhQrtTNBC8MMno2rWr2TsjdLEi5u67726TIPlfwplTN9QBQli/+uqrzYYczz2YwoDSGkH1uOOOsxVr1113XRPgEYg5hiCtc4H9+Elnmyua2BrCvdG0t23bNlpppZXSeyPTeqNxD6HTgAmL8gVxUfwQ+LW/NuDaUpNQgfiQHuTNfN7RcRzHcYqBC+1O0UDIwvzh5ptvtlU1pWVFcGdBH2yL0YA6tUcCLgL3M888Y55QGM34+uuvE7MPHcee/csvv4xOP/10m3fAcWnQ+Q5y0ynBm9+atJmLpp3zEYC5l4Rr9hF0b+KnTsF3330XPf300/Yb2M9kVV0DbBXPcEQgX+jMvPTSSzYSICZPnmwmQ7NmzapTZ6DUTJs2zTpXvKPeI9f34fuOGTPGOne1TVvHcRynfnAJySkaCFwIDwhbeC1BGESgQyvMJMTNN9/cNLAuLNQe0nfSpEnRqquuGm299dYmwCG8kebSnHfu3Dl67733ojvuuMP2IUCHE05DIRl3kDJx4d5vvPFGIgzynaoTBrkGUyhdG3bIdP+DDjoomZCKjTmCu0DrTQivoxOgZ4b784X7nHLKKZbfBPmRkSAmo86ePTu9t3LAtKhdu3ZmAoXLzj59+iTpDNV9KyAvYB6155572pyHfH3nO47jOPWLC+1OUUGIwOShadOmNulRLgERKPAggteSL774okYBw5mD0glB+sILLzTbdDo/aNBJawRbad933nnn6OGHH45efPHFqEOHDqbJlh23Rj24RkH/t2jRwn4jpKOF7tevnwl2N9xwQ7XfiXvynTmHOBCXTMEdAbl58+Z2Lsd4D8EiR5nxkVcbzt9///2TeOcLPugxjdF9uQ/PJp5ombfYYovozTfftGOVAqMULJRF54d3GTduXPT5559b+lf3nXhnGDJkSPTtt9/aucx5+Oqrr6q9znEcxykycaXsOCVj4sSJqUUXXRTJIBULbbbddtttU7HQmYqFxFQsUKTPdLLx5JNPps4444zUYostZumnsMACC1iIO0ip7t27p5577rnUH3/8kfrzzz/TV84L6a0QcuCBB6ZiAd++jb5TLOSmlllmmdSvv/6aPmte+HYPPvhgasMNN0wdddRRqViQtH0KxOW///1v6sYbb7T7ck/dPxamU3vsscc8ceGap556KhUL7Kkff/wxvTd3lJ8GDhxozyKN2K6xxhrJs+OOpMVloYUWSt16660W70pg6tSpqRVWWMHeQ2HLLbe0NMv2XQXH+Y6UQ74zYamllkrFnZpq84vjOI5TXFxod0qGhIhbbrkl9a9//csEJYQ1BKdddtkl9Z///KdKQaMx8dtvvyXCJiBIvfnmm6mll17aBDMEcwmfEnz5v3Xr1qnJkyenr5qT3twn3zQdM2ZMct8wtG3bNvXLL7+kz5oXnhM+S88n/mwJvBsC43LLLWfCsoRGfo8dO3au94bM++WLBPB11lnH3uGf//yn5Tc6ic8++6zlP+VBtrz30KFD7ZpK4Pvvv0+1adMm+UbE/6uvvqoxrZ555pm50r9bt24usDuO45QZbh7jlIxYKLItphZXXXVVYgYR58vo7rvvtv2xsGHnNBZ493ALsv3HZhmTkOWXX9783mOPjXkRCxLFQnqSfl26dIkeeeQRm4yIbXt4L+6jdM8VzG2yuW7E20xNftWzPYv4KE6xUGn3wA6fSad8b46xf9NNN53LnAbyjXsmpBdrAzDpFLg/74eJDqY6zz33XNSyZUt7DiHuNERnnXWW2d5DOedH0o1Fq9Zee+30nsjmFOCZqap0U3rjWSg8h8nJ/K/v5DiO45QBcaXsOCUFjR6awCuvvNK0fbGwgKRgGr8TTzzRtKMcJzRkwncMt4899lgqFhpNo04gbZQ+pJX2Dx48OPXyyy8nZjAKmdrqfMEMJRZsk+cS4o6DaXXzhbgofvrNlv9nzJiRuvDCC1NDhgwx7XAhURqg1SfujESghcas6JVXXrH9mOqQ155//nl7X2nbCZwbC/Wp+++/3+JcznzwwQeWN/StMDOqKg/wLg899JCVOwLvvNZaa1WMSZDjOE5jwoV2p2xAsMDWGMFBAgcCE8JouQtKhYR0QGgaP368CVASzDEhQthEIJNAue6666auuuqqJH20rUpIqw0I7RtvvLE9T98Fm/LadKKIF3GU0K6gDksYCs0PP/yQuuSSSyz+EmpXW221xC5fcQHSH3twBFkEds5nS8DWHZOhTz75xM4tRzp27JiUI+L88ccfp4/M6QgqzXn3fv36Wf5SJ/Cyyy5Ln+k4juOUEy60O2XHbrvtlghLsjk+9dRT00cbLghSaHsRBpdYYolESGZLkKDOPibrStgEbMsldErwLBSDBg1KhD+2BGzQEb7zfRbnh0J7KKRnhkLB80jXe++91/ITwin5i/eYOXNm8h7hc9my/5RTTknSnPSX0C4hfuWVVzZ7+Gxwz3zTp1AwOZl3VOfktNNOSx+ZG/INnUHOI/COdG4cx3Gc8sNt2p2y484774z69u1r9rax0GP7hg4dmtgVNzR4T9z0EQ455JBozTXXNPv1WIiaywad83Cz+NFHH0UPPPCAuc5kHwG7cM5VKBTTp0+3BYeA5whcSh5wwAG2L65H0nvLhzBOpCNpdswxx9iaAMQ5FsijXXfdNVpyySXNfl7prLQG9p999tnRxIkTzf2k0pZvw33Im1OnTrWVVDfbbLNol112sXkEIeH9ismOO+5ocSWevAdzHHhvXDoSz4MPPtj+32effeZKq+HDh0eLLbZY+j/HcRynrEByd5xyA5OM3Xff3TSjaDRjAcQ0hmeeeWb6jMolFpbm0SQPGzbM3o8Qaj3R8nbu3Dl16aWXmuY39CTDNvM+dYX76b5471l99dWTeCkQJwLfZcqUKfNokxWnbHHjXN6jvjXtXM9z2DJy0alTpyQfEXfs03NNP91n9OjRqd69e5tmOkwP7ss9lUfxqnPxxRebR5ZS0qNHj7m+1eWXX26uHPmfeOIecuGFF7a8xnHe64svvmg0c0gcx3EqDRfanbIEgQqhcZNNNkkELYQLBAsmp2YKipUEwhBCKzCZk4mC2BQjSGmCJL/XXHNN82OPEFWs9+U5mJJMnz49dfbZZydpT5xatmxpaS8hlThy/N13301fPQeEXAnEmcIf+4shtCu93nnnndTiiy+epCvxZfIpkzVrC3E/+uijzbUi99R9lSZh2hA496233rJvTbzI10AHrD5hQi3lJTNu+p9AmWI/gUnAxE9Cu+M4jlNezMefuMJ2nLKCbBkLFebOcN99943GjBlj+9kXCxY2xI8ZjdD5lYDi+tRTT0V77723mZrwTsB+Vim99tprbQVTmH/++Qtq8lITb7zxRtSzZ8/os88+M9MKxemee+4xV5O4SMSNYCzYmSvIRRddNIqF46hZs2bpO0S2cmqnTp1sZdEbb7zR7gO8p95foSqqO1YTPJ/VX/faay/7n+fzXMyIWA0Vk5a6pikuN2NBPOrRo4eZNsWdF4szzyJtgN+8M6ZMPH+ppZaKRowYYenCucQnJMzH4e/aEAvf0cYbbxy9/vrrFods99K+9u3bW/wxpwF9d8epJCh3xawr6wLluyoyy15d6wKnARFnBscpW9Bqopk84ogjTBuooXy0hbhBZNXGWCCpCM0g8WTyKNvbbrvNtKBMFuRd2KINZuLjRx99VHRtJ88iMKmyQ4cOc2ljiRcTgdHAw9tvv22mFXwHvgnnYkaDu0nO4XuxOA+mTbzXBRdcYNdJw16fmnbuzUTKHXfc0eJN/IkjYckllzSXjbW9dyaKP++CWcnNN99sJl2kC89lK/Mu7SMebEkzTHT69u1rizqB0kQUIp4swsXKtTyPZzOio/iQPpQntqysy7PD7+I4lQb1ZqVAGaOsKfB/VeWuumNO48I17U5ZE1dUpjlBa4h2fcKECTaJkP2xQGSa1Msuu8w0mbEwlL6qfImFoujYY4+1xaRigcn+pwiyKE7cMYlOO+205D3YFuOdwiqAiZQrr7yy/SZusNVWW0Xjxo0zbTvpHjcw0fPPP28jAb/99ptpnIlnLAhGl156aRQL9FGvXr0S7e7RRx9tE4mB6wl6t+rer7pjmcSdN4vL1VdfHZ177rk2QsMIBXkF0PrHQrUtNpXLs3Mhs+rkfjyX92Zk6IknnohiYTj66quvkveG8Dqu4X+2fH8WrGJSKws8FQpGSJhgyggDC1btt99+Fkf2MUrCcxktgMy4OU6loHqF8kY7QbtBm8FoYDFRnU59yJZAPcSoHPEjECeOh2WM38SZeivcr3oj81ynkRJnKMepGHr27GmaQTSHBDSZhx12WKLBLkeIV1zxmga6ffv2puXEbSBxpwg2adLEFhYCaTp1TbHA9R/EgpxpX2XrjHb666+/tonB2GCjSScQv1dffTW19NJLJy4QOT/UbvN90LRjGw9owXi/QmnaOYd7fP755+Z/nWcRj0UWWWQuDXuzZs1Ss2fPtmvCZ9YV3Se8H+8leBZpxsjJsssua2lFHImb4kdeIJBuBM1tYPvAAw+kvvnmm+SeYZzD3zXx008/pX/NbUcvrWQ+93KccoP8SxmZNm1aqkuXLlaeKEOUsZ122ikZISwGlPlRo0ZZ3U4ZVp1EXagyz5Z9HFO5V9D5qhc4f7311ktdc801NgrKu/CuvLOC07hwod2pOI455hirzKgIqeCo7LbeemsTTlShlQvEBSH1iSeeMK8iqsBVIe+8885WGSNAUeETf7YSLosFcRw6dKjFS3EkfltttZWZIEnQJp4SvokjDSU+22UGwnW6lsC3+fbbb+0ZdFq4T75Cu35zHcyaNcu2L730kpnlLLroosnzQmGYzsSECROSPEHQs8P7FxLeCfQ8gt6T/Pnee++ZME4cSSfiyzZsrNmn9yD9WAAKsxt17BzHmQPlisnm7dq1M3PDsA7if7wlqdMalsn6YrvttkueHwaV57qGVq1aJQoIp3HiftqdiiLOs9EFF1xgZiSYa0AsFJkv7X79+tnkybhStv2lInx+XFlH1113XbT99tub6UksMNp+3uOcc84xM4pll13WTGWA80sBz8d8YpFFFrH/FQ9MX2R6RIgbIAv6f8UVV4wmT55sk4V1Hu+m8/g266yzTnTYYYdFw4YNMx/ntWXmzJnR+eefHw0aNMi+PaYeTJ7ENAbiBtueD5h8fPDBB1HcmbP9QLwU7/qCd85Ez2TSKaZHO+ywg5nR4DMdv/unn366mUeRN5R39C78jy/4++67L2revHm0xhprRAMGDLB9IbxbSOb/jtMQCPM1Zeioo46yMsE6DHGHPH1kTvlp2rRp1KdPHytfJ5xwgk2Wr++2YbfddrNnZIZClcdp06ZFm2yySRR3RNJ7nMaG27Q7FYUqQCplbJeHDBligiUgeMp2uXXr1nbe/PPPb8eKBXEhHgir2FjjKeSMM86wYwsssIAdZ6GeU045xRqcEN4tRMJlfQqZIW+99ZY1CHhCAYRIFuVB8K0qDhLMSev9998/Gj16tJ0rQZljvDfb8P022mijaM899zT79xDOI6gD8NJLL5n3GexUaZQz04jn82y2XENc6Qjp+ULVHNtip2uu0OGkM/r+++9b+OGHH5LOHO/NOxJn3oH/V1pppeiiiy6K1lprrWi55ZazczlWzu/oOHVB5RibdeoPOuyqF8j/dIzxboWiBG9WAwcOtDlPHG/SpEn07LPPWsc5W+e6PiBuLFD3xRdfRJ9++ql1tvG8lQ29G+9BfH/88cdo9uzZ0YcffjiXsmPppZc2BcsyyyyT1AlO48GFdqdiQSgeNWpUxERHoAJDKGaVSypIBHaEN7J4phBXHyDkSuBEE7L88stbo8KzqYQ5RqPyySefmNYU2C+qqnyLVSl/8803Fi8JigiFaKt5r6oaOeLGOzDpslu3bsm7EkiHbII2qGGC8Dj341mkFXA/JhzzrTOrKs7lGxN69+5tk3t5JverKr7hPYqVrvlCHH///ffowQcftIl05BnSUaM0kJlONOQPPfSQCfC8v76h4J7l+r6OkyuUgUsuuSQ6/vjjLY9T9qkbGHnr0KGDjbgyWsh51B3sRyNPmeBcJnnjCpZjxSgPlDuVvXyfxzsQ70mTJlndqv9RSL3yyis2kuA0Ptw8xqlYEGYOOuig6KabbjIBhsoZ8NGNFgINB5VcKKjVFwhPNCIIWzQq+AGXdoRjVNhUvF9//bX56gbiBqrQqwrFgLjccsst5tWA9KJR22677SxNMwXAEK577rnnbBha6YyQjQnL3XffHQ0ePNgazlCI5p0k3IfvyTmEcB/QKPNbDSCBb8+wN50FvjMjGoqnrstG5r3LEeLG6AQeeGio0bSNHz8+2mabbew4HROltdKVDhdmSHQU8QHPCEVIOb+v4+QK5R2BHahXqZ8YrRs7dqwJt9Q9qlepi+nsKu+zH2GXMlWs8sBzVKeFhHWZQibUZ+w/4IADks4573fyySeb1yenceKadqfioTJGqGG4lCFFVdpUlmgrEWIQdOoTNSAnnXSSDc3SYKjCZv+VV14Z9e/f34RNCatA8eN3ZqVeTIgD9uJoaVnoCY0U6TVlyhTr/OicbHA+2itGNkgDCfv333+/NZjci/dlgR/cRvIcGk7s4Gk8JWhzDs/Qc9hyLwICbNeuXaN27drZKMq2225rQ9xcq8ZM6ae0LGV61he8K/mbEYVnnnnGTARIX/JX5vuyn84h9u+MQqCJRwNJOkvQd5xKArM9FnfDfp08T73A4nSYiDEnhDpD9QhQXqSEUH1CnYG54oknnmjnlCN6D+rHHXfcMXrssccs3vyP6Q/lXvWm0/hwod2peCSIIBB27NjRJviRraWRRHBn0iKVdn0ILDQOCK/du3e3BoVnIrTzrBYtWkS33XabCcQIUhAWOX6XUshUXA499FAzNULQRjNOY3jxxRdbQ0E6hvHTb0x/SG9GD3hfwLb6xRdftMm1vH94Hc/iWwHHMGX67rvvTEvMt2OEBBAwV1ttNWuIgXugYcokTMeQUqVlseC9+U6M5DCvgw4S+Y58yLurPLBVWnTu3NkmcLdp08Z8wFMW1GlSHnSccoW8feSRR1qHlXqU/6lv77jjDhPeycOq28n3BPaxsjTzbJivozoZzTwT2FUflxOKN+WTOpm400FhPwofRhOYeOs0YuIM4jgVTVyhpX+lzKd4LGQmLrbYxpV6Khbc7TjnhucXgokTJ6YWW2wxe15c2dqWOGywwQbmboznxY1M+uy541sf8cmXuFEw94hxg5akF77FBXEnKK4ErunTp89c79y0aVNbLdUpLnwb3IYOGDAgyffynR8LJvY/31TflpVYP/vsM3N9qesdp9xp3ry55WXyMWsxZHOBSt1Evo47tYl7WupgVnkm71MvL7HEErZqcjlCWSTuscCe1K2UYcKNN96YPstpzPg4qVPxxJW4aSeAiZS49mrfvr39r/09e/a0YVS0k5xfCOIK1txMMoSJFgeNNPvQ4KDVfOqpp8wkgeeFzyzU8wsBGltWCZWmnPRi9dJwRU60U9JiCbzfoOWCuKG0d7/11lujVVZZxfY5xYNvQ76//PLLbfTirrvuMhMiNOl8G/Ijv/m2fGe0dZgaMZrBnBDmBISozGjrOKUGkzq5diVf4qmKEbnq8qjqLTTUjPyR9zkfMxvMzMoJ2g3iRsDMExNLtWscw7yStqa693UaCXEmcJwGBdqWr776KrXOOutQw1mQNvjggw9OVv/kvNqAJueDDz5Ibb/99qb1QQvyz/Tqpqwg+vzzzycLEOkZtX1WfYK2/M477zQNO3HnPeKG0NKuqviyMurtt98+1wJMhNNPP72oKw86c5Pte82cOTM1cODA1GabbWbfiDIgjTu/+YYEfnfs2NFWlX3rrbdM04fGrxzzrNM4oc6hfiIfM6rJSBFky6PkXerecMsicVxL/ifPf/rpp+mzS4viTxx/++03a1NUpxIYGTj55JPnWsnYady40O40OKgIqax//vnn1A477GCVHwKmBM0ePXrY6pyhUF0V4XH9/uSTT+xeqlglvIarh4IEH4Vygrixsl74HphU3HPPPUn8QxR/VjdllUGuU3oedthh9t5OecC3Im8LvjXmM3vssYd9O+VXhHd+s6XTKaFoxRVXtM6cVrIN4V4K5ZivnYbJ1VdfneTZZs2azZW/s6EyoA7olltuadeTx6m3ykloJ56Y67Rp08biqPJJoCPtOCFuHuM0OOKK3SbyMKESN4b77befDZOyP64kbeIe7hcxDQFMCrIRl4/0rzkwIYhhSybzxRVtMoOfe7LiHh5seKb287xyhPeKGzLzbx83Yum9kZlUYEak+GfChFHenUmjXM95q6++ui1ewns75QH5jvzONwLyJ55kKAusysvCLHjjwbMGx8gPmA6oPPCdWeEWExq89LDgE+cBWwXHKRaYwgAT0nEBi0mX8nc2KAOqfzGrYbI8kNcXWGABW+CuXMCJARP68cBFmaTtIu4jR440708yXXQcI87EjlNvxI17+ldpQMuCmcCpp55qk5fQYmAOQNh6661T3333XfrMueMa/sbUBc18//79U4svvniiBeFeiy66aOqRRx5J/frrr+mz58D1maFcIC533313Kha0E60Ok0jff//9eeLJ/6Qh73/44Yfbuf/6178s/TClUfpl0847pUPfDdiGQfDtLr74Yht54ptK086WYXk0ksrrlB3MbI444ojU448/nr6DU0zKqQ4pNkxwl2kLdQ91UU3poeOMMlHXcW0sDKc23HDDsqmvnnzySdOwq+wRGElgZMFxsuFCu5MXVISE6dOn25BeKARkg+PM3n/mmWdKUlESV4YfsbcePHhwIpAgrBK22GKLxAsBcdX7he+FwMp5NBpcQ8VP5bruuuuarWFVQ7W6l0I5QDzohKyyyir2DjSAbK+44oqs8dS7XX755ZZ2BBo/TGnuu+++snkvZ27Cb6nfCuRtQphvKaPYzmJGgKmMOrbkdcoL310dPAJmNpSncePGpb744gsr27q/UzeUhmy/+eYb8+RUXdqyv6o6qKFAOjRp0sTyo+rfhx9+OEmXsL4W7EeZss8++1heVr1/8803p88oLffff795slFbRPvSsmVL80YGrghxsuFCu5MzqiBff/1108zhggsXi9WBrTM2slSyxx9/fHpv8VCcCYDGHQEEoZPKn9/LL7+8aeMleIAaAd6P95QgQ+XK7379+pnwC+H9y5UwjsSdd+d9JITTMQnfP+Tzzz+38yW0kXZnnXWWTejN1lg6lQvfH0HnuuuuMyGJPMI3J59IWFKQ9pItwsazzz6b+v7778u+LJQ7COB0hBj9Uh114IEHWlmjznnqqadSt9xyi82tUR0kGmp55D3HjBlj+U75ECH3zDPPrHKSJvXZUUcdZfU1+ZRrUFaUgzD89NNPWyeCd1B5ol7luztOdbjQ7uQFDTKmFTTmBEwk5AM9Gy+++GJyLuYlpYS4U2HfdtttiTBCQBilgZwwYUL6zDmNxAMPPJD4BlagwbjrrrusM0IDWSkCit795ZdftgaMd+ZdMHtAKOd45rvwflyz9tpr27kIZ4RtttmmwWv2Gjt8X8KHH35o5X3zzTdP8r86bwrkJ/YjdCCIrLnmmqlevXqlJk+enL6bkw9ohjG708geacwICB3r7bbbzuouBHm2dKzWX3/91G677Wb1FR1pvlul1Eu5wvsgnHfr1s3Sg3SRIE4b1Llz59Rxxx2XGjt2bOrCCy+0OgqzE84hkF4EOju5CO31mX4HHXRQUmb0Hdu2bWsKItodr1ud6nCh3cmbWbNm2QItalCofM4++2w7FlZ2/Ja7Oc659tprS9qg8FxpouhooGGn0lT8+I3JB2AugkDLMTWSNKS8A41HJQnsQHzRgmLSwzsxUsKWkQfgXbK9D5qqMH0wi8AlJFTS+zt1g/yDBh7TgqOPPtqG9ckX5AmES8qIhEz2KdAZPuCAA1Lnn3++uelDYKpKM9qYIX0ZwWzdurWlIekpoZSyR7pjkkinWcc5li1Qttdaay3znNW3b19zc6uA8N+qVSsrx9Rv3A83te3atbO5Dccee6x9K+KCSaHquXIp6yhLdt999+RdlU6qoyWkK3COtNmnnXZaTgIx78p763dd0PUI46QnZpaaE0Sc6Ojuv//+Zp7WEDtbTuFxod3JCw3HUnkyoYehRyofKkhc/+HHmwqP8Nprr9kxAgIvLuSolEpVMfFcKkZV3E888YSZ7qhyp3FEU0gHRPFWoKF77LHHyrIhqwniyXfDlzoNGO/JO2266aZ2XA1UJuPHj7fzpNVCUHv11VftWCW9v1MYQmEbjS4+3dHwdurUyTS+5C0CeQUBSp16bRFQll122dQFF1xgdYN8bTdGVEcK0oT0Ie0Q6CSEMmrBaAd8/PHHlo7ZguowCbGUcZVzBf7XtwiDyjdbXUO9ToeLDtpzzz1n9V5meS9V+ee5w4cPt7pb76M04z3CwD7yplwnVlXXCdXtb775pk0SZfS1EKunvvvuu6n27dsn8eTb0tZcdNFF9jzaUzq0er7jVIUL7U6tYXLQCiusYJUmXlWoJPmfCgjQbFA5cXznnXe2SimXocligeCB9kodDxosKlQ1BGz5n8U8GF2g4SL+VKoK5Q5xVENFx0kNHMIVE7mqAiGfIVs1fnxHPIdAJb2/Uzgy876CyjQT61ZaaSXLXypPmVvyHeVKAiIa3htuuMHuUxV6TkOC90F5gMkL2m/VNZQz6iP+v/LKK5OF4EhjvP0g2HMOk+epX1WmtSV9uZ5zVJeRzgT+pyzrf84nsI/rwn0K+lZo5TEtEdIclwrSjzjceuutpkwg/sSX9FG82R5zzDFJewQ15SPqStJZaceW9TdqC89jYSjFL0xj7NdVN5MPyA8utDs14UK7UyuoWGhI3nnnnUQwV4NAJbrTTjulWrRokVRQTCJS414uqJKcNm2adTqIOxU178GW/7HlxSyAc2kkVKkqVALEWYtM6R0PPfTQpMHIhO+EXS3flUCDgzkUoyjAdUoHp/FAGQjzPkF5SAIcZYRJ3ffee695l8EMg3xHPgoFFgXyIoHyt8Yaa5jpA94zELS4V1V5rKr9lQBpRlq+8sorNoJH2igdCOutt17qjTfesHdUnam0ZkE0NL+YUwDCHiMWuOG86aabUoMGDUott9xy86Szgso/z0TBstpqq9noB8fYz/EwsI/6UIEJx8OGDUsE4VII7ko/pQ3/04lBO85kaEYDWbGaOHKeIA1zyTejRo2y91aaYStfW4YMGWJ5m/spLZkjRPyIt+LEu/C/9jlOVbjQ7uRNWNHAlClTbCKQKn60Ewz96X8mCjHEG1ag5QSNJ75xVUnTWLHlHXB1KLMA3jmsaAnljLQ3mLnwTrwPAjjfh29WVfyZ0MZ50g7RCaMxBDUs3rg0PsJ8HwbygoQOIN8B+xAwKfsnnXSSrchKXgqFQrTCbMlr2iLYMLrVp0+f1GWXXZasH0BQHaJnVRrEm3fABS7vrjKmtGCyPoI5aRe+L4RpHZKtc4MwzXdA4aBAPcY+KR9CeA7nMFEdjyx8q2WWWSYR1hHyVT9SfzD5lXqllNr2ENIkTKuQzLSpCp131VVXzfXeOC7IN79xL+pM5gwo7fjGPXv2nMfjmr4rgd+5xtdpnLjQXiZUYkEN44z7MSbUyE0ZjRGVFRX8xhtvXK3WrFRQyVMhM/RL54J4q3IlEHeGnRneDCvUMJQrxI0GGqEJAYh34XsgGOANpKoGjnkHTExTenANGjwJCmpclB5O40blIFv5CPMKAchfaBkxl8MmmY4keU35TdvwN3UJ2uDzzjvP7LoRLisVhNypU6daPUmZpL6hjDEigQ21hPUwFBvqBo2qMUK68sorWx2i70Ig3miQmbhKHKnfS4nyX13Q9cx1QmDnHQl33nmn7c8HvqM6ZHxn6l1c7YZ5V983W3CcqnChvUyo9IKq+LP6HJN3mHSjSgs3XOX4fqyqhw2kGiEq17Bh4n8Cs/2ZnBpWqOHvckRCEiteStND56RLly62vypwKce76xrs2tWAA+8sIayc398pDioHuQSdLxBssOvFY5O8UYXlj//Jg2gr2fI/ZRFhcfvtt099+umn6Tv9RbbnlAuUGTosCOx6NwICIiYupRZ8hb6XAkI8CzzhCQzhkzqR+EuwRagvxGTNUsO78o0YkcAvPvUl8wao/ziWL3RISSPaQdyfkkahsiRM48zgOFXhQnuJUSGlMNML14IZEroqhcyKpmPHjla5o6FhYk85VUS4LMRzihofNaDYGuJXHpvcrbfeep4GChvdSoK8JK05DQfCz6RJk9JH54b8hykQwpIEJOxXmagbfjt+S2h3nEJB/qPcYZrFwl3YZYfaTpXRMLAPt62Y0eCKVfVoqK0uJ5jMTh1DWaRTTN2C0oA5NZUAk2KZbMyoB2mvuoLtqquuanVLuaV5KSANaMNx1MDkXezt2Ued6enj1BUX2ktIWIAxWWBSEJokGq5KGwLOrIwY+qZRQmhkSLyUhHHDlpSh6EwhgImaNKogjReTaSUcSHg/5JBDElORcoR31fvutddeScOKwD5w4MDE3jgT/DJn2vVj25n5XXX/zP2OUyjUIcSWHVt4FtQJzUnCPCrhkWPkcSayjh492iYlIsCH+VS/S9XhZMEplUeEdjztEKdK81tPfFkgCE0y70Pnii2TanEDCo29fpBiQx1IYNvY08WpOy60lxAKNRUgk63Q6spPL7PVMTNhwkpVgd47i+VoYpFQxVDqygFNGQ0qFbk8HZQK0oJ0wrcv6UyDSSOjBgdfxGG6Ke3obOBFhUYWoYBz2eLdQe66dG45QFyIE8IKAg/pT5CQgD1wtg4H74m5gUxiCGgv8b7A/ULK6X2dhklV5QpNLqYYCOcqvwTmnZB3KZ8ENNkoPzDt4hrMG8LRS8pHsaHuUdmiDqGDTEe5EtG3GTlyZDK5nffiW2AWiU/yzHqjMaL6WGnB/15/OnXFhfYio4JLQcZshAWKaGhoZNhS8fFbkwezBc6hkqTxomFiAY7u3bvbRC3MGdDSM+EpU9NUTHD3SFxx45ZN+KsvlL7he9MBwtsBaYbQLuGbhp7hXjpOxE/fRQFIS7TrNEyyUeQ6bMPLdTSE9yH9yScS2mlgM1EaMZmMd5LWks4jNrZhGops+xynkFSVx+hw0vnGjAaBl842I3kShJV/KaOqS9mP96odd9zRBHjqRe5fzHxMPUwcVHcQ8NBSrDqxPiD9SMvnn3/eOiBKe7YobPBO1dhRPlNeC387Tm1xob3ISMvDEC7DowiCNCwIkzQ+CIdUfOzjWBio7NU4KbCPa6TtYIvmCReMCJsjRowwG+5iu+ZipUTiwihCsRonVYqh0M3y31o5T40mv+noMDkIQYBvwvnhteE9ANMSpbm+ET7cy60iRqN4/fXXW4dOwgx2v+qYhPDeuLtkxUCdSz7De0I5vZPjhIR5k/LLxHeEYMo0eZi8TFBZ1/8cY+RvwIABZian+9R3GWa0Lqw7+vbtO0/9Uoko/viIl5JG6c0quYwIQ7bRvcZIfeczp3HgQnuRwaTl5JNPNuEIzQRBgrcaFvapockMVIrhcWmVCKo0FcJjPXr0MC8NVKTqONQ3zJYPTXeKCdr9I4880jpDpC1pTJqTLocddpidQ2OixpOgSpWgfcSfwLkIBvoGpCkjIq1bt7YJR+UC31faRwLvjzYMeJ8QzGIQdHgX3ol8hfcY3lcrMTpOuRAKPdRhKr/aB++9954J5auvvrrl/bCu5Lf+p1Pbpk0bW42Va8K6oJDQOaBepoxRB9GBLkfTutqgehKFEG5h1fnXYkIoNZy/CPOv49SW+fgTFzSnCMQVXNSqVato+vTpUSxI0mGK4kIcxcJk1KxZs2jmzJnRZpttFu2000523tJLL52+8i/eeeed6LXXXoteeOGF6NVXX43ixsD2cx/uH37OuIGyfWKhhRay5w4dOjTab7/9orhiTR8pPMQH6vMZIbw37wsffPBBtNFGG0Xfffddks4QN+LRmDFjoq5duyZpn0v8OFfn3XXXXdGee+5p+3Tfpk2bRjNmzCjau1bHJZdcEg0cONDyVNyYRrvsskt0xx13RL/99lsUdzLSZ83htNNOi84++2yLdyxYRHEHJHrrrbfsGOnmOJVEWJ7J77/++mt06qmnRtddd10UC+W2P0TnUm+sttpqdt7aa6+d7A/vp7KuOiZXWrZsGcUdabsPcRgyZEg0aNCg9NGGAWlDujz22GPRDjvsYOmmdLr77rttn9KxMVPbPOQ4cxFnJKceiSsw27KcMctGo+FB6yLNyxFHHGHadzSb8geL9gLNTxjYnxk4j4DmBhtCVqi7+uqrzYMCWmU+LyGuMJPfcYVhz8XGm2HN+kJxLBZ61gUXXGDprPclndkydwAfyULpp3jWFHQN4cEHH7R7okEjkJ7t2rUzF4uZ6NpiQB7CvlSaPeKI7S9xIA+FMCmVIW3OIX9wDYtIOU6lojyucqpA/crCRfvtt5/lc/K8yq/qYv3GnSGepGIB1O4V3lP1Ra6wHD73pc5ltG/LLbesOK9g+XLHHXck5oO8O3OzstWLjRHlR8epCy601yMqoBdddJEJdqrA2TKBlApOpipqFIQEcgUV+GwBZJcNbFkKe+LEieYyDYFSQpyCBHlWMWXyaiXCu+udsdvHVpRJlOE70mggyNP4MoktM+1yDaAtXHfdddYxUmNPYLhdQrLODb9vfbPnnntaPMhrNJyYBwHvrnQCfjORNsyP++67b1Hi6Dj1BflaZU+BfWGHFa9buDJFMKeckP8lYBL4zX4CZmaUoVtvvdVM/XTPbITHtNXkd+5JecSEpKGD4omFsqiHlKbbbLNNycwky4nq8o/j5IoL7fUIk//OP//8RPMgwZ1JovIJXixeeuml1LrrrmtxUENCoHJltj+aqEz3keUOFSD2lMQde0oJrLwX6UxnhYmWNNoIz6o0C1V53nvvvdZJUDrynfEBzwJNEtbVmSrkc7OB5pwOCnHh+7KaH15zeJ7iQjyw9b/tttvmsvfFBzbXO04lk61sVVXe2I8gjv37KqusYuWA8iAhnv8VtJ8VQRmdxAc85Uh1JfciqJzDI488ktS1BNbgaMjo/alrmCuDXbvaO+rFCy+8MH2m4zh1wYX2AqIKW7BMvipuaR2OOeYYE44lSBUDKlPAfAIfukyGomGSsEn8EHpPPfVUixvoXTLfqRxQnFjGnEU+EFARnklf3mWZZZZJbbzxxslkSmmauU6hruger732mq0cKq07jTsTVDFVEjw7MxQqHsD7bbDBBkmHhe0ll1wyz3P4H+Gcb0481aA+9dRTdtxxGhuUCeo86hLqZsoudYgWc5IQnynII5QyCR1Xuy+//HLq7bfftvUouB/gYlLnUjeMGTPGlDgNFdUzen+8hpGWqpNQDKltcRyn9rjQXiBUYcnzRv/+/U0gkiDJ9uyzz55HKC4GipsqVvzDYzIiAQ8hTo0VnlU4l06FzieUGsWB9CV+aNDxfKJRDDWuCO9owBFkuYZzw1Af74LrSExjiIMaamzL0S6FmnZ+63/tU6gLCA0Swnk2Li7Jg5kdQ7SDrMoYCu2s+trQ7WwdJxcok2iJcXl67rnnmnkMZSUU2FXGCNpPWWKu0jrrrGMmeoxqItTrPJQKjaGMUY+RhtS9vC9pQYdF6TRo0CBr/+pa3zlOY8aF9gIiQXfYsGEmBKuCp+KiESgVoWCo31Sur776qq3uiakEjZNMJvr161c2WiHFWwIoWzocpC9xJpC+xBttc+ZqfHpXgt69PnjhhRdsNUC+N42U4oVLORownktjRsgmuOdDeA3mQZtssom9v9IDP+1o/TKFdnz208lRHBlx+fzzz5N8m288HKehoTJDuaKsMi8IP+vUk5QxguobyhFB+xUoW+Fx1uRoDFB/qE5jy/weKVVoC9G2S+niOE7tcKG9wDBBUQI7FRZmJ0xEpbJCEC4XwUgVK5oPlqwnvmpwiD9Dv0wqKjWh4IkPchpPGkJGCDRKgC33XnvtZY1sNnjXMNQHfF9MTxCEw7ihZaPDxsRg4kce4J0ItRHaOZfrlC54Cwo7MKSP7G11XwQQhHgmPxMv0o/vzIQ8znUc5y8oW5kjopQh5oiwsjCmdx06dEg1b97cypwEd8qUBHUJ8ARWF+Z6ymRDRnWZAsoKFAqkEfUOnR0WwlI6KG0dx8kdF9oLyNNPP50IRRLaBw8ebA0ADUG5VVKKD4LkKaecYnGmYmXLcO8uu+yS2IWXAuIn4fSuu+5KFg1SY4gpDAI72vVcBXZCfcIEYyadhQ0Vv9HWqZMUatvzjRPn0uhJsGARGdJEwsMtt9xi35N7Czpf2267ra2Uq/O6du1a0m/rOOWGyqLKZeY+BaD80RFnUiqjaSuvvHJS94d1FKGx2HMrrcL0osNCuqg+ZL4RHRjHcWqHC+0FQBU5lbMqbLQu2LVL6OQcKrNyhHjRqKARpqOB0I6pDNsTTjjBjhUr/qHwzfPQEO+2224Wr7BDRCNw2mmnJSu8Zosb+7KF+oR0QnvNyqLEkbgSyBO4PmP1VOJLUJrmGyfOR3DHDEtpwv0RxEm/zPvdf//9do40gcTn/fffT/Kt4zh/1RdhuQz3aX8m7Keeeuutt1K9e/dOhHW1A5TRcePGJW1BQyUzvaRcQLFAnaO6CrNMx6mKbGXM+QtfpqwAxIJYtOyyy0bffvut/R+na7TOOuvY6pRxxW3/sy1XiNuCCy4YDR482FbJJL6xoG4r2/EOt9xySxRXwMm71Cex0Jn+FUX33ntv1KJFi2js2LG2sivxiRvBqG3bttHtt98eHXXUUdESSyxhq3mWQ/oqbbTy6j777GMr1hI/jj366KPRBhtsEE2bNs321RbelXS66KKLLE24F89hdVMdFzxr//33t9+kXdxwRsOHD7fVT/nfcZw5qNyE28zf+j+EfYsssojVU3feeWd67xwo95TVX3/9tU5lvhJRerEqM5AW1Dms5u04VfHDDz9YWXKqIC5ITh1As4kJDEkZV1C2xd4RH8BQib1G3CjyHmhGMO+IBWOz50R7wvvWN2iqDzjgAIsDmioCv+NGzzwSzJw50+wlq9KwA/urCvWF7q90wkzlvPPOs3kN2J3zDpj0LL300qZxD6/JB977rLPOMk0+aUO69OjRY545CNxX6aiAizrHcbKj8hiWyXBfuD8Ej1xhOaMtUMB9JKNd1AsNmcx0IqBtZ0Va6ioCaYOdu+NUBSsJY076zjvvNPgyUxvm409ckJxaEFdKpg3u169fFAtotm/xxRePnnjiiWj11VdPNMCESoHsEFey0dZbbx29+eabti8WEk3j/e6770YLL7ywaUsK9U48j3tpGxdU08x8/PHH9lydw3PvueeeaOONN0601+WetuQPwgMPPBDtvPPOFm/SjlGLWHCP7rvvvmi99dZLtOW58uqrr0abb765jYYobT766KMoFg6S9ECzh7YiFtrteRB3GOybtmnTxv53HKcwUFdtu+220VNPPWXlGSjzcWc6WnPNNaNVV13Vyn8511d1hbpI6LfqNkYYX3nlFdvHqOmsWbOsvnIc5RXa/DvuuCNaaqmloq5du0YjR46MOnXqFO2222523JmDj4/Xgddeey068MADo//+979WGTNEOmzYsIoV2IH4YnKCKcfyyy9v+xA0qWQvuOCCggrswL0QML/77rvo5JNPjjp27Bh98MEHNqTMMQRNGj6EeQoyZjxh4xc2FOUGcSS96ADdf//90QILLGACNO9AerJ/9OjRln9yfQ8avFGjRiXXEPbcc89EYA/DiSeeaOeTF4nHhRdeGLVq1Sr65Zdf0ndzHKcQUCetvPLKVt4EZmgIHAgeDV1gr4kdd9wxqa9IhyeffDJ9xHHmsOSSS0Zrr7129OWXX1p736RJE5MHnAziQuTkwf/Sw37MgGeZ/FggSkw4jjvuuOSchsCkSZPMZSHvFjc6tmWf0qBQ78niRFtssYWlJSGu1JFgzawEF5qhN5Tw2dlCOUK8GCbGbzELH/GOMpdhwi8mNPKoUNM7TJkyxa7jHnwTTG0Ymg/BKwxmRDwDEycm8a611lrJAi/lmk6OU6lQpmIBI6m7KHfUW5RrAvVXQy93vJ8C76vA/2PHjk2cG+DFikn0jhOivPLiiy+mjj32WDMh1T6CMwfXtOdBnF6mSUFTcNZZZ0VTp061/zFPQHt6yimnRLNnz07OrXQY0tx3332T4V7e++ijj7aJt/wm1JVrr7022mSTTaKJEydaWio96XF/+umnNomSiZ1oiisV0ilurGyInNEZJoHK9IcRBSb/DhgwYK5JuNlAS3/SSSel/5uTxw477DDTSIQwDH333XcnWj8mn2IqEwvx9r/jOIXl559/jt5++23TqMOuu+5asaOt9QHmgNRXpAUjfdSDjpMJ+WOttdaKevfuHTVr1iwpP16G/sKF9jwg4yA8vv7662YGI6io33//fTMrQYBqSJmMzknLli3tN+9OZXv55Zfb/3Vlu+22M2GVSpwKXQ3eqaeeGk2YMCFadNFF7f+GAGmHeQxmLAwNY5NOo847I1zfeOON1kHBTr0qMBt68MEH7V4SyI888si5Oohff/21CQx0ANQx4BuusMIK9rshdCYdp9z47LPPrM6n3KF06Nu3b9IONJS2oC4wJwqTPqD+op5T/eQUFup4FG3Z6nr2lXMbQNxQMq2//vqWT7zszIsL7XlCpsJWONSKDhw4MBGKRDkXjHygE3LDDTdYAQK2119/fTRz5kz7vzYwWQv7z/Hjx1s6klbcF1eOTOI99thj59EeNyRowBDSmXCL4E5Ai37zzTdHffr0sYnAYf5BQOc4LiTZApXZww8/bBOfVbHRCJ5zzjn2bXQ9E12ZjKrv5zhO4aCcERgxVJlDIGXk1fmLZZZZxrZKIwR4r5Pql/fee8/mMNE+oL1+/PHH7bfybLlB3NSWOVXjpSZP8I2NKQeQwegR4t9cJiTlWiBqC0LipptuGq277romFCJAfvXVV9EVV1yRPiO3DgqVNGmE2cYOO+xgpkVAGiK07rffftEbb7xhGuiGDu+MX/+bbrrJ0kIaJ9Jx3Lhx0fbbb28ac0H6vPzyyzb8zrWcxyThjTbaKGn4SF9MYOhgcT77MYe57LLLosUWW6zB5UvHKQckZDz99NO2pdxRRzK078xROCiNQn766adktLAqrbBTe0hTlGK01aQ/bSuOD4477jhTlGX7Jk5l4EJ7DoQCDx44KBAIRiuuuGI0dOhQ209l3RArHt6T4SoqAGzLeUf24UlGgmWYPiHaT3oh/Hfr1s1MN3CPqTREsGQhoosvvtjMR6hM2N/QIV14XxZjwWtOyPPPP28acho2BHpCr169kkaONELLjmcd7UO7x2JTbFUhn3/++aZhcRyn/qAuU8cbczfqy8bu9UJ1EGkD2PyD9lPvk05qN7K1H07tII1laqr2AfmE/SyWuNlmmyXfxak8XGjPAVU0+OH98ccfrSDQW+3fv79N1mzIqDOCgInrRSoD0oNCj1ZX5yiNQtiHsI7Aj6Z+0qRJdj3nE7bZZhvzG45tOwKoBPxs9xLVHaskeA/el4DNOW4c2UeHhbShQ0SnENdX+KsNzZFwn7baaqvZtUqP3Xff3a7hegQIJvKSP/UMx3HqB+osrdNBWaP8qp5srKjeoT7ChV+XLl2sDdExzCA7d+4cHX744aa4oD2VqaRTGDDDBOVDtTms87HXXnsledapLHxxpRwgiSZPnpyYI+BXHJvrDz/80CafisykbCiVNu9Fw8RkWxY3QmtCZcwiCAy7aShYvXfSiI4NHRz8kOMdhd9U2gjx+LM/4YQTzNsO91Y6Kf1qSrfMdA6ptDTnXRRYbOmggw5KNOy8C2mF3ToT3Ug/zmORKYY6+Z80Z9Iumniu4TgjIm+99ZYJ/XpGJg0lbzpOqWF0i/k4X3zxhQnrTETFi5jKNYE6kTLXkMtdWM/wW+0BSptwpJD9pIOOU18xQR/lDcI9i1ExQqg0c2oHDh6YS8CWdKTN5ruobWGE94wzzrC8SpuO/XspIW7+vXMgTiinBmJBMxX3WpNlmNm+8sor8/gO5f8wNDRIh0MOOcR87S644ILmk/jMM89MH03Z0v3azpgxI7XhhhvaOSzdz5ZrlltuuVTc2bHz4kq8QaZTXcBHbfPmzS2N559/fgv8Jv3Ie3369EnFFWzi+5nf+NLnvFiIt23cIUrf7S8acr50nFJCGYw71lY+8UXepEkT20/5jAUkqw8bQ10X1jG8L+9N+Prrr1MtW7a0+p86irqMLfUaaaaA/3a2sbCeat26derwww+3pex//PHHVNwxSj/FyYcBAwYkbckFF1xgaa/2hG/w5ptvWvtBuvfu3dt8o9POO+WLC+05wMIQZHIJUNtss02yGI4IKyyFhgYN0Msvv5wsEETl2qlTp/TROVBZjxs3LrXUUkslnRwCC/0cddRRtvAP93H+IswvbN99991ECCeNJbATqGSpVGnEyIMHHnigpTOB87faaqu5GjjdO3yG4ziFgfpu1qxZVk4pn5TB7t27Wx3XmIV2Bd6fcNBBByX1VLNmzVJ77LFHavnll7f0Yp/qOH5LiKTNYLvkkkum2rdvn9pll11SRx55pLUvb7/9tgnzxYbvSCh3SHvyHW0Fi/c98cQTtrgeC0DStpDObOlk0pbzP2lN53OHHXZIzZ49O30np9xw85gaiCscs8fGPIbhOpLrhRdeMHu8OLPbOVUlYVwRpX81DHjPuMKyoUtsrXm/uNKNpk2bZksQM8yGyct111031xBohw4doksvvdQmojrZIW0J5DFgAau4oYp++OEH+1/gqej000+3tMUW9JBDDjHbRPIieZV5A0xizUZDy4+OUw58++23yeJB1Ifnnnuuua1Vu6ByTflryGVQ7wv8pu7nvQm4+P3oo4/sN56vmMuEGRH21Zj3YeOOS0K1qbHAaWnF/2E6KoRgosp5sRBq2+rSmOOxgGr34FvhWYt4sMUMkS1tGRNl+X+55ZYz23ACz8GVJ9dmewbvS+D+pSZMI+JKvGi7SddOnTqZuaXSWO8SXoOpzPDhw6OddtopvccpF1xorwEyLqtQxj1WK/D4ykYoFdUlX3WVR6XC++K5ZOedd04KPb7F8Q++5557mucT0LtzjImU8jzTENOkEIT5iDSiI4QHCtKYvMc+zqFhYoIp8wQ23HDDaPr06XaMCpmO0RFHHJGcm4mnvePUjcw67OOPP45GjBhhi+1xTEI7rvX4X6GxCe0gof3++++3NSmUFqQNXthQMkio51zmBrAGyAMPPGDzp1gRG5RunJMNHc9MW57FPsUr8zj345iEbMUHOCYBn/oXqHsR5JlnxJy2Nm3aJIH5XeznHAR+rqUzQH5A0Oc315YaXAMzCRXXwmpXsqH0pEO1xRZbpPc65YAL7VWgAo/WEh/ZFGYKHxr3du3apc+at6IKqapAVDK8L1pg0oAJk6J58+amaVcFRwV21113mWCJZxhVhtqC0tiZg/ISDUbXrl1tESoqfzUmHM/Mb9rPqrXkTbRBmed4GjtOYaBs0UGmTCFYhq4d2YfQhtDOgnsSCgmUU4435LJYVb2Dh7VXXnklSTutCA2kEedxLFva4Fr4qquuimbNmmXnEqgP2YKurYqq0jusT/mt70P89H0VQhRPAr8Vj5qgHmdNjnvvvdeu0zvo2Syoh6IGD2CsfD1lyhRrU+kM0EEgMFmX9T2o41GCKQ6KjwL3ZT8B8DyGdcA111yTrDHDMd5TvzMJ92U77pQOF9qrgQyOSQeZm2RiZcmrr746fbTmzEwBamjwzmhEGDZ77LHHkn2Cd95kk03MawyCJBWSKienekhH0g9NU8+ePe1/wiqrrGINHyMWHM9MbzQ4n3zyiVXkaIZoIEIaYj50nFJA2cN7GKNaLLSHokJQzlxon5MO/EYwxXSI1cJ1DNMTFtZbdNFFbZ/OhWwCMMdRBNHmsFAQ5oIoi7jvd999Z+nPb65VejM6ybHMtNZzMCfUdTNmzDDPZqDzdZ4Eav0P/OY8xTtbnLPBudTNmDzizUUjqLwL2m/qbLWR3FMCNbA/1PgD/6NEZKvjYfwls3Av8itbvQtbpZVCJroXLjlZoM8pH1xozwJJQoWD0EmhVoGiB9y6dev0WX8V7qpQxi8UKojEp9D3zgcKPLbTrJSqeJA+CI2HHnqomcrQeHGM+JYyrpWEKmv817PCIv9TGaNp2nvvvaPDDjvMVlFVPiCQ7oMGDYpOPPFEG90gb3iaO07doRwBZYn2ANeFdJyxvUbwkmClssaW8oo7W9ZeCAUjyinHG3K5DNOL3wjHW265ZfTiiy/afuom1qPo16+f/R+eXxUIt6Qp5+o8tqQt3wTzkxDdMxvhMe6h+/EdCcQXQR6BHqGfEWVWoUZY5hjCPZ0GZAI0459//rkdq+o99L+EZLY6l+dxnHcD5RW21aF7cK3upW1NSI7hmbwP7iC7d+8evfbaa9Hrr79uWvzddtvN7sc5/I/QTrvulA8utFcBFTPCE4UIARQzD+y7+C1qSrrMQlwXqBwodARVAKWC96bCXGmllWzhDCBOqpBDwVFbp3pIJ9LwjjvuiPbdd99kvoAWpeI3FT2N4LPPPmv/E8gH5FNMkTBDchynMKieRXijs3zeeeeZ4Ebdlw3KI+0DNsDM++F6oGxzH5XZhgrvCbwjddVDDz1kC/Lxv4RAJqDKtjs8vyZK2Y7wvfVOtG3Ab/ajxSZPIMgzEoCvfuYZIdDzmxECJn3SCeAdCFzLNmzDlRZ0QrTQINfS7vNs/tdWQbCfe0koJ17Ke2GaYVePiQ2jHQjnzEHD9Hf//fe3zohGQXgf5mqwQB/XOOWFC+1ZINOvscYa0bvvvmuFgCSiEOIhoFRCOyYTN998szUgxIMVMJkMCmpcig0rc1Ix855UGPKqo3RRJVPIdGio6BsyukOlT8OGNgQPMdi3A51GzGbIg5yvdOU3I0DkVxoE2Ts6jpM/Yf1FmcL+Grtg1WchlFMWqcEkBsFH7QMCl8oo11C2+d2Qy2WYbqTF6quvbu2mYPIpk1CVDuH55QyCM9+VeEpYZ4twrZEAvU+2LXnn8ssvN+ULmnxs0vFSg4cW6nsWwVPgntTfmMxwPc+RKQ37+B+BWp0E2gjtC8FDDxNiud8666yTTJblnuRF2msUPSzmR15lP0I6Nvd8N55HW655VU4ZEX8sJ4Pnn3+e2iRZgGCnnXZKHykusfCW2nfffc1PbVyQLS4KcSWSWnPNNVOffPJJ+uzic/zxx1s6xZWA+Xq94YYb0kecfIgbd/Ope+qppyYLX5CmG220UeJzPa7sbWEq0ptz+P7kg7jBsN/s32CDDVJffPGF+RGOK127znGc2nHsscea32rKosoZv1mbYsSIEckicSyuxOJ7lEHOoXxSBinTCvxPOW/I8H56R9aPIB1IE8LGG2/c6Oqkcv7eo0ePtvZD7c3SSy+dGj58eCruTNj3Yt+gQYN8TZUyxIX2DChorChJZpZQxGIOxQRB7ZxzzrGV9ShAoaBOfBQ4FvfUU1OnTi1JBfHMM88kcaIxYwENaAwNVCEhrVj5TxUogQVGvvrqKztOxUnnjTTmm3MeAv3JJ5+cVLwc4/f6669v9yIP+TdwnPyg7vrss89sgRnKmuo2AuUMQR4h/aeffkoEGoTRVVZZxc7R+Y1RaAfe8dprr7W0kvDHSqi0FSzu45SeCRMm2MJVam/IryxcpbxLO8ICYU554kJ7ABUOFfEyyyxjmZfA0sqs4ik4pz4r3x9//DG16aabWoWngJadeLC8fdOmTa1XTAGjcFHo0NDSMBSzUeBZNERooqSBWnnlle0YK3UWMy6VitKIPIdmisaNb80379WrVyIUsCIv+6lo+d6k+XfffZf67bffUtddd51dx37yBKFDhw4m8Lu23XFyh/L00ksvWR2rupWySPlaYYUVrDMM1HuhUE45prNM2eMawqeffpocJzQWoZ2VN2mnlHakyeDBg60uU33mFB/yHoEVtZEf+Da023wnOqgS4NnPiC1lwSlPXGhPQ8UK99xzj2VchFAy9ciRI5MMrIxfH5Uv90TY3XnnnZOGQoVqwIABqbfeessENToQmMSstNJKViFS2JZddtmSCGhUwttvv30itCNU/vDDD6ZRqY80aojQmKOF0jdny/fkW5Mn+d7t2rWz/YSFFloodf7555umj3RG64dQj6BBXlDl26ZNm9THH3+cforjOCGqn9hSj1HOzj77bCuDBMoR5W3hhRdOHX744VaviUyhnd+77757Un4Jjz/+eHJc5zT0OhFzzqWWWiqpgwjt27e3tCWNvU0oLZMnTzZTW/In7TXfZ8cddzSTGCl8llhiiWSE1ylPXGjPYOutt06EULavvfZa+kj9Cu1w//33J40Fmh5s6d999107pmdi9kADcOWVV1ocOY9r6EGXgtNPPz1JL+L98ssvJ3bYTvXwTUmrbbfdNmnw+ZYXXXSRdcL4zgMHDkzSl2NoRWbNmpW+w5x7cN5TTz2VWn755ZO8w7lrrLFGasaMGYmGq77yreNUIhKkETYZ2VLdq3KIwM48HYRuCZ0KXEtgP+GRRx5J6kDCvffe26iEdgQ9TCpIN4RB0oDRCRQHKKN4f6d0vP/++zYHDsGcfMqWEVmEdNoXvtfaa69t38tHaMsbX/EmJk4H2zLjHZ+l/B9XPOalJc7odqwY4DUkFrhspjreCMaMGRPFBcuOEae40k9mcnfq1Mm2ceGzbbg6aTEgPnFFbDPeQ55//nmLk9LUqR5WB8S9aNyw26x+FiLBNy55AE9BsdCQeKHAE8Cxxx5rq+OB8gTbjTbaKPr3v/9tbtXiStfyCesK4G0G7wU633EaMyozlDfqrzfeeMNc391zzz32P1AOcWeLf3GWfKfsEUC/M//HJTBljmsBT1+NBdwe7rLLLubmkjQkPVg86dprr41atGiReFdxSgOyAfkYn/NqA/AmgxvKn3/+2fbhxea2226z7yUZwylPGozQHgok+QonqlBeffVVy8gSkljxE5dKxWL77beP2rVrZ6vtHXXUUUllRwOjOPJu/EaoI55UmDpWTHgmhbtt27bpPXNgKX32lyJOlQTfERdeuEH7M+0HmHQbMWKEddyoTPG/js9cBAGO9enTx4Rz4NvTQCo/kFe23Xbb6PrrrzffuuQZAp0ofCVzvgQKx2msUFYoB5S54cOHR5tttpmVEWA/x1kbAWGelYh1PltCSPg/ZRZBiHqZ/XQCKHMNEeoc3o1A+9ilSxfz9633ZXvxxRebq1rSQ+nnFA/JQHwLVijX92E//tj/85//mDJHbc8ll1xiLijJx95OlDcN5uuoUlDFkQ9kZAK9UeBe+N9F0452s1igZUXoZVVRadCJCxWffksgRlgHChlx1/nFBt+vgnjhOxZh0akavheVJVp0NO1AvsUvLkI5x8aNGxe98847tp90ZbXTwYMH2/dXfg3R/wjut9xyiy1xrX2MHiGcsIof36Y2ZcRxKpHMcgLPPPNMtNZaa0VnnHGGCZ2UCdWxF1xwgfmmxsc15U4CDL9D+F8BKG8oXUD7KIelqpfrGxQGv/zyi62K/d5771mdpXoF/9+0pQiGmenmFAfle9ZR4fuo44R/+ObNm9vCT8qbo0ePjrbbbrukDDjlTYPqUrHy2GqrrWYZFMFXGTdbxR3CcUxjqITIyFQ+DHeyelipyKzs+J+gRkSLKWAKQfyXW245+7/YUAGA4kZloGFmJzs0cNOmTYsGDhyY3hNZhXnjjTeacE4aHnDAAZYPCZyP5oohzFCI4DdBeYUt5++www62eiP/E/geaBOPPPJIa0iLOXrkOKWCejGs+1mqHVOYbt26mekYI12UF8oIS7o/+OCDNsJJxxjCclUdHOc53Jf6mDLJ/yym0xAVGLzvp59+aoIeaUr9xPui4KLTs+uuu5oyiY6PUxr4RrQxmC3xfYDvwegRyiD2ETC3ZHVU/1YVRFzYGgx33nln4lEFTyZ4XIkFlhonwcQVa+rJJ5+kdrdJGdzj6KOPTh+dQ1y5zxVKCe+z1157WXwJTDgs1eQR4kKakeYEvAXg1cSpGiZmHXzwwZZefD/yG99T7L///rY/rnht0lBcqaaPzJ0PsxHux8sM5YB78Szu16dPH3fn5TR4VEZiwcQm4R122GHmOYPyQFmIhUorF/wflj2Vn6rKVzZ0Lh5muB/lmbJGwLsT7QvxoK7M577lBPFWO4rTg9atW9t7EqijcEN77rnn2rs6pYf8dswxx1g+5/sQWNNF7Qptds+ePS1/OpVFgxHa8cLx7LPPmvsiMiSZFN/WTz/99DwZM1vFecUVV1gFpGshPI/fYSgVPBsXWng2oAAS1/POOy99tPgQHyoGGkLiwqqdPvu8eh566CHLa/je5xs2a9bMvLzQKL7wwgvmSUYr03EMn8+55rnM84YNG2bfhudJSOnfv3/igYbKvZT52XEKifIyZQnPWwgutAOhgEk5oIzhr/r11183QVPX1aUscK3Km+rm3r17NwihHaij7r777iQdVa/gbvbWW2/1er9MII99+eWX9o3wDqNvJYUkeRNPMk5l0mCEdrSXVI5ya6RKk8yK60QtOU3FiYAfwv9oYcjUCKDK0GT+cqtkqfxZXljvR4OEu7FSwrLe+A8nPqzi6mSHhbNo2NZbbz0Tnslv5M9rrrnGviuaurXWWsv2SVN38cUX11qw5hryNiunkk/4PnouPqmJC0EaNMepdCgrjPQNGTLE1jugLSDPS3An76NYGDVqlJU3la1CCdR0sCln1M+0Jfgtnz17dsUK7NQfpBEC+x577JG8mwIrN48fPz6pRyrxHRsSpD8BSwG5Eeab0aYQ+M3iV19//XX6CqfSqLXQXm6FU4IHlWbbtm0TwZ2A8EMGRuvCEtUI+CHff/+9ncc1BJaqLle++eYb88etypMOBo1PKenRo4fFh4DQ7hV3dmgAL7vsMsuLBCpRVpHFXIVG75xzzkkqVgJ+jr/99ttaC+2C/E4lTsdKlTf5/NJLL7Xj3NsbXKeSIf+Sz0ePHp1affXV5xFWCAjQlDEWJqNMcb7yfRjqSteuXZO2B8GdkS1GR6Gcy1gYN6UFdRPL3lNPSZGgdGXRt0mTJlnd5ZQHKC7J06uuumqSB9WeSCnJCBTf1r9bZZKz0K4CzZZMka2R5/8wFJJ87omgs+mmm1pGVcZVBUrGRfPI8BHvQCYfM2aMaWJUuQ8dOjR9p/yeW99Q8dMg8Q68DyYUmASVmv322y+pHBiOI12dvyD/ICTQ4UIzRT5UB/HVV1+19GL+BQ0i+8iDaAenTp1q16kirgsIKnwn7kuHgfzOby0Cw3P8uzmVCPn3lVdeSXXs2NHKEHWRNOuUJRQJu+yyi+VxyJbPVc8Xoq6n/aGDrHaH8PDDD9tzy7WM8d5h3Pj9xRdf2EqvqtvZKn0333xzW5RK78Q3cMoDvgdtjL6VAuWBuXvhd3Yqj/n4E3/QKokLc+KxQsSVn828x+0gLv5iAdhmk+NSbvbs2YknFs7h9m+++abdR4F9eizbuII1rxksyEBg8RhmouOeCJ/T7IuFQXP8j0eXWOgwV4NxhTzXzH5+E1fuyYIC+Mo97rjj7Bjn6rmcxzPx0IGv3lNPPdUWM+IciHui5i9dcQQ9J3xesSAepFv//v2jm266Kb03Mv+rEyZMsPQoJXjqufrqqy3t+Y6zZs1qsK7O6gLeFnDxSDrhwQU/xvfdd5/lqV69etniJBzj/5122im6/fbb7Tffn/2EurL33nvbfVUOyDu4BKNsQSnyt+Pky3/+8x+rw2fMmGHeL3DjCNThamPIy6xRMGzYMPOhTrtFvaR6XWUrk7qUAe7H80844QRbb0NtHm3YJ598EjVr1ix9Znmh9ALie/LJJ0cjR460dUtiIc/2A23ykCFDogMPPHCu+ihMs7qkn1N3kMuQmzLBs8+gQYPmyv9OBRJ/wBpBGxcLiGaKwdK32EShMURTJ61hXIDn6dmxj2MK/B8e53z2cw+0f2wzz9F5bDlGQHuSLXAvtND8zoyLAtfrGPHfddddUwcddJBdq/ugkSGEGsi4IiuIFiZf1CuOBWN7N8UdjzFxIzCPqU8piDs/FifiRr7wYbe5wSzmsccemysPUobiBtHyFOVLoyek4YorrmhaefKfQiG0I+Rl7Gs33HBDe5byO5Nd8bBRivztOPlAHiUfT5kyJdW3b9+kzaDcENCwk7fjDnJq4sSJNjpZXX2kej0MhQCzEsoZbQxtC3Hr0qWL7S/UMwoNbUks2KVatWqV1EcKpPMGG2yQijtH6bPnwLuE7WO5vltjAqcaYZng93HHHWflxql8chLa99xzz0QYDgOZgQKtypIQnkdlJWGYc8NrdJ3O036dxz6dFwZlxGz7dH8C/+ueOq5j7ONcAh48mBio/5dZZhmrhMpBaOd5VPLHH3+8VZrEj7gTR2wJFUfFr1QwhKo0d6H9L/gmfBsaQzq9yq8E3KMB34/GkG9L+nHswgsvNGFDAru+caEgPnS+VS54JpOJNVnbccoVhPVTTz3VXAxKiaE6nYBgjIcTygyEdWMx60ieRR2NMkpxow7fZpttbA6S4lcO0GFnfgvmRWp31dYQZxQMp5xyirVF2eoh3rWYaetUD9+Rb4c8Rv5jjgUe9PwbNQxyEtqxg2LGPRUlQi72emgQ+E3GoKDzPwIbrggJ/Mbmmmuwc8auEI0eXlqYEETgN/sI2sf50rpzb2kqVPFVF1SBVxXC46qUsPMlrvxPwDOLKnq2+l2Kioln42ub9FCakI6vvfZaErcwjqWiW7du1oASSMtyapDKAbRXEo4JjFghOM+cOdO+L/uUJ5lEjZcZdRbrQ2gH7G4p06HQQ+cV7b/jlJqwPiPvMyfjzDPPtDaBvEq7oDqRgA/qkSNHpq8oD3gH2k7KNWWMdoxAB3natGnps+qXbO0C+6h/Pvroo9SOO+5o7ThpSboSV9JTbTq+vF0JU1ngUpjvyURhFEB8P755odsQpzTUaNMu4g9udoQQCxRzhThD2H6IhYDEVkq/CXGllQT9H8L9uQ9b3ZPfRC8WWmylOeyAsZvHXp7fnMO5nAd6bgjXE55++mlbrpdz+H/s2LHRCiusYEvHx8Km3YM43XvvvVFckaWv/ots964veL+4cbL4HnbYYRbfuJI1e/6XX345WnHFFedJPyhmHEPat28fff755/admHuAnWlc+aePNk74ZnwP5lasvPLKNu+DNIkbQ7Nj32CDDf6/vTcB26nqHv/3//v9vb3vKxFCMkWZK5TIEJWKhEyVjA2o0JzmNIhSKkUjUkqi0mgWUcYMGTMVEhmbp7f3e133/3xW9zqd53Y/8/3c07M+17Wf89xn3NPZe+111l5b6nCjRo1kJV+OUeZTpkxx559/vpQv99B3S9+bWPLpp5+6Fi1ahH/99YzTTz/dvffee84bUMu+RNWpzCBPtF1gNUbmn3hChrwb2NsC7we/PaHDLwcjdeC98IQOqfuU35133inzMLyBpv8+0O5TX7Hd9QQT17VrV1e8eHE5lixoXzZq1Cg3aNAgecdJD6FMmTKyyjErVpJW0PTGsu3kntpXEB/aozfffNO98MILMteMNpvjtEv8z1wyfrds2dINGTLE1ahRQ+LDO2TvUWpAHWKOIX0xbSLlyT4rvzTBK8yUxGuMomoRooHmEvtCtAckuW/fvuEjIVlkBg0x+73GSXzO6n1zev9Yw8jYa1T9rwxoPtBge8KeHNe0R4ZEwZcVNGDkH/aQXkcVPlJ4QTtOPjBngnzROta7d2/5zMznSo55Dakc51ibNm18rQjXsvU6WgkFVb7UKRZH4fle4y4amoEDB4p5jj4zkXUrEr4E4AmEd4I4a+A3eUxeqpawfPnyoY4dO4bmzZsXvtpIJjKrX7wbePfiK1TVqlWlXLUdJFBHMRG86667xN80WuNkhPcWDyt8HeU9J+68Y/xP4P8GDRqIZhRPLfiXz6rtJJ+CITu4H+6McXM8ZswYcc3L1+3Id4dA/tLHYOqIi0fDMJKTlBXac4I2bJdffrnfsbNVN3uwfv16/9MgxxPZYGl8ETK0o0IIQSjGLWUkwQZcr403TLIkruQdgjumHya0/9VhM2krKGywAuOuXbtEMF+yZIlf78g/OnY6WPJOg9bRgoYBopqIER8E3gcffFCOUa8KctCQW3CdR36p8EN8g0KQDpA0Lewj76+66iqrl0mGtlta1/mfRXyee+45GXBRhrQp1EfKlIApJe35t99+K0Ip7Q8D5Hi9K7mFuGpd1DoarK8E2ggWVRs1apTY7OsgJPjesSWdqgzIrH0gT7766isxy2HQ07RpU/994T3gPec3zydetEEnnHCCrE3CGidAnvI8fb7GwTCMxJO2QjsNDY0PtoM0mDSMNFZ4igk28q+88orfiNGA4XEgSLwbLIQ65gDQoNLQErfXXnstaRvOL774wu98yD8mWhl/TfbEww91j4Dwceedd8ox6h92rXqMvGOyMdcEO+R4lDkDCCBuzEHROPE+8G7oBKZkqX98NatSpYoIILwbGshf5sNo/KOF559/PnwXIxnQOkV9p62ePHmy/8WO8tKypV0hsLJ1NFSQTUYQhkkT80XQdKvATnrYz/+8/5pm+il+t27dWhQ1a9eu9Seu0iYQ+B8bfzxB0V/Mnj1bBPQWLVr4+cb7wf/cX/sS/mefPkcXRyLvuBf3DZKsfY5hFGbSWtOOQMLMdxorGjJWEqWxC4KwRINGI0ZjxiI3iaRZs2a+QEK8WG4eDWwyQmO/cOFCvzMgzr169QofLdy89NJLoj1XoQPTFzpcNGF4aiC/+IJC3tF5sp9OUwWQeAntwLMQmgYMGOCXJXUPIRiBIJngnUZwJ7+YyMugfMOGDaHPPvtMFthZtmxZaOLEiaERI0aIoKRpYcukOiPx6CCQek57/Prrr8uicSpoIszy3qiihTaFdjkomAfvwWCXOpxsECfq6+effy6T0UmLvl98ScCUkN+6T/9HyGargjZbNOSYBGnAaQNfILguGHgGjiK4RoX1YMCdLF/RNm/e7Lc5yZh3hmFEJ62FdrTmNGTaYD3zzDPhI39z7rnn+uew5bNrokCzgiCnjS5xo2OK1IAkGu0wAQFUOx06CYSlwg4CMF5gENbpRBFGECQRMChLlgTX/OL41KlTfYGdwHmav/EEe3H8W2tnTxwRDviagvARLPdUgHJQbSYBL0dG4mFOB3MmeCdw0RgU0qlz6s0EYV39giNYEoL1L1gfk7VeEq81a9aIWQ9p42sW7xaDejw4YRLD6t0I5RynnvL+6YBF38Psggr3mocErsckr2XLluKnmwFtUAFE3MhTbW80GIaRvKSd0B5sfBBAtAFjImpQU6PUqVPHb/RoLJkQlCj4fKrxpRHHJRdETrQKpjEYEsH9998vead5yOfcwkgw/6+55hq/02WrJkN0kIMHD5a8oq6xRWjRjlNDpHASLxDMGbQyL4H4qeYTm1d9LxJVz/ICE/w0nymH6667LnzEiBfBusyWtmzmzJkyqKVsENgpGxVOUVjwvmzdujXDIJa6Ga39TmZIL3biCOzBgQlfFYAvRuQPMFkUbTw26LivDM4xyUngXMwq0d7T111//fWhjz76yL+/bhXiRmC/lpEGwzCSlxy7fEwVSI7X8MhS+l7jJ789YdJ5DZjzBKTDltdn37Jly+QcjnmCslyXCHiuJzRJXMqVK+dee+0117x58/DRv9Km6SGNCr+9Ti/8K354nag7++yz3aJFiyReXuckbtkKI1ou5InXOYsrOsoI93Vbtmxx1apVc3v37hUXar/88osco759/vnnrmrVqr7bN+A+wW28IE7E3xOQZNn377//XtzEsf+8885zs2fPlvM0rcmGvh/EF5dnHTp0cJs2bfLdA7KMPG5ejfhA3dEy4Z2g/tx4443OE8j9+kO5eIK8uBWsW7euuLmtU6eOXMu+VIO6p23xjh07XLNmzaRNJD3UwwoVKrhPPvnEecK1nKNwHZBX3kBFzqUv2LZtm7g23bx5s/wmHwFXftwDl8W4jcW9H/nFcYLmL/fjf+7PVn9nRXbHDcNIIN5LnHbwWZzPjmobfskll4SPHI7XiWT4rMjCRYmiVq1avtaauKM9wasAtrjYffI5FbwG/TBzCrQlkaDJQVvPSpd8jo41eDrArlLjzGdYIP8LE16HKOWANtDrRCUvCOTLQw895GsKe/ToIftUg0295Fq9R2SIN/pc4jp37lzR3Ok7RDlfdtllMjE12cH8omfPnr55Eu8R9vqky4gf1CXeCzz+oP1Fe0w7S7nQ5lI2bNEu42qXc4PQpkVr11IB2t3q1avLe079Q9OOqRmmMoq+b5EhCL+pt4RoeUGeRV4fGSDa/uyCYRjJR1oK7TRu2FqrwIF7PQSnaA0RduRBoT2RPp3fffdd37ZRhT79n0BaateuLZ8+H3/88dCbb74ZWr58eeidd94JjR07ViYYde/eXSbgMQFX70Fg8lKs7fVHjx6dIZ5MmoXC1uBrJ8fAinygLlGndIIpMEkSW13yinIsV66c+JjWvNJ7BEOiUOEJbx4IHATizfuEOZSSyDhmBnHHXpi4Ug4E7Hpxg2cUDFoPVKhUpcIHH3wgHk20/mjQdwRhnfYXzyWRAyquz6zNTnZwt8iET9oA0kv6EdhfffXV8Bl/oe95ZMgM8jez84L7YxUMw0g+0lJoB2wnETBY2poOIDONDX7atXGlM0Hjk0iY9Ie2lgmpaKQ0XsEQ7Pz0Nx0D6WCrwkowYCuKp5dYguZV48AzCvMiNggdaoeqZYC2ms4P4aNTp04ZNIy4guPrB8eSFd4bBmLElzRRz5hIN2HChPAZyQXxJc/Jey0HymT16tXhM4yChnYWoZWvhtouaPtK4B3AZSdeiTiXryJsM3sPUkV4JJ60AdOmTZP3Rdtn2l3actpeE4QNw8gvaSe00zBq40gnTkOaVWOJxwwVetkm0sUd8aTzwrxk06ZNojlnRUAVjKMF4kzHqIEOAy1jZCgIV4x0vsSBvEObiVY5s8FRuqJ164YbbpCyQEAhsNopYNKENlGFSAJadl1xVEMyQrwoT7SlWs+oX3zqx+SBepoMaeA9B1zr8TWDPCauCIh4M0rW/E0X9J0n/0866aQMQqsG3gkEebzBoFAJ1ptgSDWIsw44+PpJ2nWQQh1kkIsiJpkH54ZhpA5pq2kHGtTshEgETRW06FzwOJFItPOikdf4YwLzxhtviE95zGPQ3BBXOgUVyvmNkIJXhvPOO0+ESL4y4EFAbeFjgeYnpiA8VwU55gZonAsDwXLavn27dM7khQruCDDaUbNUuQovnPPyyy/Lfr1HsucZ6WBehQoiCMXHHXdcaOPGjUmRBgYPLDKDK031XU3d5B3gGHU2FfI5VYjMS75O4vFFB0tsaRO0vrPI2Pjx42WOTRC9TzCkEsQXpRBuFAcOHOgPVrQvwesSbhZTLV2GYSQvaec9JogmzWtIZZsZRx11lMzux9NHt27d3MSJE8NHEgdxJ95svUZfPBIQR68TdN5Aw+3evdutWbNGPHzgkcATWFyVKlXCVxcseHvA0wPeODSeQ4YMcf369RMvBqD7053//ve/rn79+uIhRn8/+uij7tZbb5Xfb775puvdu7d4ZKEcKaMNGza4f/3rX3JcSea8ot7hAeOCCy5w69at8/eVLl1aPIHw/kC806Dvxp49e9zpp58u7wJ4gwx30UUXubfeekuO884YsYP3n3xdvHixe/zxx8UrDHlM3QfaKk+AdSeddJLr37+/69Gjh+wPlgNlF41UazO+/vprd8UVV7h58+aF9/xFvXr13JQpU8TDC3lhGIYRC9JaaM8JCOqXXHKJmzt3rnQ6ZAcCSbKAAEJnR7xy2qFFOzc312eG5s2qVatc06ZN/YEE92WLm8onnnjCtWzZ0pUsWdJ3fZauUF/IC9yG0jGTP//85z/F1VuJEiXERRsuHlWYYYvAzr7IvEkFYYVBWsOGDd0PP/wgQhtxxjXk0qVL/cFaPNNBfv/666/ulFNOEcEdYfLf//63uMPDdWuRIkVSIl9Tif3798sAjoEodZ96TPtE3pPX/E9dYMDUuHFjueZ///d/pawgu/JIhfLSthQ3jLVq1fL30QbQDjKApD8pWrSof65hGEYsSG+pKhtoUOnkEaJobLVjUW1iMqANfm4a/mjnxqLj4B5ojHv16iVCG/+TbwwsyDs69J49e7oWLVq4cePGha/6K5/TEdJ/4YUXSmetgjma9WOOOUby6p133vG1kuQR2rfatWunpP9p4CsBAnrx4sXlN+XKF4Y+ffq4P/74Q9LMPg0FBflJvhI6duwo9Y59lANfnBDY8ZMfizpv/AX5u3HjRlFwMGBHYAfKmfcAqB9ol/EtzkAWtE6wTfXyCNbp0aNHywA2WNfZ3nHHHfKOILAbhmHEHK+hKbR4HZEEltPGDpPwP//zP6FHH300fEbiwZ44GfA6ZtniXlLzioDbNjx2eMKr2NSrfT0B15MvvPCCzBvwhFq5Pp144IEHfDtv6s0555wj+ykz7Nx17gEBW2smF2udiwypgDdAk/Dhhx+GvIGJlL8nKEu5M99CjxMKOm1M5MXOnrwl79nidQk3muR/Ota3eEIZAuWH5xPKF08olDd5rVvqACvoPvnkkxkmVwP3oBwi60NWIRlhXgSQjp9//llW1iX9vPvkAVtc6noDlqRprw3DSE8KvdCuDTEeMej86YQQBpKFRHcC2pGy3bNnj/gep6MikF9MMOPY/v37xW88kwHp0AgIs2wrVaokA6PgRLRk7aBzwn/+8x9ZPAVhVTtuBHSEchUWb7rpJj+fqFN9+/aVY6Q7WkgVNK5PP/20DNCoAwTSP3LkSHmfNBRE+ngf8Ot98cUXy3MpA/K4Ro0asnCNCokEI/dQVjp5l/qM1ymd3Es95p2m3Fl4izxnrQYW3OIa3DcGy5wQWQ+yC8kKSoutW7eGzj33XMkD3nsdsJ988smhHTt2hM80DMMoOAq10A50KnT0HTt29IV2tj/++GP4jMSSaOGDjhRBiU6rVatWvoaNcMYZZ8gxhFiNJ9q2559/PlS8eHEZCOEnWwWrUqVKidcZJZk76czQQdRFF13kC6yk7eGHH86QBwg61CWOIeQcOnRIjkFQSNGQavDO3HvvvVK2+s4guG/evFnygXyKZfr0HtRDvupoHSTguWfDhg1yHFIxPxNJML8oN75WdO7cWd5frcMEhFR+R77HoPdgm5+QrOzevVs8JpEP+t6TH6effrrkmQ7WDcMwCpJCL7QDncWcOXP8joktLryMv/IGIZROGkFUOyw69FWrVklnpdpNhWu+/vprWUAoKLjyP1u09Sx8FekCLhVAq0hdQdNIuggIrnxpIA9Ie9u2bUUDRyDN+NsPwjnBkKpg9sRgV/OBtCLYfPzxxyJcxzKNCEZocoMCO/UQF6i41zTyDvWWgTdrVrAImLovpTwJ/M/7fvzxx8tqsyg0Urne5hbSjGlQsN7xzg8dOlTaMOqlYRhGPDChPQwdEWYc2iiz7DTCKhSmDkoJpvnTTz+VRWvQsiN004Fjqw4IUyqsalA4tnjxYhFi0bwj9KvWnXuxyBACLYuPBOEe3FPvmywgiO7bt0/yQjtwwsyZM8NnhEI7d+6UtAaFHq5RgvmkIVWhfIl/s2bN/LSSH/inXrlyZczSyPUMlniO1h22fOnZsmVLvu9f2Fm7dq2ss8C7SVCNOnnMO8uS/IMHDw4dOHBAzk/GdzOWkDbA5EfN3OgT2JI3DNhZFZj6r++AYRhGPDChPQCTqbRhppGmwVYtcmFqmLUjYrtgwQLRMmHmgsCOMMpCKsA5mYVIuM9pp50m9+I+wXxGQODLBgvkAMJxMnaG1INnn31W4q7x5/O4gtatfv36vmaS45xPerQeaV1KtrTlFdLBgBf75qDpFPmCoK1ayPymGYGROkiekrfUQRYNI2+N3INmncnSCOsMMnkPyVstP+pwhQoVQg899JAMRHkfqcPpUm+jQdp4P8kbbNSDi6Jp4Cshx6zeGYaRCExoD4CQwdL8dFgqWC5duvQw8490RzvmefPmyady8gFhm469evXq0qmpUJ1ZCMJvtFZ8ucCUgRUSVUDgngT+RxhD+NNlv8l3tskCK4BSLxhkaJwxiwHSOG3aNH9gwzks2w7BgV8wpAMqvJA32LRrvhAwneGdyu/7o3UAr05XX321TDhNRdOqZIHBDh5QypQpI+XEu0hg0MUWm/X77rtPVvqk3LT8KAe2wbqc6kSmgbS9/fbb8jVN32MCedO8eXOZBM05hmEYicCE9gAIo2PGjJFGWoV2tMNoEpNJeCxI6MTopHHzVrZsWRHC6LwIaJnWr1+f686a88lb7sv/aF+xC8dFInmsgp52kOQ9xyZPnhy+Q3Jw1llnSTwJxPGKK66Q/dQNhFfMNejctbPHs0Y0gT0dIZ2LFi0SwZ30a3lOnz5djhHyS2T+FZZ3MlZgs46wjrmLCupanykzzD5GjBgR+uabb/w6yzazkG51mfTwxY93GzMh2iXyCBOhYcOGiZexaBr2dMsHwzCSFxPaA9ARIQhgO0vDjdBB433llVf6HVg6N9CkHW348OHDpaNSYZ28wN4fF3B5gTzj3oRgp48gP3XqVPFKg5Yd4YGOMjhQQPOOe0E+5ScC4gm4s1QBh7whPzDZIG0IpK+99poco84guPNpHa0ccE4wpCOki68pY8eOlXJTQRDTi23btvn5GEsK4p7pBGVCHuG5CGUEQnnw3UIgpb4yeXjAgAGHeczi2sxCOtVj0oL3oSZNmkh+aKAOM/kWd7XU7WhwbTrlhWEYyY0J7VFAY4igSqOtWuA33nhDjqVTIx1MB/8jGDdu3FjSqwEBFJMYtHR5RfMssuMPako/+eSTUKNGjcRumeciUKjHBsqC//v37y/xQEiOVxkQTyAPNE/o0HXyKWlAOCffVDvHcTRzwfRBvOKcCIIayC5dukg+qfB+0kknhe6+++7DhMJItJ6kcz4VNMH84z3BHK1ixYq+Vl0nmzJIRohn/QCdcK91Xb+KFJZymD17tuSJvt/UW95h5qeoskDzJhKrr4ZhxBMT2jPh1VdfFYGVRpwGHBtHVoJEO5wuqPCMFonPwnTupJVAukk/gjQT0fKLdm6RIQjCwpIlS+SZPBvBgi2BOLHF/AItNm4F9ZpI4TiWIIyqEEpA+EEzGXTzhhmM1hOEdgR8PqUXVvBpjV20CopapxjIAOVOvQuWP+VI0DqZ1xCtXhUmyAPeB7z36HukQihb6idtWe/evcW2nTwvbPkVbC8wcUNRoO8ubQ5f0vCWg4LA3DkahpFM/H/88TpWIwKvI3P9+vVzEyZMcF5HKL+9DtA9//zzrnv37vK/18iHz05+tJg9QUr+199PP/20GzNmjNu4caOkh/2co+l/5JFHXIkSJeTc/BCtmvGcIPpsmDt3rvMGTu7NN990nuAs+7yO1XlChuQ9+5o2beq6du3qevXq5YoVKybnxJp169a5U045xf3zn/903oBNnsM+T3CXOPz222/OG0S4b775Rs7nvNmzZ0vcChPB8uV9GT9+vLvmmmv88mRfyZIlXZs2bZw3oHFFihSR8vQESSnPI444wjVr1sydfPLJrly5cu7oo48+rM5o/SAE60qQnO5LV3bs2OHuvfde995770me875o++UJo65z585u0KBBUqfZTxkURrZu3SrtxooVKyRvyAdPmHcVKlRwzz33nDvnnHOk3nhCfPgKwzCMJMDr/IxMQMvaunVrX2OIJob/77jjDllYJpXwOiZJD18KcK3IJE+daKpaJrakEw86HPc69YRq4Xj2t99+G7r22mtFe41GDG2hagwpC+KM9v2uu+4KLV++POpEsbyCpg07V/KEZ/FcTHT4MsFzyB9POJI4EDiHJc0zs39NVyinyLqCb3/KSAN5E/ydWeA8rYO4XGVRr88++0xMkKi7aEn1WWwjA/ujhXQGbTDvNGsesPYB+UfA5APTMt4bzLdmzJhRoF+lUgHqwvvvvy/vMnmE2R1fI8gnvuB99dVXh9WlVCeYBtIFmrZ0SJ9hFCZMaM8EbcwQzvAJTQOPYEZHSCPPBEkWdonsBJO1IcSeGLOFxx57zLfXJ6iwxP90+H369JE0YedK2hOZFp6t+Utn8+KLL/pCO8KdCngaKJeaNWuGli1bJp1vsGyC5ZJVmoLn4WM9+AzyB8ERkwLujbB0zDHHyDHyEOGIyakqXAbvla5oGlUYoN7ccsstkm+8L1q/CJHlFS3oOZQlQesmAXOPDz74QCZWkvcEyiIyqNAVDOkI+c6gFvOs4IJf5CH5hqkHE4GZowO8z+RPYSHy3WMwffnll/v5FKxb119//WF1Rut2qkPb//zzz4d69OgR+vLLL6V90rSlQ/oMozBhQnsWaIOGkHDppZdK464aVQKeBRAkg9rdZGoI8bOMYDNu3LjQBRdcECpRooTfoaumicC+Dh06yOqlCJt0WHTuydagEy+EQjRlderUkbhrx6tlwv+k7cQTTxRNLRpIFeRID19I+D8zOKbpZ3EZvScCJBPWdCBDYHlz9mtennvuuZJ/OljQ89IZ6peml/rWsmVLyRPyja0Ochko8u6QT5kF8pHyVGGf31zH9cHz+M3iTWeffbYMrJhzoQJ8UBtP0P/TsRx4D1h9Vj09kW8E8hwf7OPHj/eX2SdvtJzSHcpay5//STcKFm0ztB6SZ0zGZVI55+q10UIqM3fuXN/vPHkA6ZI2wyhsmE17NpA9XsMm9swPPfSQGz16tNjkekKJH8477zx3zz33uEaNGvk2ouyPJJjV0Y7HAp7hCZZu2rRpYls9depUd+DAATnmCUKyBX1+69at3fXXX+/OOusssS+OjKOeV1DxzSvYkpO+t956y3344YfOE0x823egHLyOWGzM27dvL/MQLrzwQj9NwbQplDPXAOeTd/wmX9q2bSv29eQh4Y8//nBeByi27HrNkiVL3Kmnnir/Q2bPSXVI7y+//OImTpzo1q5d67xBreQR+e8JkpKPpJky8IRrqVu1atWSgM0w+ecJ3u7gwYPu+++/ly11FHvsPXv2iJ0xW/Z5ApfcS+8ZhLrKvTjGvT0h3jVs2NB5A1TnCa1+Xdbz0gHSypyKYcOGSf0kH9lHgKJFi7oBAwa4q6++WuYGkH+UQ2S7RJ6kW71USJuWOel/+eWX3d133+32798vadZ6QdvHnJ5KlSpJO6H7I0n1fPr000/dmWee6b8Da9askbZLSdd6YBhpiddQGVngdYYS0FQR+MzI4iRkndfYidaGLVoMtNksSsQqkOAJN7JV+B25LxbwvK1bt4bmz58vn39Lly7ta9yIJ3HzGmz/fzTuLVq08L3CoIkijcRN0xsZkg3iDGjeWZX09ttvF3tyTbNqd/lfA6u74vNdl2XXeyiaTl35VO/DllU4FfJpyJAhcozncW7Xrl3lGPfgOPfW/EwXtC7gd90bnPjadM0Hfus7wUJcmzdvli8TwTofLU80z9T0SGGRH/LZG3SJ2RPlx72py1o+wbodDO3atQt99NFH8mVF453qUM9feeUVv44TSDv5j2kW+aSmQ6DpziykI5outnjHueqqq6ROBvOKOTCYAULwPc0spDqkT1f6Jh9YSyGd0mcYhQkT2nMIjZsKHwgiLGkd2XES+H3ssceGRo4cGdq3b58vGLKlMyWoIJNVg6nPQ5DBJjE48ZV7YIqAC8o2bdpIhx20adU4ERByNF7YZDPo4H7cGwGJraZLG/FoIdnQeJEGbFW182XSIqYxmg90VOSBBvKEyWecw2RJRdPIPbAD1vPJu5dfflmOBWFxJQRH7QiZBMu1Gq/g/+kEn9rJH/KFvNR81vpHXWQxMq1TuSGrvOKdYTLq2rVrRSDXOFBGKpRFCwxg1ad+qkJeTpkyReZP6Hut7zYCKEoEBki4GdV8D9ZBtsGQjvUyCG3Cjh07ZKI9dUAHkgTeWVZjpg3VNiOYJ9FCqkMaateuLW0V6b/sssvSKn2GUZgwoT2X0MipII6NM0vXa6egAqIKEfzPwjIXXXSR+ANmVU06E9UoZtdgokVG68tS8HiGwO6cwQJaE+xY6bh5VmZCC/sRWu69997QqlWrwnf9W9tJyKzDUoL/JxvR4gsIeAjRjzzyiAg62mGrsBPML7zSoHXjfMoVbyXspyw595RTTpF7Bp9Ffur90Hp269ZNzgkSPD9d4GsDNsAIy5o/pJ1VbdnHYOi0007LMFiNJTrI1EHv6tWrQ5MmTQp1795dvh7pACoyEM8zzzwztGDBgvCdkpfI+sLiSA0bNpQ6q/UYwYs0sV4Adu20E0GCdS8yBN/3dIX1ALDp1/LX952VrlksKVg3g3mTWUh1eG9YREvzA49YhaEeGEY6YkJ7Hgg2dDR+aGIR/lTzSoeqDST/s08Dna4KFwiUCPU0onjGYABQtWpVMQNQLWJ2Qe/Js/WZTJC9+uqrZZIspjPqojAS0kH8I0MwfaneqKNRGzVqlEwSVQ16sHwIwU6dvOd/NUF49913w3f6Ky/27t0rgivXcB+ERQZi0eD8VM8/IA2YX+nXBdJNPuJmky9A1DG0623bthWThIJMN/UzMxBg8QKCVjFYrvo/XwF4J1T4TzaIl06kxQQJV6fafmidJf/5qsExvjxwbm7yWsumoMonUZB31D2UIwwetX0kv3hH77zzTjmH/MptnqU6pJWvC9pXMAjUdr4w5YNhpAMmtMcQvK9gK04nQeMYFBqyCkFTA67T/1UwZJtV4DMwz0U4VR/hdEwIAAQEV7aKNtY5CamODlbIF4QchJ3y5cv7eaz5rFsNlMkll1zir2yqnf3EiRP9c7hGNfHpDm5PyTMV2jt37hw+EspQtxKJDjqp73ydQutPOWpZabkxwAiamyULCJXEC9//5DNxVcFT854Bvs6Zgby8o+nybgfBbIqy1neafGOLqSICq36d0ZBu6c8OXIOSJwQG39S1dKwHhpHumNAeQ7QRROODZpLP9iVLlswgIEYG7ZgJaELomFWI5xj/o/VV4YNz6IgwlZk1a5b43Q124giWYI3x4Wj5ILx/8cUXYhutnTtBy4l8ZkueY4LA53aEd+YRcD7+r7Vs8Mue7rCkO/WOPKF+Mh9ABzNBEl3nIp/Pu4A9e8WKFf3yJB2UHz6rEVwSSaTw/cknn8hXMo0n7z31jS8EvPNLly6VAYmmk22i8zxRBNP+5JNPim2/5hl1lPLmyxmTdyPzS38XJpigrPmCaSWDmMKaF6kCZaODTNpb2ivKka+9hEizOKNwYC4fCxDvpZPw7bffOk+4luAJfv5v3AXi1s4TAMUdF4H/TzjhBOd10n4oVaqULPvuCUuuSpUqshy510H5zwCuC26NzPGEOT//du7c6d544w131113Sf57DSQDWTmmaJ5Wq1bNbd++3T+nd+/e7tlnn5XySEdI548//uiqV68ubh29Tl+CN1h0jRs3lnOSvb7xfuBWkrKaPn267wqUeF9zzTXu4YcfdsWKFfPLPN7pIS7r168XF45Bl6LEg23lypXdLbfc4i655BJpAzyBPnxl4YMyCpbP119/7W644QbnDczE3Sj5xbvtDcrc448/7vr37y/nRevikr3exprvvvvOlS9fXlzVwn/+8x95l43khXrrDezdqlWr3HPPPec2bNggbYW2D8gJmzdvDp9tFBq8imEUAIySweuUD9NmoAFk1EzgfwLnAedGns9vTBAiz4kMRu5h8RlcoKF98hpCCWhieTVUC4+NLFuOsdXjnrAvWnslncqAtFDnevXqJWnV9PP1KNXQtAwaNMhPh2plsYPX9y/e5cdcCOYFaL2inhEvNO3Mv2COgCds+VpR4khcCyukX9tMvkqwKrUnwEj+8a4SmBOE69vgFwmF3/Eu42SBr7/qvIC6xldDI7nhvb/nnnukTSBoO0ygrvPlhHOMwoVp2gsYzV6vY5FtfuBeep9oxRaLZxQm0Dp5QrtooDyBQDQYniAnC/ts2bJFtLP8j7aZvNX8R1tL8AQIWSxozJgxsogQ17IfbSj3SnVWr14tC4aRTmABo5UrV6bcl4Xge8NCYuPGjRNNI6Bt3LRpk6tYsWJc3h/iQl374IMPXNeuXTMsCKbUrl3bvffee84TQP04xSNuqcCvv/7qpkyZ4gYOHCh5R14C5cjCWq+//rq8k0ZG0LTzpZa2zBu4yAJdvM+0V0ZyQluFhh34Mkx/Rd0+7rjj5OvnfffdJ1/iCvPXt8JIeiwTmMTQ2caqww3eR+8bDEbuoCG89dZbfaEOAeCiiy5yRx55pDvllFOkY0Oge+edd+STO+fD//3f/8m5XINQz8qKNWrUcBdffLGYz9AppgMItzr4IP09evSQgQnpTyWC78bQoUPlszJlRLkzIBkxYoT8Hw9YnbJu3bquS5cuInQGB0Cs4jp37lz5DI6ARd7bu/23ggJTgU6dOrl+/frJisjUQ44RRo4c6RYuXCgDcONwqGe0a8quXbvC/xm5IV7txM8//yyml7S3DEhpC6jfX331lVu2bJmbMGGCtBHaJxmFBxPajULLhx9+KPbsNIgIcUWLFpVlzVVQooE+5phjxO79999/F0GdfXR+HOc31/E/Nt/Y1qIlRSjDnnb58uWi0UU4i1djHwtIE53Dq6++6g9O0PpiA046UvUrAnE/6qijxCafJf5VcH/mmWfcF198ET6rYFi7dq0M6lq2bCkDQa0P1CvqGDbYxOGcc86R/cbfUP+w5W3Xrp2bPXt2eK8TDSNCOsvyUzeBfNVg/I1+AVR2796dsu9xvKAO0XbzZeeFF17wlRXxqFuPPvqotL20DyhM9u7d68444wy/DHkngluj8GBvrVEo4VPj3XffLZpWnZCFkFqiRAlplLVDYxIjEwHp9NjHZEAmwCHooWFHg8V+Ag0o127cuFFMZjAtqVSpknvttdekk6QRjiRZhYuxY8eKNhO0w2cSNWlM1c6euNMJMrmbT8/a4aHNeumll+T//EBZRpYndYV6xkBu6tSpGeoAg8Q2bdpIh3zzzTe7kiVLWiccRvORgRWDLN6lxYsX++Yc1EEGQEzE46sYJOu7lEi0TtLGMWBVqJepUtcyK9eCKm+9L/nz9ttvu759+7oBAwZIm86xeOTb8OHDZUv9xwSGfsbMYAzBq4SGUei47rrrZDKP1xDKlqXg8ZH9559/+q4A+Y2PZ6/BlHOYDISfbPCEL3/rCXyyUBavk9egy5bzPcFC/idwLavT4k860vc7z/MaZ9mXaIgHkzbx/U+cNZAWFgDTdOcF7q0h0TABmXLVMmMFzfxAmsgb6o/CJDJvQODXMZ7F/+QlvrJZ7dSIDu8e78bAgQMzvEuaj6wQrfD+EDg/mepYMkA+kC/Uy/r16/v5yAqpqYKmIQjvWn7aoqzgeeQXC+uRV7hcxfnAhg0bwmcUPLgw1T6HRRetPhuKadqNQse2bdvc+PHjxR7QewdE0zp//nz5DOl1ar4mGZMXtCxo49GusP+tt97ytS1s2detWzexZV+6dKm47itevLivUQ3ej0lgntAvJjTYh69YscL/5BoP7U1OYMLamWeeKVvSpwGIv6Ylp3idjQRIljQCmitMKtBekaaDBw+6adOmyTEtu9yg9YPyHDVqlJgTYT/Pb+6n90TLT13bsWOHaN+NjJBfvG+4wkW7zheQYB3kHSX/7r33Xr9ukfea/0ZGyBdP+JN6TjunbN26Vbaar6kEZU79YFKytp+xhDzDDOvyyy/33+khQ76kKioAAIpXSURBVIaIy994EVkuxMkwwFo5o9BA40tjeNNNN4npB8IBgjs+sLGN1c4f6Bjwm41wpb87duwottCR0BliNoOQcccdd4gAOHHiRNe9e3f5JM0zVLjguUxexZYeG8UGDRqIr3C1qVYhLxEQR8yBGNTwP6jARMdftmxZ2ZcbmFCFvfYDDzwg6xJoZ6T3TRSUSatWrSSvtcyxW9W05hTyiWuoS08++aSrV6+emN6wFgP7uT/3w26dtQCwbafcrROODuXC4AnbfmzV1a84+1u0aCHmMGeddZbkNwIV+cg2UmC3/D0c8lDReRXJnk/EUdsiFCaXXnqpKEUY/LKl3VZTEs6NBfv375c+Qs0BcU7AegAMfOIFz9V2iMFJovoEIwnxKrphFBomTJhAyy6fiY844ohQqVKlxFzFaxTlE6RuPWEhVLduXflEiUkD13z66adyD87JDu7hCeDy2R7/4CeffLKYY2AuwT15Pvf0Gmf5n1CrVq2Q1zHJkuM8g+vjhZp1YL6Dj3DiGIwncV+2bJmck1OIP37ePWFBgjfgkVX8NI8JiWT37t2SNk3rKaecImYzOYV04KefVVfJH8pSy1PzzBMuQldccYVvcpXoNCcz5KcngEne8Z6Ql/zP+3frrbdK3eG9tDzMG82bN/frJvU9aMqVzPz4448hb9Dvx53A/wTqCOYrsYL3n3Zfn8OK2Hv27AkfjR/9+vXLUFas12AYYEK7UWhAcMJ2WRtkGvxHHnlEjiEIqKBMeOedd6Sx5BwEzhYtWsh5uYH7AfdG2Ni3b1/ozjvvlE6G+0YGjRf2k6eddlpo7ty5UQX3WAstxJMOnCWyzznnHImDdojacbz++uvhs7NG48Y9V6xYIcIX6WGAxH0+/vhjOZYMghd5i2BNvChrBnDR8jsanLdo0SKxTdc8CuYZ6b7yyitDO3fulHOTIb3JiA5myKOWLVtKvmmZaLnMmzdPzlHIS8vP3EP+al0lX5m7kgow/4j2QxUeBNoU5hExT6hdu3ah5cuXh0aNGhXavHlz+KrcQ50aM2aMr6QhrFmzxq+j8YS+gnRqv8CCYdqfGIUbE9qNQgEN8uDBg6VB1oaQFScBgYGGWQU2NHonnHCCNJqch5CNllkFhdwIDJwbGdDmMMnpmmuuCR111FEZBHYNKvydeOKJoRtvvFGEv4LqZBlQsDJniRIl/DTzbALxmzZtmjxb8yc76FzIz/POO09W+aTDJd+5X//+/X2hnZBIiCMCgaYXYZE0ZtY5MrDh2CuvvBJq0KCBL0BQVppG7nHVVVeFPvvsMz8fsrpnYYbyZ8Lp1q1bQ7Vr184gLBGqV68e+uKLL/y6Qh4SkqHupBKaV+3bt5d6Tt5Sb1NBaB8/frwfZwR1VsF9++235b3ScNlll2UY7LEq7gcffJDrOvLVV1/Js7St4ish9VPrXDyhTUbLrwoP4kRcDMOEdiOtUWEJobdYsWJ+h4XZwurVq+UYDTKNvzbMCOho1zmPxrt8+fK+4MU5es+cwjUaFP2f5dYfffTR0Nlnn51Bw6gdFQIhDTbCc8eOHeULACYZSvCeEPk7O958881QhQoV/I6K5+kgAkEKjU9eOvctW7b4HSBB8xPtGB0SRBsE5Db++YEyR4Ol+U3nyKfwaOXLvsWLF8sXF80n0qN1BKGhR48eofXr12e4nmeQznimK5V47bXX/HpP/jPI43/yErOIX375RfKOoO+fkTs0z2g/qKvkL/U2mYV2jXOVKlX8uoFHFdWk63HeV00TWwJtDe/njBkz5JzsoF7RDmOSwrUEvrrt2rXLf3cTUe86d+4scSHtBDyZGYYJ7UZaQ6OL5lwFUQINIQ20QqOtAgGNN5p1FcgQONGM6zl6Xn7hPrrlfmhxf/jhB9HuoGHRTkiFQm24CcR/6NChYvuudql0wDnpXFRQZhBz6aWXSvp4BvfUzo+AEIq2CjSOOU03eYidN3nOfTXwHISyhQsXSnwJCPcMRILxzyrECu5FXiAEkF7ihlaLgZw+h3RzDnMeMGvSMmFLOXAN9v8XXnihCJdowkiH5jH3QWiPVZ1JF8gPBm633Xab5CH5GayHzzzzTPjMjHVPg5E7yENACNT6S15TV5MV4jx79mx/QEd7hNZd4R3jHNo/2sySJUuGjj/+eF9BwJa0bt++3U9/JFqfOI5poNY/Al9luTfPSVS9035L45RKbjqNgsOEdiNt0YYWbTINvwY0ywhZCo22BgRI7dRo+Js2bSrCWFD4ym8DrvcgaOcDKuwxSFi6dGmoU6dO0lnR+QQ7FP2fwcWpp54qNr/6GVc7GQjGU59HR/3UU0/JpFDuTRqDeUPQjo9OQ6/LDcTjiSee8PNRA+kgMKmQeGKzTxoQgBF8NR/iAWnieQyUiCfxIs2zZs0Kn/FXOj788EPJK00LW84jjwYMGBDatGmTnKsDu2B58gwtj9zmYTrDIAif/+Rn8OsS8wP4mqFfYoC81PyzfMwbWh9TSWgHVV4QeAdRUgB1gPeKoF9I2cL111/vX8N7ytcFVWxkBX7/VSFC3nz55Zf+cxJV71B+XHzxxRInbZ8wFzMKNya0G2kLDS0eQtCGakOOoIpNMmjDT6emAhfmDyqUoXl944035D50cNr55QftAPR5waAdD/9rh8onWiZY4X2GhhvNiwZNE/uxwb/22mvFPpjGXu+pcG8W82EgoB0TQQV07ED1ftyb8/JDz5495V48A5MYPm0TT0KzZs3knNNPP90/h045J51rrGHwpmlmO3HiRMm3bdu2SX5SX4gfx9lyDhqvdevW+fVGO3QtVy3j4O/CjNZr8oKBmpo8BPMU4YqvLpEE81KDkTvId0gVoZ348v7pO0lc+SoYbB/5n6D/A1veZxQtXEfArPDgwYNyPCuYf6P1kbYUiIe+v4mqd1OnTpXBBOVG3Dp06BA+8te7YRQ+TGg30hYadAQsGjsaZALCaFArrVvgcywNvTaQuP7ShjFWDbfeRzuEzELwuWgeiSNCN8IN9pYI28RR06adFMfQvmMrrAI8tsHPPfec7zmHa+kI0HIy+ZSVO2+//Xb/PhwfN26cPD+vMFGTexE/VpHVSXA8g0HU/v37Q0cffbTs43ms1pgIVGjXuPFZnK8tdPYaf+LH/+eee65MVqMsshpgaBlH/l+YQaCiTjE/hLzUwMCYibvRXNpp3kUGI3donqWS0M5EbpQJGtcXXnghfPRwoV2Dtp2Y5nEd7zPXMpE/O7S94pmjR4/OcL9E1jv6KtpG4kbZoUSgH9CBilH4MKHdSFs2btzoC7c0ethTqw/0YNAGunXr1nKudmwjR44M3yl2aAeQXYgEwZ39GleE8KD2mvhq4LcK4Gi5sffkfxU+CQildFT6BQGBlGsQpDFZIe/yCvdEGOM5dIJMKnz11VflvjyD+OFaDXMIjhMvzGMSQVBoJx7BCcGkgUC8V65cKR0oUAY5JbPyLExQH9q0aSNlrYH8RQCZMmWKHEcIicwnzbvIYOSNrl27+m1FsgvteIgJxnXHjh1yjPLn/VOhPdh+c4x9TE5V0xreZdznZldvgt7C+Nqm99Y6l931BQXPZbI8bThtJ21RzZo1JX5G4cRWRDXSkp9++smdd955spKcV89ldbknnnjClSlTJnzG33iNodu1a5ebM2eOv0Kg1+i7AQMGyP+xhPvnJETiCTiyn3R4nZkswe8JnG7RokWuZ8+eco4nYMqW9HIO4dChQ7LKKdeSF3qPYcOGuY8++sgdccQRsrqkrsjKKoBeB+Fq1aolv/MCz/QGGeFfTlZSPfnkk2W1V03fK6+84n788cfwGYmHOJEPrGT6+++/yz7i/d5777m9e/fKSqeeACD7yb+couktrHz11VfuggsucLNmzZJ8oG5C5cqV3erVq93FF18sK3VSVyPzSfMuMhi5h3wvXrx4+FdyQxlv3bpVVkLlXeN3xYoVJQ0ErQfUmUg4n9WH9RjvMiuc0q5lBSus6r2ffvppeTb3CD4vEdBmswJw1apV5T2hXWU128mTJ0vcjMKHCe1GWkFjS2DZ/N27d8s+GlyE0Msvv/ywxpeGmYaRJdKBa2kMx40bl2HZ72SFJfFfeuklEZRZzrtDhw4Sb00HaJr1N9vrrrvOlSpVytWtW9c9+OCDvmBPfrBUOHmSV7777rvwf3/lZ7ly5dwJJ5zgDzyAJeoT3ekwiFCIJ3G744473MMPP+wmTpzotm/f7s4//3x35JFHRhUQjMMJlumbb77pzjzzTLdw4ULZT50iIKh/9tlnrmbNmrKfvLX8LRjIX+o2A9KiRYuG9yY3xHfnzp3SjlFfGGxQP7RNIwTb8eD/Wp8aNmzo1yvao99++y18xuFwDef/4x//kGeuWLHCff7553Is8t4a4oX2QYsXL3ZHH320PJt4oqj58ssv5ZhRuLCW0kg7lixZ4p599ln5n0auSJEi7uOPPxYtTLDRVUEBrc6+fftkP400GlaEjVSBdKAdv/766127du3kt6ZT0wrB/zUv1q9f7x577DH3559/+h1U586d/bzJC2ir9V50tGixEBhOP/102Qd0omiNgp1iPCHtqoVTSHObNm1EcO/WrZvEjfgbOUfzla9aDJJ5r8hDhA/qwF133SUDotKlS0v+Jqr8CxP63qeKph1+/vlnv24w2CcNGqLVGd2ndYq2hnpH4GtiZu+x3pN3nn4CaBv5Srtx40YZ7ADXc54S/D8e8P5ceeWVGdI+ePDgfClXjNTEhHYj5Qk2oAheaJHVPIOGuHv37qJVDjbsQEOMthXN33/+8x//PmjZ1RQimSG+2hkhBDdu3FjMZkgTHR15gVYGTXGxYsWk4ecaTad2cDT8up9z0YCqiUheQGvPs1Xw53M1oMHneRrvzDrSrNC45xfiQR4xwNDfwTgrkb+N6ATL8uyzz3b33HOP1EnyjzJjUPj222+7oUOHyjmxKkcja7ReI7hGMw1MRohvpUqVfIGZ9iQ3kGaCQnuYWX3Tc9Fi03byTOoqgwa+Qt5+++0ZTP24TzDEC96vO++809WoUcM3M+R96t+/f/iMv+NmpDfWIxlpAQICDRZmMevWrQvvda5KlSpu5MiRcizYkGtjzWf6bdu2yT7OwYwGkwiOJWsDqPHSNCxfvlxsrtlqB8UgBI0RtuPY92M+gw05NsaYK7zzzjtu0qRJ7tFHH5Xz9Z4I93RY+Rm08Cw6Xp7PoOGoo46STufCCy+U4/os3QLPzAoV8kkvW9KXX7gXJjCKxtnIHZQjZUK9qlOnjtiqUw91kHjKKafInAmE+WCZG/GBeg58jUsFiK8O9PkfoRmbdE1HTuoQ8304n/eZtkKvzQwGNQwo0bjzP1CH6TtOPPFE16NHD/kqyX10IKohXvCl6sMPP5Q08b7pQHjZsmX+AAfsHUtvTGg30gI06gh+zz//vC/cEfhMTyMXbLT5n4YNDTNadRo8GmL2X3HFFb4dYfCaZELjT7j33ntd06ZN/YlbQPwRkBGULrnkEtlP+sgjBjHNmjUTM5ouXbqIbSTadc7hfkxmLVGiRL7SziCBe3EP8l7vz9cOBAf26/01HarxjgblRMfNOSNGjJC00YlOmzYtfEbeIA5MkFSIK8HIOZQd5fPGG29IuTAARtjhnaLMMTOaOXOmq1at2mF1imuN+JEqNu3Up+rVq0s7pnUGk8fI+pMVK1eulHeZdo/7oDzIDu7PBP0bb7wxwwCHuVEoOFCMnHrqqdKn6CAiN3HKD9o/HX/88W706NFSluz79ddfXdu2baXv0y+mRprjFbJhpDy47lMf0F4DLe7kWrVqJW761LWZJ0T4wRMqQt988424BDsivBJesWLFZLVGT+gQd1/JCHH/888/Qzt37gyddNJJ4haNuJNugteYh+6//37xz54T8DtOXun1p5xySr7did19990SL+5L/rK6IGVA4P5eZyrH2RKIP6vUAumLxBPYQ6+//rqcS9nqtdyb8sorlLHXOUu6uSduMHOab4Ud8o7Ae3fXXXdJHuIekzKnbDwBI/Tss8+Gz8747gWDUbCQx7zPlNUnn3wi9Zyyooy0XUxG1qxZI3HVcNNNN8l+0qN1LxiCdYrf+l4XKVJE3N5GWwcgM2hvVq9eLa4VySfuQ32m7dG8q1y5su8+mGfGmzPPPNOPC/njCe5JXZ5G7DBNu5EWrFq1SrwEeA2YaBuwUfQEPfnUyb4g2GtjTvPII4/IJ0av4ZNz8L6CVpjf8dKg5Bavk5BJta1bt3Zff/21/ykXiDdeD+677z7f/WN2eA29byNJQGuf37Rjg+p1ZPI/ZaHzCQi40owGcVATJ0KQhx56SDS23DN4X7S5atqUF3he0CwH7R527kbWkPeUJdrGBg0aiHaS+kbdJGBaNWPGDNevXz+/LLX8jcSRKpp2wBkA77rWH8xCaKv1/Y+EukVbxhaTN772Ae94hQoVpD/IKbSpuKjF3IsvSLhb1PoNxOGbb75xzZs3l/Yj3vWa5/OV8aSTTpLftPt8zZo9e7b8jmw/jfTChHYj5cGPNpMcEeJoQGnUXnzxRREe+E2jFmzIVDB76623RFinMebzaceOHf0GON4NcXYQf9J3ww03iFtHTF8YfCDscoxJSgcPHpQORjuXnEBHx/k6sKGDyy90lEC8CAgL5CeBT7nBslAoM9IXCelkcKVlyHlapnzCxl46r9Dhkn8K5kPJVu7JgpYlIDzhzpFJcZhlUXcoF47jdWPHjh2uZcuWUka5qYtGwaB1OpXqNu82/smJM/UKF5BbtmwJH42eFoRt6uGECRN8RQR18Oqrrw6fER2t10Go0ygb8KSFa0WUIbiCVWUIz2F+EHODol1fkBA35glhg088gLTSn0G842PEFxPajZSFxgmhABtDJlnym4C3GBZ0CdpEAse0kXvuuedkwiT7EBb79OkjbuiSDY3v2rVrRaB+4YUX/EmYNN7E+ZlnnhH3X0wiJb3ROrTMUC8xKlyp9iY/0HlqHMhfOk7iyj7Khd+RaNlwnkKcmNTIMf6P/HrAACY/YCPPvZXy5cuH/zOiQfkgsN9///0yF4J3jjJVm2E8bUyfPl2EHS1HjgXR+qnBKHg0n4NfuerXr++3LckIcX755Zd9d48I4dias1WBXAm2GXxlZN0JPU6b0atXr6h1jftQn4Fn8H+wPdBraHtQhtx0003SZugXC47T9+QXLQdtg4NxyAraUiZ+cx3X4Eo1p9caqYsJ7UbKQqPJzHkmJzJRkQaLz6D4HedYNOGQ/Xw6xcsMjSUNHoIFHYI20olEG11tyBGqR40aJZOgMP8hjhxDSMLDAhOu0CTROWnnFezEsiPYyKtwnV+4B4F46v2JN/vo/NRfO8f0OB2oDiCCYAbE5Cvcr3E/7kPA9zvmF3mF5+FlSO8HCDJGdDSf0KQ/9dRTUleog4AQs2HDBnmnFM3TYP0yEoOWhXpkARQA0b5sJQvUL9w+0u7pwI/Vn1kJNDgQpE3AUwzmKngnwpQu2Ibh/pcvrtFgUj5KDxZT4j5cp3ml9Z3AfhWMp06d6rdTtCE4LogF3Itn5GaVaN4/vrASd65ly6CCONt7l76Y0G6kJDRKNFT41lUBEdC0oOmL1PAB53EdNuE0bFzDbzwC0InxfyIbO3026VL4PIsGk/gCjTuNNZ9qcUEWS9/L5A8hvwTvo+WiHSCCQqtWrTLkNVvSzBcE/tdyoePmMzn2rAy0OId9LBIzZsyYXNmpRsJ9+OxNXmpdQCNnHA75zhcP3pHg6qaYQWHCgNvUypUrS54q5Cnnab01EoO+d1oeCuWlrliTEY0zChjqFQHFTO/eveVLKvMpaBMwceMrae3atd3SpUvlWuYl0f5w3m233Sb3iQaCPvfA6xF28NH6DOB66jo27Hzd07zkOSwgFszXvEBcaRdZZ6NRo0aiQOKe2d1XBX3gXMqSeU6ZpddIE7zCNoyUwmuoZHvvvff6s/s94St07LHHhr7//vsMngQInO81cOJFwRMMQ1WqVJEZ91xLwBMLx/W+iebPP/8MTZ06VbzZeA2wpE9D/fr1Q5MnTw79+uuv4bPzx5IlS+S+PAfPHzNmzJC8yA8DBw6U8iBvyecglMeqVavEy42mifPw3OJ1nH5ZEX7//ffQ7t27xVOC16FK4L7eIEbOI3C/3MI11IXSpUuL5yDi4A30wkeNIOTxQw89JPlOXml99ASW0HXXXZcv7z1G/NC2kPeR8hs8eLB41soMPV/R/4P7ChptCwYNGiR1jzqobQb1kEDbQbvAvn/961+yJY20EfQFkFmcPWFdzuceJ5xwQuiZZ56RdpU+Athu3rxZvCPRt+izNTz44INyXn7yhGtJ5/r16yV9+n5dfPHFIW9g4rdx0Z6Blxv6Ar2GsGHDBrnGSF9MaDdSDhowGlMaK4Q9Givc/+GCS9GGLtjg0QFMmjRJ3ICpENipUyc5puckmr1794b69Onjd0Qa6FjOOusscbFHY41gHws+++wzub8KxNOmTcu30E4nqwI7ZRSZtwjM1157rd/ZqNC+Y8cOOaaBTqtbt25ynpaXuvHkOPfNTVy1LhC2bNnip5v7d+/ePXyWoSD0dOnSJYOwRFnhTg8XnEbqoPWegTnliMCJW0XgXYpEBWYVAPU9i7dASJwRngcMGCBCOXWRdoUQ2UZyvFq1aiLIQnZxRTGigxgCdZt7sj366KMz7GfQoM/l/xtvvFHyjWdEy7+couWCcgLXlNoesT3//PPFJS/HeQ7bIPy+8sor/XgSDh48mO/220huTGg3UpLGjRtn0L6gNVG0IQwGGj0a//bt2/uNM9fOmjUrQ+eUCIgfcdi2bVuoRIkSGRphNNKEBQsW+A0358aqYf7888/lOXQU5MvYsWPzfe/HH3/cvyeBOAfhN51LuXLl5DzKAk03AxYGI3SCBAZhXM85xI3A75NPPjn0008/yX04P/L+OYGvAQgwPJt6hDbZ+FuAYwDFlx4GU+QRwgr5hUYyNz6vjeRi+PDhUq60KSg6pk+fHj7y13upUA/40hX5bmn90G080PcchQvxDgra2jawffHFF8NX5AzauVdffVWu1XvSvqhwHgzaDvGFCX/3sYa+CSUF7xjlwzPpn/i9Z8+e8Fl/QT+A4gbliMaZUKdOnfAZRjpjQruRMmgHglCIIEGnQ+N24okn+gJtVmH58uUioKkAePrpp8v9aAA5Hk8in3fRRRf5whENsXYQTZs2DW3atMlPA5DWYHrzw9q1a/3n8exbb701fCTvjBw50u/oCJFx5DcdJumqXr26dE7jxo0TDTr7SRudNJ0YQiL5wjkqtNORUfYM3L744osc50Ewv7iWe+q9161bJ/uNUGj06NGh4sWL+wKB1g/qxv79++WcnOa5kXxs3bpVvjZq28nAPVievIeYPSHg86WlTZs2oSZNmohQ2LBhQ1l4KN5Cu7Z5tNUff/xxaMKECaF33nkn9P7774tCIy+KBtLAPfm6qAvVaZsVGRgs0EahbCgISBdpwExG3zcCbR59Fl8YEdLpw0g3ZaJ9BfFjy34j/TGh3Uh6VNiigUVoQEOL4KaN2muvveY32npuZOBaGj6uQVBjS4MPedXW5gfVKE+cODFUqVIlSQfxogGmkUbDefXVV/txyyzkFzSqCK2aL7Vr1w4fyTu6eql2eJEQb8ojEvJDj/E/wgOd1CWXXCJCOnHUctcOlhVWAbOh7PKD+1JP0JRxP40jNvPGX/Tr10/qH/miA5qyZcvKQJn8zYtwZCQHlB+Bd+uCCy7w20ENmJaoIJhZ4J1B4Kddihcab4IS3BcMeYWvCnxlvP7662WuBjblfI1DUP7www99Ab8g4d3iGdil8+VR85x3Mfg/ZUTQ/oJt165dJY5G+mNCu5Ey0KAhYCFUqMYcjYMSrRHXgFCnjRwNXqNGjaShpvOhseSceLJr167Q2WefLRoc0qKNMEIp2me0zKAdRWR6NOQX8gBbSh00VK1aNXTo0KF83Xvp0qV+J8Ny3zlF00SatQPis7EK5DfffLOYxujnY+Jco0YNOS8nZch9SS9p5FqN4+LFi8NnFD40z/lioaZZ1AMdyJUvXz60cuVKKQ/yzgSD1EXfLW1TGIzpO5CToMIiAiXvZCLRehst5AWu03ZHB6bUd9ofyOt9c4s+G/O/884777C85/+gEI/yga8flIe9m4UDUYN5hW8YSQ+rL7K8tNewyQI+XiPr9uzZIy4eM6vGnOsJILIQxaxZs2Qf53700UfOGwCIeyxPgCtQN1nEk2cojz/+uKzyyXL/7CeOQDzxQ0xc+Z84EdeCjBuwsiXuD8ET3NzGjRvFrSJ5nBe8jk7caLKC4fDhwx0uzLwOJ3w0c0irBq+T9NMPWkbsx5ex10HJMfzT4/pRz8ssr8hjTxgVt3DeQE/yHrxOz+3bt0/c3xUWIvOKBbsGDRokbu2oq0B54YKOpdF1DQCuK+i6aBQslCGB8uQdqFixovv111+lXLWMeccU3g/wBsqua9eurlq1aq59+/ZyXbqTiPpO3lMO2mfg1pdVn4kL7Zf2fdpnLF68WNpa+gujcGBCuxGVRDRYWbF3715ZrZOOhnjRSI0bN85169bN72SixZd9u3btcieccIL8Jl0szLNt2za5B79pJAsyrTwDf8L79+93/fv3d/Pnz/cb3X/+85/ybBpefI/XrFlT4hNPWB124MCB8j9xwS86ixrlFdJLedGhtGvXLkfCP9do0PLkf+JDfmRXRnquor+1E+Q3PoypQ7/88oucg6A+c+ZM16RJE/ld2GDwc+utt8qy7+QPAyEg30aPHi111UgvKGegjPn/zz//dG+//bYM2GifoGzZsrJl4M5CaPh0V/S9MgoWLSegDUM5xSJQKET++OMP8UtPW6aDKiuTQoRXOQwjA14jkTSf2jQed955J62YmDVgTtKsWTPZD54ALJ82iXcwsI9jTKzjWk94k8/+uBvEXlrPK2h4Fj7liQOBOGAGgxlCmTJlQo899pikM17xUTSP8AbCZ1av4Zf4tWjRwv9MmxfykgaNC/nAJ2kmZhHyar7E+VyntrdMrDv33HOl7mg5tG3bVo7lJb6phpanblmbwBuYZcgPyp/JhnhUUgpD3hQmMivPyPed8wjahipWH+IPbZj2DxBZBsG+z0h/TNNuHAbaF7TQyTB69xoiMddgpTi0QcQLzSmr2bEsN9VXq3C0+JIWPu+jkfj9999lFTs0SkWKFCkwrRH3Jd5eQyuBVUvRjvC502tgRbvOcT4xY65BOvhNuiBe+a755nXK7rTTTsuwrP+SJUtcgwYN5HgwPgUZN803QrBMyRdCbp6tZYtmivSxOiJfEMh/yoEywNyKZcz57FyQ6UoGyA/STlopW74ukGYC+Q0sG8/Kp5hI6X49x0hv9H0Jou8g6LFo5xkFi5YD+c7/+l4C7WK0cjLSl/h+hzeSGhqDtm3burPPPtvVq1fPXXHFFfLpHOHmwIEDvr1rPKFRwnQDgV0bpHvvvVcEi2BjFtlYaecyceJEMc9AaOY3dpkI8RB5TazgvsQbm3niqUIR+4kLguTHH38s9oq6X222CypO0dDnMRBq1aqV/5v4Tp06NUO84wHPId/ICw35eTYDJoTzli1buvfee0/qr6Zv7NixMlhKlsFpQUJ6yQsE9r59+/qmT7wj5DfcfvvtMgehZMmSsp/z9R0y0p9o5cw+DYrVh/gTLAO2tIu8t/ru6nE9x0hzvIbZMAR8xGKywSdzr2EQcxKvIYgaOIaJR82aNWVhI0xO8P8bCzwhI/xfKPTAAw/ISndUVZ6LN4sff/zR/ySo22Bgn37Sxf8512qYM2eOHOO8WMG9uCfmHGxHjRoVqlKliu+RhbwiDfx/3333hfbt25d0nzTxGHPcccdlyKtFixbJMY1nvOKqzyKPNATjkFnQazGvoRxYnAnXbdRTTRNl8fDDD4tniMIC5lm8m6wuq6sBkw/UT1yLfvDBB+Ez/4I8jPU7YhiGYeQfE9oNn//+N7r/3swCnT4CEQE7bRYCQsDKL9wDoeGbb74RIR1hnYEErv5YDEjPUWEtMmgcsNslXnr9aaedJgKdXhtrWBa8Xr168iyEIg3kU4MGDeQ4z4do8U8klD2rgqpAx7Z+/fpyLBjXZCIy73SLuzTcOOJuMrLOXnPNNVK3ChNLliwRt56kn7rJO0H5ssAUA0hgwKlE5qthGIaRHJhNu+HjddLyyW3SpEnu8ssvF9MBbMLZr9VEt54gLJ/p9Br2s1UXjPmBe3qCongemTdvnuzj/pib4KpRfxOHaHA95jB4PsC0h3M9IUVMUs4444zwWflD8wF41m233eZefPFFsZ8mXwjsB1zq9evXT/4H4pdZ3DPbHw88YVc865D3QDzxuoOtO+kBjV8i46lQBloOxFX/79mzp5j3qHkMZUKabrrpJvfwww9LXaCuJkMaCgreW9L41ltviZkbeQHkEem+7LLLxPQtmAd6zDAMw0hOTGg3ooLv3t27d4sQrkI0UF2Y0PnDDz+Ii0Lc+iHcsx+Bb/v27b6Alx9ee+01d9VVV/nCWJUqVcQGnGflRLBgsmn9+vXF9SDxQXjDFzkDCoS2WEDcVq1aJQIQ7gQRlHgW+4lj8+bN3csvvywu0zh2xBFHSFqyIpFCE8It5YkNOPHUMscdJfuJv5Iswh1x1vK84YYb3JQpU9yhQ4ck7gitHGcOA37xBwwYIPEOhnSEsqO+MT/l008/9QePULRoUTd+/HjXpUuX8B7DMAwjZfAaeMOIitfxi2kEAfMJfhP4/4033hB7WE8wkk/ufG6/4447wlfmDU/Yla0nAIdOPPFEMWvxhGC5/7hx42TVN2yROS+zAMR34sSJYr/LPYhbz549/eN5xRMAw/+FQt5gINSnTx/fXhqXiWwJ2LO/9dZbvikOgWsj4xotJBLiiCtN8pxyJS3kHeYUmPe89957vi14vONKvQM1LwJstWfOnCn1jrpIvIkv8eZ/tnXr1pXVPhXKItH5XFCQR+TPJ598IqZNmgcE3iH2bdy4sdCZBxmGYaQLpmk3ouIJNrJVbSS/PSFA/uezOlpLtPFoM9nPYg+4klPPLHmBZxDQEM6dO1c0hjwfd31o9dGoso9nZgWaRVbwQzPsCTKiXdQVMPOLJ/SJm0a8rXBv3Qc8p2nTpmKagWY/1TS5aKW9wZJ8NYBoTQPlzqI7xx9/vJRHUPtekBA3nocXobVr1zpPMHVDhw6Vrz7UGY0reU5glVS+1Dz44IPym2uBc7OrP6kKecHCXaxYqXlC2llEClMzNOx8qTIMwzBSFK9hN4zDQGuHRg7NJKBh9YT00ODBg30NNtpYtHloYkuUKBFq1KiR73EkN3gCRvi/UGj16tVyP+7LM/C6guadeGjg/MwCPPPMM752kTjqIjq5IfKe4A0GQtWrV8+QdrY8q2LFiiFvYCDnab5pXJMZTSNxxttK0FMPgf8Jmk402ZRPjRo1QpMnT45L+n744YdQ7969Q5UqVQqVLl1a4kHeExeNK781eMK6fJUJQjwpj3RC08SXL2CSLXmi9ZLA71deeUXeXaCctcwNwzCM1MI07UZUWOodrfmuXbtEo7lhwwa3cuVKOeZ1+KJd9oQlCRBZjdq0aeMeffRRmcio2lg9NwjXETwBQxZM4ny0qp7gIcfff/99sbFGU8p50e6haBwuvPBC0dQD5y9cuDDXE1Ajn3XHHXc4bzAgml7iRvqJM2l77LHHZKIpvwnkj16vIRnROP7nP/+R/ykz8krLlsm1HTp0cD169JD5ACxIFZzQSCCtNWvWlC8t5AvpxwaefSyDDmz1f+De3gBB5hsQqGPMn6DcuR9fRTZv3uwOHjwoX014TiTUB47xTK0bw4YNk/gy/wE039nqPXRfqkN6SAtfe5hAjCZ92bJlfhmwnwWznnjiCfn6E0x3MF8MwzCMFMJr/A3jMHBPiI9rtOqeECDaVbZeR4/0kyGwLzIULVo0dOSRR4aefPLJDHbI0UDrh2a/f//+ounlOZ7wEWrevLksP6+aa87LLqxbt06ez/WEJk2ayPW5BXtpWLBggWiVNZ3ETdPtCbmiBQbiFy0Qp2SFuOlchcsvv9zX0LJFo43vdvKB455AHPIGVKK51cB55INuNY/4rXnF/3quBvYH85Fzg/cj8Js6p0GfqYF9fN3o3r176KmnnpI4ap5r2iK3yVwWuYV0Unbjx48PlSpVys9TzS9voBvas2dPhndP8yDd8sIwDKOwYEK7cRg333xzBgEJYYCtCmRMusRMpFq1ajJhVAPmCwjrnKvCGBM11WwkK6ZMmSLXcj7POP7440XY1omPOQUhTgU/7oOpjJoP5AYE1nvvvVdMbEgH91PTEfx/MylTBURACOK3DjA0JLNwRPwQdseOHevnO4E0Y/qCORB5x3lsCe+++66UDedrOXO+1hXyiGPUmaDgHgzs4zq2Wrf4rUGv4b4a2M8AsmzZsuJvf/ny5YVS8NQ0816MGDFC3hnNN/KRvH/88cflHMjLgNUwDMNITsw8xsgAE/zOOeec8C9PEvhrYCdmC54QJhM8p02b5ho3biyf4RXOwVwBV4sElol/5ZVX3JFHHim+0nV5dO6h6G+2nsAvJhP85r646OvTp4+YZHgCXPiK7PEGFGLCwX14NpMqiXNW8PwgBw4cEPOOH3/8Ue7jCa2yn3jgA9wTljL4ouf6yHsoXE9INjTvMYc577zz/DR4Qp7kPcvaa7qBY5QLxwmUFSYt+D2fM2eOHKeOgKY5J+nmHJ6j8SHwHLZnn322TKrEdSb7ypUrJ2Y2nO8J8uE75AzuDzmJU7JB3IP5Q/ovuOAC35SJ8gDeFczCeDcVvc4wDMNIfUxoNzKAoIqwjF9u/kcAJiCwIsw//fTTrlq1anJuUGhXOPcfYQ8V2EojMHDe/wt77wiiwghePl599VURQDgXH9J4qOGZhJwKHR9++KHr1KmTCI+E+++/3919992ZCv08j2Nsecaff/4pi0pNnjzZ9zyjnHTSSe7JJ590Z511li8IRUt/JJyX0/jHC833zz//XGyh9+3bJ3FE+CPvn3/+eVeiRAn/PNB0kGbyNrjlOjyX4NMfP/07duzwr8kO7sHcCQZW+PmnbiGYc199JuiW+OixnKDxjySn1ycDpIF8oq5it47A/vPPP0saeK+ov+eee67MrcCrD+f985//DF9tGIZhpAsmtBuHgUDAxEImCVI9EArQxrJSanarnXJ+pECU2T6EPSYcNmrUSIR9FQRXr17tatWqJdfkVLhCaDzllFNEYOTeCDPcp0aNGlnehzhwDG0xAj6CLNcz8EBoR4BkgiaTUPmfY5qenMQtp+fFC40/+YVrTVaJJX4IekxcJB/Q2GaGpicyTZRbQRF8nuZ9uqMDIiDNwGDqxhtv9N8V3kvcjF500UUymMa1I+UYrXwMwzCM1MeEdiMDCAv4IVePE1SPevXqiQCsmun8ooIXft7xp637EETwcY4wqdUyp8LHxo0bxWsJceRahHVWUNVnRd6HdHIMAQjvOA899JB/HvsJxA2vKWwR7qN9LchJ/HJyTjwhbXiEefvtt/2vIZgSMYBC263nqNAYieZRsqUrXdD6p/lPHe3cubObNWuW1EPqrpbZe++955sPZVZehmEYRnpgrbyRAYQCBAFAcMB0gaX4IVYCO88AhGWEDwKf83HLiFabc3KLmtdwb67HlEXvTYgEAQcTILTzGg/Sh4ad60ePHi328Njicy7mMsH75SYkEwh85M0HH3wgXxI0vZgElSlTRo6rUJhZAN0aBYO+JwwamV+BwE79VjAj+vTTT8VkjXprArthGEb6Y5r2fKBZlxsBBoGIDpZrs7ouL/eOBQgG2G0jEPBshFpWOmWCZ34hTaQfYWTBggXiT12199hQr1ixQiak6rmQk/Tj17t06dJyL4T/8uXLuy+++EIE7ch85jfmP/ggf+mll3whFeGV67Fdf+6552QAEflsjVOQeJdPfiHfdeKpCud8Zbj11lvDZ/wFddQEwfgSWeeZo8F8D/yw885oefTq1UsGmtR5yjAWg2nDMAwj+bFeOZ/Q0X733XeubNmy4t0CzyOxgntHExQLEgQG0qP/M0FQ45DfuHA/AsLxPffck0EQQXBUgR303KzAbACmTJki9wTMPVq1apVBkAnGmyXw0Vzi3QaBB5MXjhMPPKYwcDj99NPDZ2dE4xQMqQDpI6+/+uor8X5DWskvth07dnTXX399yqQlnaGcKAe+gDCJmknCLDDFb8qPgeVNN93kxowZI3NLqP8msBuGYRQeTNOeTxD8Tj75ZLdp0ybpQHGHiCYzK7DlRmBiJUhMMBS0vEx2RJDkXpyjHXleyG3R6vmsQMoERZ6PNwpcNvJ/fgjG5eabb3YjR46UexIaNGgg2nw9J7fpRWM/ffr08C8n9vfY4UPwuYMHD5ZVWhGA9BkcRzO/aNEiMQ/RfOd4XvM9mdCBDXWKwQwTTRXq7fLlyyXNCITki6JlY8QH6qHmP6sC0zYo1EMmB8+fPz/TAaVhGIZRCPA6CyOPsNrgWWed5S8WwwqZf/75Z4aFdgj8Xr9+fejSSy8N1a5dWxYn8oQk/7pg8IQrWaCG1R4bNmwo92zbtm1o+PDhIa8jDz/5L7ivJ5TJs4Kw/5dffvEX98lNIL4s2kI8CCzWwrP1eF7gOuJCfnkDgFDJkiX9tJMP3oBHjmt8c8PGjRszLM7TuHFjPz90u3PnzlDHjh1lhVaep+d6wmrokUceCf30009yHueTfo1HXtObTLBAElx//fWSZk8AlPxiwSIWKFKoR8GgeWfEj08++UTaB62fvCOUVaNGjULbtm0Ln2UYhmEUVkxozwMqhN50000iYOsqkF9++WX4jL9g1UKWEr/mmmv8jhihCcExM6FdA+chVNJps+VctjyLlSGLFSsWqlWrVqhLly6ycidLuY8ZM0YGByz9z+ABVPjUEBRIowWE1jVr1kgceCbCXfHixUMzZsyQY5AbgS54X1ZGZSVV0qSBeOdHUL7yyisl7zXf3njjDV9QBX6TZwyUNB85r06dOqH58+f7z+P5xEMF1rzGJxl5/fXX/XpK2ql7rGyqaLpNaI8fwXpFXj/33HMymKV8eC+0fRg0aJD/LkM61EfDMAwjb5jQnguCQtySJUt8QfGoo44Kbd++3Rf2EBrRKm/ZskWWvEdY5DwEYNX2aqeMcE7Qe2mg41atKOdyDw3B8/gdeT3PQKBHiN+wYYMIyyqEIaBpGjQ9kQGh7YYbbsiwhDzxGD9+fOi33347TKDjmszgeQqDC+6j4YwzzggfyTvly5f340h+HjhwQPZ/9913oaZNm/pCuh5HeO/Ro4ecQxmRFuIfFFy1HDU/UhnqKcI6dUTr27XXXivphGgCOyGyjI3YovXqhx9+CN16663yjlM3CbwbvMPPPvusnKPvbKrXRcMwDCN/mE17HsDetG7duuLVAfB5PW7cON8WGljSv2rVqjKRDDzBUiZJYq/61FNPycTVSJhwxuI+2GezRDnnewKUb5ecFzyhXuLBxLU333zTHXfccbKfuAaLnnhHVgVszdetWyf7PcFB7lW/fn0JLDbEftIFkfdS2E8+YTN+ySWXSL54AqF4vpg9e7Zve54XVq5c6Ro2bCjPIGDbjscN9jPBknLyBCBJK1tvwCHPZPVI8ISgqHbrmhdsox1PFVjRFi84rFJKnpOmJk2ayFL35IemU0MQ8oxgxA6tU7znvEu819T/nTt3ynuhMK+FdQeY2A56XSrXRcMwDCP/mNCeBxA+WQQIwYdOV1eRDArtuNZj4h/CEisVPvzww3IdC/UgLEKwE+Y89qtw/69//UsEZdwT7t69261Zs8YdOnRIOnfcGdKpM/lVBw7ZQdy4P5Ndzz//fFn9EzeLisaF6kDgvrhSZFl/JonqcQQOwLUi6ce7zIknnij3vfbaa2VyYyQsb9+hQwcZkHAf0oVbRe79j3/8I0M+5Aa8wGzbtk3yjnxjMaV33nnH3XfffRmEINLO8vxMQq1QoYIvjKowFPkKBOOT17glAyw2RZ6Q30DZvPvuuyIMUn6Q2etPulM57ckI9ZS6R55v2LDBtW7d2n377bf+Pt7PTp06ufHjx8t7xbvGOwZWHoZhGAadhZELsO3GptzrQOUz9vTp030TEK/Tla0yYMCA0M033yymGjmB6wle5x7e8zd6LPgMzBh+/fXX0P79+8U+m+dddtlloRYtWshndk8YQCKTQFzZ6j7Mah544AGxX4+0meX57OP+2OVjV0ua1SaatHM99wwGjk+cODF8p7/Bpl+fi/15u3bt5N48I1pacwK2+zxP01W6dGmZsKtxYR+hbNmyMpGWMuJZwfxLV7wBS6hZs2a+qQV5jr30Z599VmjyINlgYjjvEniDRykT3iF9j/jtDezlndD3QssqGAzDMIzCiwntOSDYWeLJAQGU0KFDh8MEXt3S4SIo5qWjze01nB95DZNRV61aFTrttNNC1apVE7vvoDCL4M2W/VdffXXo22+/9e+jAoMK1qTj0KFDkt66devKfbg+MnCvUqVKhWPwF59//rk/yMFu97jjjpPJuZDX/IEnnnhCBB29L3GiTIKDCeYTMK+AdOT1OamAlhsBO32dj0BekD8I74sWLcogCBoFTzCfqYPkPfMJ9B0kUEaVKlUKrV69OnxmxvKMDIZhGEbhxcxjcoDXWcon7CFDhrhhw4aJ6YUnCImJCuYWnoAYPvMvyFJPWJLP4V6n7G9jRbDIeA7oM4H4Bn9jy41JDSY6LF/vCctiTuIJ5BIvzj322GMlfVdeeaX8Juh9OIf0wzfffOP27t0racLcBT/fEyZMkHtyTtGiReWTP+ZCmPZ4gwaxqeYY9+H5rLian/wg3tjm//DDDxIPTGw0rlpWffv2dZ5gL+nkWZoX6YiWF4E033nnnZIH1Mvff//dPf/885IfwTxI5/xIFigP8pk6yfyCs88+Wxb3Yv+RRx4p6zVgXsc8DOqzlYlhGIaRJV4HYmQDGuGDBw+GPMFWNGNkW+/eveUY2jOOs/U65wwaseC+eBL5TP4njmhhcUt5zz33iBtH0oFGGk016fKEBnEh6Qnl/jVoCNlmlwb8pdeoUSPkCSH+ubfddps8g4Dmt3v37rKffMkPc+fOlftxX0849TXrpAFPPq+88orEG7QM0h3SiGtHNYsikD+33357hvzmvMKQH8mA5vuyZctCJUqU8N8FAu8a6zawRoCViWEYhpETTGjPBjWtwORAO1sEXlChVjtd7XiD2+D+REM8ECQI2MH37dvXFyZIF+Ym/I/wvXLlSrlGhfagGVA0uDfnqrC8YMECuRfCNNsTTzwxtHv3bjmWV4gHccc3u8ZZBXYCpkCbN2/246LpTZb8L0gYNGG3zmCGvEBo79Onj7joNOKP1tVx48bJYJKggykGybfccotfL9kWhjpqGIZh5A8zj8kEssUTCuV/PD3g4tHrcOVTN15P8H7Cb4KeF8xK9kX+TjQaH9LgCRRiNoKXmBYtWohrR00fYHLy/vvvyyd9T5j3TWk4R+F+/Gar/yu1a9d2X375pVyD9xxcYrZt2zZ8NG94gri4rbziiiskPnjYwVSJZ7Rv39699NJLYp6jcdI8Z5sM+V8Q4GkIcyXccP7yyy+SdvaVKVPGeQMYMcOgLI34c95554l7TaCOUgfZfvLJJ+7000+X/fpOQrrWUcMwDCM2mCPmLKBDxS57ypQp0tkiNCKAjho1So5HCoORv5MNjR9pwdab/3H7iF36K6+8IkLw//t/f/nv/r//+z/XvXt3EYT5XwVhhH0Ee0Lkb8CGmuuwodf9uLFr06aNHM8t3B/I+549e4rNPf8TR44R50mTJrk33nhD3OTpwIHj6Qx5T96S3wysENj5jcBevnx5t3XrVvH3nSwCu9aPwsC+fftcs2bN3EcffSS/qZPU1Ro1arilS5fKPA8ICuyGYRiGkR2mac8EsgXBD010xYoVRaPLPiZz3nLLLdIJ0xlHEw712mDWpoIQOWPGDHfbbbeJb2/iS/rQso8cOdL3qY7ArFrDyKrD+R9//LEIkcA51atXFy1+XoRHvT8a++uvv16EIB0IANtZs2aJRlPzNzJOQVKhDHIDXxu6du0qvtcZhFE2TGjkCwl+85NBYOc9ob4wOZl4MiFz//79UlfQNnfu3FmOQ6qXD4NbBsBM+mUNBaCOkq5LL71UFlVjIEXaGRxrXdV0p1v9NAzDMGKM13EYUfA6W7GL7tevn28nzBabaexVOZ4ZeoythlSBiarly5dHmhCbcXyhY8OPzTQTWbNKiyeQhYoWLSrXeoKJXL948WI5lts80PNXrFghNvbczxNCfft1T9ALFStWTPzUB9H8jhbSBeofZXHFFVdIXhOYj0D+TJ06NXxW/ImWxzt37gzdfffd4vZT40rQd+qFF16Q8zzhXrapDPNAcHlKvae+UkeZGMxaDaDzQkhrZN2MlneGYRiGEcTMYzIBrRfaMLS7aNAIfPKuUqWKaMqyQjVmbDWkCqQPzTguINHUkm6+NjRs2NDt2rUrfFZ0BgwYIO4lwRNC3D333OMaN24sv3MLeTZ//nxZvRVNezAPiRNlw/1xvcmzlGCeR4ZUBxMYoP69+OKL7vXXX5cvIeQBZjGYMl144YVyTiLQcvDaFTEra9q0qatcubIbPny4mPHoFxrgKwHlOGLECPnNV4JgOaYKpJW0MMeF9oFVi9lHWigbvi48+OCDci51Fii/yLqp+WIYhmEYmYLkbkSH1U+Dq26yUI8naKS1Voy0oQlkFdfq1atL2j2BQtLvCe6y2mY0vMGNv8oj5+P6MagFz2mekb8sDMWqkTxbNewE1c6yj3I5cOCAXx4a0h3SizZd85ktZcPqtonQVgfzHE0y8WNlXr6CEC8C8dS4Uo6sXluzZk0pQ9yoqgY62QnWsWC6O3XqJOmj/mua69evLwuLpUraDMMwjOTHNO1R8PJFFj4ZOHCg2OR6HbKrWrWqK1u2bLZa9lSHtJJ+tLcshFSuXDlfC7hy5Ur32GOPyf9B0KqiZfcEGV+biiaYeyh6j8zgmYA2+d5775UFgjTvPUFQJpwC+c8z8JZy9NFHy77CxJo1a1yvXr38/CJ/mOh7++23J6RuUuaAppz6Uq1aNdE6o/nXMgO+3DBBGZtvFtt67bXXRDN94403+mlJBYgr9ZF8Z8Jp8+bNnTeIkjkF1FfAVn/evHkZPE4ZhmEYRr7xOiEjCthSo9lFM4hGcMyYMb6mjZDOBNM3adIksculqhBYvAgtPHAedv8dO3YULSqBPHv22WdznUdoiT2BPVSnTh15jicUiVYd7aUnBIUeeeQRubeWiS4aRNAyye0zUwnSuW3btpA3iPI11+RTkyZN5MtEoiDPsVvHvp4vIJQN9YD/iR+a9MGDB0s9wWe8lpduUwniy5cEtOe0D5QBczhIM3WVutm1a1d/rQJIxXQahmEYyYkJ7VGgk3311Vd9IYRFa5j4p8cKUydMulmESYV2FRTJA4SX2bNnyz4ENQSXZs2aZWpCkxUIfieddJJvYqNCEM9mkMBkVBXaGURgGkMcCoPQjqD4+++/h2rVqiX1MVgW27dvlzxIFPPmzRPBnHJjsinlpuGxxx4L7du3zy+XYL3QRZ+oQ6lQdpSBwoq7mP9oWegAhRVpg4tZabqSPW2GYRhGamBCeyagQdPOmOX3VTAqTJ0w6URYQaAOLsOONxm86CCQsdKpauLLlCkT+vrrr8NX5wyegYeZypUr+/cnIAQ+9dRTIgStXr06gzDYqlUrsZdHo1kYhHbSev7550vaERSpl8ccc0xow4YNGbS68YR6cc8990ic0Dgz0NKy69atm+9tSKFsNK7BcmJfspcdcaMekuahQ4f6gxO+wJF2bPQnTpwoA6tIkj1thmEYRupgNu1RWLZsmdjkHnHEEWI/3ahRI7Fh9fIrfEbs4d5e5x7+FR09R0NBxgdIsycgugoVKojNOv8Dvrbx547d+bZt28QzCOdi745Pe0+QlvMyQ9PJlrzu0qWL8wYGvl9xTwhyo0ePljkF2MVjH69xgR49ekjZ6O90Z8iQIb6Pek9wlFVfsR+vWbOm7+M83jzwwAPukUceyVCW2K1PnjzZjRkzxtWqVUvKCDyBV+y+qTN4lLnuuuvEqwoLDQXReyUb1D3SwDswePBgiSd1nLLwBq1SFhdffHEGG37DMAzDiDme4GdEMGLECN92Gq1mUBuoIdZwz6zMHPQ4cUHjR8jq/FiDprFatWq+NpV80cBvtKvEEROI7NJBGjhnwYIForEkrz3BSO6D2QGadU0jYNOOVpPzOOfQoUOyH7hfMKQLmhY0u3z1IX8IzCm4//775Vg8y1/54YcfRMNOPLTMqAPnnnuulAvmLlq+QBnecMMNfvwjQ9WqVUPz58/3r0tGDh48KPGkDpJWvioQd74OMQ+DOq+mP+lUBw3DMIzkwjTtUUBT6HW+ok1jJVDw8kq2BYHem60n5Lg9e/a4559/XjTQLVu2lIC/clYF/eabb0S7SvAECLkuHvCsK6+8MoPGW/EEODdq1CjxIIK2PLt4EfcpU6a4iy66SNLsCWyy74QTTnAbN250tWvXlvMog82bN7tVq1ZJWXAeK4CWLFlSjqczpB0PJPj4xpMR+U7eXnvttb62N55QTjzziSeeEN/qeAxiH2XtCeXuww8/lHLRukl8AR//EydOlP+j8fXXX8uKtngDQmOt70IyQFyof2eccYas6KpQFy+77DK3du1aOccbePpfFTTdhmEYhhFzvE7HCINN6q5du3zvF2jT1FYVzaEntMRco8u90DCiwWTi3vHHHy824qpVRtuvGn+1H+7Tp4+sPhrLeOQE/NQfeeSRft4QP+x50ZijKVXNeHaMGzfO92lNXpO+Bg0aiJ08kC7ym3u2a9dOnse5XLNo0SI5B7QsgiFdwF490tc5nknUU4zWx3jAs4BJx9TBYJw6d+4scaLs1S+/lgXXDRo0yL+GycRNmzYVm3CuJWjZUq+o995ALvTpp58mpDz1C4HWY1ZrZf6G1nW1YR8+fLgc1/jFO56GYRhG4cSE9jB0vHTauC+kg0aYIOzdu1c6chWSYt1Bc9+ffvop1Lx5c/+5CKcIOsHBgwrsCDYID/369Yu7OQGmAK1bt/bzhoHFXXfdJRMOcxIXhDs8bzCplbRxPYGFmNSNpApNhG+++SZUoUIFyRfO53/MdBQtj4Iol0RBXiKwH3300ZJuAmWPwEs90XTGO72UhbqbJE6U24UXXijlES3/+U1ZUk+5hmsZaDIQw9yESca498TMhkEb96TeU79JLyY1agbFfeIF9Y56PmzYMH+wQd3jncOLFN5yQAV8wzAMw4gXJrRHgCZQhVK0bHTOdOR00AUhKHHPxo0bixCkgrkGBAa0krj6U2GGoJrK77//Pu4CDV8DdCBB/EaPHp3jOKC55DrSyrUEBHEVRglBjf3ChQt9Lz4ITY0aNfLLQM/XkOpoGqhveOTR/CEwl0AHK/FMq9Z57LX54qFlTmCQCVnFR4/hHQhBXcuV+5JOjn/yySfydUm/vBAQ4hGUGdzNmjVLztNQkGi80PbzvhEHTTP267gZNQzDMIxEYTbtAbwO261bt07+9zprN3bsWPnfyyfZsi/WYKeNHbcn0IitbIsWLdybb74p3lTwyoLtMMdZKfSdd94R+1n2Eyc8cnBNvCD9eNIJrgyr+ZUVpG3kyJFik+8JZJJmrm/fvr3bsGGDeEMhPaSFrQa1k+d/nv3WW2/Jlt9BCqJc4oWmVdPQunVrWTGU395AReYLUM6eACk25fFKq8YJL0rYsc+fP1/i4A243DHHHOOeeeaZ8JmZo3H1BqWuVKlSfp1hP/WYLauHUr8nTJggXoo0nUCdp45ceuml8n9Boc/bvXu3a9CggZs2bZqkW+OP/frHH38s6TYMwzCMhOF1zoYHWjzsytFko9lFy4YmWzW/aOEKAp6ptrJVqlSR3zyT+AQDGkA00pxHsRFYaTKeEI9vv/3W13wTBxZayixv2I+5B/MC0JhrvAmRphWkj3RzPoFFgygDnkWZ1KxZ0y8LvUZDKqNpIC+wWSfNmkfkGXbkqqGON8Rrz549sngS5aCBhceIE2WWX7TusMUshZVu1XxK30Xygq9e48ePl3MVrslP+QfrLR5sSKfmPe8Z2v+rrrpK5rSkej0zDMMwUh/TtIfx8sLdf//9ohXm/6pVq4pWGG2bhoLg3//+t3hN8YQT16xZM3fkkUfKszwhQeJBIE7B3woa73hCvNA2VqtWTbTi/MZneyQcUw35jBkzXN++fX2/9+TpueeeK1pzTyiS8zVtoHntCauyj2Pkzdlnny1a2CB6biqjacDn+dtvvy1pJo8Is2bNkrxKFMTrrrvucgcOHJB4ETp06OA6d+4sZYy2PL9QtrrlXSAfPvvsM6lj1HviwBcHPOhcccUV4j3HG9jKNVpndJtb9Dq0/K1atXJ79+6V39TLo48+2g0bNkw8SfE7WEcNwzAMIyF4HZHh4XXKYltLlhDOPPNM0fiiUeQYoSDgvtgMo+lDy47GFQ0gz2Wr/3Pe8uXL/fh5woz4M9d7xAvig82vxgNb38w0rtOnTxeNPMETQuX8M844QyYYkuZgGlXTrqF9+/a+lhX74jVr1vjnFmR5xBNNgyeoZrDpJjz77LN+ehMFeU68KAcCq7Cq95p45L83sMvwZYn/qUd8ddm9e7efP/p+5IRg3eH9btu2rWj09f4E6uvHH38s5+j5Wu8MwzAMI1GYpj0MWrbvvvsu/Mu5Cy+80NeCaigIuC+aPGzZsV9Gw6r7FX2+2o+jscYO3BtkyO+Cils00IiiBdX/yTdPmJGgoGX3BhiiGUXD7gnoojVt166d+B5Xf96RaQRPOHL79u0TG2LNC/y2n3zyyX4+aEh1SAP++IcOHSr5Rz0AVppFo+y9nxnyNR7wTKAcbr31VvmfsiJuffr0kThzrCDzX+OARv/zzz93vXr18jXy1K0tW7aIX/cFCxZIPMgjrtHrsoNr9u/fL/UR//LUTfaRTr56LVmyRFZuDVKQ6TUMwzCMnGBCe5j169dn6LxZMCZSsEwkTD599NFH5f8///xThIoiRYrI73iCYFSlShU/X8gzhDgCAjrHmVx6ySWXiOmM5iGDkldeeUVMIBCyVAjT+7BFSMcUggnA3It7Iyz269dPjmtIdUgX+TR9+nRZ2h9BlHSRJywehZkWkHexMEHJLcSPAeKiRYukXCkvzMVuvvlmKT/iVZAEy/iUU05xTz31lBs0aJA8G4jPoUOHpI4RT/Itu8GNCvWkZ/Hixe6cc85xc+bMCR/963jbtm3FJKlu3bqSRvYZhmEYRrJQ6IV27Zh/++03EYb5XaJECX+Fw2QBjeCOHTvk/2LFiolXjZwIK7GG/KlUqVIGAVqFUH6zwuWpp54qq7oSN45xPp5vyNdgfIPCmcJxtOx6Hudgz54uaH1buXKl2IfzFYJAOsuUKeNeeOEFEdTZF280bjwfzz28D1oOaP5Lly7tD7biCfblDzzwgFu4cKF8YVIOHjwoqwUjwGc1uCFdpIOwZs0aWYGVgSUwUGRgyNcNVullcKJpNgzDMIxkwoT2sKAyadIkX/Dks7nuTyRoBRGSCLhM5DegYe/Zs6f8H2/IF9WgKwiY7Gep9yZNmoggRFwR2GvUqCFCePHixUUYIn81KPqba1j2fsWKFX7+n3TSSSL0J0N5xALyACGTOoaGXbXsmADh+pABGb/54pAIyGe+6jCBWIVXyhqtdiKhTp122mlidgXEE0EdwR2t+ffff5+hTgXhXPKZLxi4mGSAHtzPuz9kyBBfux68D/8Hg2EYhmEkipQT2ulUCbFCNYdo2fS+xx13XFJ00ipEvPrqq74gi6CChw0E90TEUZ+n2nUgTtgIozlGcEdDCwiiH3zwgatYsWKW8QymAxMMHQQQsPemjOKdzlhDWhCCERLVUwlpIm2YgOBNJ1GCuqLxefLJJ6UcNc8RdpmHkEiIC3mIJhw7d+Z/6KCCwc7w4cPlf603BIU0YR//0EMPyf7gXAm+eHTs2NFPa/A6wzAMw0gmUlLTTmeNGzrcwMUCFm4Jao4xU9BOPNGg1WZCIIIwccJEAeEY+J2IeEYudEMcu3XrJsITQg9xwu4dkx4mraoQFS2uuo/jaKDfe+89EbIIaOexL87K9CGVQGDHtn/t2rXym3SVK1dOFipCGCXNKjTqNt6gZWfuARAHBFy+ChC3RKJ1HVMW6gQuQdXGnXg+9thjMsmZtoEvNpzLvIhNmzbJoJFjWtcYcLKIFTb7TGgFTZ8+xzAMwzCSjZQS2lWQGTFihAg7eBRBI6ifu/MKqz0GNccIKdp5J6oDJy4IeawmiRYb8OGOqQlado4nIm48lxU7FX536dJFvgQwsEDII34zZ84UsxbISuDjeoQs0ooGlRVgdR9+6/ELnw5CFF8P1BsK6WPOBAIoZihnnHGGnMP+RENd068ACMCUYa1atZKuDBo2bCgrlZKHQFzvvfdeX2AH3pU6deq4b775xp8jwPm33HKLe//9931TJEiGvDcMwzCMrEg5oZ3Ol0/hdM4IjyeeeKJ7+eWXRejWc3ILGjft/AEtcSIhDQixN910k/vyyy/lKwBaWT7jV69eXf5nXyIEKZ6J4KkQV0wMiC+w4NPq1atd5cqV/bLILp4IXAixL774opQr13ENy+cnWsMbKwYPHizL45M+/aqDVxRs/oNfeRLNRx99JBpqLbOHH344T2XA+8gAAM09dYNAOccCrVd4U6KeafyWLVsmdZFnX3fddfL1h3dFzWGoY7jYRCvPNdxHAyTifTIMwzCMHON1WDnC63APW1wk8ndB4wk8sj3rrLNCXgdMT+svjOJ1xrLcOOfoeTmBa66//nq5hyc8herUqRM+El80fz2BSX4PGjRI4uQJF5LG0047LfTrr79GLYd4wzLznoDjL7qjoVq1aqEVK1bIOcE4apyjBcqKBaU2b96c4V716tXL1aI5yYamDzzh3K+v5BuL9zzwwAN+WSt6TfDaePLLL7+EvEGE5D9xLV26tOzLLWvXrg3VrVtXFkIqWrRoqHz58qHGjRuHevToEerXr1/IE7ZD3mA0fHbu0fzxBvChd955x39PyNtGjRr5aSDwTpP3p556amjp0qXhO/wFdS+Y39GCYRiGYSQLORLaM+vAEKriCXH4888/ZVXG2rVrZ+iUCXPnzpVzchuvdu3a+YLKyy+/HN4bXzR/GUSMHTtWVqJEWEfwKVeuXGj9+vWyaqgKGonip59+EmEuKCixRWBfuHChlE8kxDezQHpI15AhQ+SelCf3Gzp0aPjq1IN0UQcJ69atk7pZpEgRSRvlOXDgQDlPVxdVIvMmnhDXJUuWSBloaNiwYfho7mDFXNJJIM0ErSfcl/8rVqyYL8Fd2bNnT+ioo47y700oVqyYPEPbBgaA3377bfiKw4nM92AwDMMwjGQh0+/eXicu2507d/o2odgsex2ZBE/Y8gO/ga13T/9zc0HgCQLiq/ndd98V23Oez6d34tupUyeZzMi+3BD0C86ktURAnhFvVnns37+/n/+Y7bz22mtiRuEJIrIPCjKPs4K6wCRg4kIgHtgGYyPMgk+UT07hWu5B+TFp1ROw/LJjkaFUhnRhRoQ7QtJJGj3B0p155plicoIJStDneCIhfsQNW3bQeuYJ37LNLUy0pRyDdVTrCs8hsOptft2W0iYxMRsf8vr+gk6UZm7F008/LeZaxx57rOyLBnHLLBiGYRhGspCp0M4EObwzsFQ+k9FYGIeOr3z58jIBFGEELyYDBw4Ul3Bz586VzjK3AnNuCHai2LKzciaT5FQ4wJsME88QCHIaDwYiCFT/+7//K8JEIsHmGbt1FdiZeIoNLhMykwEEI1aOZSBBWZDHCKGrVq1yNWvWzFX+UWZablz/2WefSTnA+eefL95UUhXyhom5TDzFfziQV/icZ5EpBjbBORTJAGVLOQSFVTys5AVs2bVsGcgR8ASk9+ZZlPWSJUv8gUJu0LqDi0zms4wePTp85C/Y37x5c5mrcvXVVxdom2QYhmEYccPr/KIyfvx4+cSMiYYnjMn/nJ5V4JzKlSuHPMEz5AnyoYkTJ4Zmz54d2rp1q5h9ZIbXqfpbgtepy+/s4Nzt27eHypYt63+GJx6ekBs6ePBg+KyswUSB9HkDFPmcv3HjxvCR+KBpxhbcGxxJfpMOzCkmTJjgH8d8gS15oyHeYPoyePBgfx4B5f3JJ5+Ej2ZOMM4aSAv343/MKYL16IMPPghfmZp4g0ax6VazLeoXdtaeMCvHKctkg/I499xzfbMS3ocff/wxfDR3kGY1jXn22WfDe//iggsuyNCW8P7mFvKPuGEjz7006D3LlCkTOnTokJxH/TIMwzCMdOD/44/X0R0Gvrf5PI4mjFUHccXndezho9HhVgQ0rl4nKv/rNWja0NijQcU7CysT4vkB7T1aR85lARe0ZF5nL9dkh0b9q6++cmeddZa4f2Qfz0ZLyJLwfBnICr4otG3bVrR/PBfNKAu3xBO+EOAvmnQA8WcZ+auuukq8X2g6gWNK8P+CRJ+PdpQl4D1BXfZh3oE5EprjzOISjHsQ9hPId8rou+++k7qCqQ11Tn1wpwqkg3rPiq58GdmyZYvsI434qsf8h/qe07odbyhbvqrt2bNHfvMFZeHChfJ/bsEshfuRfrTg11xzTfiIcxdeeKG8c9QX8gYPUDw3p3BPXLzyRYqve+Qn+4JwX8yPMLcyDMMwjHQhU6Ed6AwxeUFgx4xEzRgwkWDREtwRaseIwILQpbdjS4eKqYduFRXwOAeBD8GU+yCosUVoZoEjTHIIRx99tKtQoYIEBDzszhEY1UwDJk+eLLatuJjTQQPC0pw5c2TAgKlJNMES4YTP9KSVeCJ0MXCIdm5BgHDD0v/r1q3z84hVQR944AHJC+KE7S7xCZpUkHfxiqOWKXWBciE+wEJBLFqjZR2JXpcVLKaEAEYdIP2YM2CHnGoCF3HnHcFnPcKk1kHyinUAGFTyfkTLp2QA4fmEE07wy2zQoEHiUjEv8L4y6AcWjqJMta4yQEZop7x553bt2uXbm5NnWUHcyEPe0UaNGskgl3vwXtCO6GJrnPfDDz/Ie28YhmEYaYPXwWWK1yFmCMF9nrApLgi//vrrkCeUhLzOOeR1zqHmzZuHSpUqJa7evE7YD16nnW0gOhpwi4cZhifkyFb/J+g5XmctzyF4gkKG+7DlHnymxwsGZjqeYJUhHYAZA/ckjtyDdOmxeIA5Dt4vPCHVj0fVqlVD/fv3D3kDkdDOnTv9PPcEFv//eMZRnzVz5swM+Y/bQo1XNIJxjRYwjznuuOMkzdzXG1jl2KwpmaBe4bbyqquu8tNCvTvmmGNCb7/9dlKaw0TiCdJ+ufKueQOn8JHco96FCKNHj/a9HhHatGkj+8kftniQyaz+RINzyesXX3xRzHluv/320Oeffx5q0KBBhvc/r6Y9hmEYhpGsZKlpDx7yOkPZesLWYRoxPU+3aB0xD9iwYYN4bkAzj8kDGjI0YATO4XxPwJFt8Fmgv3muPhuC57I/+D/aOyCO7Ger9OnTx40ZMyb86684cn69evUkflzP/3xJiCeYHp122mnOG/z4+YrmkC8GwD4m3aIFZRVI/ueLBAFTEs7lqwNaRX7zlYB0kf5gvsUCT0Byjz/+uG/yNGXKFHfxxRdn+iwtm8xYvny5rAaKVp0vDp7gJVppvoqkGqzGOWzYMEmzphtNNQtkUcdjXRaxhgnPfKmi/vDevPLKK+7SSy/NU7z5IrZ79275f+TIkeINiTwATGXGjRsn//Mc8oeJ7XwVY/VfPS8zgvnLu0Fd5Bom+XoDYNkPmLmZpt0wDMNIK7wOMN94na+EnMCCMmjBduzYEZozZ4744+7du7dol9HQ4WMZDbrXEfu+rT3BQbZoMQlEWwPHgoHjnBs8By123759M2g8iQe/8ffO+QQWfYknmm9oInv27Cnp1TRpeqOlDU2opo284pj+5usCi9lEW7wnPzCJ0hOwMzwLH+RZlb0eyyzcd999Ge43atSo8JWpgzcADU2aNEm+9lAulA+TOJmwS/7HsgwKkrvuukvKgDTwvvBlKjca8CDHH3+8X6bDhw+X+s27xv0WLVok7zj5RNnzlYnzqPueAC/1IjuineMJ/nI/Alp8T2jP0b0MwzAMI1XIUtMeD9CUecKo/I+21RNyxA6YLb+xE+Z/7OrZMgkNl3IEtPecA1xD4H5oqb0O202fPl22bdq0kYmd2MKjhfY6dv8aXEZiV8t12Oyjbdfj8ULt6LEDnjp1qmizmS/gCTbhM/6G9ADxDaJ5qMXJ/bDxjVVaeB4ThYkrcF/Khi3Pjvac7KoWcxeII5r24447zm3dutX/WpIqMB8CF5XBvGYJfbTspEu/6CQ7THoeP368lBnxxl3iqaee6ter3MDXIOovPPjgg84bEMj/3Jt65A2g5SsNdZl91HP2k1cffPCB2L3nBtoFvlappp2vUExs1nc9L2kwDMMwjKTD6zQTCtowr8OOiVZM74V7ycsuu0w0niTx1VdflX1o+/Q5nIdbuOLFi/tabWz02Z8MbNiwQdzlYbN74YUXhjyhJIMmnvgSiLsGtKTYhWMnzteLWKbllVdeEQ0szyYOzGGArMqNY5GBOGHLjq2z3ost6Uw1WBafOkb81UYbO2tvYOPPjdCQ7HTp0kXir+WxadOmPNcfVselbnIvNPi8dwTVuGOTfsstt4h2XL+m6bO7desWvkvO0Lw99thjJd4Evtqxn3qWCnlvGIZhGDkh4Zr2WOMJGrJS6kcffSRaeOy8P/30U3/xH69T9zWirO6J+0mygIA23xMi5FiiIP6eoOHHlXjxmy3HSBP70eyq1hs4H801njuwc9d75BetHmhPWR2XZ6PJRKuJ7XJW6LUKvzV4wq24FEQbyv3wKIIXnWSHfKUc+DrDAmPkCWlgP3WMORF85SCNWoapAF5v3n777fAvJ189cM+alzpEPmzbtk3y6dZbb3WPPPKInw/cj/1o1amn2J63bNlS5r54wrt4hyJPcwNafZ7JPXkOaUGTbxiGYRjpRNp9N+Yz+cyZM0WIQpgaOnSomMCoAKXCA0IVQgJbSBbhingSb7YE4viPf/xDAkIOgxCEc9zkVa9e3Q8I1WXLlpVz9D6xgHzBvSemSBo3nk0csiNanpIe7oVZieY98WeSbSpAHiAcIhgicJIf/GawhPtLBHYtO9A0JjuRZZWf94E84P0DBmTkBfmAGQvwP/dnAMq5COqY5OigNLcsW7bMfx48/PDDci/DMAzDSCdSXmhXoQiBoF+/fm7t2rXym078ggsu8H1ERwohwU4+mdC4RsaX3yoIxhPyiTzFfh0QqvAYk1vPHCqoIeBi881WGTJkiAjzyQjx1jpGnPnC0b59e/Grz5cOjiF4sh4Ag6ZElFFBoGnOC8x90OuZN8LgZtKkSW7ChAlux44dsp/jlDn1i33kLb/Jw5zCPbj/jTfeGN7jxPMQX4Ai3x/DMAzDSHVSWsJQwQCt2ksvvSQuHVX4w40cbus4hiAVKQjnRygpTCBMDR8+XDTK5BnuJRkI5QXyn8m2mCtp/qOJrVu3rvyfbBDHYB0j/giIH3/8seQLXz/IF0x7mLQZJNWERspB48xWB2l5oXTp0rLlvcNV6WWXXSZ1hrzDjAXzNSacYp6GSQ6rsPJM8hiTnJzC+ZjSqHtU3n1WWkZrny6DJ8MwDMNQUrpno6Mn0OmziigdNcIUJiQI8QiYdOBG3nn33XfF3hiNJgIs/rDxwpNX0FDjp5+yQuC96KKLZJVVFY6TDRUmEQhvu+02qVcI6/ymbrFMP6udggr5mhatn6kA3nsoEw14Z8orrHCLxpv3EM357NmzRbDmaxiDAVaMRZBHoL/iiiukPig9e/YM/5c9lMuCBQv8ukl9YgCYKnluGIZhGLkh5dVRfF5nUiPCAB03whST0E455RTpxI38MXnyZNmSr+R17969cy0UcT5mNZQRQhkDK2DS75NPPukLucmGppN69NRTT7knnnhC8gABlDhjjtWtWzcRHtmfrOnICQzESC/pID0s9pVXunbt6r766itZtAx3mMyBCEI+UfY8iwGC5nP9+vVdq1at5Hh2eUld4vo77rhDztX7sMCVYRiGYaQjKS+0Yy976NAh+R/N3j333COCAp04qEBg5J5PPvlENO3kIYIcmtHu3buHj+YchCqE/hUrVshXEeCemJSUKlUqg+CWTBBv0v3++++LFxQgnsSXLzuYDQW/5HBMQ6rRqFEjfzDFZGZd0TSv8PWECaaY3fB1BW9DaNybN28uefbLL7+I0M0zyWM88WAyw/yAnMA9nn76aZljoEJ+r1695Hn62zAMwzDSiZQX2pkMSMeNAICgoJq3nAhOkR27dfR/gzCFZhlhmwAskoNQlBfQVr/++uuy5X4IvkxohWTNd+oVnkkw9wDiTFxZ/Gfw4MGSDhXiU1FQD4LZk3oEwoxlzZo18n9+IV+OOeYYsWXHjAjBnYHgtddeKyYyCNovvPCC7GcAx/nZ5SXvOousPfvss6Jx1/N79Ohh77BhGIaRtqS8n3bcESJwAKYX48aN8zvxzDp/kox2j0mRuBtkC++9955r3bq1L6QWRrQ6kCf4sEc4AvKLSX/lypUTITWn6P2wW0bzyn0AQQ7BUAW1ZGT79u3iShMbdjW/atCggawBgICractNfiQrlAvmKWjE+R8XlrjmVBei+YF8ImT3XvLcrN49vQ827JdccomseAzkf6dOnWTieVBTn6z1yjAMwzDyQspLGwh/BLj00ktlmx105ggHJUqUEHtbfqO969OnT1oIYPmBvEDTypwABG1+kyfYdCN05zV/nnnmGbEFR4OPAMyy+bgGTFbBCi07GnbqCcIkwiKDQ0xlMMMC4p6s8c8NKlB37tzZF5xZaIz1DmKF5lVW+ZXdYJl4MjcCcxsms3Iv6iODqgcffFC2nGMYhmEY6UhaCO2srLl06VKZxIbwnRO0w1dzDzp87OPR4hVmEKrHjh0rK34C+YQHkJwOiKJBvrLwEHlMniOcdejQIc8DgIIEoZXBBfHbsGGD5AeCIG4M8TMe6ekmKyE0lSDdLEwWTA9mLMkEcWSlVha20oEGW+YWHH/88WlTFoZhGIYRjbRQK2PigtkCnTY202xz2oHjDQXQ/hIYABRm8PqBa0NQ+3Ns2/VrRm6hHDC1Wbx4sWhJuR8TUCP9micLCOnYWuOLXTXsDC6mTZsm5iPJONCIBQyoWJUWV40KefDdd9+FfyUOyoBy4cvPNddcI/7dGZzrQIPFuqiroO9+Tt9/wzAMw0gV0lMCyQV0+HTwags7YsQI2RYmgprjG264QQQivHMgYF944YUy8TIvcF8E9b59+/rCLyYxLDOfjBBHXAYioJMHxJeA60IW7UlXVMDFjl0n3ZIXrFT66KOPyu9EQvwQyvnawxc1QIhngPHWW29JXHP6hc0wDMMwUpVCL7RjDoO2nU4fwQBN+6pVq3wtKyHdQSgi/bjLZLEa0ozmFe06Qltetcvcd9++feLqEeGd/OVrhk4cTjbuv/9+N3ToUMkLAqZTI0eOlC85CmkKhnSCgdq9994rCy2pEPzyyy+7b7/9Vv5P1LuAh6hmzZqJ5l/jxQRZzJUqVaok72q6lolhGIZhKIVeaEfDzgI5CAOqscM8hImIoPvTVXjXNKNdZrIp9twIQXiNwQ+2rpSZV2bNmuUvRsR90dpjF55MkP5JkyaJlp3/gTRfeeWV8iWmMIEv/jPPPFO+shDwp47NOGWYCIGYlVkxicH1JlCPWOmYlWhZTZfflBUDQhPYDcMwjHQm5V0+xgrMQPAVTXYgyCMUXH755SLE5UdoTXZIH4I1nkNUMCMPEIgmTpwoeYHwlhu0SqFVr127tizUg0cazBlYXEm9ryQa0k56Mblo166dTJhF+CP+LNA1depUOY+vDoVJIGSxspNPPtkdPHhQfpNPfHEYOHCg/M4tWh9yk4cM8LZs2SIDp+XLl0sc0K5TPldffbWYWHE/fkNhKh/DMAyjcFKoNe0IEypQYMuOcErnj/DKCpgHDhwQsw41lUkXSAtpwi54yZIl4vNaBXaEIBbCGT9+vK9tzS3cByELf+Ysh8+zgMV1kkVgBwZj+J5nlU4mXGq+YHLx5ptvirkIobDBQA3tdnCwesstt7gZM2aEf/0tiBcE1B1cazIxFlM1nsWAj7J54IEH3GOPPSZ1LC910zAMwzBSlUJvHoNAgJBQq1YtMQNAaEUYwI62SZMmohlON+GA9BIwPcCeHy24CkHYm6N5x4e9Ts7NC9zrnXfeEcGPPCZfdQXUZAHNOuY6wUEZXwYYyBB/BjXkU2EDAfn22293Xbt2ld+UIXmBb/1HHnnEH4TFUnDXvGbS77nnnit1hQEzX2t4DltWTmWiNM+nfKizGgzDMAwj3SnU5jGRSUdIOO+888R+FgFCfzMZD9vu4PmpLCgg9HzyySeygiwTRflNejGJmDJliqtRo0a+04dAzGqiDH7INxZmYgVUPJQkA9jsYwKE/3gEQAJxwzd5o0aNwmf9VUcKq1DIVxJ8oiNIM7Ajj/jycMEFF8gAly8SKjxnR1b5SP3D//qoUaPcSy+9JAK8avkR1lmZl2OYsHEu99F7FdayMQzDMAofhVrTrp2/BgQSvKewVD9CLNphfuNqDv/lKrQHhfdUBDd5bdq0EX/XCEjAyrCYJDARMRaC0JgxY3wf3+TXtddeK0JxsuRdjx49xBsJMDgjMBk1KLBDLPIiVUEox8QJoZl84J1ggvbbb7/t6tSpI1p3PMsgSFOuWZWt5qOeR2Bgx8qmLVu2dPXq1ZM6wzNAn8egmUWuENi5BmGeYxoMwzAMo7BgE1GjgJ0zKywyAZHsQZtYqlQpEWAQavkdtPdNBUgHWm/MC9544w3RnCq4dvzss89ESMtvuhC0CPg1R9hCGCa/uD+LEyUK0q9C3osvvij5QNwQOBmcoXHHraAJgofDVwlMY6g31A/yUpsN3GLiEhMvO8xZ4P2IRIV68nnRokXiqYg5AwzqWDBJBXUg/zmP+1JOrVu3Fm8xwXppZWQYhmEURkxojwJZgikHru8QbvmN4InwMGDAAHfTTTeJ1hhhRDV/yQZxJl66nT9/vkwuxOQB3/QIRhxDY4qGmcmn+RXYuR/3Rhhj0MNv8ghhHZMjBkGJQvNh3Lhx4n2E/7XccPV488035zv96QwTldGEDx48WNxAan5SvsD8B/axPeqoo2QgqF53eIeoEwT+R0jnXN4ptgTgXNyB3nXXXa5Xr15yH+7PeUG03AzDMAyjMGFCeyaQLXiP4fM8Nr0qnKOdRbPIwi4IvEzaYz/nJ5MwQTwRzDdv3uyeeOIJ8QYDxFE1m6QNG2LMgfIL6SdgboM3Gkxt+I3AhRlK06ZNE5I/Wi7kB3b8xO3nn3+WY+RP+/btZdBiZA35CMyBYBEuzFp4Pxikkb+UM/VKza1yAuZoCOW8Q8yjwAQGt5II69wvKNRr3UlEHTIMwzCMZMCE9kxAAEFQRwjBZzcCH78RMsgyBA68XCAQYxIQ1NLqtYmAuPF8TBoQ1PECwmQ+hB0CxxGKcGl54403isAUC/S5eNupXLmy/yzsoT///HN/cBNPoYvnU17EC9OgBg0auL1798p+OOWUU+QLQKLKKpXQPFNzJ2Dg+tBDD0meUsf03cgMzWfOQRPPFv/4rMJaoUIF/0sM5RWsr0HiWX8MwzAMI5kwoT0TNFsQEjAHeO+998RXNQvPsA/hhS0CMLa8CMdnnHGGCCaYALAQTDyFd33Wl19+KUvx41MbTSgwwCC+DECY8IetMDbnXEM6VQjLD9yHgK0yrgK5J0IcWll8a3OM+MVT6OKZpPHHH390jRs3lrzh+cSD+OGxpHTp0qJxZ38845aqUI8QrrW+oWlnQjMTUleuXClfVXbs2CHmNNQ38hSTGfKZLzp4nuELVcmSJV3ZsmV9E5pgMAzDMAzjcExozwSyJShAIJzg15zP99OnTxeBFKGFwP9okvHx3alTJzE7OfXUU+W6yPvECp6J4ImdMIIPPtGJF549EJaIF8/mGFvs8e+++26x5+Z/hCqOIbDGCoRjBgMIx4CwxmRUtKg6MIi3UMYXh27durmZM2eKoEm+YTe9bds2iZ8KivGOV6qiwnpW9ZpjwHH+5xoCUA+43jAMwzCM3GFCew6IFFAQkDEvwcsM+1WAJnAuWxYp6t69u6y2iY93Jq6i8c6tcKjFw3UqMKHtxLZ4+/bt8gXgueee8yfMIoirhpPfxYsXFw8cTz31lKxGShzYz71UkI4F3JPJrrjvI47cH7eS5JXmTSLg68jTTz/t5wlfRrBhJ26an0Zs0fchCPUjt3XfMAzDMIy/MaE9H7ByJovPYMetn/lVowj8X6RIERGUOc6kRyZCYkuNtjeIXqfCNrBFqGQfkyfRWuNj/fHHH5cVXPEEg99shedgW8w1aJGZ2Pfggw+KD3b1kR68f6yFKAYyxI37EoexY8fKwEXNT+IF6SPg7YQ4kUc8HzeCeIrBZzzlYRQMWs8MwzAMw4gdJrTnEYRo7NYB95DYiU+ePFnMThQEF4RxNI8quKIlB8xpsOstUaKECPacx3GCCp2cy3MwO8GWHkFYNZgI55FFx32YFIv7wnPOOUdshokj5wWFKL0uuC8/oMUmjTyPuAJfF7Zs2SKDBx14xAPNu40bN8rEU75AAHFQ+3rDMAzDMIxUw4T2PEK2IWgTEMj5jYcSFqBZuHChW7FihWjCVWhXYVyF89zCtSr8EoL3xF0edvR4uSGgcddrlLw8Mzfcf//9GQRi/senN3Eo6GcHIV8Q2JnwuHv37vBe59q2besmTpwoJkKGYRiGYRiphgnt+YCs0+xTARoQrmH58uWigUf7/sUXX4gQz9LtkJds5xmYdeCJg4BHlP79+4s3DkBgVcE+s/sXhADN1wBs93HtqOCZ5cQTTwz/KjiC+Q/kL3b1xEWP4TFn1apVBZJ2wzAMwzCMeGBCewwhKwkqtCuYueB9BpMWtosXL3YLFixwmzZtcrt27ZKl3LG7xsxEi4N7oDHH9h2zk1atWolPayZSYlaDeQ0a/qBZDbCNVqTB47EGl3/4ZmdAQRoRkvnSEJkPBYHmOZDPl156qSyTz7OJC3nFgClyDoFhGIZhGEYqYUJ7jCE7VXBWAVmzWH8jnAO/CSrcoimPPJdj7NOtHo+E8zmm12VGdsfzQo8ePcT0RGEhqmbNmoV/FRyaH5onN910kxs1apT8jxkMAyRWZsVkiMENeVgQ6TcMwzAMwyhoTGiPA5rFukVwDAqPKlCmGqSHLwQVK1aUBaj4Xb58effVV1/FxcUj+aZ5OnXqVNe7d28Z+KBx5ysFAvzll18ueR1Lf/SGYRiGYRjxJvUkxRQmUlhH4CQE96USxHvWrFm+hxbMYzDjQXAuaMg3hHa+WjB3AG0/cwfUqw6uNfv27StxMoHdMAzDMIxUx4T2OBMpuEOqCu0IzfhiR0jnf7TbrBir3msKGp7JxFNWoVVXmoCnmJdffjn8yzAMwzAMI/Uxod3IM3homTlzpmi7EdRZNKpmzZoZJtQWFGjUEdRZ2XT//v3+8+rXry8CO78LOg6GYRiGYRjxwoR2I8+89NJLvo96Jn1ikoLwHu1rQizheSwaddlll7nVq1f7wjmeYhDY8bCTinMEDMMwDMMwMsMmohp5gmpTrVo1t2PHDvmNEL19+3Zxrcixgjb5GT16tLvuuuv85zBY2LZtm6zEagK7YRiGYRjphkk3Rq7Bhh1f8ywWpfbsHTt29H2hF7TAjh39DTfcIB5qENCLFi0qWv8KFSoU+LMNwzAMwzASgQntRq5BWH7ooYcyeIlhZdZ4gKeYhx9+WDTreIZBq9+1a1cJwcmohmEYhmEY6YSZxxi5Zu/eva5WrVqykiuUK1dOVndlQaOC5Msvv3RnnXWWO3DggAwYmPDaunVrN2PGjPAZhmEYhmEY6Ylp2o1cgbD80UcfuR9//FFMUQhdunRxRx55pD8hNNbwTHzBN2zYUAYMmOPw3KOPPtpNmjQpg8bfMAzDMAwjHTFNu5ErqC4nnXSS27x5s9iTY6Kye/du32NLrG3KeR4adWzYsVtXAR37+fnz57sTTjghLquvGoZhGIZhJBLTtBu5Yu3ate67774T4RkbcsxVMIspCIFdeeKJJ9z48eN9/+8MFEaOHCnea8xTjGEYhmEYhQGTeIwcgbBMWLBggW8ag8DcqlWrmAvsPEe3c+bMcYMHDxY/8MBgYejQoWKSwzMLaqBgGIZhGIaRTJh5jJFj0HQ3adLErVy5Un6zsNKePXtcqVKl5HcsoVoyuZXn/fLLL/JswEwGzbtp2A3DMAzDKEyY5GPkGExjVqxY4Wvde/bsKRNQYw33ZqGk9u3bi1af39it16tXzw0ZMsQEdsMwDMMwCh0m/Rg55rnnnhMBWsE0BvvyWIJGHc36zTff7Hbu3CnPQ6Nfo0YN99lnn8mEV8MwDMMwjMKGCe1GjsCmfNGiReFfXsX5n/+RSaix0nojnKuAfskll7jZs2fLRFc07Ex0/eCDD+QYNu3BgYNhGIZhGEZhwIR2I0fs2rXLffXVVzLxE6EZwbpkyZLho7EB/+uDBg1y8+bNk98I7DwPDX/VqlXluebe0TAMwzCMwogJ7UaWqFabCaBovvmNIH3bbbfFzGsMCydxn5kzZ7oRI0bIMwjc/5lnnhEzHNBnxeKZhmEYhmEYqYQJ7UaWICD//PPPbsmSJaIJBxY2qlChQkyEZ13ddOHCha5Dhw6yj9+E3r17uyuuuMIVLVpU9isq1BuGYRiGYRQWTGg3smXZsmUyORQQpjt37uyOOeYY+Z0fVJv+66+/utatW4sAj906+3nGmDFjzBzGMAzDMAzDw/y0G9mCBvz9998XYfqII44Qd4zHHXdcvgVqzG0YBJx22mlu3bp1cj+8x7DS6bRp08SO3YR2wzAMwzAM07Qb2bB79243f/5832Slfv36Ikjnx2uMjhP//PNPGRBs2LBB7o2mvVy5cu61114zgd0wDMMwDCOACe1GluDmEfMVQLBu0KCBmMbwf15AYEc4JwwbNszNmDFD3DhyvyJFisjzGjZsaAK7YRiGYRhGABPajSyZM2eOP1kUQRpbc+zO8wr3wgQGrzDDhw+XfdybRZrGjRvnqlSpIvsMwzAMwzCMvzGh3YgKGnECixyhAef/8uXLuyZNmuTLNIZrsY+/77775J4I7GxvueUW8f3O/4ZhGIZhGEZGTGg3ooIwPX36dHfgwAH3+++/izDdq1cv989//jN8Ru5Au05gkaarr75avNGgdf/3v//tevTo4e6//345bkK7YRiGYRjG4ZjQbmTK+PHjxd4cMF85//zz5f+8gIB+6NAhV7t2bRkQEIoVKyYTT1nxFJOb/GjwDcMwDMMw0hmTkoxMWb9+va/5PvLII93JJ58s/+cFhPbu3buL1v6HH34QzzG4jVy5cqVo79VuXs1lDMMwDMMwjL8xod2IyldffeW+/vprEaARpNu3by+Ce275z3/+I+G2225z8+bNEz/v3BP7+AkTJrijjjpKJrgGhXX+NwzDMAzDMP7GhHYjKqNHj/ZdMWIaM2jQoDxpwNGiv/jii+IZBuEcjTr3YbXT008/3R8UgAnrhmEYhmEY0bEVUZOEoPCaaH777TdXunRp2aIZL168uNu+fbtMGs2p3bmm57333pMFlLgPJjFo1tl39tlnHzYIMKHdMAzDMAwjOqZpTwDRxklooJMB4rFt2zbZoiVH0EYjjmlMbiaKIoAvW7bMXXXVVTLhlPtwPzzHILDjKUbTzLkmsBuGYRiGYWSOadoLGLL3v//9r5iGBM1DEFoRVPGawha7b/ZhkrJ3717Z4hZx3759IvB+8803IjSr/TcaawLnlS1b1lWuXNmVKlVKziFg0qLPz41ATDwwZ7npppv8wcW7777r2rZtm6v77Ny5011wwQVu06ZNEh/ieemll7rXXntN8oB7aVpyc1/DMAzDMIzCiAntMUazE0EU4RSBdcOGDb7HFPYhwCLUfv75527VqlVu7dq1IrBzXK8FvRf3UK008Bs4rs9hy362J510kmvTpo1r3ry5mKWccMIJrlKlSnKNonHTLRAHBhinnnqq27p1q9wfl4z8j2mMPi8ntGrVSiae6vnNmjWThZr0HsH4GoZhGIZhGFljQnuMUeEaAZhFg+bMmSPCOBpsyCy7g0I5qGCrgeMI4EEhl308R/9XgViFcOB/zFKOOeYY99RTT7kWLVqIuQrCOdp4rkPjDcRz6dKlcg5fAIA0MCk1J55jeD73Q8P+0UcfyT5+80Vg8+bN7thjj80Qf8MwDMMwDCNnmE17jEFI/v77713Dhg3d22+/LSYuCOwIr1nBdcEQFG4RhhGsVROuAY0950LwOs7XwDl//PGHrETaqVMnMaPp0qWLuHTkXBXYAaEd8xXdx/GuXbvmytXjXXfdJQMVvTcTWvmiYAK7YRiGYRhG3jFNewGwaNEiMQ8JatcRntF4s0WAVyEbjTYCbYUKFcQUpUSJEocJt5xTtGhRX0APwr0QynkWgvgXX3zhvvvuO9/cRp+FAK3mN1CkSBHRqA8bNszVq1dP9jHAqFOnjtuzZ49cd/zxx4tpD/HOTuDm/GnTpok/dz336KOPFi19t27d5LdhGIZhGIaRN0xojzEI5ffdd597/PHHRXAmexFi+f/WW291PXv2dNWqVRMbcYVz0JwjWAc133mB53MP3DXu2LHDXXvttbJI0oEDB0S41+JmSxw475577nEPPPCAmzFjhuvdu7fY3yOEv/nmm65z585yflZwLwYLjRs3dj///LMMEojHM88846655hpJf3ZCv2EYhmEYhpE5JrTHCM1GXBwi7CIMB4VV7MjRWuPpJZoAi5CcmWDLvRGEsyuq4PWcy0CA6xDWEdpnzZolAwo08TyPoFSsWFG0/AjfgP386tWrZYCRHbt373ZnnHGG+/bbb/04MAjAAw33IQ6Zpc0wDMMwDMPIHhPaYwQC8PXXXy8rfSKgIqgiNKNdxzc5wnpQu54oEN6ff/55N2rUKPk/GsT//PPPd++//74I3ZlB1UGzjvkLpjFchylPx44d3QsvvCDmMTowID8MwzAMwzCMvGFCez7QrMOeHBMTBGHMYBBU0ayz8udZZ50l5yQTxO/HH390N998s3vjjTdEEx/kX//6l3h7iXQTGYS0k9aBAwf6AxW80WAfv3jxYl9I1zwyTbthGIZhGEbeMfVnHmFSJ4IoAjBaZdwpAvbkTNzEzCQZBXYg3mjBx48f75588klXvHhxccuoVK1aNcPvIAjhGrBZZyEmIB/KlCkjLiODWnWeZQK7YRiGYRhG/jChPY+oH/NXX31VNNZonQkIrNOnTxcBVrXMyYTGiS2TRTHdefbZZ31PN4CWnYWR1NtM8BoCAjpuHe+9915JLyY0DAIwpwHuaxiGYRiGYcQOE9rzCNrjQ4cOuSeeeML3+IIw+9hjj7kmTZokrYZZ48QWgRsBG806AnowHX369MlgNsM+ruE8fL53795djrMf8EmPu0jgPirgG4ZhGIZhGPnHhPZcosIogUWK0EqrZvmcc85x/fv3F/MYFYCTjaAgzf/EE88vuHrEewy/Ec6ZYKqac1ABH88zDRo0kC3X88UBX+9nn3222LQbhmEYhmEYsccmouYSBFeEWiZyli9fXjTPaJvJRhYlYoGkZCZY3Pyv9ueYx+CysWbNmpIeBh4srrRu3To5j0C6L774YtGq4wnn999/F408du0cU4LPCO43DMMwDMMw8oZp2nMJQihaZoRzzEP4jZC6cOFCWdk02SG+waACORpzhPTzzjtPfiPEb9myxc2ePVvOQ7jHfeXcuXPlN+4s+/bt65577jn5rQQFdsMwDMMwDCM2mNCeSxBQR44cKcIpgixa6RYtWrhGjRplEF5TDeLOglCXXXaZny6+KixZskTSivvKsWPHyheGIkWKuJNPPtkNHTpUhH2OazAMwzAMwzBij5nH5JLt27e76tWri5CLt5iSJUu6HTt2iAeVrBYiSnaoBgjqX3/9tUxM1QHIBRdc4IYMGeLOPPNM0a4jyGMWxGqpeIzhPALX6zVBou0zDMMwDMMwcodp2nOIjm1uv/12EdYRXtl33XXXibY5lQX2IFWqVHF169aVtBE2btwo/uax3ec3gxR8sbMFFcpNODcMwzAMwyg4TGjPBevXrxcf7IBWGrv2G2+8UVYQTQcQvBmQtGvXLrzHuZ07d4onGQR2vMNgw46XGdKPGQ3XZBUMwzAMwzCM/GNCew5B09y1a1fZAgLs5MmTZTXRdECFbFw+YgoTCd5isOVHoCftKrAbhmEYhmEYBY8J7Tlk7dq1bsOGDaKJhrJly7rTTz9d/o8Fao6SGWi2szsnv6jgfswxx8jvoGDeuHFjd+WVV4oZULL6oDcMwzAMw0hXTGjPAdivd+jQQcxgsF9ny0RMfJnHCoRjnqO89NJLrmXLlq5hw4YS1NViPChatKhsGSiQXlY6nTlzpvyvgn284mIYhmEYhmGY0J4jJk2aJAsnoeXGg8q5554r2uj8Cq7cTwX1rVu3ugEDBoiAjDb76quvFt/vK1eudKtWrXJt27aVYzyzILXtQXgW5kC6SqphGIZhGIaRGMzlYyaQLWiav//+e/Go8ssvv4i5CFpo3D6q95S8wL0R/tFc79+/3/Xq1cstWLBATG84pgIyz4ejjjpKVh+F1q1buylTpoiNeUHx66+/umLFikk8GFTUrl1bzIPMLMYwDMMwDCMxmKY9CxDSWaYfgR0BFqH1kUceEf/k6vIxrzCZk+uxFZ8zZ06G++kWoZ6gAjt8+OGH7tChQ3JOfp6fFSyehGccvf8PP/yQwXTHMAzDMAzDiC8mtGcCAivCOsv4A8Iz2vE2bdrk23MK1xImTpwoixkxGFAhHGG+W7du7s0333Tz5893mzZtkhVXg6AJ13sUBNyX9KrQ/p///MfX+huGYRiGYRjxx4T2TMBUpVq1aiKwIkgDtu0VK1aU/2MhMKPBRhgmICA/9NBD7qeffnKvvvqqTHxt1qyZO+GEE9xvv/0WvsKJgI8mXK8pKIKa/4IaHBiGYRiGYRg5w4T2TJg1a5bYsyOwMjG0UqVKrnPnzqJlB/bHSphFOCZceuml/qRPfQ4272jjFc5TLbi6nywIAf6PP/7w08fzYpVWwzAMwzAMI/eY0B4FhOArrrhCtgirmMVgJqMa94ICrT7PU2EcWIEVG3aFODExtHTp0u7kk0928+bNk/2xtDlnAIBpkE48xbWlCe2GYRiGYRiJw4T2KEybNs0XlBGS8dhy3HHHye9YgnCsGnX48ccfRVBGsw0MFm6++WbReit4r8GshvDll1+68847z9WtW9e9++674TNiQzBeJrAbhmEYhmEkFhPao4BpDCYxBGDpfoTYWJugcM+gcHzw4MHwf3+B5l013io4s0+vQSPP/1988YW77LLL3KJFi2R/fmGwoOY3PBf3ksF4GoZhGIZhGPHFJLEwQYH8xRdflN9MAEWzjUCMaUysNc6lSpUSTb7CM/U3/yMsMyEVeDbnMxG2atWq4juefRonruvSpYsshgTB9OQWbPnVzSTCepkyZXztv2EYhmEYhhF/TGiPYO7cuaJpJsBjjz3mjjzyyJgL7MCAIChcRwraPPP1119327ZtE206YfPmzbLdsmWLrJZatmxZEdgRrpm0euDAAf/avIJpEGkGbOXVY45hGIZhGIaRGExoD6NC7ogRI+R/hGCEaiZ9Qn4015nBPbMSrjmGaUzlypVFs16iRAn5TSB+9erVc8cff7xvPsPxWJixYKaDsM59MRGqWbNm+IhhGIZhGIaRCExo90B4VrOUoHtFtO0NGzaU/7MSrvNKdkJ7NDhfw5o1a9zq1avlf+6FkI1JTX7BVzz27JjEMAjAS41hGIZhGIaROExoD8AkTzyyKJ06dRJBGIG+IDTt2RFNqEeYxm4dUxhs2LE9Ryv+r3/9y/Xt29c3uclPfNeuXSvP4R6kXb82GIZhGIZhGInBhHYP1VwjoAb9nV933XX5FoCzggFB5L2jPUv3aVzGjRsnbh4ZYGC+wgqpxYsXd/fff39MzGNmzpwpW5519NFHm027YRiGYRhGgjGhPQxCO37Sg+ClBSK13bECgTtSSA/+1v9Z2OnBBx8UobxGjRquf//+bu/evRIvtO5o2ZmwqrbtGvLCnj173NKlS+V/BjGYxrC4kmEYhmEYhpE4TGgPMGnSJBGUVVjGzSOa64IS2rl3pNAOug8h/KOPPnIXXXSRGzJkiBs2bJjbvXu32JqrvTmLPrEYVOPGjeWavKLpnjNnju85h9/NmjWT/w3DMAzDMIzEYUJ7gJ07d/oTUgGhWIX2ghDcMT0JctRRRx32nNtvv90XqDlG/LA3J9SqVUtcP5522mki4EN+47lgwYLwf3/RqlUrX4g3DMMwDMMwEoMJ7WEQik888cQCWUQpM0qWLClbfR5uHVX7TsC+ftSoUb5ADmjYW7Zs6ebNm+dWrFiR77hGDgjwRsMzyAcGEXXq1MnwfMMwDMMwDCP+mNAegAmXwYmoeJOBoPY9lpQuXVomkCIwI6yjeVchnC3CMi4ncUO5ZMkSt3XrVvfLL7/IAlDNmzcXwRp7c87VkFsQ2NHaw7Jly9ymTZskvYTzzz9fJrkSN8MwDMMwDCNxmDQWBoG3fPnyGQR0fJ4j1BaU0FqsWDH30EMPyWRPtmjeVesN+uxjjjnGnX766a5SpUq+Jj4vAno0uA+Dg59//tk99dRT/m+07TfffLMJ7IZhGIZhGEnA/+cJgIfPhCxkaBagxS5VqpSvbb/vvvvc4MGD5f9Yos9TwZvnqQlKfoojr4I8mnYmuOJGkjxg4IJHmh07drgyZcqEzzIMwzAMwzAShalRwyAso1XGG4sKzgjtmMjkR5DODO6p90Vg1/9jpUHPDTybCa+shMrzCXfffbeY7xiGYRiGYRiJx4R2D4RUBHZCzZo1ZavC6/r162UbS/R5wfvG+hm5Ab/skydPDv9yrnLlyiLEJzJOhmEYhmEYxt+Y0B4AO+7LL7/cN1Vhi+92RSdoFjQIy3kJeeG7775zAwcOlEmtQJq7d+8ueWEYhmEYhmEkB2bTHgCBHPvyU0891W3cuNEX0MeOHeuuuuoq36QlP0JyMkH6unTp4qZPny7pJk24eETzbqugGoZhGIZhJA+maQ+AyQoa51tvvVUmYh5xxBEiyOLZZe3atb6grsJ7Ko93/vjjD3fttde6GTNmSDoQ2tk+8sgjpmU3DMMwDMNIMkxoj0Lv3r1llVGEWMxFWCkVn+WfffaZCPYqrKeitp2479+/3/Xt29e98cYbIqwTWEhpxIgRrkWLFr55kGEYhmEYhpEcmHlMJuzdu1cmpf7666/iEhFBFuH28ccfFxtwhHf2kX38nyr8+eef7pxzzpEBCOnBDAate+fOnd2UKVPCZxmGYRiGYRjJhGnaM+HYY4+VFUJZ2EgFdrjttttcmzZtfO8v//3vf2V/KrB9+3bXoEEDt2jRIhlskCZcWjIImThxYvgswzAMwzAMI9kwoT0LatSo4T766CMRdIPMnz/fVaxY0U2YMEHs3oOocJ9sEFdWXt28ebPYrDPgIO733HOPe+yxx8wkxjAMwzAMI4kx85gsIGsQbjGRueiii9yCBQvCR/4C4bdp06Zu2LBhrmHDhrIPzXUyeV7BzAfBfOrUqbJ4kprykC7ifcstt4j5D79NcDcMwzAMw0hOTGjPBs0etmipmzVr5n7++Wcxi0Fox21iyZIlXa1atcQTCwI7wi9CMMcSZe+OIP7OO+/IpFps1jUefAmoUKGCmzNnjqtSpYrsUy85hmEYhmEYRnJi5jHZgDBLQOhFMGcC5yWXXCL7EOQR3NFgr1q1yh1//PHi9/ybb74RoV79vMcDnoWgDqxu2rJlS9e1a1cR2IkjwjppYMLpwoULXbVq1WS/CeyGYRiGYRjJj2nacwnCMVk2b948d9ddd4n2HZMYhWMIwu3atXMdO3Z07du3F6EY/+86AIg1COQHDx50n376qRs+fLj7/PPP/QmyPA9hvUSJEjLh9Pbbbxcf9EBcTWA3DMMwDMNIfkxozwMq7GLrft9994nnlQMHDojmGm13cDJqkSJFxOMMWu9y5cqJP/TcCMpaPMFr9Pm///67++6779yzzz7rnnrqKXm2avgZOBAfBhT4Xn/99ddd2bJlTVA3DMMwDMNIQUxozycIxT/88IObPXu2u+aaa9xvv/0m+1UwViEZbXeZMmXExKZDhw4ixBcrVkzO4bgGBG4C52Mbr7+5DxpyBgQ868UXX3Tr1q1zu3fvFhMYhXtwLtcipDOgwPvNkUceKccMwzAMwzCM1MOE9nxA1iFQA0I2tu0IyZMmTXJLlizxhW1A883CRqqNB0xWSpcuLRNCK1eu7IoXLy73UcGb89Gmcx8EdPys8wyEdH0uZjf6HH0WnmwYQDAwUFMYwzAMwzAMI3UxoT0faNapBlsFZwRtFmYaPXq0bPfs2SPCOMK1ulXkt56fW4IacwYDDALQqtepU8cNHjzY1atXTwYHnMfWMAzDMAzDSG1MaM8HmnVBITq4T23b16xZI5NAN2zYIDbnCNmcl9esVy07WvRSpUqJvfqZZ54p+zDX4TiuJ4lDMG6GYRiGYRhGamJCewGhArvapaNZZ+IqWvdDhw655cuXu1mzZrlFixaJyYtqxlUgB4qG31pEmNBceeWVrkmTJiKsH3vssWJeA6ZRNwzDMAzDSF9MaC8gNFsjNd3s12NssVtn8ir/499djyPkY6+Oxpz/y5cv71/HPdlH0N+gvw3DMAzDMIz0woT2AoJsjWaaotnNVoVstOk6OZVrgkK4/sbsBQGe8/R4ZlvDMAzDMAwjvTChPQFolpuQbRiGYRiGYeQEE9oNwzAMwzAMI8kxI2jDMAzDMAzDSHJMaDcMwzAMwzCMJMeEdsMwDMMwDMNIckxoNwzDMAzDMIwkx4R2wzAMwzAMw0hyTGg3DMMwDMMwjCTHhHbDMAzDMAzDSHJMaDcMwzAMwzCMJMeEdsMwDMMwDMNIckxoNwzDMAzDMIwkx4R2wzAMwzAMw0hyTGg3DMMwDMMwjCTHhHbDMAzDMAzDSHJMaDcMwzAMwzCMJMeEdsMwDMMwDMNIckxoNwzDMAzDMIwkx4R2wzAMwzAMw0hyTGg3DMMwDMMwjKTGuf8fmBKaFEeEH5YAAAAASUVORK5CYII=)"
      ],
      "metadata": {
        "id": "HkUFH_4PqKRW"
      }
    },
    {
      "cell_type": "markdown",
      "source": [
        "**Training Process**\n",
        "* We make predictions, we compare the predictions to the expected values using the Loss Function.\n",
        "* We then calculate the Gradient. This is the direction we need to move to minimise the Loss Function.\n",
        "* We then use BackPropagation Algorithm, where we step backwards through the network and update the weights and biases according to the gradient that we calculated.\n",
        "\n",
        "* It starts knowing very little info. and then as more info. comes in, it updates its weights and biases, gets better and after certain epochs, it gets even better and with a lower loss.\n",
        "\n",
        "* The lower the loss function, the better the model.\n",
        "\n",
        "**Optimizer**\n",
        "\n",
        "Optimizer/Optimization function is the function that implements the backpropagation algorithm described above:\n",
        "* Gradient Descent\n",
        "* Stochastic Gradient Descent\n",
        "* Mini-Batch Gradient Descent\n",
        "* Momentum\n",
        "* Nesterov Accelerated Gradient\n",
        "* Adam Optimizer\n"
      ],
      "metadata": {
        "id": "J5W4zEIBqOn1"
      }
    }
  ],
  "metadata": {
    "colab": {
      "provenance": []
    },
    "kernelspec": {
      "display_name": "Python 3",
      "name": "python3"
    },
    "language_info": {
      "name": "python"
    }
  },
  "nbformat": 4,
  "nbformat_minor": 0
}